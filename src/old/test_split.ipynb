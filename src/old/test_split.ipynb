{
 "cells": [
  {
   "cell_type": "code",
   "execution_count": 85,
   "metadata": {},
   "outputs": [],
   "source": [
    "import pandas as pd\n",
    "import os\n",
    "\n",
    "source_folder = r'/gpfs/gibbs/project/jetz/eec42/data/original/global_birds_palmyra'"
   ]
  },
  {
   "cell_type": "code",
   "execution_count": 86,
   "metadata": {},
   "outputs": [
    {
     "data": {
      "text/plain": [
       "298"
      ]
     },
     "execution_count": 86,
     "metadata": {},
     "output_type": "execute_result"
    }
   ],
   "source": [
    "df = pd.read_csv(os.path.join(source_folder, 'palmyra_train.csv'))\n",
    "df.image_path.nunique()"
   ]
  },
  {
   "cell_type": "code",
   "execution_count": 87,
   "metadata": {},
   "outputs": [
    {
     "data": {
      "text/plain": [
       "154"
      ]
     },
     "execution_count": 87,
     "metadata": {},
     "output_type": "execute_result"
    }
   ],
   "source": [
    "df_ = pd.read_csv(os.path.join(source_folder, 'palmyra_test.csv'))\n",
    "df_.image_path.nunique()"
   ]
  },
  {
   "cell_type": "code",
   "execution_count": 88,
   "metadata": {},
   "outputs": [],
   "source": [
    "nb_img = df.image_path.nunique() + df_.image_path.nunique()"
   ]
  },
  {
   "cell_type": "code",
   "execution_count": 89,
   "metadata": {},
   "outputs": [
    {
     "name": "stdout",
     "output_type": "stream",
     "text": [
      "90.4\n",
      "45.2\n",
      "316.4\n"
     ]
    }
   ],
   "source": [
    "nb_test = nb_img * 0.2\n",
    "nb_train = nb_img * 0.7\n",
    "nb_val = nb_img * 0.1\n",
    "print(nb_test)\n",
    "print(nb_val)\n",
    "print(nb_train)"
   ]
  },
  {
   "cell_type": "code",
   "execution_count": 82,
   "metadata": {},
   "outputs": [
    {
     "data": {
      "text/plain": [
       "23"
      ]
     },
     "execution_count": 82,
     "metadata": {},
     "output_type": "execute_result"
    }
   ],
   "source": [
    "df[df.image_path.str.startswith('BDA_18A4_20181106_1')].image_path.nunique()\n"
   ]
  },
  {
   "cell_type": "code",
   "execution_count": 84,
   "metadata": {},
   "outputs": [
    {
     "data": {
      "text/plain": [
       "0"
      ]
     },
     "execution_count": 84,
     "metadata": {},
     "output_type": "execute_result"
    }
   ],
   "source": [
    "df_[df_.image_path.str.startswith('BDA_18A4_20181106_1')].image_path.nunique()"
   ]
  },
  {
   "cell_type": "code",
   "execution_count": 72,
   "metadata": {},
   "outputs": [
    {
     "data": {
      "text/plain": [
       "52"
      ]
     },
     "execution_count": 72,
     "metadata": {},
     "output_type": "execute_result"
    }
   ],
   "source": [
    "df[df.image_path.str.startswith('BDA_12C')].image_path.nunique()"
   ]
  },
  {
   "cell_type": "code",
   "execution_count": 73,
   "metadata": {},
   "outputs": [
    {
     "data": {
      "text/plain": [
       "6"
      ]
     },
     "execution_count": 73,
     "metadata": {},
     "output_type": "execute_result"
    }
   ],
   "source": [
    "df[df.image_path.str.startswith('mxw_L13')].image_path.nunique()"
   ]
  },
  {
   "cell_type": "code",
   "execution_count": 54,
   "metadata": {},
   "outputs": [
    {
     "data": {
      "text/plain": [
       "391"
      ]
     },
     "execution_count": 54,
     "metadata": {},
     "output_type": "execute_result"
    }
   ],
   "source": [
    "df[df.image_path.str.startswith('Withem_Island_2016_Chinstrap_penguins')].image_path.nunique()\n"
   ]
  },
  {
   "cell_type": "code",
   "execution_count": 55,
   "metadata": {},
   "outputs": [
    {
     "data": {
      "text/plain": [
       "183"
      ]
     },
     "execution_count": 55,
     "metadata": {},
     "output_type": "execute_result"
    }
   ],
   "source": [
    "df[df.image_path.str.startswith('Fregata_Island_2016_Chinstrap_penguins')].image_path.nunique()\n"
   ]
  },
  {
   "cell_type": "code",
   "execution_count": 90,
   "metadata": {},
   "outputs": [],
   "source": [
    "dic = {}"
   ]
  },
  {
   "cell_type": "code",
   "execution_count": 91,
   "metadata": {},
   "outputs": [
    {
     "name": "stdout",
     "output_type": "stream",
     "text": [
      "no dictionary\n"
     ]
    }
   ],
   "source": [
    "if not dic:\n",
    "    print(\"no dictionary\")"
   ]
  },
  {
   "cell_type": "code",
   "execution_count": 92,
   "metadata": {},
   "outputs": [],
   "source": [
    "if dic:\n",
    "    print(\"a dictionary\")"
   ]
  },
  {
   "cell_type": "code",
   "execution_count": 7,
   "metadata": {},
   "outputs": [
    {
     "name": "stdout",
     "output_type": "stream",
     "text": [
      "Datasets config read successful\n"
     ]
    }
   ],
   "source": [
    "from reformatting_utils import load_config, extract_dataset_config\n",
    "\n",
    "\n",
    "yaml_path = r'/home/eec42/BirdDetector/src/data_preprocessing/source_datasets_config.yaml'\n",
    "config = load_config(yaml_path)"
   ]
  },
  {
   "cell_type": "code",
   "execution_count": 8,
   "metadata": {},
   "outputs": [
    {
     "data": {
      "text/plain": [
       "{'uav-waterfowl-thermal': {'name': 'uav_thermal_waterfowl',\n",
       "  'image_path': ['01_Posistive Image', '03_Negative Images'],\n",
       "  'image_extension': '.tif',\n",
       "  'annotation_path': '02_GroundtruthLabelforPositive\\\\Bounding Box Label.csv',\n",
       "  'annotation_col_names': ['imageFilename',\n",
       "   '',\n",
       "   'x(column)',\n",
       "   'y(row)',\n",
       "   'width',\n",
       "   'height'],\n",
       "  'annotation_format': 'XYWH',\n",
       "  'test_val_split': {'test': ['20180322_1021', '20180322_1021'],\n",
       "   'val': ['20180322_1016', '20180322_1017', '20180322_1025']},\n",
       "  'formatting_method': 'from_global_csv_to_labels'},\n",
       " 'global-bird-zenodo_mckellar': {'name': 'global_birds_mckellar',\n",
       "  'image_path': [''],\n",
       "  'image_extension': '.png',\n",
       "  'annotation_path': '',\n",
       "  'annotation_col_names': ['image_path',\n",
       "   'label',\n",
       "   'xmin',\n",
       "   'ymin',\n",
       "   'xmax',\n",
       "   'ymax'],\n",
       "  'annotation_format': 'LTBR',\n",
       "  'test_val_split': {'test': ['QuillLakeWEGR_Sony_combined'],\n",
       "   'val': ['JackfishLakeBLTE_Sony_2']},\n",
       "  'formatting_method': 'from_multiple_global_csv_to_labels'},\n",
       " 'global-bird-zenodo_newmexico': {'name': 'global_birds_newmexico',\n",
       "  'image_path': [''],\n",
       "  'image_extension': '.png',\n",
       "  'annotation_path': '',\n",
       "  'annotation_col_names': ['image_path',\n",
       "   'label',\n",
       "   'xmin',\n",
       "   'ymin',\n",
       "   'xmax',\n",
       "   'ymax'],\n",
       "  'annotation_format': 'LTBR',\n",
       "  'test_val_split': {'test': ['BDA_12C'], 'val': ['BDA_18A4_20181106_1']},\n",
       "  'formatting_method': 'from_multiple_global_csv_to_labels'},\n",
       " 'global-bird-zenodo_hayes': {'name': 'global_birds_hayes',\n",
       "  'image_path': [''],\n",
       "  'image_extension': '.png',\n",
       "  'annotation_path': '',\n",
       "  'annotation_col_names': ['image_path',\n",
       "   'label',\n",
       "   'xmin',\n",
       "   'ymin',\n",
       "   'xmax',\n",
       "   'ymax'],\n",
       "  'annotation_format': 'LTBR',\n",
       "  'test_val_split': {},\n",
       "  'formatting_method': 'from_multiple_global_csv_to_labels'},\n",
       " 'global-bird-zenodo_palmyra': {'name': 'global_birds_palmyra',\n",
       "  'image_path': [''],\n",
       "  'image_extension': '.png',\n",
       "  'annotation_path': '',\n",
       "  'annotation_col_names': ['image_path',\n",
       "   'label',\n",
       "   'xmin',\n",
       "   'ymin',\n",
       "   'xmax',\n",
       "   'ymax'],\n",
       "  'annotation_format': 'LTBR',\n",
       "  'test_val_split': {},\n",
       "  'formatting_method': 'from_multiple_global_csv_to_labels'},\n",
       " 'global-bird-zenodo_penguins': {'name': 'global_birds_penguins',\n",
       "  'image_path': [''],\n",
       "  'image_extension': '.png',\n",
       "  'annotation_path': '',\n",
       "  'annotation_col_names': ['image_path',\n",
       "   'label',\n",
       "   'xmin',\n",
       "   'ymin',\n",
       "   'xmax',\n",
       "   'ymax'],\n",
       "  'annotation_format': 'LTBR',\n",
       "  'test_val_split': {},\n",
       "  'formatting_method': 'from_multiple_global_csv_to_labels'},\n",
       " 'global-bird-zenodo_pfeifer': {'name': 'global_birds_pfeifer',\n",
       "  'image_path': [''],\n",
       "  'image_extension': '.png',\n",
       "  'annotation_path': '',\n",
       "  'annotation_col_names': ['image_path',\n",
       "   'label',\n",
       "   'xmin',\n",
       "   'ymin',\n",
       "   'xmax',\n",
       "   'ymax'],\n",
       "  'annotation_format': 'LTBR',\n",
       "  'test_val_split': {'test': ['Fregata_Island_2016_Chinstrap_penguins'],\n",
       "   'val': ['Cabo_Cariz_2017_Chinstrap_penguins',\n",
       "    'Rzepecki Islands_south_2016_Chinstrap_penguins']},\n",
       "  'formatting_method': 'from_multiple_global_csv_to_labels'},\n",
       " 'global-bird-zenodo_poland': {'name': 'global_birds_poland',\n",
       "  'image_path': [''],\n",
       "  'image_extension': '.png',\n",
       "  'annotation_path': '',\n",
       "  'annotation_col_names': ['image_path',\n",
       "   'label',\n",
       "   'xmin',\n",
       "   'ymin',\n",
       "   'xmax',\n",
       "   'ymax'],\n",
       "  'annotation_format': 'LTBR',\n",
       "  'test_val_split': {},\n",
       "  'formatting_method': 'from_multiple_global_csv_to_labels'}}"
      ]
     },
     "execution_count": 8,
     "metadata": {},
     "output_type": "execute_result"
    }
   ],
   "source": [
    "config"
   ]
  },
  {
   "cell_type": "code",
   "execution_count": 9,
   "metadata": {},
   "outputs": [
    {
     "data": {
      "text/plain": [
       "{'name': 'global_birds_mckellar',\n",
       " 'image_path': [''],\n",
       " 'image_extension': '.png',\n",
       " 'annotation_path': '',\n",
       " 'annotation_col_names': ['image_path',\n",
       "  'label',\n",
       "  'xmin',\n",
       "  'ymin',\n",
       "  'xmax',\n",
       "  'ymax'],\n",
       " 'annotation_format': 'LTBR',\n",
       " 'test_val_split': {'test': ['QuillLakeWEGR_Sony_combined'],\n",
       "  'val': ['JackfishLakeBLTE_Sony_2']},\n",
       " 'formatting_method': 'from_multiple_global_csv_to_labels'}"
      ]
     },
     "execution_count": 9,
     "metadata": {},
     "output_type": "execute_result"
    }
   ],
   "source": [
    "dataset_config = extract_dataset_config(config, 'global-bird-zenodo_mckellar')\n",
    "dataset_config"
   ]
  },
  {
   "cell_type": "code",
   "execution_count": 10,
   "metadata": {},
   "outputs": [
    {
     "data": {
      "text/plain": [
       "'global_birds_mckellar'"
      ]
     },
     "execution_count": 10,
     "metadata": {},
     "output_type": "execute_result"
    }
   ],
   "source": [
    "dataset_config['name']"
   ]
  },
  {
   "cell_type": "code",
   "execution_count": 11,
   "metadata": {},
   "outputs": [
    {
     "data": {
      "text/plain": [
       "{'name': 'global_birds_newmexico',\n",
       " 'image_path': [''],\n",
       " 'image_extension': '.png',\n",
       " 'annotation_path': '',\n",
       " 'annotation_col_names': ['image_path',\n",
       "  'label',\n",
       "  'xmin',\n",
       "  'ymin',\n",
       "  'xmax',\n",
       "  'ymax'],\n",
       " 'annotation_format': 'LTBR',\n",
       " 'test_val_split': {'test': ['BDA_12C'], 'val': ['BDA_18A4_20181106_1']},\n",
       " 'formatting_method': 'from_multiple_global_csv_to_labels'}"
      ]
     },
     "execution_count": 11,
     "metadata": {},
     "output_type": "execute_result"
    }
   ],
   "source": [
    "dataset_config = extract_dataset_config(config, 'global-bird-zenodo_newmexico')\n",
    "dataset_config"
   ]
  },
  {
   "cell_type": "code",
   "execution_count": null,
   "metadata": {},
   "outputs": [],
   "source": []
  },
  {
   "cell_type": "code",
   "execution_count": null,
   "metadata": {},
   "outputs": [],
   "source": []
  }
 ],
 "metadata": {
  "kernelspec": {
   "display_name": "pdm",
   "language": "python",
   "name": "python3"
  },
  "language_info": {
   "codemirror_mode": {
    "name": "ipython",
    "version": 3
   },
   "file_extension": ".py",
   "mimetype": "text/x-python",
   "name": "python",
   "nbconvert_exporter": "python",
   "pygments_lexer": "ipython3",
   "version": "3.11.6"
  }
 },
 "nbformat": 4,
 "nbformat_minor": 2
}
