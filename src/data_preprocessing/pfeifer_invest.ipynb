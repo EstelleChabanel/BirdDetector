{
 "cells": [
  {
   "cell_type": "code",
   "execution_count": 1,
   "metadata": {},
   "outputs": [],
   "source": [
    "import os\n",
    "import numpy as np\n",
    "from PIL import Image\n",
    "import yaml"
   ]
  },
  {
   "cell_type": "code",
   "execution_count": 2,
   "metadata": {},
   "outputs": [],
   "source": [
    "DATASET_FOLDER = r'/gpfs/gibbs/project/jetz/eec42/data/formatted_data_/global_birds_pfeifer'\n",
    "IMG_FOLDER = os.path.join(DATASET_FOLDER, \"images\")\n",
    "LABEL_FOLDER = os.path.join(DATASET_FOLDER, \"labels\")"
   ]
  },
  {
   "cell_type": "code",
   "execution_count": 3,
   "metadata": {},
   "outputs": [
    {
     "name": "stdout",
     "output_type": "stream",
     "text": [
      "Pfeifer dataset dimensions: 448, 448\n",
      "3384 in Pfeifer dataset\n"
     ]
    }
   ],
   "source": [
    "# Check img size is the same for all images\n",
    "\n",
    "# Retrieve img list\n",
    "img_list = os.listdir(IMG_FOLDER)\n",
    "IM_w, IM_h = 0, 0\n",
    "\n",
    "for i, img in enumerate(img_list):\n",
    "    im = Image.open(os.path.join(IMG_FOLDER, img))\n",
    "    image_w, image_h = im.size[0], im.size[1]\n",
    "    if i==0:\n",
    "        IM_w, IM_h = image_w, image_h\n",
    "        print(f\"Pfeifer dataset dimensions: {IM_w}, {IM_h}\")\n",
    "    im.close()\n",
    "\n",
    "    if image_w != IM_w or image_h != IM_h:\n",
    "        print(\"!!!!! Alll images are not the same size !!!!!\")\n",
    "\n",
    "print(f\"{len(img_list)} in Pfeifer dataset\")\n"
   ]
  },
  {
   "cell_type": "code",
   "execution_count": 4,
   "metadata": {},
   "outputs": [],
   "source": [
    "# Check duplicated labels\n",
    "\n",
    "label_list = os.listdir(LABEL_FOLDER)\n",
    "\n",
    "for i, label in enumerate(label_list):\n",
    "    with open(os.path.join(LABEL_FOLDER, label)) as label_file:\n",
    "        seen = set()\n",
    "        duplicates = 0\n",
    "        for line in label_file:\n",
    "            line_lower = line.lower()\n",
    "            if line_lower in seen:\n",
    "                duplicates += 1\n",
    "            else:\n",
    "                seen.add(line_lower)\n",
    "        if duplicates != 0:\n",
    "            print(f\"{duplicates} duplicated annotations found in dataset file {label} !\")\n",
    "            # Get rid of duplicates\n",
    "            '''\n",
    "            file = open(os.path.join(LABEL_FOLDER, label), 'w')\n",
    "            for line in seen:\n",
    "                file.write(line)\n",
    "\n",
    "            file.close()\n",
    "        '''\n",
    "        \n"
   ]
  },
  {
   "cell_type": "code",
   "execution_count": 1,
   "metadata": {},
   "outputs": [],
   "source": [
    "# Count number of annotations before preprocessing (patches et tout)\n",
    "\n",
    "DATASET_FOLDER = r'/gpfs/gibbs/project/jetz/eec42/data/original/global_birds_pfeifer'\n",
    "CSV_FILES = ['pfeifer_test.csv', 'pfeifer_train.csv'] "
   ]
  },
  {
   "cell_type": "code",
   "execution_count": 7,
   "metadata": {},
   "outputs": [],
   "source": [
    "import glob\n",
    "import pandas as pd\n",
    "from tqdm import tqdm\n",
    "\n",
    "\n",
    "def retrieve_detections_from_csv(current_folder):\n",
    "    '''\n",
    "    retrieve all bounding boxes and labels annotations from csv files given in a dataset\n",
    "    Args:\n",
    "        - current_folder (str): path to the current images and labels folder\n",
    "    Returns: \n",
    "        df (pd.DataFrame) with all images annotations\n",
    "    '''\n",
    "    csv_files = glob.glob(current_folder + '/**/*.csv', recursive=True) # should be 1 or 2 max (train+test or all together)\n",
    "    df = pd.DataFrame()\n",
    "    for annotation_file in tqdm(csv_files):\n",
    "        df_ = pd.read_csv(annotation_file)\n",
    "        df = pd.concat([df, df_])\n",
    "    return df"
   ]
  },
  {
   "cell_type": "code",
   "execution_count": 8,
   "metadata": {},
   "outputs": [
    {
     "name": "stderr",
     "output_type": "stream",
     "text": [
      "100%|██████████| 2/2 [00:00<00:00, 29.67it/s]\n"
     ]
    },
    {
     "data": {
      "text/plain": [
       "27226"
      ]
     },
     "execution_count": 8,
     "metadata": {},
     "output_type": "execute_result"
    }
   ],
   "source": [
    "#from preprocessing_utils import retrieve_detections_from_csv\n",
    "\n",
    "df = retrieve_detections_from_csv(DATASET_FOLDER)\n",
    "df = df.drop_duplicates(subset=['image_path', 'label', 'xmin', 'ymin', 'xmax', 'ymax'])\n",
    "\n",
    "len(df)"
   ]
  },
  {
   "cell_type": "code",
   "execution_count": 9,
   "metadata": {},
   "outputs": [
    {
     "name": "stdout",
     "output_type": "stream",
     "text": [
      "3009\n"
     ]
    }
   ],
   "source": [
    "# Check labels are all 0\n",
    "\n",
    "label_list = os.listdir(LABEL_FOLDER)\n",
    "print(len(label_list))\n",
    "\n",
    "for i, label in enumerate(label_list):\n",
    "    with open(os.path.join(LABEL_FOLDER, label)) as label_file:\n",
    "        seen = set()\n",
    "        duplicates = 0\n",
    "        for line in label_file:\n",
    "            if line[0] != '0':\n",
    "                print(\"Annotations are wrong !!\")\n"
   ]
  }
 ],
 "metadata": {
  "kernelspec": {
   "display_name": "pdm",
   "language": "python",
   "name": "python3"
  },
  "language_info": {
   "codemirror_mode": {
    "name": "ipython",
    "version": 3
   },
   "file_extension": ".py",
   "mimetype": "text/x-python",
   "name": "python",
   "nbconvert_exporter": "python",
   "pygments_lexer": "ipython3",
   "version": "3.11.6"
  }
 },
 "nbformat": 4,
 "nbformat_minor": 2
}
