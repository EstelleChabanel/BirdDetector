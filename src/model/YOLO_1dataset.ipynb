{
 "cells": [
  {
   "cell_type": "code",
   "execution_count": 1,
   "metadata": {},
   "outputs": [
    {
     "name": "stdout",
     "output_type": "stream",
     "text": [
      "/vast/palmer/home.grace/eec42/BirdDetector/src\n",
      "/vast/palmer/home.grace/eec42/BirdDetector/src/data_preprocessing\n"
     ]
    }
   ],
   "source": [
    "#import ultralytics\n",
    "#ultralytics.checks()\n",
    "#from ultralytics import YOLO\n",
    "\n",
    "#import dayolo\n",
    "#from dayolo import YOLO\n",
    "\n",
    "import yolo\n",
    "from yolo import YOLO\n",
    "\n",
    "from PIL import Image\n",
    "import torch\n",
    "import yaml\n",
    "\n",
    "import os\n",
    "import random\n",
    "#from ultralytics.utils.plotting import plot_labels\n",
    "import pandas as pd\n",
    "import sys\n",
    "\n",
    "module_path = os.path.abspath(os.path.join('..'))\n",
    "print(module_path)\n",
    "module_path = module_path+'/data_preprocessing'\n",
    "print(module_path)\n",
    "\n",
    "if module_path not in sys.path:\n",
    "    sys.path.append(module_path)\n",
    "\n",
    "#import visualization_utils as visutils"
   ]
  },
  {
   "cell_type": "code",
   "execution_count": 2,
   "metadata": {},
   "outputs": [
    {
     "name": "stdout",
     "output_type": "stream",
     "text": [
      "0\n"
     ]
    }
   ],
   "source": [
    "device = \"0\" if torch.cuda.is_available() else \"cpu\"\n",
    "if device == \"0\":\n",
    "    torch.cuda.set_device(0) # Set to your desired GPU number\n",
    "\n",
    "print(device)"
   ]
  },
  {
   "cell_type": "code",
   "execution_count": 3,
   "metadata": {},
   "outputs": [
    {
     "name": "stdout",
     "output_type": "stream",
     "text": [
      "INITIALIZING DOMAIN CLASSIFIER MODEL\n",
      "\n",
      "                   from  n    params  module                                       arguments                     \n",
      "  0                  -1  1      1392  yolo.nn.modules.conv.Conv                    [3, 48, 3, 2]                 \n",
      "  1                  -1  1     41664  yolo.nn.modules.conv.Conv                    [48, 96, 3, 2]                \n",
      "  2                  -1  2    111360  yolo.nn.modules.block.C2f                    [96, 96, 2, True]             \n",
      "  3                  -1  1    166272  yolo.nn.modules.conv.Conv                    [96, 192, 3, 2]               \n",
      "  4                  -1  4    813312  yolo.nn.modules.block.C2f                    [192, 192, 4, True]           \n",
      "  5                  -1  1    664320  yolo.nn.modules.conv.Conv                    [192, 384, 3, 2]              \n"
     ]
    },
    {
     "name": "stdout",
     "output_type": "stream",
     "text": [
      "  6                  -1  4   3248640  yolo.nn.modules.block.C2f                    [384, 384, 4, True]           \n",
      "  7                  -1  1   1991808  yolo.nn.modules.conv.Conv                    [384, 576, 3, 2]              \n",
      "  8                  -1  2   3985920  yolo.nn.modules.block.C2f                    [576, 576, 2, True]           \n",
      "  9                  -1  1    831168  yolo.nn.modules.block.SPPF                   [576, 576, 5]                 \n",
      " 10                  -1  1         0  torch.nn.modules.upsampling.Upsample         [None, 2, 'nearest']          \n",
      " 11             [-1, 6]  1         0  yolo.nn.modules.conv.Concat                  [1]                           \n",
      " 12                  -1  2   1993728  yolo.nn.modules.block.C2f                    [960, 384, 2]                 \n",
      " 13                  -1  1         0  torch.nn.modules.upsampling.Upsample         [None, 2, 'nearest']          \n",
      " 14             [-1, 4]  1         0  yolo.nn.modules.conv.Concat                  [1]                           \n",
      " 15                  -1  2    517632  yolo.nn.modules.block.C2f                    [576, 192, 2]                 \n",
      " 16                  -1  1    332160  yolo.nn.modules.conv.Conv                    [192, 192, 3, 2]              \n",
      " 17            [-1, 12]  1         0  yolo.nn.modules.conv.Concat                  [1]                           \n",
      " 18                  -1  2   1846272  yolo.nn.modules.block.C2f                    [576, 384, 2]                 \n",
      " 19                  -1  1   1327872  yolo.nn.modules.conv.Conv                    [384, 384, 3, 2]              \n",
      " 20             [-1, 9]  1         0  yolo.nn.modules.conv.Concat                  [1]                           \n",
      " 21                  -1  2   4207104  yolo.nn.modules.block.C2f                    [960, 576, 2]                 \n",
      " 50                   9  1         0  yolo.nn.modules.dan.GradReversal             [1]                           \n",
      " 51                  -1  1   1624323  yolo.nn.modules.dan.Conv_                    [576, 256, 128]               \n",
      " 52                  -1  1         4  yolo.nn.modules.dan.AdaptiveAvgPooling       [1]                           \n",
      " 54        [15, 18, 21]  1   3776275  yolo.nn.modules.head.Detect                  [1, [192, 384, 576]]          \n",
      "YOLOv8m summary: 309 layers, 27481226 parameters, 27481210 gradients\n",
      "\n",
      "Transferred 390/498 items from pretrained weights\n",
      "Transferred 390/498 items from pretrained weights\n"
     ]
    }
   ],
   "source": [
    "# Create a new YOLO model from scratch\n",
    "#model = YOLO('yolov8n.yaml')\n",
    "\n",
    "# Load a pretrained YOLO model (recommended for training) - for now, we keep the small version\n",
    "#pretrained_model_name = 'pfeifer_penguins_poland_10percentbckgd_yolov8m_120epoch'\n",
    "#model_path = 'runs/detect/' + pretrained_model_name + '/weights/best.pt'\n",
    "#model = YOLO('yolov8m.pt', task='da_detect')\n",
    "#model = YOLO(\"yolov8.yaml\").load(\"yolov8m.pt\")\n",
    "#model = YOLO('yolov8m.pt', task='da_detect')\n",
    "#model = YOLO('yolov8m.pt', task='detect')\n",
    "#model = YOLO(\"yolov8m.yaml\", task='detect').load(\"yolov8m.pt\")\n",
    "model = YOLO(\"yolov8m.yaml\", task='detect', subtask='unsuperviseddomainclassifier').load(\"yolov8m.pt\")\n",
    "\n",
    "\n",
    "#model.load_weights('yolov8m.pt')\n",
    "\n",
    "\n",
    "#PRETRAINED_MODEL_NAME = 'pfeifer_penguins_poland_10percentbckgd_yolov8m_120epoch'\n",
    "#PRETRAINED_MODEL_PATH = 'src/model/runs/detect/' + PRETRAINED_MODEL_NAME + '/weights/best.pt'\n",
    "\n",
    "#MODEL_NAME = 'pfeifer_penguins_poland_palmyra_10percent_bckgd_yolov8m_120epochs'\n",
    "#TASK = 'detect' # Choose between: 'deepcoral_detect' 'detect'\n",
    "#model = YOLO('yolov8m.pt')"
   ]
  },
  {
   "cell_type": "code",
   "execution_count": 4,
   "metadata": {},
   "outputs": [
    {
     "name": "stdout",
     "output_type": "stream",
     "text": [
      "detect\n",
      "domainclassifier\n"
     ]
    }
   ],
   "source": [
    "print(model.task)\n",
    "print(model.subtask)"
   ]
  },
  {
   "cell_type": "code",
   "execution_count": 5,
   "metadata": {},
   "outputs": [
    {
     "name": "stdout",
     "output_type": "stream",
     "text": [
      "block 24\n",
      "AdaptiveAvgPooling(\n",
      "  (pool): AdaptiveAvgPool2d(output_size=1)\n",
      "  (fc1): Linear(in_features=1, out_features=2, bias=True)\n",
      "  (flat): Flatten(start_dim=1, end_dim=-1)\n",
      ")\n"
     ]
    }
   ],
   "source": [
    "model.model.model\n",
    "for i, a in enumerate(model.model.model):\n",
    "    if i == 24:\n",
    "        print(\"block\", i)\n",
    "        print(a)"
   ]
  },
  {
   "cell_type": "code",
   "execution_count": 6,
   "metadata": {},
   "outputs": [
    {
     "name": "stdout",
     "output_type": "stream",
     "text": [
      "New https://pypi.org/project/ultralytics/8.1.6 available 😃 Update with 'pip install -U ultralytics'\n",
      "New https://pypi.org/project/ultralytics/8.1.6 available 😃 Update with 'pip install -U ultralytics'\n",
      "Ultralytics YOLOv8.0.228 🚀 Python-3.11.6 torch-2.1.0+cu121 CUDA:0 (NVIDIA RTX A5000, 24248MiB)\n",
      "Ultralytics YOLOv8.0.228 🚀 Python-3.11.6 torch-2.1.0+cu121 CUDA:0 (NVIDIA RTX A5000, 24248MiB)\n",
      "\u001b[34m\u001b[1mengine/trainer: \u001b[0mtask=detect, mode=train, model=yolov8m.yaml, data=data.yaml, epochs=2, time=None, patience=10, batch=8, imgsz=640, save=True, save_period=-1, cache=False, device=0, workers=8, project=None, name=TEST_features_loss18, exist_ok=False, pretrained=True, optimizer=auto, verbose=True, seed=0, deterministic=True, single_cls=False, rect=False, cos_lr=False, close_mosaic=10, resume=False, amp=True, fraction=1.0, profile=False, freeze=None, overlap_mask=True, mask_ratio=4, dropout=0.0, source_name=global_birds_palmyra, val=True, split=val, save_json=False, save_hybrid=False, conf=None, iou=0.7, max_det=300, half=False, dnn=False, plots=True, source=None, vid_stride=1, stream_buffer=False, visualize=False, augment=False, agnostic_nms=False, classes=None, retina_masks=False, show=False, save_frames=False, save_txt=False, save_conf=False, save_crop=False, show_labels=True, show_conf=True, show_boxes=True, line_width=None, format=torchscript, keras=False, optimize=False, int8=False, dynamic=False, simplify=False, opset=None, workspace=4, nms=False, lr0=0.01, lrf=0.01, momentum=0.937, weight_decay=0.0005, warmup_epochs=3.0, warmup_momentum=0.8, warmup_bias_lr=0.1, box=7.5, cls=0.5, dfl=1.5, dc=1.0, pose=12.0, kobj=1.0, label_smoothing=0.0, nbs=64, hsv_h=0.0, hsv_s=0.0, hsv_v=0.0, degrees=90, translate=0.0, scale=0.5, shear=0.0, perspective=0.0, flipud=0.5, fliplr=0.5, mosaic=0.0, mixup=0.0, copy_paste=0.0, cfg=None, tracker=botsort.yaml, save_dir=runs/detect/TEST_features_loss18\n",
      "\u001b[34m\u001b[1mengine/trainer: \u001b[0mtask=detect, mode=train, model=yolov8m.yaml, data=data.yaml, epochs=2, time=None, patience=10, batch=8, imgsz=640, save=True, save_period=-1, cache=False, device=0, workers=8, project=None, name=TEST_features_loss18, exist_ok=False, pretrained=True, optimizer=auto, verbose=True, seed=0, deterministic=True, single_cls=False, rect=False, cos_lr=False, close_mosaic=10, resume=False, amp=True, fraction=1.0, profile=False, freeze=None, overlap_mask=True, mask_ratio=4, dropout=0.0, source_name=global_birds_palmyra, val=True, split=val, save_json=False, save_hybrid=False, conf=None, iou=0.7, max_det=300, half=False, dnn=False, plots=True, source=None, vid_stride=1, stream_buffer=False, visualize=False, augment=False, agnostic_nms=False, classes=None, retina_masks=False, show=False, save_frames=False, save_txt=False, save_conf=False, save_crop=False, show_labels=True, show_conf=True, show_boxes=True, line_width=None, format=torchscript, keras=False, optimize=False, int8=False, dynamic=False, simplify=False, opset=None, workspace=4, nms=False, lr0=0.01, lrf=0.01, momentum=0.937, weight_decay=0.0005, warmup_epochs=3.0, warmup_momentum=0.8, warmup_bias_lr=0.1, box=7.5, cls=0.5, dfl=1.5, dc=1.0, pose=12.0, kobj=1.0, label_smoothing=0.0, nbs=64, hsv_h=0.0, hsv_s=0.0, hsv_v=0.0, degrees=90, translate=0.0, scale=0.5, shear=0.0, perspective=0.0, flipud=0.5, fliplr=0.5, mosaic=0.0, mixup=0.0, copy_paste=0.0, cfg=None, tracker=botsort.yaml, save_dir=runs/detect/TEST_features_loss18\n",
      "INITIALIZING DOMAIN CLASSIFIER MODEL\n",
      "\n",
      "                   from  n    params  module                                       arguments                     \n",
      "\n",
      "                   from  n    params  module                                       arguments                     \n",
      "  0                  -1  1      1392  yolo.nn.modules.conv.Conv                    [3, 48, 3, 2]                 \n",
      "  0                  -1  1      1392  yolo.nn.modules.conv.Conv                    [3, 48, 3, 2]                 \n",
      "  1                  -1  1     41664  yolo.nn.modules.conv.Conv                    [48, 96, 3, 2]                \n",
      "  1                  -1  1     41664  yolo.nn.modules.conv.Conv                    [48, 96, 3, 2]                \n",
      "  2                  -1  2    111360  yolo.nn.modules.block.C2f                    [96, 96, 2, True]             \n",
      "  2                  -1  2    111360  yolo.nn.modules.block.C2f                    [96, 96, 2, True]             \n",
      "  3                  -1  1    166272  yolo.nn.modules.conv.Conv                    [96, 192, 3, 2]               \n",
      "  3                  -1  1    166272  yolo.nn.modules.conv.Conv                    [96, 192, 3, 2]               \n",
      "  4                  -1  4    813312  yolo.nn.modules.block.C2f                    [192, 192, 4, True]           \n",
      "  4                  -1  4    813312  yolo.nn.modules.block.C2f                    [192, 192, 4, True]           \n",
      "  5                  -1  1    664320  yolo.nn.modules.conv.Conv                    [192, 384, 3, 2]              \n",
      "  5                  -1  1    664320  yolo.nn.modules.conv.Conv                    [192, 384, 3, 2]              \n",
      "  6                  -1  4   3248640  yolo.nn.modules.block.C2f                    [384, 384, 4, True]           \n",
      "  6                  -1  4   3248640  yolo.nn.modules.block.C2f                    [384, 384, 4, True]           \n",
      "  7                  -1  1   1991808  yolo.nn.modules.conv.Conv                    [384, 576, 3, 2]              \n",
      "  7                  -1  1   1991808  yolo.nn.modules.conv.Conv                    [384, 576, 3, 2]              \n",
      "  8                  -1  2   3985920  yolo.nn.modules.block.C2f                    [576, 576, 2, True]           \n",
      "  8                  -1  2   3985920  yolo.nn.modules.block.C2f                    [576, 576, 2, True]           \n",
      "  9                  -1  1    831168  yolo.nn.modules.block.SPPF                   [576, 576, 5]                 \n",
      "  9                  -1  1    831168  yolo.nn.modules.block.SPPF                   [576, 576, 5]                 \n",
      " 10                  -1  1         0  torch.nn.modules.upsampling.Upsample         [None, 2, 'nearest']          \n",
      " 10                  -1  1         0  torch.nn.modules.upsampling.Upsample         [None, 2, 'nearest']          \n",
      " 11             [-1, 6]  1         0  yolo.nn.modules.conv.Concat                  [1]                           \n",
      " 11             [-1, 6]  1         0  yolo.nn.modules.conv.Concat                  [1]                           \n",
      " 12                  -1  2   1993728  yolo.nn.modules.block.C2f                    [960, 384, 2]                 \n",
      " 12                  -1  2   1993728  yolo.nn.modules.block.C2f                    [960, 384, 2]                 \n",
      " 13                  -1  1         0  torch.nn.modules.upsampling.Upsample         [None, 2, 'nearest']          \n",
      " 13                  -1  1         0  torch.nn.modules.upsampling.Upsample         [None, 2, 'nearest']          \n",
      " 14             [-1, 4]  1         0  yolo.nn.modules.conv.Concat                  [1]                           \n",
      " 14             [-1, 4]  1         0  yolo.nn.modules.conv.Concat                  [1]                           \n",
      " 15                  -1  2    517632  yolo.nn.modules.block.C2f                    [576, 192, 2]                 \n",
      " 15                  -1  2    517632  yolo.nn.modules.block.C2f                    [576, 192, 2]                 \n",
      " 16                  -1  1    332160  yolo.nn.modules.conv.Conv                    [192, 192, 3, 2]              \n",
      " 16                  -1  1    332160  yolo.nn.modules.conv.Conv                    [192, 192, 3, 2]              \n",
      " 17            [-1, 12]  1         0  yolo.nn.modules.conv.Concat                  [1]                           \n",
      " 17            [-1, 12]  1         0  yolo.nn.modules.conv.Concat                  [1]                           \n",
      " 18                  -1  2   1846272  yolo.nn.modules.block.C2f                    [576, 384, 2]                 \n",
      " 18                  -1  2   1846272  yolo.nn.modules.block.C2f                    [576, 384, 2]                 \n",
      " 19                  -1  1   1327872  yolo.nn.modules.conv.Conv                    [384, 384, 3, 2]              \n",
      " 19                  -1  1   1327872  yolo.nn.modules.conv.Conv                    [384, 384, 3, 2]              \n",
      " 20             [-1, 9]  1         0  yolo.nn.modules.conv.Concat                  [1]                           \n",
      " 20             [-1, 9]  1         0  yolo.nn.modules.conv.Concat                  [1]                           \n",
      " 21                  -1  2   4207104  yolo.nn.modules.block.C2f                    [960, 576, 2]                 \n",
      " 21                  -1  2   4207104  yolo.nn.modules.block.C2f                    [960, 576, 2]                 \n",
      " 50                   9  1         0  yolo.nn.modules.dan.GradReversal             [1]                           \n",
      " 50                   9  1         0  yolo.nn.modules.dan.GradReversal             [1]                           \n",
      " 51                  -1  1   1624323  yolo.nn.modules.dan.Conv_                    [576, 256, 128]               \n",
      " 51                  -1  1   1624323  yolo.nn.modules.dan.Conv_                    [576, 256, 128]               \n",
      " 52                  -1  1         4  yolo.nn.modules.dan.AdaptiveAvgPooling       [1]                           \n",
      " 52                  -1  1         4  yolo.nn.modules.dan.AdaptiveAvgPooling       [1]                           \n",
      " 54        [15, 18, 21]  1   3776275  yolo.nn.modules.head.Detect                  [1, [192, 384, 576]]          \n",
      " 54        [15, 18, 21]  1   3776275  yolo.nn.modules.head.Detect                  [1, [192, 384, 576]]          \n",
      "YOLOv8m summary: 309 layers, 27481226 parameters, 27481210 gradients\n",
      "YOLOv8m summary: 309 layers, 27481226 parameters, 27481210 gradients\n",
      "\n",
      "\n",
      "Transferred 498/498 items from pretrained weights\n",
      "Transferred 498/498 items from pretrained weights\n",
      "Freezing layer 'model.25.dfl.conv.weight'\n",
      "Freezing layer 'model.25.dfl.conv.weight'\n",
      "\u001b[34m\u001b[1mAMP: \u001b[0mrunning Automatic Mixed Precision (AMP) checks with YOLOv8n...\n",
      "\u001b[34m\u001b[1mAMP: \u001b[0mrunning Automatic Mixed Precision (AMP) checks with YOLOv8n...\n",
      "\u001b[34m\u001b[1mAMP: \u001b[0mchecks passed ✅\n",
      "\u001b[34m\u001b[1mAMP: \u001b[0mchecks passed ✅\n"
     ]
    },
    {
     "name": "stderr",
     "output_type": "stream",
     "text": [
      "\u001b[34m\u001b[1mtrain: \u001b[0mScanning /gpfs/gibbs/project/jetz/eec42/data/pe_palmyra_10percentbkgd/train/labels.cache... 1722 images, 182 backgrounds, 0 corrupt: 100%|██████████| 1904/1904 [00:00<?, ?it/s]\n"
     ]
    },
    {
     "name": "stdout",
     "output_type": "stream",
     "text": [
      "\u001b[34m\u001b[1malbumentations: \u001b[0mBlur(p=0.01, blur_limit=(3, 7)), MedianBlur(p=0.01, blur_limit=(3, 7)), ToGray(p=0.01), CLAHE(p=0.01, clip_limit=(1, 4.0), tile_grid_size=(8, 8))\n",
      "\u001b[34m\u001b[1malbumentations: \u001b[0mBlur(p=0.01, blur_limit=(3, 7)), MedianBlur(p=0.01, blur_limit=(3, 7)), ToGray(p=0.01), CLAHE(p=0.01, clip_limit=(1, 4.0), tile_grid_size=(8, 8))\n"
     ]
    },
    {
     "name": "stderr",
     "output_type": "stream",
     "text": [
      "\u001b[34m\u001b[1mval: \u001b[0mScanning /gpfs/gibbs/project/jetz/eec42/data/pe_palmyra_10percentbkgd/val/labels.cache... 248 images, 19 backgrounds, 0 corrupt: 100%|██████████| 267/267 [00:00<?, ?it/s]\n",
      "/home/eec42/.conda/envs/pdm/lib/python3.11/site-packages/torch/utils/data/dataloader.py:557: UserWarning: This DataLoader will create 16 worker processes in total. Our suggested max number of worker in current system is 10, which is smaller than what this DataLoader is going to create. Please be aware that excessive worker creation might get DataLoader running slow or even freeze, lower the worker number to avoid potential slowness/freeze if necessary.\n",
      "  warnings.warn(_create_warning_msg(\n"
     ]
    },
    {
     "name": "stdout",
     "output_type": "stream",
     "text": [
      "Plotting labels to runs/detect/TEST_features_loss18/labels.jpg... \n",
      "Plotting labels to runs/detect/TEST_features_loss18/labels.jpg... \n",
      "\u001b[34m\u001b[1moptimizer:\u001b[0m 'optimizer=auto' found, ignoring 'lr0=0.01' and 'momentum=0.937' and determining best 'optimizer', 'lr0' and 'momentum' automatically... \n",
      "\u001b[34m\u001b[1moptimizer:\u001b[0m 'optimizer=auto' found, ignoring 'lr0=0.01' and 'momentum=0.937' and determining best 'optimizer', 'lr0' and 'momentum' automatically... \n",
      "\u001b[34m\u001b[1moptimizer:\u001b[0m AdamW(lr=0.002, momentum=0.9) with parameter groups 80 weight(decay=0.0), 88 weight(decay=0.0005), 90 bias(decay=0.0)\n",
      "\u001b[34m\u001b[1moptimizer:\u001b[0m AdamW(lr=0.002, momentum=0.9) with parameter groups 80 weight(decay=0.0), 88 weight(decay=0.0005), 90 bias(decay=0.0)\n",
      "2 epochs...\n",
      "2 epochs...\n",
      "\n",
      "      Epoch    GPU_mem   box_loss   cls_loss   dfl_loss    da_loss  Instances       Size\n",
      "\n",
      "      Epoch    GPU_mem   box_loss   cls_loss   dfl_loss    da_loss  Instances       Size\n"
     ]
    },
    {
     "name": "stderr",
     "output_type": "stream",
     "text": [
      "  0%|          | 0/238 [00:00<?, ?it/s]"
     ]
    },
    {
     "name": "stdout",
     "output_type": "stream",
     "text": [
      "batch ['/gpfs/gibbs/project/jetz/eec42/data/pe_palmyra_10percentbkgd/train/images/global_birds_palmyra_CooperStrawn_53m_tile_clip_projected_909_patch_380.0_0.0_640_640.jpg', '/gpfs/gibbs/project/jetz/eec42/data/pe_palmyra_10percentbkgd/train/images/global_birds_penguins_offshore_rocks_cape_wallace_survey_4_1425_patch_20.0_20.0_480_480.jpg', '/gpfs/gibbs/project/jetz/eec42/data/pe_palmyra_10percentbkgd/train/images/global_birds_penguins_offshore_rocks_cape_wallace_survey_4_1559_patch_0.0_0.0_480_480.jpg', '/gpfs/gibbs/project/jetz/eec42/data/pe_palmyra_10percentbkgd/train/images/global_birds_palmyra_CooperStrawn_53m_tile_clip_projected_707_patch_0.0_760.0_640_640.jpg', '/gpfs/gibbs/project/jetz/eec42/data/pe_palmyra_10percentbkgd/train/images/global_birds_palmyra_CooperStrawn_53m_tile_clip_projected_814_patch_0.0_380.0_640_640.jpg', '/gpfs/gibbs/project/jetz/eec42/data/pe_palmyra_10percentbkgd/train/images/global_birds_palmyra_CooperStrawn_53m_tile_clip_projected_448_patch_760.0_760.0_640_640.jpg', '/gpfs/gibbs/project/jetz/eec42/data/pe_palmyra_10percentbkgd/train/images/global_birds_palmyra_CooperStrawn_53m_tile_clip_projected_73_patch_0.0_0.0_640_640.jpg', '/gpfs/gibbs/project/jetz/eec42/data/pe_palmyra_10percentbkgd/train/images/global_birds_palmyra_CooperStrawn_53m_tile_clip_projected_627_patch_380.0_380.0_640_640.jpg']\n",
      "selected_batch ['/gpfs/gibbs/project/jetz/eec42/data/pe_palmyra_10percentbkgd/train/images/global_birds_penguins_offshore_rocks_cape_wallace_survey_4_1425_patch_20.0_20.0_480_480.jpg', '/gpfs/gibbs/project/jetz/eec42/data/pe_palmyra_10percentbkgd/train/images/global_birds_penguins_offshore_rocks_cape_wallace_survey_4_1559_patch_0.0_0.0_480_480.jpg']\n",
      "selected_batch ['/gpfs/gibbs/project/jetz/eec42/data/pe_palmyra_10percentbkgd/train/images/global_birds_penguins_offshore_rocks_cape_wallace_survey_4_1425_patch_20.0_20.0_480_480.jpg', '/gpfs/gibbs/project/jetz/eec42/data/pe_palmyra_10percentbkgd/train/images/global_birds_penguins_offshore_rocks_cape_wallace_survey_4_1559_patch_0.0_0.0_480_480.jpg']\n",
      "selected_batch ['/gpfs/gibbs/project/jetz/eec42/data/pe_palmyra_10percentbkgd/train/images/global_birds_penguins_offshore_rocks_cape_wallace_survey_4_1425_patch_20.0_20.0_480_480.jpg', '/gpfs/gibbs/project/jetz/eec42/data/pe_palmyra_10percentbkgd/train/images/global_birds_penguins_offshore_rocks_cape_wallace_survey_4_1559_patch_0.0_0.0_480_480.jpg']\n",
      "key: batch_idx, tensor([0., 1., 1., 1., 1., 1., 1., 1., 1., 1., 1., 1., 1., 1., 1., 1., 1., 1., 1., 1., 2., 3., 3., 4., 5., 6., 7.])\n",
      "annotations_mask [False, True, True, True, True, True, True, True, True, True, True, True, True, True, True, True, True, True, True, True, True, False, False, False, False, False, False]\n"
     ]
    },
    {
     "name": "stderr",
     "output_type": "stream",
     "text": [
      "        1/2      3.64G      6.703      26.82      4.483     0.7205         90        640:   1%|          | 2/238 [00:00<01:28,  2.68it/s]"
     ]
    },
    {
     "name": "stdout",
     "output_type": "stream",
     "text": [
      "batch ['/gpfs/gibbs/project/jetz/eec42/data/pe_palmyra_10percentbkgd/train/images/global_birds_penguins_offshore_rocks_cape_wallace_survey_4_1749_patch_20.0_20.0_480_480.jpg', '/gpfs/gibbs/project/jetz/eec42/data/pe_palmyra_10percentbkgd/train/images/global_birds_penguins_offshore_rocks_cape_wallace_survey_4_1749_patch_0.0_0.0_480_480.jpg', '/gpfs/gibbs/project/jetz/eec42/data/pe_palmyra_10percentbkgd/train/images/global_birds_penguins_offshore_rocks_cape_wallace_survey_4_2269_patch_20.0_0.0_480_480.jpg', '/gpfs/gibbs/project/jetz/eec42/data/pe_palmyra_10percentbkgd/train/images/global_birds_palmyra_CooperStrawn_53m_tile_clip_projected_862_patch_0.0_380.0_640_640.jpg', '/gpfs/gibbs/project/jetz/eec42/data/pe_palmyra_10percentbkgd/train/images/global_birds_palmyra_CooperStrawn_53m_tile_clip_projected_915_patch_380.0_0.0_640_640.jpg', '/gpfs/gibbs/project/jetz/eec42/data/pe_palmyra_10percentbkgd/train/images/global_birds_palmyra_CooperStrawn_53m_tile_clip_projected_787_patch_380.0_760.0_640_640.jpg', '/gpfs/gibbs/project/jetz/eec42/data/pe_palmyra_10percentbkgd/train/images/global_birds_penguins_offshore_rocks_cape_wallace_survey_4_2348_patch_0.0_0.0_480_480.jpg', '/gpfs/gibbs/project/jetz/eec42/data/pe_palmyra_10percentbkgd/train/images/global_birds_palmyra_CooperStrawn_53m_tile_clip_projected_701_patch_0.0_380.0_640_640.jpg']\n",
      "selected_batch ['/gpfs/gibbs/project/jetz/eec42/data/pe_palmyra_10percentbkgd/train/images/global_birds_penguins_offshore_rocks_cape_wallace_survey_4_1749_patch_20.0_20.0_480_480.jpg', '/gpfs/gibbs/project/jetz/eec42/data/pe_palmyra_10percentbkgd/train/images/global_birds_penguins_offshore_rocks_cape_wallace_survey_4_1749_patch_0.0_0.0_480_480.jpg', '/gpfs/gibbs/project/jetz/eec42/data/pe_palmyra_10percentbkgd/train/images/global_birds_penguins_offshore_rocks_cape_wallace_survey_4_2269_patch_20.0_0.0_480_480.jpg', '/gpfs/gibbs/project/jetz/eec42/data/pe_palmyra_10percentbkgd/train/images/global_birds_penguins_offshore_rocks_cape_wallace_survey_4_2348_patch_0.0_0.0_480_480.jpg']\n",
      "selected_batch ['/gpfs/gibbs/project/jetz/eec42/data/pe_palmyra_10percentbkgd/train/images/global_birds_penguins_offshore_rocks_cape_wallace_survey_4_1749_patch_20.0_20.0_480_480.jpg', '/gpfs/gibbs/project/jetz/eec42/data/pe_palmyra_10percentbkgd/train/images/global_birds_penguins_offshore_rocks_cape_wallace_survey_4_1749_patch_0.0_0.0_480_480.jpg', '/gpfs/gibbs/project/jetz/eec42/data/pe_palmyra_10percentbkgd/train/images/global_birds_penguins_offshore_rocks_cape_wallace_survey_4_2269_patch_20.0_0.0_480_480.jpg', '/gpfs/gibbs/project/jetz/eec42/data/pe_palmyra_10percentbkgd/train/images/global_birds_penguins_offshore_rocks_cape_wallace_survey_4_2348_patch_0.0_0.0_480_480.jpg']\n",
      "selected_batch ['/gpfs/gibbs/project/jetz/eec42/data/pe_palmyra_10percentbkgd/train/images/global_birds_penguins_offshore_rocks_cape_wallace_survey_4_1749_patch_20.0_20.0_480_480.jpg', '/gpfs/gibbs/project/jetz/eec42/data/pe_palmyra_10percentbkgd/train/images/global_birds_penguins_offshore_rocks_cape_wallace_survey_4_1749_patch_0.0_0.0_480_480.jpg', '/gpfs/gibbs/project/jetz/eec42/data/pe_palmyra_10percentbkgd/train/images/global_birds_penguins_offshore_rocks_cape_wallace_survey_4_2269_patch_20.0_0.0_480_480.jpg', '/gpfs/gibbs/project/jetz/eec42/data/pe_palmyra_10percentbkgd/train/images/global_birds_penguins_offshore_rocks_cape_wallace_survey_4_2348_patch_0.0_0.0_480_480.jpg']\n",
      "key: batch_idx, tensor([0., 0., 0., 1., 1., 1., 1., 2., 2., 2., 2., 2., 2., 2., 2., 2., 2., 2., 2., 2., 2., 2., 2., 2., 2., 2., 2., 2., 2., 2., 2., 2., 2., 2., 2., 2., 2., 2., 3., 3., 4., 6., 6., 6., 6., 6., 6., 6., 6., 6., 6., 6., 6., 6., 6., 6., 6., 6., 6., 6., 6., 6., 6., 6., 6., 6., 6., 6., 6., 6., 6., 6., 6., 6., 6., 6., 6., 6.,\n",
      "        6., 6., 6., 6., 6., 6., 6., 6., 6., 6., 6., 7.])\n",
      "annotations_mask [True, True, True, True, True, True, True, True, True, True, True, True, True, True, True, True, True, True, True, True, True, True, True, True, True, True, True, True, True, True, True, True, True, True, True, True, True, True, False, False, False, True, True, True, True, True, True, True, True, True, True, True, True, True, True, True, True, True, True, True, True, True, True, True, True, True, True, True, True, True, True, True, True, True, True, True, True, True, True, True, True, True, True, True, True, True, True, True, True, False]\n",
      "batch ['/gpfs/gibbs/project/jetz/eec42/data/pe_palmyra_10percentbkgd/train/images/global_birds_penguins_offshore_rocks_cape_wallace_survey_4_1492_patch_20.0_0.0_480_480.jpg', '/gpfs/gibbs/project/jetz/eec42/data/pe_palmyra_10percentbkgd/train/images/global_birds_palmyra_CooperStrawn_53m_tile_clip_projected_951_patch_0.0_760.0_640_640.jpg', '/gpfs/gibbs/project/jetz/eec42/data/pe_palmyra_10percentbkgd/train/images/global_birds_penguins_offshore_rocks_cape_wallace_survey_4_1167_patch_0.0_20.0_480_480.jpg', '/gpfs/gibbs/project/jetz/eec42/data/pe_palmyra_10percentbkgd/train/images/global_birds_penguins_offshore_rocks_cape_wallace_survey_4_1756_patch_0.0_20.0_480_480.jpg', '/gpfs/gibbs/project/jetz/eec42/data/pe_palmyra_10percentbkgd/train/images/global_birds_palmyra_CooperStrawn_53m_tile_clip_projected_195_patch_760.0_760.0_640_640.jpg', '/gpfs/gibbs/project/jetz/eec42/data/pe_palmyra_10percentbkgd/train/images/global_birds_penguins_offshore_rocks_cape_wallace_survey_4_893_patch_20.0_0.0_480_480.jpg', '/gpfs/gibbs/project/jetz/eec42/data/pe_palmyra_10percentbkgd/train/images/global_birds_penguins_offshore_rocks_cape_wallace_survey_4_1825_patch_0.0_20.0_480_480.jpg', '/gpfs/gibbs/project/jetz/eec42/data/pe_palmyra_10percentbkgd/train/images/global_birds_palmyra_CooperStrawn_53m_tile_clip_projected_102_patch_380.0_760.0_640_640.jpg']\n",
      "selected_batch ['/gpfs/gibbs/project/jetz/eec42/data/pe_palmyra_10percentbkgd/train/images/global_birds_penguins_offshore_rocks_cape_wallace_survey_4_1492_patch_20.0_0.0_480_480.jpg', '/gpfs/gibbs/project/jetz/eec42/data/pe_palmyra_10percentbkgd/train/images/global_birds_penguins_offshore_rocks_cape_wallace_survey_4_1167_patch_0.0_20.0_480_480.jpg', '/gpfs/gibbs/project/jetz/eec42/data/pe_palmyra_10percentbkgd/train/images/global_birds_penguins_offshore_rocks_cape_wallace_survey_4_1756_patch_0.0_20.0_480_480.jpg', '/gpfs/gibbs/project/jetz/eec42/data/pe_palmyra_10percentbkgd/train/images/global_birds_penguins_offshore_rocks_cape_wallace_survey_4_893_patch_20.0_0.0_480_480.jpg', '/gpfs/gibbs/project/jetz/eec42/data/pe_palmyra_10percentbkgd/train/images/global_birds_penguins_offshore_rocks_cape_wallace_survey_4_1825_patch_0.0_20.0_480_480.jpg']\n",
      "selected_batch ['/gpfs/gibbs/project/jetz/eec42/data/pe_palmyra_10percentbkgd/train/images/global_birds_penguins_offshore_rocks_cape_wallace_survey_4_1492_patch_20.0_0.0_480_480.jpg', '/gpfs/gibbs/project/jetz/eec42/data/pe_palmyra_10percentbkgd/train/images/global_birds_penguins_offshore_rocks_cape_wallace_survey_4_1167_patch_0.0_20.0_480_480.jpg', '/gpfs/gibbs/project/jetz/eec42/data/pe_palmyra_10percentbkgd/train/images/global_birds_penguins_offshore_rocks_cape_wallace_survey_4_1756_patch_0.0_20.0_480_480.jpg', '/gpfs/gibbs/project/jetz/eec42/data/pe_palmyra_10percentbkgd/train/images/global_birds_penguins_offshore_rocks_cape_wallace_survey_4_893_patch_20.0_0.0_480_480.jpg', '/gpfs/gibbs/project/jetz/eec42/data/pe_palmyra_10percentbkgd/train/images/global_birds_penguins_offshore_rocks_cape_wallace_survey_4_1825_patch_0.0_20.0_480_480.jpg']\n",
      "selected_batch ['/gpfs/gibbs/project/jetz/eec42/data/pe_palmyra_10percentbkgd/train/images/global_birds_penguins_offshore_rocks_cape_wallace_survey_4_1492_patch_20.0_0.0_480_480.jpg', '/gpfs/gibbs/project/jetz/eec42/data/pe_palmyra_10percentbkgd/train/images/global_birds_penguins_offshore_rocks_cape_wallace_survey_4_1167_patch_0.0_20.0_480_480.jpg', '/gpfs/gibbs/project/jetz/eec42/data/pe_palmyra_10percentbkgd/train/images/global_birds_penguins_offshore_rocks_cape_wallace_survey_4_1756_patch_0.0_20.0_480_480.jpg', '/gpfs/gibbs/project/jetz/eec42/data/pe_palmyra_10percentbkgd/train/images/global_birds_penguins_offshore_rocks_cape_wallace_survey_4_893_patch_20.0_0.0_480_480.jpg', '/gpfs/gibbs/project/jetz/eec42/data/pe_palmyra_10percentbkgd/train/images/global_birds_penguins_offshore_rocks_cape_wallace_survey_4_1825_patch_0.0_20.0_480_480.jpg']\n",
      "key: batch_idx, tensor([0., 0., 0., 0., 0., 0., 0., 0., 1., 2., 3., 3., 4., 4., 5., 5., 6., 7.])\n",
      "annotations_mask [True, True, True, True, True, True, True, True, False, True, True, True, False, False, True, True, True, False]\n"
     ]
    },
    {
     "name": "stderr",
     "output_type": "stream",
     "text": [
      "        1/2      3.64G      6.753      26.92      4.446     0.8164         74        640:   2%|▏         | 4/238 [00:01<00:49,  4.77it/s]"
     ]
    },
    {
     "name": "stdout",
     "output_type": "stream",
     "text": [
      "batch ['/gpfs/gibbs/project/jetz/eec42/data/pe_palmyra_10percentbkgd/train/images/global_birds_palmyra_CooperStrawn_53m_tile_clip_projected_851_patch_0.0_0.0_640_640.jpg', '/gpfs/gibbs/project/jetz/eec42/data/pe_palmyra_10percentbkgd/train/images/global_birds_palmyra_CooperStrawn_53m_tile_clip_projected_922_patch_0.0_0.0_640_640.jpg', '/gpfs/gibbs/project/jetz/eec42/data/pe_palmyra_10percentbkgd/train/images/global_birds_palmyra_CooperStrawn_53m_tile_clip_projected_1324_patch_0.0_0.0_640_640.jpg', '/gpfs/gibbs/project/jetz/eec42/data/pe_palmyra_10percentbkgd/train/images/global_birds_penguins_offshore_rocks_cape_wallace_survey_4_2270_patch_0.0_0.0_480_480.jpg', '/gpfs/gibbs/project/jetz/eec42/data/pe_palmyra_10percentbkgd/train/images/global_birds_penguins_offshore_rocks_cape_wallace_survey_4_2348_patch_0.0_20.0_480_480.jpg', '/gpfs/gibbs/project/jetz/eec42/data/pe_palmyra_10percentbkgd/train/images/global_birds_palmyra_CooperStrawn_53m_tile_clip_projected_734_patch_380.0_380.0_640_640.jpg', '/gpfs/gibbs/project/jetz/eec42/data/pe_palmyra_10percentbkgd/train/images/global_birds_penguins_offshore_rocks_cape_wallace_survey_4_1822_patch_20.0_0.0_480_480.jpg', '/gpfs/gibbs/project/jetz/eec42/data/pe_palmyra_10percentbkgd/train/images/global_birds_penguins_offshore_rocks_cape_wallace_survey_4_2481_patch_0.0_0.0_480_480.jpg']\n",
      "selected_batch ['/gpfs/gibbs/project/jetz/eec42/data/pe_palmyra_10percentbkgd/train/images/global_birds_penguins_offshore_rocks_cape_wallace_survey_4_2270_patch_0.0_0.0_480_480.jpg', '/gpfs/gibbs/project/jetz/eec42/data/pe_palmyra_10percentbkgd/train/images/global_birds_penguins_offshore_rocks_cape_wallace_survey_4_2348_patch_0.0_20.0_480_480.jpg', '/gpfs/gibbs/project/jetz/eec42/data/pe_palmyra_10percentbkgd/train/images/global_birds_penguins_offshore_rocks_cape_wallace_survey_4_1822_patch_20.0_0.0_480_480.jpg', '/gpfs/gibbs/project/jetz/eec42/data/pe_palmyra_10percentbkgd/train/images/global_birds_penguins_offshore_rocks_cape_wallace_survey_4_2481_patch_0.0_0.0_480_480.jpg']\n",
      "selected_batch ['/gpfs/gibbs/project/jetz/eec42/data/pe_palmyra_10percentbkgd/train/images/global_birds_penguins_offshore_rocks_cape_wallace_survey_4_2270_patch_0.0_0.0_480_480.jpg', '/gpfs/gibbs/project/jetz/eec42/data/pe_palmyra_10percentbkgd/train/images/global_birds_penguins_offshore_rocks_cape_wallace_survey_4_2348_patch_0.0_20.0_480_480.jpg', '/gpfs/gibbs/project/jetz/eec42/data/pe_palmyra_10percentbkgd/train/images/global_birds_penguins_offshore_rocks_cape_wallace_survey_4_1822_patch_20.0_0.0_480_480.jpg', '/gpfs/gibbs/project/jetz/eec42/data/pe_palmyra_10percentbkgd/train/images/global_birds_penguins_offshore_rocks_cape_wallace_survey_4_2481_patch_0.0_0.0_480_480.jpg']\n",
      "selected_batch ['/gpfs/gibbs/project/jetz/eec42/data/pe_palmyra_10percentbkgd/train/images/global_birds_penguins_offshore_rocks_cape_wallace_survey_4_2270_patch_0.0_0.0_480_480.jpg', '/gpfs/gibbs/project/jetz/eec42/data/pe_palmyra_10percentbkgd/train/images/global_birds_penguins_offshore_rocks_cape_wallace_survey_4_2348_patch_0.0_20.0_480_480.jpg', '/gpfs/gibbs/project/jetz/eec42/data/pe_palmyra_10percentbkgd/train/images/global_birds_penguins_offshore_rocks_cape_wallace_survey_4_1822_patch_20.0_0.0_480_480.jpg', '/gpfs/gibbs/project/jetz/eec42/data/pe_palmyra_10percentbkgd/train/images/global_birds_penguins_offshore_rocks_cape_wallace_survey_4_2481_patch_0.0_0.0_480_480.jpg']\n",
      "key: batch_idx, tensor([0., 0., 1., 1., 3., 3., 3., 3., 3., 3., 3., 3., 3., 3., 3., 3., 3., 3., 3., 3., 3., 3., 3., 4., 4., 4., 4., 4., 4., 4., 4., 4., 4., 4., 4., 4., 4., 4., 4., 4., 4., 4., 4., 4., 4., 4., 4., 4., 4., 4., 4., 4., 4., 4., 4., 4., 4., 4., 4., 4., 4., 4., 4., 4., 4., 4., 4., 4., 4., 5., 6., 6., 6., 7.])\n",
      "annotations_mask [False, False, False, False, True, True, True, True, True, True, True, True, True, True, True, True, True, True, True, True, True, True, True, True, True, True, True, True, True, True, True, True, True, True, True, True, True, True, True, True, True, True, True, True, True, True, True, True, True, True, True, True, True, True, True, True, True, True, True, True, True, True, True, True, True, True, True, True, True, False, True, True, True, True]\n",
      "batch ['/gpfs/gibbs/project/jetz/eec42/data/pe_palmyra_10percentbkgd/train/images/global_birds_palmyra_CooperStrawn_53m_tile_clip_projected_1012_patch_0.0_0.0_640_640.jpg', '/gpfs/gibbs/project/jetz/eec42/data/pe_palmyra_10percentbkgd/train/images/global_birds_penguins_offshore_rocks_cape_wallace_survey_4_1886_patch_0.0_20.0_480_480.jpg', '/gpfs/gibbs/project/jetz/eec42/data/pe_palmyra_10percentbkgd/train/images/global_birds_penguins_offshore_rocks_cape_wallace_survey_4_1301_patch_20.0_0.0_480_480.jpg', '/gpfs/gibbs/project/jetz/eec42/data/pe_palmyra_10percentbkgd/train/images/global_birds_palmyra_CooperStrawn_53m_tile_clip_projected_163_patch_380.0_0.0_640_640.jpg', '/gpfs/gibbs/project/jetz/eec42/data/pe_palmyra_10percentbkgd/train/images/global_birds_penguins_offshore_rocks_cape_wallace_survey_4_1888_patch_0.0_20.0_480_480.jpg', '/gpfs/gibbs/project/jetz/eec42/data/pe_palmyra_10percentbkgd/train/images/global_birds_palmyra_CooperStrawn_53m_tile_clip_projected_785_patch_0.0_760.0_640_640.jpg', '/gpfs/gibbs/project/jetz/eec42/data/pe_palmyra_10percentbkgd/train/images/global_birds_palmyra_CooperStrawn_53m_tile_clip_projected_782_patch_760.0_0.0_640_640.jpg', '/gpfs/gibbs/project/jetz/eec42/data/pe_palmyra_10percentbkgd/train/images/global_birds_palmyra_CooperStrawn_53m_tile_clip_projected_879_patch_0.0_380.0_640_640.jpg']\n",
      "selected_batch ['/gpfs/gibbs/project/jetz/eec42/data/pe_palmyra_10percentbkgd/train/images/global_birds_penguins_offshore_rocks_cape_wallace_survey_4_1886_patch_0.0_20.0_480_480.jpg', '/gpfs/gibbs/project/jetz/eec42/data/pe_palmyra_10percentbkgd/train/images/global_birds_penguins_offshore_rocks_cape_wallace_survey_4_1301_patch_20.0_0.0_480_480.jpg', '/gpfs/gibbs/project/jetz/eec42/data/pe_palmyra_10percentbkgd/train/images/global_birds_penguins_offshore_rocks_cape_wallace_survey_4_1888_patch_0.0_20.0_480_480.jpg']\n",
      "selected_batch ['/gpfs/gibbs/project/jetz/eec42/data/pe_palmyra_10percentbkgd/train/images/global_birds_penguins_offshore_rocks_cape_wallace_survey_4_1886_patch_0.0_20.0_480_480.jpg', '/gpfs/gibbs/project/jetz/eec42/data/pe_palmyra_10percentbkgd/train/images/global_birds_penguins_offshore_rocks_cape_wallace_survey_4_1301_patch_20.0_0.0_480_480.jpg', '/gpfs/gibbs/project/jetz/eec42/data/pe_palmyra_10percentbkgd/train/images/global_birds_penguins_offshore_rocks_cape_wallace_survey_4_1888_patch_0.0_20.0_480_480.jpg']\n",
      "selected_batch ['/gpfs/gibbs/project/jetz/eec42/data/pe_palmyra_10percentbkgd/train/images/global_birds_penguins_offshore_rocks_cape_wallace_survey_4_1886_patch_0.0_20.0_480_480.jpg', '/gpfs/gibbs/project/jetz/eec42/data/pe_palmyra_10percentbkgd/train/images/global_birds_penguins_offshore_rocks_cape_wallace_survey_4_1301_patch_20.0_0.0_480_480.jpg', '/gpfs/gibbs/project/jetz/eec42/data/pe_palmyra_10percentbkgd/train/images/global_birds_penguins_offshore_rocks_cape_wallace_survey_4_1888_patch_0.0_20.0_480_480.jpg']\n",
      "key: batch_idx, tensor([0., 2., 2., 2., 2., 2., 2., 2., 2., 2., 2., 2., 2., 3., 4., 4., 4., 4., 4., 4., 4., 4., 4., 4., 6., 6., 7.])\n",
      "annotations_mask [False, True, True, True, True, True, True, True, True, True, True, True, True, False, True, True, True, True, True, True, True, True, True, True, False, False, False]\n"
     ]
    },
    {
     "name": "stderr",
     "output_type": "stream",
     "text": [
      "        1/2      3.65G        6.7      22.22      4.385     0.8327         52        640:   3%|▎         | 6/238 [00:01<00:39,  5.80it/s]"
     ]
    },
    {
     "name": "stdout",
     "output_type": "stream",
     "text": [
      "batch ['/gpfs/gibbs/project/jetz/eec42/data/pe_palmyra_10percentbkgd/train/images/global_birds_penguins_offshore_rocks_cape_wallace_survey_4_1426_patch_20.0_20.0_480_480.jpg', '/gpfs/gibbs/project/jetz/eec42/data/pe_palmyra_10percentbkgd/train/images/global_birds_penguins_offshore_rocks_cape_wallace_survey_4_759_patch_20.0_20.0_480_480.jpg', '/gpfs/gibbs/project/jetz/eec42/data/pe_palmyra_10percentbkgd/train/images/global_birds_palmyra_CooperStrawn_53m_tile_clip_projected_812_patch_380.0_0.0_640_640.jpg', '/gpfs/gibbs/project/jetz/eec42/data/pe_palmyra_10percentbkgd/train/images/global_birds_penguins_offshore_rocks_cape_wallace_survey_4_833_patch_0.0_20.0_480_480.jpg', '/gpfs/gibbs/project/jetz/eec42/data/pe_palmyra_10percentbkgd/train/images/global_birds_palmyra_CooperStrawn_53m_tile_clip_projected_670_patch_0.0_0.0_640_640.jpg', '/gpfs/gibbs/project/jetz/eec42/data/pe_palmyra_10percentbkgd/train/images/global_birds_penguins_offshore_rocks_cape_wallace_survey_4_2023_patch_20.0_20.0_480_480.jpg', '/gpfs/gibbs/project/jetz/eec42/data/pe_palmyra_10percentbkgd/train/images/global_birds_palmyra_CooperStrawn_53m_tile_clip_projected_860_patch_760.0_380.0_640_640.jpg', '/gpfs/gibbs/project/jetz/eec42/data/pe_palmyra_10percentbkgd/train/images/global_birds_penguins_offshore_rocks_cape_wallace_survey_4_1815_patch_0.0_0.0_480_480.jpg']\n",
      "selected_batch ['/gpfs/gibbs/project/jetz/eec42/data/pe_palmyra_10percentbkgd/train/images/global_birds_penguins_offshore_rocks_cape_wallace_survey_4_1426_patch_20.0_20.0_480_480.jpg', '/gpfs/gibbs/project/jetz/eec42/data/pe_palmyra_10percentbkgd/train/images/global_birds_penguins_offshore_rocks_cape_wallace_survey_4_759_patch_20.0_20.0_480_480.jpg', '/gpfs/gibbs/project/jetz/eec42/data/pe_palmyra_10percentbkgd/train/images/global_birds_penguins_offshore_rocks_cape_wallace_survey_4_833_patch_0.0_20.0_480_480.jpg', '/gpfs/gibbs/project/jetz/eec42/data/pe_palmyra_10percentbkgd/train/images/global_birds_penguins_offshore_rocks_cape_wallace_survey_4_2023_patch_20.0_20.0_480_480.jpg', '/gpfs/gibbs/project/jetz/eec42/data/pe_palmyra_10percentbkgd/train/images/global_birds_penguins_offshore_rocks_cape_wallace_survey_4_1815_patch_0.0_0.0_480_480.jpg']\n",
      "selected_batch ['/gpfs/gibbs/project/jetz/eec42/data/pe_palmyra_10percentbkgd/train/images/global_birds_penguins_offshore_rocks_cape_wallace_survey_4_1426_patch_20.0_20.0_480_480.jpg', '/gpfs/gibbs/project/jetz/eec42/data/pe_palmyra_10percentbkgd/train/images/global_birds_penguins_offshore_rocks_cape_wallace_survey_4_759_patch_20.0_20.0_480_480.jpg', '/gpfs/gibbs/project/jetz/eec42/data/pe_palmyra_10percentbkgd/train/images/global_birds_penguins_offshore_rocks_cape_wallace_survey_4_833_patch_0.0_20.0_480_480.jpg', '/gpfs/gibbs/project/jetz/eec42/data/pe_palmyra_10percentbkgd/train/images/global_birds_penguins_offshore_rocks_cape_wallace_survey_4_2023_patch_20.0_20.0_480_480.jpg', '/gpfs/gibbs/project/jetz/eec42/data/pe_palmyra_10percentbkgd/train/images/global_birds_penguins_offshore_rocks_cape_wallace_survey_4_1815_patch_0.0_0.0_480_480.jpg']\n",
      "selected_batch ['/gpfs/gibbs/project/jetz/eec42/data/pe_palmyra_10percentbkgd/train/images/global_birds_penguins_offshore_rocks_cape_wallace_survey_4_1426_patch_20.0_20.0_480_480.jpg', '/gpfs/gibbs/project/jetz/eec42/data/pe_palmyra_10percentbkgd/train/images/global_birds_penguins_offshore_rocks_cape_wallace_survey_4_759_patch_20.0_20.0_480_480.jpg', '/gpfs/gibbs/project/jetz/eec42/data/pe_palmyra_10percentbkgd/train/images/global_birds_penguins_offshore_rocks_cape_wallace_survey_4_833_patch_0.0_20.0_480_480.jpg', '/gpfs/gibbs/project/jetz/eec42/data/pe_palmyra_10percentbkgd/train/images/global_birds_penguins_offshore_rocks_cape_wallace_survey_4_2023_patch_20.0_20.0_480_480.jpg', '/gpfs/gibbs/project/jetz/eec42/data/pe_palmyra_10percentbkgd/train/images/global_birds_penguins_offshore_rocks_cape_wallace_survey_4_1815_patch_0.0_0.0_480_480.jpg']\n",
      "key: batch_idx, tensor([0., 0., 0., 0., 0., 0., 0., 0., 0., 0., 0., 0., 0., 0., 0., 0., 0., 0., 0., 0., 0., 0., 0., 0., 0., 0., 2., 3., 3., 3., 3., 3., 3., 3., 3., 3., 3., 3., 3., 3., 3., 4., 4., 4., 4., 6., 6., 7., 7., 7., 7., 7.])\n",
      "annotations_mask [True, True, True, True, True, True, True, True, True, True, True, True, True, True, True, True, True, True, True, True, True, True, True, True, True, True, False, True, True, True, True, True, True, True, True, True, True, True, True, True, True, False, False, False, False, False, False, True, True, True, True, True]\n",
      "batch ['/gpfs/gibbs/project/jetz/eec42/data/pe_palmyra_10percentbkgd/train/images/global_birds_palmyra_CooperStrawn_53m_tile_clip_projected_847_patch_380.0_380.0_640_640.jpg', '/gpfs/gibbs/project/jetz/eec42/data/pe_palmyra_10percentbkgd/train/images/global_birds_palmyra_CooperStrawn_53m_tile_clip_projected_764_patch_380.0_0.0_640_640.jpg', '/gpfs/gibbs/project/jetz/eec42/data/pe_palmyra_10percentbkgd/train/images/global_birds_palmyra_CooperStrawn_53m_tile_clip_projected_831_patch_0.0_380.0_640_640.jpg', '/gpfs/gibbs/project/jetz/eec42/data/pe_palmyra_10percentbkgd/train/images/global_birds_palmyra_CooperStrawn_53m_tile_clip_projected_863_patch_380.0_760.0_640_640.jpg', '/gpfs/gibbs/project/jetz/eec42/data/pe_palmyra_10percentbkgd/train/images/global_birds_palmyra_CooperStrawn_53m_tile_clip_projected_72_patch_760.0_760.0_640_640.jpg', '/gpfs/gibbs/project/jetz/eec42/data/pe_palmyra_10percentbkgd/train/images/global_birds_palmyra_CooperStrawn_53m_tile_clip_projected_833_patch_380.0_0.0_640_640.jpg', '/gpfs/gibbs/project/jetz/eec42/data/pe_palmyra_10percentbkgd/train/images/global_birds_penguins_offshore_rocks_cape_wallace_survey_4_1815_patch_0.0_20.0_480_480.jpg', '/gpfs/gibbs/project/jetz/eec42/data/pe_palmyra_10percentbkgd/train/images/global_birds_palmyra_CooperStrawn_53m_tile_clip_projected_827_patch_0.0_380.0_640_640.jpg']\n",
      "selected_batch ['/gpfs/gibbs/project/jetz/eec42/data/pe_palmyra_10percentbkgd/train/images/global_birds_penguins_offshore_rocks_cape_wallace_survey_4_1815_patch_0.0_20.0_480_480.jpg']\n",
      "selected_batch ['/gpfs/gibbs/project/jetz/eec42/data/pe_palmyra_10percentbkgd/train/images/global_birds_penguins_offshore_rocks_cape_wallace_survey_4_1815_patch_0.0_20.0_480_480.jpg']\n",
      "selected_batch ['/gpfs/gibbs/project/jetz/eec42/data/pe_palmyra_10percentbkgd/train/images/global_birds_penguins_offshore_rocks_cape_wallace_survey_4_1815_patch_0.0_20.0_480_480.jpg']\n",
      "key: batch_idx, tensor([0., 2., 3., 3., 3., 3., 4., 4., 4., 4., 5., 6., 6., 6., 6., 6., 7.])\n",
      "annotations_mask [False, False, False, False, False, False, False, False, False, False, False, True, True, True, True, True, False]\n"
     ]
    },
    {
     "name": "stderr",
     "output_type": "stream",
     "text": [
      "        1/2      3.66G      6.605      20.87      4.366     0.7734         16        640:   4%|▍         | 9/238 [00:01<00:30,  7.51it/s]"
     ]
    },
    {
     "name": "stdout",
     "output_type": "stream",
     "text": [
      "batch ['/gpfs/gibbs/project/jetz/eec42/data/pe_palmyra_10percentbkgd/train/images/global_birds_palmyra_CooperStrawn_53m_tile_clip_projected_915_patch_0.0_760.0_640_640.jpg', '/gpfs/gibbs/project/jetz/eec42/data/pe_palmyra_10percentbkgd/train/images/global_birds_palmyra_CooperStrawn_53m_tile_clip_projected_508_patch_760.0_380.0_640_640.jpg', '/gpfs/gibbs/project/jetz/eec42/data/pe_palmyra_10percentbkgd/train/images/global_birds_palmyra_CooperStrawn_53m_tile_clip_projected_102_patch_760.0_380.0_640_640.jpg', '/gpfs/gibbs/project/jetz/eec42/data/pe_palmyra_10percentbkgd/train/images/global_birds_penguins_offshore_rocks_cape_wallace_survey_4_1429_patch_0.0_0.0_480_480.jpg', '/gpfs/gibbs/project/jetz/eec42/data/pe_palmyra_10percentbkgd/train/images/global_birds_penguins_offshore_rocks_cape_wallace_survey_4_1822_patch_0.0_0.0_480_480.jpg', '/gpfs/gibbs/project/jetz/eec42/data/pe_palmyra_10percentbkgd/train/images/global_birds_penguins_offshore_rocks_cape_wallace_survey_4_1425_patch_20.0_0.0_480_480.jpg', '/gpfs/gibbs/project/jetz/eec42/data/pe_palmyra_10percentbkgd/train/images/global_birds_palmyra_CooperStrawn_53m_tile_clip_projected_834_patch_0.0_0.0_640_640.jpg', '/gpfs/gibbs/project/jetz/eec42/data/pe_palmyra_10percentbkgd/train/images/global_birds_palmyra_CooperStrawn_53m_tile_clip_projected_797_patch_380.0_0.0_640_640.jpg']\n",
      "selected_batch ['/gpfs/gibbs/project/jetz/eec42/data/pe_palmyra_10percentbkgd/train/images/global_birds_penguins_offshore_rocks_cape_wallace_survey_4_1429_patch_0.0_0.0_480_480.jpg', '/gpfs/gibbs/project/jetz/eec42/data/pe_palmyra_10percentbkgd/train/images/global_birds_penguins_offshore_rocks_cape_wallace_survey_4_1822_patch_0.0_0.0_480_480.jpg', '/gpfs/gibbs/project/jetz/eec42/data/pe_palmyra_10percentbkgd/train/images/global_birds_penguins_offshore_rocks_cape_wallace_survey_4_1425_patch_20.0_0.0_480_480.jpg']\n",
      "selected_batch ['/gpfs/gibbs/project/jetz/eec42/data/pe_palmyra_10percentbkgd/train/images/global_birds_penguins_offshore_rocks_cape_wallace_survey_4_1429_patch_0.0_0.0_480_480.jpg', '/gpfs/gibbs/project/jetz/eec42/data/pe_palmyra_10percentbkgd/train/images/global_birds_penguins_offshore_rocks_cape_wallace_survey_4_1822_patch_0.0_0.0_480_480.jpg', '/gpfs/gibbs/project/jetz/eec42/data/pe_palmyra_10percentbkgd/train/images/global_birds_penguins_offshore_rocks_cape_wallace_survey_4_1425_patch_20.0_0.0_480_480.jpg']\n",
      "selected_batch ['/gpfs/gibbs/project/jetz/eec42/data/pe_palmyra_10percentbkgd/train/images/global_birds_penguins_offshore_rocks_cape_wallace_survey_4_1429_patch_0.0_0.0_480_480.jpg', '/gpfs/gibbs/project/jetz/eec42/data/pe_palmyra_10percentbkgd/train/images/global_birds_penguins_offshore_rocks_cape_wallace_survey_4_1822_patch_0.0_0.0_480_480.jpg', '/gpfs/gibbs/project/jetz/eec42/data/pe_palmyra_10percentbkgd/train/images/global_birds_penguins_offshore_rocks_cape_wallace_survey_4_1425_patch_20.0_0.0_480_480.jpg']\n",
      "key: batch_idx, tensor([0., 0., 0., 0., 0., 0., 0., 0., 0., 0., 0., 0., 0., 1., 1., 3., 3., 3., 3., 3., 3., 3., 3., 3., 3., 3., 3., 3., 3., 3., 3., 3., 3., 3., 3., 3., 3., 3., 3., 3., 3., 3., 3., 3., 3., 3., 3., 3., 3., 3., 3., 3., 3., 3., 3., 3., 3., 3., 4., 5., 5., 5., 5., 5., 5., 5., 5., 5., 5., 5., 5., 5., 5., 5., 5., 5., 6., 7.,\n",
      "        7.])\n",
      "annotations_mask [False, False, False, False, False, False, False, False, False, False, False, False, False, False, False, True, True, True, True, True, True, True, True, True, True, True, True, True, True, True, True, True, True, True, True, True, True, True, True, True, True, True, True, True, True, True, True, True, True, True, True, True, True, True, True, True, True, True, True, True, True, True, True, True, True, True, True, True, True, True, True, True, True, True, True, True, False, False, False]\n",
      "batch ['/gpfs/gibbs/project/jetz/eec42/data/pe_palmyra_10percentbkgd/train/images/global_birds_palmyra_CooperStrawn_53m_tile_clip_projected_506_patch_760.0_0.0_640_640.jpg', '/gpfs/gibbs/project/jetz/eec42/data/pe_palmyra_10percentbkgd/train/images/global_birds_penguins_offshore_rocks_cape_wallace_survey_4_1756_patch_0.0_0.0_480_480.jpg', '/gpfs/gibbs/project/jetz/eec42/data/pe_palmyra_10percentbkgd/train/images/global_birds_palmyra_CooperStrawn_53m_tile_clip_projected_866_patch_380.0_760.0_640_640.jpg', '/gpfs/gibbs/project/jetz/eec42/data/pe_palmyra_10percentbkgd/train/images/global_birds_palmyra_CooperStrawn_53m_tile_clip_projected_951_patch_380.0_380.0_640_640.jpg', '/gpfs/gibbs/project/jetz/eec42/data/pe_palmyra_10percentbkgd/train/images/global_birds_penguins_offshore_rocks_cape_wallace_survey_4_1555_patch_20.0_20.0_480_480.jpg', '/gpfs/gibbs/project/jetz/eec42/data/pe_palmyra_10percentbkgd/train/images/global_birds_penguins_offshore_rocks_cape_wallace_survey_4_2283_patch_20.0_20.0_480_480.jpg', '/gpfs/gibbs/project/jetz/eec42/data/pe_palmyra_10percentbkgd/train/images/global_birds_penguins_offshore_rocks_cape_wallace_survey_4_761_patch_20.0_0.0_480_480.jpg', '/gpfs/gibbs/project/jetz/eec42/data/pe_palmyra_10percentbkgd/train/images/global_birds_palmyra_CooperStrawn_53m_tile_clip_projected_740_patch_380.0_380.0_640_640.jpg']\n",
      "selected_batch ['/gpfs/gibbs/project/jetz/eec42/data/pe_palmyra_10percentbkgd/train/images/global_birds_penguins_offshore_rocks_cape_wallace_survey_4_1756_patch_0.0_0.0_480_480.jpg', '/gpfs/gibbs/project/jetz/eec42/data/pe_palmyra_10percentbkgd/train/images/global_birds_penguins_offshore_rocks_cape_wallace_survey_4_1555_patch_20.0_20.0_480_480.jpg', '/gpfs/gibbs/project/jetz/eec42/data/pe_palmyra_10percentbkgd/train/images/global_birds_penguins_offshore_rocks_cape_wallace_survey_4_2283_patch_20.0_20.0_480_480.jpg', '/gpfs/gibbs/project/jetz/eec42/data/pe_palmyra_10percentbkgd/train/images/global_birds_penguins_offshore_rocks_cape_wallace_survey_4_761_patch_20.0_0.0_480_480.jpg']\n",
      "selected_batch ['/gpfs/gibbs/project/jetz/eec42/data/pe_palmyra_10percentbkgd/train/images/global_birds_penguins_offshore_rocks_cape_wallace_survey_4_1756_patch_0.0_0.0_480_480.jpg', '/gpfs/gibbs/project/jetz/eec42/data/pe_palmyra_10percentbkgd/train/images/global_birds_penguins_offshore_rocks_cape_wallace_survey_4_1555_patch_20.0_20.0_480_480.jpg', '/gpfs/gibbs/project/jetz/eec42/data/pe_palmyra_10percentbkgd/train/images/global_birds_penguins_offshore_rocks_cape_wallace_survey_4_2283_patch_20.0_20.0_480_480.jpg', '/gpfs/gibbs/project/jetz/eec42/data/pe_palmyra_10percentbkgd/train/images/global_birds_penguins_offshore_rocks_cape_wallace_survey_4_761_patch_20.0_0.0_480_480.jpg']\n",
      "selected_batch ['/gpfs/gibbs/project/jetz/eec42/data/pe_palmyra_10percentbkgd/train/images/global_birds_penguins_offshore_rocks_cape_wallace_survey_4_1756_patch_0.0_0.0_480_480.jpg', '/gpfs/gibbs/project/jetz/eec42/data/pe_palmyra_10percentbkgd/train/images/global_birds_penguins_offshore_rocks_cape_wallace_survey_4_1555_patch_20.0_20.0_480_480.jpg', '/gpfs/gibbs/project/jetz/eec42/data/pe_palmyra_10percentbkgd/train/images/global_birds_penguins_offshore_rocks_cape_wallace_survey_4_2283_patch_20.0_20.0_480_480.jpg', '/gpfs/gibbs/project/jetz/eec42/data/pe_palmyra_10percentbkgd/train/images/global_birds_penguins_offshore_rocks_cape_wallace_survey_4_761_patch_20.0_0.0_480_480.jpg']\n",
      "key: batch_idx, tensor([0., 0., 1., 1., 1., 3., 3., 4., 4., 4., 4., 4., 5., 5., 7., 7.])\n",
      "annotations_mask [False, False, True, True, True, False, False, True, True, True, True, True, True, True, False, False]\n"
     ]
    },
    {
     "name": "stderr",
     "output_type": "stream",
     "text": [
      "        1/2      3.66G      6.587      21.73      4.362     0.7388          5        640:   4%|▍         | 10/238 [00:01<00:29,  7.86it/s]"
     ]
    },
    {
     "name": "stdout",
     "output_type": "stream",
     "text": [
      "batch ['/gpfs/gibbs/project/jetz/eec42/data/pe_palmyra_10percentbkgd/train/images/global_birds_palmyra_CooperStrawn_53m_tile_clip_projected_737_patch_760.0_0.0_640_640.jpg', '/gpfs/gibbs/project/jetz/eec42/data/pe_palmyra_10percentbkgd/train/images/global_birds_palmyra_CooperStrawn_53m_tile_clip_projected_700_patch_760.0_380.0_640_640.jpg', '/gpfs/gibbs/project/jetz/eec42/data/pe_palmyra_10percentbkgd/train/images/global_birds_palmyra_CooperStrawn_53m_tile_clip_projected_784_patch_380.0_0.0_640_640.jpg', '/gpfs/gibbs/project/jetz/eec42/data/pe_palmyra_10percentbkgd/train/images/global_birds_penguins_offshore_rocks_cape_wallace_survey_4_2077_patch_0.0_0.0_480_480.jpg', '/gpfs/gibbs/project/jetz/eec42/data/pe_palmyra_10percentbkgd/train/images/global_birds_palmyra_CooperStrawn_53m_tile_clip_projected_709_patch_0.0_380.0_640_640.jpg', '/gpfs/gibbs/project/jetz/eec42/data/pe_palmyra_10percentbkgd/train/images/global_birds_palmyra_CooperStrawn_53m_tile_clip_projected_612_patch_760.0_380.0_640_640.jpg', '/gpfs/gibbs/project/jetz/eec42/data/pe_palmyra_10percentbkgd/train/images/global_birds_palmyra_CooperStrawn_53m_tile_clip_projected_578_patch_0.0_0.0_640_640.jpg', '/gpfs/gibbs/project/jetz/eec42/data/pe_palmyra_10percentbkgd/train/images/global_birds_palmyra_CooperStrawn_53m_tile_clip_projected_8_patch_760.0_760.0_640_640.jpg']\n",
      "selected_batch ['/gpfs/gibbs/project/jetz/eec42/data/pe_palmyra_10percentbkgd/train/images/global_birds_penguins_offshore_rocks_cape_wallace_survey_4_2077_patch_0.0_0.0_480_480.jpg']\n",
      "selected_batch ['/gpfs/gibbs/project/jetz/eec42/data/pe_palmyra_10percentbkgd/train/images/global_birds_penguins_offshore_rocks_cape_wallace_survey_4_2077_patch_0.0_0.0_480_480.jpg']\n",
      "selected_batch ['/gpfs/gibbs/project/jetz/eec42/data/pe_palmyra_10percentbkgd/train/images/global_birds_penguins_offshore_rocks_cape_wallace_survey_4_2077_patch_0.0_0.0_480_480.jpg']\n",
      "key: batch_idx, tensor([0., 1., 3., 5., 7.])\n",
      "annotations_mask [False, False, True, False, False]\n",
      "batch ['/gpfs/gibbs/project/jetz/eec42/data/pe_palmyra_10percentbkgd/train/images/global_birds_palmyra_CooperStrawn_53m_tile_clip_projected_751_patch_380.0_0.0_640_640.jpg', '/gpfs/gibbs/project/jetz/eec42/data/pe_palmyra_10percentbkgd/train/images/global_birds_penguins_offshore_rocks_cape_wallace_survey_4_3253_patch_0.0_0.0_480_480.jpg', '/gpfs/gibbs/project/jetz/eec42/data/pe_palmyra_10percentbkgd/train/images/global_birds_penguins_offshore_rocks_cape_wallace_survey_4_1757_patch_0.0_20.0_480_480.jpg', '/gpfs/gibbs/project/jetz/eec42/data/pe_palmyra_10percentbkgd/train/images/global_birds_penguins_offshore_rocks_cape_wallace_survey_4_1756_patch_20.0_20.0_480_480.jpg', '/gpfs/gibbs/project/jetz/eec42/data/pe_palmyra_10percentbkgd/train/images/global_birds_palmyra_CooperStrawn_53m_tile_clip_projected_1018_patch_0.0_380.0_640_640.jpg', '/gpfs/gibbs/project/jetz/eec42/data/pe_palmyra_10percentbkgd/train/images/global_birds_palmyra_CooperStrawn_53m_tile_clip_projected_479_patch_380.0_380.0_640_640.jpg', '/gpfs/gibbs/project/jetz/eec42/data/pe_palmyra_10percentbkgd/train/images/global_birds_palmyra_CooperStrawn_53m_tile_clip_projected_980_patch_380.0_760.0_640_640.jpg', '/gpfs/gibbs/project/jetz/eec42/data/pe_palmyra_10percentbkgd/train/images/global_birds_palmyra_CooperStrawn_53m_tile_clip_projected_195_patch_760.0_380.0_640_640.jpg']\n",
      "selected_batch ['/gpfs/gibbs/project/jetz/eec42/data/pe_palmyra_10percentbkgd/train/images/global_birds_penguins_offshore_rocks_cape_wallace_survey_4_3253_patch_0.0_0.0_480_480.jpg', '/gpfs/gibbs/project/jetz/eec42/data/pe_palmyra_10percentbkgd/train/images/global_birds_penguins_offshore_rocks_cape_wallace_survey_4_1757_patch_0.0_20.0_480_480.jpg', '/gpfs/gibbs/project/jetz/eec42/data/pe_palmyra_10percentbkgd/train/images/global_birds_penguins_offshore_rocks_cape_wallace_survey_4_1756_patch_20.0_20.0_480_480.jpg']\n",
      "selected_batch ['/gpfs/gibbs/project/jetz/eec42/data/pe_palmyra_10percentbkgd/train/images/global_birds_penguins_offshore_rocks_cape_wallace_survey_4_3253_patch_0.0_0.0_480_480.jpg', '/gpfs/gibbs/project/jetz/eec42/data/pe_palmyra_10percentbkgd/train/images/global_birds_penguins_offshore_rocks_cape_wallace_survey_4_1757_patch_0.0_20.0_480_480.jpg', '/gpfs/gibbs/project/jetz/eec42/data/pe_palmyra_10percentbkgd/train/images/global_birds_penguins_offshore_rocks_cape_wallace_survey_4_1756_patch_20.0_20.0_480_480.jpg']\n",
      "selected_batch ['/gpfs/gibbs/project/jetz/eec42/data/pe_palmyra_10percentbkgd/train/images/global_birds_penguins_offshore_rocks_cape_wallace_survey_4_3253_patch_0.0_0.0_480_480.jpg', '/gpfs/gibbs/project/jetz/eec42/data/pe_palmyra_10percentbkgd/train/images/global_birds_penguins_offshore_rocks_cape_wallace_survey_4_1757_patch_0.0_20.0_480_480.jpg', '/gpfs/gibbs/project/jetz/eec42/data/pe_palmyra_10percentbkgd/train/images/global_birds_penguins_offshore_rocks_cape_wallace_survey_4_1756_patch_20.0_20.0_480_480.jpg']\n",
      "key: batch_idx, tensor([0., 1., 1., 1., 1., 1., 1., 1., 1., 1., 1., 1., 1., 1., 1., 1., 1., 1., 1., 1., 2., 2., 2., 3., 3., 3., 5., 5., 5., 6., 6., 6., 6., 7.])\n",
      "annotations_mask [False, True, True, True, True, True, True, True, True, True, True, True, True, True, True, True, True, True, True, True, True, True, True, True, True, True, False, False, False, False, False, False, False, False]\n"
     ]
    },
    {
     "name": "stderr",
     "output_type": "stream",
     "text": [
      "        1/2      3.66G      6.593      20.07      4.354      0.721         67        640:   5%|▌         | 12/238 [00:02<00:27,  8.09it/s]"
     ]
    },
    {
     "name": "stdout",
     "output_type": "stream",
     "text": [
      "batch ['/gpfs/gibbs/project/jetz/eec42/data/pe_palmyra_10percentbkgd/train/images/global_birds_penguins_offshore_rocks_cape_wallace_survey_4_1875_patch_20.0_20.0_480_480.jpg', '/gpfs/gibbs/project/jetz/eec42/data/pe_palmyra_10percentbkgd/train/images/global_birds_palmyra_CooperStrawn_53m_tile_clip_projected_915_patch_380.0_760.0_640_640.jpg', '/gpfs/gibbs/project/jetz/eec42/data/pe_palmyra_10percentbkgd/train/images/global_birds_palmyra_CooperStrawn_53m_tile_clip_projected_475_patch_0.0_760.0_640_640.jpg', '/gpfs/gibbs/project/jetz/eec42/data/pe_palmyra_10percentbkgd/train/images/global_birds_palmyra_CooperStrawn_53m_tile_clip_projected_888_patch_380.0_760.0_640_640.jpg', '/gpfs/gibbs/project/jetz/eec42/data/pe_palmyra_10percentbkgd/train/images/global_birds_palmyra_CooperStrawn_53m_tile_clip_projected_700_patch_0.0_380.0_640_640.jpg', '/gpfs/gibbs/project/jetz/eec42/data/pe_palmyra_10percentbkgd/train/images/global_birds_penguins_offshore_rocks_cape_wallace_survey_4_2136_patch_0.0_20.0_480_480.jpg', '/gpfs/gibbs/project/jetz/eec42/data/pe_palmyra_10percentbkgd/train/images/global_birds_palmyra_CooperStrawn_53m_tile_clip_projected_701_patch_380.0_760.0_640_640.jpg', '/gpfs/gibbs/project/jetz/eec42/data/pe_palmyra_10percentbkgd/train/images/global_birds_palmyra_CooperStrawn_53m_tile_clip_projected_800_patch_0.0_760.0_640_640.jpg']\n",
      "selected_batch ['/gpfs/gibbs/project/jetz/eec42/data/pe_palmyra_10percentbkgd/train/images/global_birds_penguins_offshore_rocks_cape_wallace_survey_4_1875_patch_20.0_20.0_480_480.jpg', '/gpfs/gibbs/project/jetz/eec42/data/pe_palmyra_10percentbkgd/train/images/global_birds_penguins_offshore_rocks_cape_wallace_survey_4_2136_patch_0.0_20.0_480_480.jpg']\n",
      "selected_batch ['/gpfs/gibbs/project/jetz/eec42/data/pe_palmyra_10percentbkgd/train/images/global_birds_penguins_offshore_rocks_cape_wallace_survey_4_1875_patch_20.0_20.0_480_480.jpg', '/gpfs/gibbs/project/jetz/eec42/data/pe_palmyra_10percentbkgd/train/images/global_birds_penguins_offshore_rocks_cape_wallace_survey_4_2136_patch_0.0_20.0_480_480.jpg']\n",
      "selected_batch ['/gpfs/gibbs/project/jetz/eec42/data/pe_palmyra_10percentbkgd/train/images/global_birds_penguins_offshore_rocks_cape_wallace_survey_4_1875_patch_20.0_20.0_480_480.jpg', '/gpfs/gibbs/project/jetz/eec42/data/pe_palmyra_10percentbkgd/train/images/global_birds_penguins_offshore_rocks_cape_wallace_survey_4_2136_patch_0.0_20.0_480_480.jpg']\n",
      "key: batch_idx, tensor([1., 1., 1., 1., 1., 1., 1., 1., 1., 1., 1., 1., 1., 1., 1., 1., 1., 1., 1., 1., 1., 1., 1., 1., 1., 1., 1., 1., 1., 1., 1., 1., 1., 1., 1., 1., 1., 1., 1., 1., 1., 1., 1., 1., 1., 1., 1., 1., 1., 1., 1., 1., 1., 1., 1., 1., 1., 1., 2., 3., 4., 5., 5., 6., 7., 7., 7.])\n",
      "annotations_mask [False, False, False, False, False, False, False, False, False, False, False, False, False, False, False, False, False, False, False, False, False, False, False, False, False, False, False, False, False, False, False, False, False, False, False, False, False, False, False, False, False, False, False, False, False, False, False, False, False, False, False, False, False, False, False, False, False, False, False, False, False, True, True, False, False, False, False]\n",
      "batch ['/gpfs/gibbs/project/jetz/eec42/data/pe_palmyra_10percentbkgd/train/images/global_birds_palmyra_CooperStrawn_53m_tile_clip_projected_878_patch_0.0_760.0_640_640.jpg', '/gpfs/gibbs/project/jetz/eec42/data/pe_palmyra_10percentbkgd/train/images/global_birds_penguins_offshore_rocks_cape_wallace_survey_4_2136_patch_20.0_20.0_480_480.jpg', '/gpfs/gibbs/project/jetz/eec42/data/pe_palmyra_10percentbkgd/train/images/global_birds_palmyra_CooperStrawn_53m_tile_clip_projected_984_patch_0.0_380.0_640_640.jpg', '/gpfs/gibbs/project/jetz/eec42/data/pe_palmyra_10percentbkgd/train/images/global_birds_penguins_offshore_rocks_cape_wallace_survey_4_2414_patch_0.0_20.0_480_480.jpg', '/gpfs/gibbs/project/jetz/eec42/data/pe_palmyra_10percentbkgd/train/images/global_birds_palmyra_CooperStrawn_53m_tile_clip_projected_921_patch_380.0_0.0_640_640.jpg', '/gpfs/gibbs/project/jetz/eec42/data/pe_palmyra_10percentbkgd/train/images/global_birds_palmyra_CooperStrawn_53m_tile_clip_projected_1079_patch_0.0_0.0_640_640.jpg', '/gpfs/gibbs/project/jetz/eec42/data/pe_palmyra_10percentbkgd/train/images/global_birds_palmyra_CooperStrawn_53m_tile_clip_projected_505_patch_0.0_760.0_640_640.jpg', '/gpfs/gibbs/project/jetz/eec42/data/pe_palmyra_10percentbkgd/train/images/global_birds_palmyra_CooperStrawn_53m_tile_clip_projected_163_patch_0.0_0.0_640_640.jpg']\n",
      "selected_batch ['/gpfs/gibbs/project/jetz/eec42/data/pe_palmyra_10percentbkgd/train/images/global_birds_penguins_offshore_rocks_cape_wallace_survey_4_2136_patch_20.0_20.0_480_480.jpg', '/gpfs/gibbs/project/jetz/eec42/data/pe_palmyra_10percentbkgd/train/images/global_birds_penguins_offshore_rocks_cape_wallace_survey_4_2414_patch_0.0_20.0_480_480.jpg']\n",
      "selected_batch ['/gpfs/gibbs/project/jetz/eec42/data/pe_palmyra_10percentbkgd/train/images/global_birds_penguins_offshore_rocks_cape_wallace_survey_4_2136_patch_20.0_20.0_480_480.jpg', '/gpfs/gibbs/project/jetz/eec42/data/pe_palmyra_10percentbkgd/train/images/global_birds_penguins_offshore_rocks_cape_wallace_survey_4_2414_patch_0.0_20.0_480_480.jpg']\n",
      "selected_batch ['/gpfs/gibbs/project/jetz/eec42/data/pe_palmyra_10percentbkgd/train/images/global_birds_penguins_offshore_rocks_cape_wallace_survey_4_2136_patch_20.0_20.0_480_480.jpg', '/gpfs/gibbs/project/jetz/eec42/data/pe_palmyra_10percentbkgd/train/images/global_birds_penguins_offshore_rocks_cape_wallace_survey_4_2414_patch_0.0_20.0_480_480.jpg']\n",
      "key: batch_idx, tensor([1., 1., 2., 3., 3., 3., 3., 3., 3., 3., 3., 3., 3., 3., 3., 3., 4., 4., 5., 6., 6., 6., 6., 6., 6., 6., 6., 6., 7.])\n",
      "annotations_mask [True, True, False, True, True, True, True, True, True, True, True, True, True, True, True, True, False, False, False, False, False, False, False, False, False, False, False, False, False]\n"
     ]
    },
    {
     "name": "stderr",
     "output_type": "stream",
     "text": [
      "        1/2      3.66G      6.563      18.38      4.346     0.6977         37        640:   6%|▌         | 14/238 [00:02<00:27,  8.26it/s]"
     ]
    },
    {
     "name": "stdout",
     "output_type": "stream",
     "text": [
      "batch ['/gpfs/gibbs/project/jetz/eec42/data/pe_palmyra_10percentbkgd/train/images/global_birds_penguins_offshore_rocks_cape_wallace_survey_4_892_patch_0.0_0.0_480_480.jpg', '/gpfs/gibbs/project/jetz/eec42/data/pe_palmyra_10percentbkgd/train/images/global_birds_palmyra_CooperStrawn_53m_tile_clip_projected_781_patch_760.0_0.0_640_640.jpg', '/gpfs/gibbs/project/jetz/eec42/data/pe_palmyra_10percentbkgd/train/images/global_birds_palmyra_CooperStrawn_53m_tile_clip_projected_862_patch_380.0_760.0_640_640.jpg', '/gpfs/gibbs/project/jetz/eec42/data/pe_palmyra_10percentbkgd/train/images/global_birds_penguins_offshore_rocks_cape_wallace_survey_4_826_patch_20.0_20.0_480_480.jpg', '/gpfs/gibbs/project/jetz/eec42/data/pe_palmyra_10percentbkgd/train/images/global_birds_palmyra_CooperStrawn_53m_tile_clip_projected_766_patch_0.0_760.0_640_640.jpg', '/gpfs/gibbs/project/jetz/eec42/data/pe_palmyra_10percentbkgd/train/images/global_birds_palmyra_CooperStrawn_53m_tile_clip_projected_828_patch_380.0_0.0_640_640.jpg', '/gpfs/gibbs/project/jetz/eec42/data/pe_palmyra_10percentbkgd/train/images/global_birds_palmyra_CooperStrawn_53m_tile_clip_projected_833_patch_760.0_760.0_640_640.jpg', '/gpfs/gibbs/project/jetz/eec42/data/pe_palmyra_10percentbkgd/train/images/global_birds_palmyra_CooperStrawn_53m_tile_clip_projected_852_patch_380.0_760.0_640_640.jpg']\n",
      "selected_batch ['/gpfs/gibbs/project/jetz/eec42/data/pe_palmyra_10percentbkgd/train/images/global_birds_penguins_offshore_rocks_cape_wallace_survey_4_892_patch_0.0_0.0_480_480.jpg', '/gpfs/gibbs/project/jetz/eec42/data/pe_palmyra_10percentbkgd/train/images/global_birds_penguins_offshore_rocks_cape_wallace_survey_4_826_patch_20.0_20.0_480_480.jpg']\n",
      "selected_batch ['/gpfs/gibbs/project/jetz/eec42/data/pe_palmyra_10percentbkgd/train/images/global_birds_penguins_offshore_rocks_cape_wallace_survey_4_892_patch_0.0_0.0_480_480.jpg', '/gpfs/gibbs/project/jetz/eec42/data/pe_palmyra_10percentbkgd/train/images/global_birds_penguins_offshore_rocks_cape_wallace_survey_4_826_patch_20.0_20.0_480_480.jpg']\n",
      "selected_batch ['/gpfs/gibbs/project/jetz/eec42/data/pe_palmyra_10percentbkgd/train/images/global_birds_penguins_offshore_rocks_cape_wallace_survey_4_892_patch_0.0_0.0_480_480.jpg', '/gpfs/gibbs/project/jetz/eec42/data/pe_palmyra_10percentbkgd/train/images/global_birds_penguins_offshore_rocks_cape_wallace_survey_4_826_patch_20.0_20.0_480_480.jpg']\n",
      "key: batch_idx, tensor([0., 0., 0., 0., 0., 0., 0., 0., 0., 0., 0., 0., 0., 0., 0., 0., 0., 0., 0., 0., 0., 0., 0., 1., 2., 3., 3., 3., 3., 3., 3., 3., 3., 4., 6., 6., 7.])\n",
      "annotations_mask [True, True, True, True, True, True, True, True, True, True, True, True, True, True, True, True, True, True, True, True, True, True, True, False, False, True, True, True, True, True, True, True, True, False, False, False, False]\n",
      "batch ['/gpfs/gibbs/project/jetz/eec42/data/pe_palmyra_10percentbkgd/train/images/global_birds_palmyra_CooperStrawn_53m_tile_clip_projected_850_patch_0.0_760.0_640_640.jpg', '/gpfs/gibbs/project/jetz/eec42/data/pe_palmyra_10percentbkgd/train/images/global_birds_penguins_offshore_rocks_cape_wallace_survey_4_1956_patch_20.0_20.0_480_480.jpg', '/gpfs/gibbs/project/jetz/eec42/data/pe_palmyra_10percentbkgd/train/images/global_birds_palmyra_CooperStrawn_53m_tile_clip_projected_922_patch_760.0_380.0_640_640.jpg', '/gpfs/gibbs/project/jetz/eec42/data/pe_palmyra_10percentbkgd/train/images/global_birds_palmyra_CooperStrawn_53m_tile_clip_projected_958_patch_380.0_760.0_640_640.jpg', '/gpfs/gibbs/project/jetz/eec42/data/pe_palmyra_10percentbkgd/train/images/global_birds_palmyra_CooperStrawn_53m_tile_clip_projected_1012_patch_0.0_380.0_640_640.jpg', '/gpfs/gibbs/project/jetz/eec42/data/pe_palmyra_10percentbkgd/train/images/global_birds_penguins_offshore_rocks_cape_wallace_survey_4_2022_patch_20.0_20.0_480_480.jpg', '/gpfs/gibbs/project/jetz/eec42/data/pe_palmyra_10percentbkgd/train/images/global_birds_penguins_offshore_rocks_cape_wallace_survey_4_1361_patch_20.0_20.0_480_480.jpg', '/gpfs/gibbs/project/jetz/eec42/data/pe_palmyra_10percentbkgd/train/images/global_birds_palmyra_CooperStrawn_53m_tile_clip_projected_851_patch_0.0_760.0_640_640.jpg']\n",
      "selected_batch ['/gpfs/gibbs/project/jetz/eec42/data/pe_palmyra_10percentbkgd/train/images/global_birds_penguins_offshore_rocks_cape_wallace_survey_4_1956_patch_20.0_20.0_480_480.jpg', '/gpfs/gibbs/project/jetz/eec42/data/pe_palmyra_10percentbkgd/train/images/global_birds_penguins_offshore_rocks_cape_wallace_survey_4_2022_patch_20.0_20.0_480_480.jpg', '/gpfs/gibbs/project/jetz/eec42/data/pe_palmyra_10percentbkgd/train/images/global_birds_penguins_offshore_rocks_cape_wallace_survey_4_1361_patch_20.0_20.0_480_480.jpg']\n",
      "selected_batch ['/gpfs/gibbs/project/jetz/eec42/data/pe_palmyra_10percentbkgd/train/images/global_birds_penguins_offshore_rocks_cape_wallace_survey_4_1956_patch_20.0_20.0_480_480.jpg', '/gpfs/gibbs/project/jetz/eec42/data/pe_palmyra_10percentbkgd/train/images/global_birds_penguins_offshore_rocks_cape_wallace_survey_4_2022_patch_20.0_20.0_480_480.jpg', '/gpfs/gibbs/project/jetz/eec42/data/pe_palmyra_10percentbkgd/train/images/global_birds_penguins_offshore_rocks_cape_wallace_survey_4_1361_patch_20.0_20.0_480_480.jpg']\n",
      "selected_batch ['/gpfs/gibbs/project/jetz/eec42/data/pe_palmyra_10percentbkgd/train/images/global_birds_penguins_offshore_rocks_cape_wallace_survey_4_1956_patch_20.0_20.0_480_480.jpg', '/gpfs/gibbs/project/jetz/eec42/data/pe_palmyra_10percentbkgd/train/images/global_birds_penguins_offshore_rocks_cape_wallace_survey_4_2022_patch_20.0_20.0_480_480.jpg', '/gpfs/gibbs/project/jetz/eec42/data/pe_palmyra_10percentbkgd/train/images/global_birds_penguins_offshore_rocks_cape_wallace_survey_4_1361_patch_20.0_20.0_480_480.jpg']\n",
      "key: batch_idx, tensor([0., 2., 3., 4., 4., 4., 5., 5., 5., 5., 5., 5., 5., 5., 5., 5., 5., 5., 5., 5., 5., 5., 5., 5., 5., 5., 5., 6., 6., 6., 6., 6., 6., 6., 6., 6., 6., 6., 6.])\n",
      "annotations_mask [False, False, False, False, False, False, True, True, True, True, True, True, True, True, True, True, True, True, True, True, True, True, True, True, True, True, True, True, True, True, True, True, True, True, True, True, True, True, True]\n"
     ]
    },
    {
     "name": "stderr",
     "output_type": "stream",
     "text": [
      "        1/2      3.66G      6.586      18.24      4.322     0.6989         16        640:   7%|▋         | 16/238 [00:02<00:26,  8.37it/s]"
     ]
    },
    {
     "name": "stdout",
     "output_type": "stream",
     "text": [
      "batch ['/gpfs/gibbs/project/jetz/eec42/data/pe_palmyra_10percentbkgd/train/images/global_birds_palmyra_CooperStrawn_53m_tile_clip_projected_828_patch_0.0_380.0_640_640.jpg', '/gpfs/gibbs/project/jetz/eec42/data/pe_palmyra_10percentbkgd/train/images/global_birds_palmyra_CooperStrawn_53m_tile_clip_projected_629_patch_380.0_0.0_640_640.jpg', '/gpfs/gibbs/project/jetz/eec42/data/pe_palmyra_10percentbkgd/train/images/global_birds_penguins_offshore_rocks_cape_wallace_survey_4_2415_patch_0.0_20.0_480_480.jpg', '/gpfs/gibbs/project/jetz/eec42/data/pe_palmyra_10percentbkgd/train/images/global_birds_palmyra_CooperStrawn_53m_tile_clip_projected_133_patch_380.0_760.0_640_640.jpg', '/gpfs/gibbs/project/jetz/eec42/data/pe_palmyra_10percentbkgd/train/images/global_birds_penguins_offshore_rocks_cape_wallace_survey_4_2347_patch_0.0_0.0_480_480.jpg', '/gpfs/gibbs/project/jetz/eec42/data/pe_palmyra_10percentbkgd/train/images/global_birds_penguins_offshore_rocks_cape_wallace_survey_4_824_patch_0.0_20.0_480_480.jpg', '/gpfs/gibbs/project/jetz/eec42/data/pe_palmyra_10percentbkgd/train/images/global_birds_palmyra_CooperStrawn_53m_tile_clip_projected_799_patch_0.0_760.0_640_640.jpg', '/gpfs/gibbs/project/jetz/eec42/data/pe_palmyra_10percentbkgd/train/images/global_birds_palmyra_CooperStrawn_53m_tile_clip_projected_953_patch_760.0_760.0_640_640.jpg']\n",
      "selected_batch ['/gpfs/gibbs/project/jetz/eec42/data/pe_palmyra_10percentbkgd/train/images/global_birds_penguins_offshore_rocks_cape_wallace_survey_4_2415_patch_0.0_20.0_480_480.jpg', '/gpfs/gibbs/project/jetz/eec42/data/pe_palmyra_10percentbkgd/train/images/global_birds_penguins_offshore_rocks_cape_wallace_survey_4_2347_patch_0.0_0.0_480_480.jpg', '/gpfs/gibbs/project/jetz/eec42/data/pe_palmyra_10percentbkgd/train/images/global_birds_penguins_offshore_rocks_cape_wallace_survey_4_824_patch_0.0_20.0_480_480.jpg']\n",
      "selected_batch ['/gpfs/gibbs/project/jetz/eec42/data/pe_palmyra_10percentbkgd/train/images/global_birds_penguins_offshore_rocks_cape_wallace_survey_4_2415_patch_0.0_20.0_480_480.jpg', '/gpfs/gibbs/project/jetz/eec42/data/pe_palmyra_10percentbkgd/train/images/global_birds_penguins_offshore_rocks_cape_wallace_survey_4_2347_patch_0.0_0.0_480_480.jpg', '/gpfs/gibbs/project/jetz/eec42/data/pe_palmyra_10percentbkgd/train/images/global_birds_penguins_offshore_rocks_cape_wallace_survey_4_824_patch_0.0_20.0_480_480.jpg']\n",
      "selected_batch ['/gpfs/gibbs/project/jetz/eec42/data/pe_palmyra_10percentbkgd/train/images/global_birds_penguins_offshore_rocks_cape_wallace_survey_4_2415_patch_0.0_20.0_480_480.jpg', '/gpfs/gibbs/project/jetz/eec42/data/pe_palmyra_10percentbkgd/train/images/global_birds_penguins_offshore_rocks_cape_wallace_survey_4_2347_patch_0.0_0.0_480_480.jpg', '/gpfs/gibbs/project/jetz/eec42/data/pe_palmyra_10percentbkgd/train/images/global_birds_penguins_offshore_rocks_cape_wallace_survey_4_824_patch_0.0_20.0_480_480.jpg']\n",
      "key: batch_idx, tensor([0., 0., 1., 1., 2., 2., 3., 4., 4., 4., 4., 4., 4., 4., 4., 5.])\n",
      "annotations_mask [False, False, False, False, True, True, False, True, True, True, True, True, True, True, True, True]\n",
      "batch ['/gpfs/gibbs/project/jetz/eec42/data/pe_palmyra_10percentbkgd/train/images/global_birds_penguins_offshore_rocks_cape_wallace_survey_4_890_patch_20.0_20.0_480_480.jpg', '/gpfs/gibbs/project/jetz/eec42/data/pe_palmyra_10percentbkgd/train/images/global_birds_penguins_offshore_rocks_cape_wallace_survey_4_702_patch_0.0_20.0_480_480.jpg', '/gpfs/gibbs/project/jetz/eec42/data/pe_palmyra_10percentbkgd/train/images/global_birds_palmyra_CooperStrawn_53m_tile_clip_projected_702_patch_760.0_760.0_640_640.jpg', '/gpfs/gibbs/project/jetz/eec42/data/pe_palmyra_10percentbkgd/train/images/global_birds_palmyra_CooperStrawn_53m_tile_clip_projected_810_patch_0.0_760.0_640_640.jpg', '/gpfs/gibbs/project/jetz/eec42/data/pe_palmyra_10percentbkgd/train/images/global_birds_penguins_offshore_rocks_cape_wallace_survey_4_3056_patch_20.0_0.0_480_480.jpg', '/gpfs/gibbs/project/jetz/eec42/data/pe_palmyra_10percentbkgd/train/images/global_birds_palmyra_CooperStrawn_53m_tile_clip_projected_479_patch_760.0_380.0_640_640.jpg', '/gpfs/gibbs/project/jetz/eec42/data/pe_palmyra_10percentbkgd/train/images/global_birds_palmyra_CooperStrawn_53m_tile_clip_projected_720_patch_380.0_0.0_640_640.jpg', '/gpfs/gibbs/project/jetz/eec42/data/pe_palmyra_10percentbkgd/train/images/global_birds_penguins_offshore_rocks_cape_wallace_survey_4_1168_patch_0.0_0.0_480_480.jpg']\n",
      "selected_batch ['/gpfs/gibbs/project/jetz/eec42/data/pe_palmyra_10percentbkgd/train/images/global_birds_penguins_offshore_rocks_cape_wallace_survey_4_890_patch_20.0_20.0_480_480.jpg', '/gpfs/gibbs/project/jetz/eec42/data/pe_palmyra_10percentbkgd/train/images/global_birds_penguins_offshore_rocks_cape_wallace_survey_4_702_patch_0.0_20.0_480_480.jpg', '/gpfs/gibbs/project/jetz/eec42/data/pe_palmyra_10percentbkgd/train/images/global_birds_penguins_offshore_rocks_cape_wallace_survey_4_3056_patch_20.0_0.0_480_480.jpg', '/gpfs/gibbs/project/jetz/eec42/data/pe_palmyra_10percentbkgd/train/images/global_birds_penguins_offshore_rocks_cape_wallace_survey_4_1168_patch_0.0_0.0_480_480.jpg']\n",
      "selected_batch ['/gpfs/gibbs/project/jetz/eec42/data/pe_palmyra_10percentbkgd/train/images/global_birds_penguins_offshore_rocks_cape_wallace_survey_4_890_patch_20.0_20.0_480_480.jpg', '/gpfs/gibbs/project/jetz/eec42/data/pe_palmyra_10percentbkgd/train/images/global_birds_penguins_offshore_rocks_cape_wallace_survey_4_702_patch_0.0_20.0_480_480.jpg', '/gpfs/gibbs/project/jetz/eec42/data/pe_palmyra_10percentbkgd/train/images/global_birds_penguins_offshore_rocks_cape_wallace_survey_4_3056_patch_20.0_0.0_480_480.jpg', '/gpfs/gibbs/project/jetz/eec42/data/pe_palmyra_10percentbkgd/train/images/global_birds_penguins_offshore_rocks_cape_wallace_survey_4_1168_patch_0.0_0.0_480_480.jpg']\n",
      "selected_batch ['/gpfs/gibbs/project/jetz/eec42/data/pe_palmyra_10percentbkgd/train/images/global_birds_penguins_offshore_rocks_cape_wallace_survey_4_890_patch_20.0_20.0_480_480.jpg', '/gpfs/gibbs/project/jetz/eec42/data/pe_palmyra_10percentbkgd/train/images/global_birds_penguins_offshore_rocks_cape_wallace_survey_4_702_patch_0.0_20.0_480_480.jpg', '/gpfs/gibbs/project/jetz/eec42/data/pe_palmyra_10percentbkgd/train/images/global_birds_penguins_offshore_rocks_cape_wallace_survey_4_3056_patch_20.0_0.0_480_480.jpg', '/gpfs/gibbs/project/jetz/eec42/data/pe_palmyra_10percentbkgd/train/images/global_birds_penguins_offshore_rocks_cape_wallace_survey_4_1168_patch_0.0_0.0_480_480.jpg']\n",
      "key: batch_idx, tensor([0., 0., 0., 0., 0., 0., 0., 0., 0., 0., 0., 0., 0., 0., 0., 0., 0., 0., 0., 0., 0., 0., 0., 0., 0., 0., 0., 1., 2., 3., 3., 4., 4., 5., 5., 5., 6., 7., 7., 7., 7., 7., 7., 7., 7., 7., 7.])\n",
      "annotations_mask [True, True, True, True, True, True, True, True, True, True, True, True, True, True, True, True, True, True, True, True, True, True, True, True, True, True, True, True, False, False, False, True, True, False, False, False, False, True, True, True, True, True, True, True, True, True, True]\n"
     ]
    },
    {
     "name": "stderr",
     "output_type": "stream",
     "text": [
      "        1/2      3.66G      6.582      20.35      4.283     0.7185         50        640:   8%|▊         | 18/238 [00:02<00:25,  8.51it/s]"
     ]
    },
    {
     "name": "stdout",
     "output_type": "stream",
     "text": [
      "batch ['/gpfs/gibbs/project/jetz/eec42/data/pe_palmyra_10percentbkgd/train/images/global_birds_palmyra_CooperStrawn_53m_tile_clip_projected_656_patch_380.0_380.0_640_640.jpg', '/gpfs/gibbs/project/jetz/eec42/data/pe_palmyra_10percentbkgd/train/images/global_birds_penguins_offshore_rocks_cape_wallace_survey_4_2093_patch_20.0_0.0_480_480.jpg', '/gpfs/gibbs/project/jetz/eec42/data/pe_palmyra_10percentbkgd/train/images/global_birds_penguins_offshore_rocks_cape_wallace_survey_4_1497_patch_20.0_0.0_480_480.jpg', '/gpfs/gibbs/project/jetz/eec42/data/pe_palmyra_10percentbkgd/train/images/global_birds_palmyra_CooperStrawn_53m_tile_clip_projected_639_patch_0.0_0.0_640_640.jpg', '/gpfs/gibbs/project/jetz/eec42/data/pe_palmyra_10percentbkgd/train/images/global_birds_penguins_offshore_rocks_cape_wallace_survey_4_1822_patch_0.0_20.0_480_480.jpg', '/gpfs/gibbs/project/jetz/eec42/data/pe_palmyra_10percentbkgd/train/images/global_birds_penguins_offshore_rocks_cape_wallace_survey_4_956_patch_0.0_0.0_480_480.jpg', '/gpfs/gibbs/project/jetz/eec42/data/pe_palmyra_10percentbkgd/train/images/global_birds_palmyra_CooperStrawn_53m_tile_clip_projected_687_patch_0.0_380.0_640_640.jpg', '/gpfs/gibbs/project/jetz/eec42/data/pe_palmyra_10percentbkgd/train/images/global_birds_penguins_offshore_rocks_cape_wallace_survey_4_2481_patch_20.0_20.0_480_480.jpg']\n",
      "selected_batch ['/gpfs/gibbs/project/jetz/eec42/data/pe_palmyra_10percentbkgd/train/images/global_birds_penguins_offshore_rocks_cape_wallace_survey_4_2093_patch_20.0_0.0_480_480.jpg', '/gpfs/gibbs/project/jetz/eec42/data/pe_palmyra_10percentbkgd/train/images/global_birds_penguins_offshore_rocks_cape_wallace_survey_4_1497_patch_20.0_0.0_480_480.jpg', '/gpfs/gibbs/project/jetz/eec42/data/pe_palmyra_10percentbkgd/train/images/global_birds_penguins_offshore_rocks_cape_wallace_survey_4_1822_patch_0.0_20.0_480_480.jpg', '/gpfs/gibbs/project/jetz/eec42/data/pe_palmyra_10percentbkgd/train/images/global_birds_penguins_offshore_rocks_cape_wallace_survey_4_956_patch_0.0_0.0_480_480.jpg', '/gpfs/gibbs/project/jetz/eec42/data/pe_palmyra_10percentbkgd/train/images/global_birds_penguins_offshore_rocks_cape_wallace_survey_4_2481_patch_20.0_20.0_480_480.jpg']\n",
      "selected_batch ['/gpfs/gibbs/project/jetz/eec42/data/pe_palmyra_10percentbkgd/train/images/global_birds_penguins_offshore_rocks_cape_wallace_survey_4_2093_patch_20.0_0.0_480_480.jpg', '/gpfs/gibbs/project/jetz/eec42/data/pe_palmyra_10percentbkgd/train/images/global_birds_penguins_offshore_rocks_cape_wallace_survey_4_1497_patch_20.0_0.0_480_480.jpg', '/gpfs/gibbs/project/jetz/eec42/data/pe_palmyra_10percentbkgd/train/images/global_birds_penguins_offshore_rocks_cape_wallace_survey_4_1822_patch_0.0_20.0_480_480.jpg', '/gpfs/gibbs/project/jetz/eec42/data/pe_palmyra_10percentbkgd/train/images/global_birds_penguins_offshore_rocks_cape_wallace_survey_4_956_patch_0.0_0.0_480_480.jpg', '/gpfs/gibbs/project/jetz/eec42/data/pe_palmyra_10percentbkgd/train/images/global_birds_penguins_offshore_rocks_cape_wallace_survey_4_2481_patch_20.0_20.0_480_480.jpg']\n",
      "selected_batch ['/gpfs/gibbs/project/jetz/eec42/data/pe_palmyra_10percentbkgd/train/images/global_birds_penguins_offshore_rocks_cape_wallace_survey_4_2093_patch_20.0_0.0_480_480.jpg', '/gpfs/gibbs/project/jetz/eec42/data/pe_palmyra_10percentbkgd/train/images/global_birds_penguins_offshore_rocks_cape_wallace_survey_4_1497_patch_20.0_0.0_480_480.jpg', '/gpfs/gibbs/project/jetz/eec42/data/pe_palmyra_10percentbkgd/train/images/global_birds_penguins_offshore_rocks_cape_wallace_survey_4_1822_patch_0.0_20.0_480_480.jpg', '/gpfs/gibbs/project/jetz/eec42/data/pe_palmyra_10percentbkgd/train/images/global_birds_penguins_offshore_rocks_cape_wallace_survey_4_956_patch_0.0_0.0_480_480.jpg', '/gpfs/gibbs/project/jetz/eec42/data/pe_palmyra_10percentbkgd/train/images/global_birds_penguins_offshore_rocks_cape_wallace_survey_4_2481_patch_20.0_20.0_480_480.jpg']\n",
      "key: batch_idx, tensor([0., 0., 0., 0., 1., 2., 4., 4., 5., 5., 5., 5., 5., 5., 5., 5., 5., 5., 5., 5., 5., 5., 5., 5., 5., 5., 5., 5., 5., 5., 5., 5., 5., 5., 5., 5., 5., 5., 5., 5., 5., 5., 5., 5., 5., 5., 6., 6., 6., 7.])\n",
      "annotations_mask [False, False, False, False, True, True, True, True, True, True, True, True, True, True, True, True, True, True, True, True, True, True, True, True, True, True, True, True, True, True, True, True, True, True, True, True, True, True, True, True, True, True, True, True, True, True, False, False, False, True]\n",
      "batch ['/gpfs/gibbs/project/jetz/eec42/data/pe_palmyra_10percentbkgd/train/images/global_birds_penguins_offshore_rocks_cape_wallace_survey_4_3254_patch_20.0_20.0_480_480.jpg', '/gpfs/gibbs/project/jetz/eec42/data/pe_palmyra_10percentbkgd/train/images/global_birds_palmyra_CooperStrawn_53m_tile_clip_projected_971_patch_0.0_0.0_640_640.jpg', '/gpfs/gibbs/project/jetz/eec42/data/pe_palmyra_10percentbkgd/train/images/global_birds_palmyra_CooperStrawn_53m_tile_clip_projected_705_patch_760.0_760.0_640_640.jpg', '/gpfs/gibbs/project/jetz/eec42/data/pe_palmyra_10percentbkgd/train/images/global_birds_palmyra_CooperStrawn_53m_tile_clip_projected_583_patch_0.0_380.0_640_640.jpg', '/gpfs/gibbs/project/jetz/eec42/data/pe_palmyra_10percentbkgd/train/images/global_birds_palmyra_CooperStrawn_53m_tile_clip_projected_1291_patch_760.0_0.0_640_640.jpg', '/gpfs/gibbs/project/jetz/eec42/data/pe_palmyra_10percentbkgd/train/images/global_birds_penguins_offshore_rocks_cape_wallace_survey_4_832_patch_20.0_20.0_480_480.jpg', '/gpfs/gibbs/project/jetz/eec42/data/pe_palmyra_10percentbkgd/train/images/global_birds_palmyra_CooperStrawn_53m_tile_clip_projected_862_patch_380.0_380.0_640_640.jpg', '/gpfs/gibbs/project/jetz/eec42/data/pe_palmyra_10percentbkgd/train/images/global_birds_palmyra_CooperStrawn_53m_tile_clip_projected_828_patch_0.0_0.0_640_640.jpg']\n",
      "selected_batch ['/gpfs/gibbs/project/jetz/eec42/data/pe_palmyra_10percentbkgd/train/images/global_birds_penguins_offshore_rocks_cape_wallace_survey_4_3254_patch_20.0_20.0_480_480.jpg', '/gpfs/gibbs/project/jetz/eec42/data/pe_palmyra_10percentbkgd/train/images/global_birds_penguins_offshore_rocks_cape_wallace_survey_4_832_patch_20.0_20.0_480_480.jpg']\n",
      "selected_batch ['/gpfs/gibbs/project/jetz/eec42/data/pe_palmyra_10percentbkgd/train/images/global_birds_penguins_offshore_rocks_cape_wallace_survey_4_3254_patch_20.0_20.0_480_480.jpg', '/gpfs/gibbs/project/jetz/eec42/data/pe_palmyra_10percentbkgd/train/images/global_birds_penguins_offshore_rocks_cape_wallace_survey_4_832_patch_20.0_20.0_480_480.jpg']\n",
      "selected_batch ['/gpfs/gibbs/project/jetz/eec42/data/pe_palmyra_10percentbkgd/train/images/global_birds_penguins_offshore_rocks_cape_wallace_survey_4_3254_patch_20.0_20.0_480_480.jpg', '/gpfs/gibbs/project/jetz/eec42/data/pe_palmyra_10percentbkgd/train/images/global_birds_penguins_offshore_rocks_cape_wallace_survey_4_832_patch_20.0_20.0_480_480.jpg']\n",
      "key: batch_idx, tensor([0., 1., 2., 3., 4., 4., 4., 5., 5., 5., 5., 5., 5., 5., 5., 5., 5., 5., 5., 5., 5., 5., 5., 5., 5., 5., 5., 5., 5., 5., 5., 5., 5., 5., 5., 5., 5., 6., 7., 7.])\n",
      "annotations_mask [True, False, False, False, False, False, False, True, True, True, True, True, True, True, True, True, True, True, True, True, True, True, True, True, True, True, True, True, True, True, True, True, True, True, True, True, True, False, False, False]\n"
     ]
    },
    {
     "name": "stderr",
     "output_type": "stream",
     "text": [
      "        1/2      3.66G       6.58      19.67      4.271     0.7116         19        640:   8%|▊         | 20/238 [00:03<00:25,  8.46it/s]"
     ]
    },
    {
     "name": "stdout",
     "output_type": "stream",
     "text": [
      "batch ['/gpfs/gibbs/project/jetz/eec42/data/pe_palmyra_10percentbkgd/train/images/global_birds_palmyra_CooperStrawn_53m_tile_clip_projected_816_patch_760.0_0.0_640_640.jpg', '/gpfs/gibbs/project/jetz/eec42/data/pe_palmyra_10percentbkgd/train/images/global_birds_palmyra_CooperStrawn_53m_tile_clip_projected_686_patch_760.0_760.0_640_640.jpg', '/gpfs/gibbs/project/jetz/eec42/data/pe_palmyra_10percentbkgd/train/images/global_birds_palmyra_CooperStrawn_53m_tile_clip_projected_925_patch_760.0_380.0_640_640.jpg', '/gpfs/gibbs/project/jetz/eec42/data/pe_palmyra_10percentbkgd/train/images/global_birds_penguins_offshore_rocks_cape_wallace_survey_4_1366_patch_0.0_20.0_480_480.jpg', '/gpfs/gibbs/project/jetz/eec42/data/pe_palmyra_10percentbkgd/train/images/global_birds_penguins_offshore_rocks_cape_wallace_survey_4_959_patch_20.0_0.0_480_480.jpg', '/gpfs/gibbs/project/jetz/eec42/data/pe_palmyra_10percentbkgd/train/images/global_birds_penguins_offshore_rocks_cape_wallace_survey_4_2006_patch_0.0_0.0_480_480.jpg', '/gpfs/gibbs/project/jetz/eec42/data/pe_palmyra_10percentbkgd/train/images/global_birds_penguins_offshore_rocks_cape_wallace_survey_4_2487_patch_0.0_20.0_480_480.jpg', '/gpfs/gibbs/project/jetz/eec42/data/pe_palmyra_10percentbkgd/train/images/global_birds_palmyra_CooperStrawn_53m_tile_clip_projected_103_patch_760.0_380.0_640_640.jpg']\n",
      "selected_batch ['/gpfs/gibbs/project/jetz/eec42/data/pe_palmyra_10percentbkgd/train/images/global_birds_penguins_offshore_rocks_cape_wallace_survey_4_1366_patch_0.0_20.0_480_480.jpg', '/gpfs/gibbs/project/jetz/eec42/data/pe_palmyra_10percentbkgd/train/images/global_birds_penguins_offshore_rocks_cape_wallace_survey_4_959_patch_20.0_0.0_480_480.jpg', '/gpfs/gibbs/project/jetz/eec42/data/pe_palmyra_10percentbkgd/train/images/global_birds_penguins_offshore_rocks_cape_wallace_survey_4_2006_patch_0.0_0.0_480_480.jpg', '/gpfs/gibbs/project/jetz/eec42/data/pe_palmyra_10percentbkgd/train/images/global_birds_penguins_offshore_rocks_cape_wallace_survey_4_2487_patch_0.0_20.0_480_480.jpg']\n",
      "selected_batch ['/gpfs/gibbs/project/jetz/eec42/data/pe_palmyra_10percentbkgd/train/images/global_birds_penguins_offshore_rocks_cape_wallace_survey_4_1366_patch_0.0_20.0_480_480.jpg', '/gpfs/gibbs/project/jetz/eec42/data/pe_palmyra_10percentbkgd/train/images/global_birds_penguins_offshore_rocks_cape_wallace_survey_4_959_patch_20.0_0.0_480_480.jpg', '/gpfs/gibbs/project/jetz/eec42/data/pe_palmyra_10percentbkgd/train/images/global_birds_penguins_offshore_rocks_cape_wallace_survey_4_2006_patch_0.0_0.0_480_480.jpg', '/gpfs/gibbs/project/jetz/eec42/data/pe_palmyra_10percentbkgd/train/images/global_birds_penguins_offshore_rocks_cape_wallace_survey_4_2487_patch_0.0_20.0_480_480.jpg']\n",
      "selected_batch ['/gpfs/gibbs/project/jetz/eec42/data/pe_palmyra_10percentbkgd/train/images/global_birds_penguins_offshore_rocks_cape_wallace_survey_4_1366_patch_0.0_20.0_480_480.jpg', '/gpfs/gibbs/project/jetz/eec42/data/pe_palmyra_10percentbkgd/train/images/global_birds_penguins_offshore_rocks_cape_wallace_survey_4_959_patch_20.0_0.0_480_480.jpg', '/gpfs/gibbs/project/jetz/eec42/data/pe_palmyra_10percentbkgd/train/images/global_birds_penguins_offshore_rocks_cape_wallace_survey_4_2006_patch_0.0_0.0_480_480.jpg', '/gpfs/gibbs/project/jetz/eec42/data/pe_palmyra_10percentbkgd/train/images/global_birds_penguins_offshore_rocks_cape_wallace_survey_4_2487_patch_0.0_20.0_480_480.jpg']\n",
      "key: batch_idx, tensor([0., 1., 3., 3., 3., 5., 5., 5., 5., 5., 5., 5., 5., 5., 6., 7., 7., 7., 7.])\n",
      "annotations_mask [False, False, True, True, True, True, True, True, True, True, True, True, True, True, True, False, False, False, False]\n",
      "batch ['/gpfs/gibbs/project/jetz/eec42/data/pe_palmyra_10percentbkgd/train/images/global_birds_palmyra_CooperStrawn_53m_tile_clip_projected_638_patch_760.0_380.0_640_640.jpg', '/gpfs/gibbs/project/jetz/eec42/data/pe_palmyra_10percentbkgd/train/images/global_birds_palmyra_CooperStrawn_53m_tile_clip_projected_981_patch_760.0_380.0_640_640.jpg', '/gpfs/gibbs/project/jetz/eec42/data/pe_palmyra_10percentbkgd/train/images/global_birds_penguins_offshore_rocks_cape_wallace_survey_4_2087_patch_20.0_20.0_480_480.jpg', '/gpfs/gibbs/project/jetz/eec42/data/pe_palmyra_10percentbkgd/train/images/global_birds_palmyra_CooperStrawn_53m_tile_clip_projected_826_patch_380.0_760.0_640_640.jpg', '/gpfs/gibbs/project/jetz/eec42/data/pe_palmyra_10percentbkgd/train/images/global_birds_palmyra_CooperStrawn_53m_tile_clip_projected_504_patch_760.0_760.0_640_640.jpg', '/gpfs/gibbs/project/jetz/eec42/data/pe_palmyra_10percentbkgd/train/images/global_birds_penguins_offshore_rocks_cape_wallace_survey_4_826_patch_0.0_20.0_480_480.jpg', '/gpfs/gibbs/project/jetz/eec42/data/pe_palmyra_10percentbkgd/train/images/global_birds_penguins_offshore_rocks_cape_wallace_survey_4_767_patch_0.0_20.0_480_480.jpg', '/gpfs/gibbs/project/jetz/eec42/data/pe_palmyra_10percentbkgd/train/images/global_birds_palmyra_CooperStrawn_53m_tile_clip_projected_850_patch_0.0_0.0_640_640.jpg']\n",
      "selected_batch ['/gpfs/gibbs/project/jetz/eec42/data/pe_palmyra_10percentbkgd/train/images/global_birds_penguins_offshore_rocks_cape_wallace_survey_4_2087_patch_20.0_20.0_480_480.jpg', '/gpfs/gibbs/project/jetz/eec42/data/pe_palmyra_10percentbkgd/train/images/global_birds_penguins_offshore_rocks_cape_wallace_survey_4_826_patch_0.0_20.0_480_480.jpg', '/gpfs/gibbs/project/jetz/eec42/data/pe_palmyra_10percentbkgd/train/images/global_birds_penguins_offshore_rocks_cape_wallace_survey_4_767_patch_0.0_20.0_480_480.jpg']\n",
      "selected_batch ['/gpfs/gibbs/project/jetz/eec42/data/pe_palmyra_10percentbkgd/train/images/global_birds_penguins_offshore_rocks_cape_wallace_survey_4_2087_patch_20.0_20.0_480_480.jpg', '/gpfs/gibbs/project/jetz/eec42/data/pe_palmyra_10percentbkgd/train/images/global_birds_penguins_offshore_rocks_cape_wallace_survey_4_826_patch_0.0_20.0_480_480.jpg', '/gpfs/gibbs/project/jetz/eec42/data/pe_palmyra_10percentbkgd/train/images/global_birds_penguins_offshore_rocks_cape_wallace_survey_4_767_patch_0.0_20.0_480_480.jpg']\n",
      "selected_batch ['/gpfs/gibbs/project/jetz/eec42/data/pe_palmyra_10percentbkgd/train/images/global_birds_penguins_offshore_rocks_cape_wallace_survey_4_2087_patch_20.0_20.0_480_480.jpg', '/gpfs/gibbs/project/jetz/eec42/data/pe_palmyra_10percentbkgd/train/images/global_birds_penguins_offshore_rocks_cape_wallace_survey_4_826_patch_0.0_20.0_480_480.jpg', '/gpfs/gibbs/project/jetz/eec42/data/pe_palmyra_10percentbkgd/train/images/global_birds_penguins_offshore_rocks_cape_wallace_survey_4_767_patch_0.0_20.0_480_480.jpg']\n",
      "key: batch_idx, tensor([0., 1., 1., 1., 5., 5., 5., 5., 5., 5., 5., 5., 5., 5., 5., 5., 5., 5., 5., 5., 5., 5., 5., 5., 5., 5., 6., 6., 6., 6., 6., 6., 6., 6., 6., 6., 6., 6., 6., 6., 6., 6., 6., 6., 6., 6., 6., 6., 6., 6., 6., 6., 6., 6., 6., 7.])\n",
      "annotations_mask [False, False, False, False, True, True, True, True, True, True, True, True, True, True, True, True, True, True, True, True, True, True, True, True, True, True, True, True, True, True, True, True, True, True, True, True, True, True, True, True, True, True, True, True, True, True, True, True, True, True, True, True, True, True, True, False]\n"
     ]
    },
    {
     "name": "stderr",
     "output_type": "stream",
     "text": [
      "        1/2      3.66G      6.594      19.68      4.249     0.7008         31        640:   9%|▉         | 22/238 [00:03<00:25,  8.44it/s]"
     ]
    },
    {
     "name": "stdout",
     "output_type": "stream",
     "text": [
      "batch ['/gpfs/gibbs/project/jetz/eec42/data/pe_palmyra_10percentbkgd/train/images/global_birds_penguins_offshore_rocks_cape_wallace_survey_4_765_patch_0.0_20.0_480_480.jpg', '/gpfs/gibbs/project/jetz/eec42/data/pe_palmyra_10percentbkgd/train/images/global_birds_palmyra_CooperStrawn_53m_tile_clip_projected_379_patch_380.0_760.0_640_640.jpg', '/gpfs/gibbs/project/jetz/eec42/data/pe_palmyra_10percentbkgd/train/images/global_birds_palmyra_CooperStrawn_53m_tile_clip_projected_879_patch_760.0_760.0_640_640.jpg', '/gpfs/gibbs/project/jetz/eec42/data/pe_palmyra_10percentbkgd/train/images/global_birds_palmyra_CooperStrawn_53m_tile_clip_projected_828_patch_380.0_380.0_640_640.jpg', '/gpfs/gibbs/project/jetz/eec42/data/pe_palmyra_10percentbkgd/train/images/global_birds_palmyra_CooperStrawn_53m_tile_clip_projected_613_patch_380.0_380.0_640_640.jpg', '/gpfs/gibbs/project/jetz/eec42/data/pe_palmyra_10percentbkgd/train/images/global_birds_palmyra_CooperStrawn_53m_tile_clip_projected_768_patch_0.0_760.0_640_640.jpg', '/gpfs/gibbs/project/jetz/eec42/data/pe_palmyra_10percentbkgd/train/images/global_birds_penguins_offshore_rocks_cape_wallace_survey_4_956_patch_0.0_20.0_480_480.jpg', '/gpfs/gibbs/project/jetz/eec42/data/pe_palmyra_10percentbkgd/train/images/global_birds_palmyra_CooperStrawn_53m_tile_clip_projected_660_patch_0.0_760.0_640_640.jpg']\n",
      "selected_batch ['/gpfs/gibbs/project/jetz/eec42/data/pe_palmyra_10percentbkgd/train/images/global_birds_penguins_offshore_rocks_cape_wallace_survey_4_765_patch_0.0_20.0_480_480.jpg', '/gpfs/gibbs/project/jetz/eec42/data/pe_palmyra_10percentbkgd/train/images/global_birds_penguins_offshore_rocks_cape_wallace_survey_4_956_patch_0.0_20.0_480_480.jpg']\n",
      "selected_batch ['/gpfs/gibbs/project/jetz/eec42/data/pe_palmyra_10percentbkgd/train/images/global_birds_penguins_offshore_rocks_cape_wallace_survey_4_765_patch_0.0_20.0_480_480.jpg', '/gpfs/gibbs/project/jetz/eec42/data/pe_palmyra_10percentbkgd/train/images/global_birds_penguins_offshore_rocks_cape_wallace_survey_4_956_patch_0.0_20.0_480_480.jpg']\n",
      "selected_batch ['/gpfs/gibbs/project/jetz/eec42/data/pe_palmyra_10percentbkgd/train/images/global_birds_penguins_offshore_rocks_cape_wallace_survey_4_765_patch_0.0_20.0_480_480.jpg', '/gpfs/gibbs/project/jetz/eec42/data/pe_palmyra_10percentbkgd/train/images/global_birds_penguins_offshore_rocks_cape_wallace_survey_4_956_patch_0.0_20.0_480_480.jpg']\n",
      "key: batch_idx, tensor([2., 3., 5., 5., 6., 6., 6., 6., 6., 6., 6., 6., 6., 6., 6., 6., 6., 6., 6., 6., 6., 6., 6., 6., 6., 6., 7., 7., 7., 7., 7.])\n",
      "annotations_mask [False, False, False, False, True, True, True, True, True, True, True, True, True, True, True, True, True, True, True, True, True, True, True, True, True, True, False, False, False, False, False]\n",
      "batch ['/gpfs/gibbs/project/jetz/eec42/data/pe_palmyra_10percentbkgd/train/images/global_birds_palmyra_CooperStrawn_53m_tile_clip_projected_627_patch_760.0_380.0_640_640.jpg', '/gpfs/gibbs/project/jetz/eec42/data/pe_palmyra_10percentbkgd/train/images/global_birds_palmyra_CooperStrawn_53m_tile_clip_projected_797_patch_380.0_380.0_640_640.jpg', '/gpfs/gibbs/project/jetz/eec42/data/pe_palmyra_10percentbkgd/train/images/global_birds_palmyra_CooperStrawn_53m_tile_clip_projected_628_patch_760.0_0.0_640_640.jpg', '/gpfs/gibbs/project/jetz/eec42/data/pe_palmyra_10percentbkgd/train/images/global_birds_palmyra_CooperStrawn_53m_tile_clip_projected_879_patch_760.0_380.0_640_640.jpg', '/gpfs/gibbs/project/jetz/eec42/data/pe_palmyra_10percentbkgd/train/images/global_birds_penguins_offshore_rocks_cape_wallace_survey_4_1757_patch_20.0_0.0_480_480.jpg', '/gpfs/gibbs/project/jetz/eec42/data/pe_palmyra_10percentbkgd/train/images/global_birds_palmyra_CooperStrawn_53m_tile_clip_projected_864_patch_760.0_760.0_640_640.jpg', '/gpfs/gibbs/project/jetz/eec42/data/pe_palmyra_10percentbkgd/train/images/global_birds_penguins_offshore_rocks_cape_wallace_survey_4_3121_patch_0.0_0.0_480_480.jpg', '/gpfs/gibbs/project/jetz/eec42/data/pe_palmyra_10percentbkgd/train/images/global_birds_palmyra_CooperStrawn_53m_tile_clip_projected_990_patch_380.0_760.0_640_640.jpg']\n",
      "selected_batch ['/gpfs/gibbs/project/jetz/eec42/data/pe_palmyra_10percentbkgd/train/images/global_birds_penguins_offshore_rocks_cape_wallace_survey_4_1757_patch_20.0_0.0_480_480.jpg', '/gpfs/gibbs/project/jetz/eec42/data/pe_palmyra_10percentbkgd/train/images/global_birds_penguins_offshore_rocks_cape_wallace_survey_4_3121_patch_0.0_0.0_480_480.jpg']\n",
      "selected_batch ['/gpfs/gibbs/project/jetz/eec42/data/pe_palmyra_10percentbkgd/train/images/global_birds_penguins_offshore_rocks_cape_wallace_survey_4_1757_patch_20.0_0.0_480_480.jpg', '/gpfs/gibbs/project/jetz/eec42/data/pe_palmyra_10percentbkgd/train/images/global_birds_penguins_offshore_rocks_cape_wallace_survey_4_3121_patch_0.0_0.0_480_480.jpg']\n",
      "selected_batch ['/gpfs/gibbs/project/jetz/eec42/data/pe_palmyra_10percentbkgd/train/images/global_birds_penguins_offshore_rocks_cape_wallace_survey_4_1757_patch_20.0_0.0_480_480.jpg', '/gpfs/gibbs/project/jetz/eec42/data/pe_palmyra_10percentbkgd/train/images/global_birds_penguins_offshore_rocks_cape_wallace_survey_4_3121_patch_0.0_0.0_480_480.jpg']\n",
      "key: batch_idx, tensor([0., 0., 1., 3., 4., 4., 4., 6., 6., 6., 6., 6., 6., 7.])\n",
      "annotations_mask [False, False, False, False, True, True, True, True, True, True, True, True, True, False]\n"
     ]
    },
    {
     "name": "stderr",
     "output_type": "stream",
     "text": [
      "        1/2      3.66G       6.56      19.31      4.236     0.6829         11        640:  10%|█         | 24/238 [00:03<00:25,  8.42it/s]"
     ]
    },
    {
     "name": "stdout",
     "output_type": "stream",
     "text": [
      "batch ['/gpfs/gibbs/project/jetz/eec42/data/pe_palmyra_10percentbkgd/train/images/global_birds_palmyra_CooperStrawn_53m_tile_clip_projected_785_patch_0.0_380.0_640_640.jpg', '/gpfs/gibbs/project/jetz/eec42/data/pe_palmyra_10percentbkgd/train/images/global_birds_palmyra_CooperStrawn_53m_tile_clip_projected_891_patch_760.0_0.0_640_640.jpg', '/gpfs/gibbs/project/jetz/eec42/data/pe_palmyra_10percentbkgd/train/images/global_birds_palmyra_CooperStrawn_53m_tile_clip_projected_921_patch_380.0_380.0_640_640.jpg', '/gpfs/gibbs/project/jetz/eec42/data/pe_palmyra_10percentbkgd/train/images/global_birds_palmyra_CooperStrawn_53m_tile_clip_projected_688_patch_760.0_380.0_640_640.jpg', '/gpfs/gibbs/project/jetz/eec42/data/pe_palmyra_10percentbkgd/train/images/global_birds_palmyra_CooperStrawn_53m_tile_clip_projected_797_patch_760.0_760.0_640_640.jpg', '/gpfs/gibbs/project/jetz/eec42/data/pe_palmyra_10percentbkgd/train/images/global_birds_palmyra_CooperStrawn_53m_tile_clip_projected_888_patch_760.0_760.0_640_640.jpg', '/gpfs/gibbs/project/jetz/eec42/data/pe_palmyra_10percentbkgd/train/images/global_birds_palmyra_CooperStrawn_53m_tile_clip_projected_638_patch_760.0_0.0_640_640.jpg', '/gpfs/gibbs/project/jetz/eec42/data/pe_palmyra_10percentbkgd/train/images/global_birds_penguins_offshore_rocks_cape_wallace_survey_4_2422_patch_0.0_20.0_480_480.jpg']\n",
      "selected_batch ['/gpfs/gibbs/project/jetz/eec42/data/pe_palmyra_10percentbkgd/train/images/global_birds_penguins_offshore_rocks_cape_wallace_survey_4_2422_patch_0.0_20.0_480_480.jpg']\n",
      "selected_batch ['/gpfs/gibbs/project/jetz/eec42/data/pe_palmyra_10percentbkgd/train/images/global_birds_penguins_offshore_rocks_cape_wallace_survey_4_2422_patch_0.0_20.0_480_480.jpg']\n",
      "selected_batch ['/gpfs/gibbs/project/jetz/eec42/data/pe_palmyra_10percentbkgd/train/images/global_birds_penguins_offshore_rocks_cape_wallace_survey_4_2422_patch_0.0_20.0_480_480.jpg']\n",
      "key: batch_idx, tensor([1., 1., 2., 3., 5., 6., 7., 7., 7., 7., 7.])\n",
      "annotations_mask [False, False, False, False, False, False, True, True, True, True, True]\n",
      "batch ['/gpfs/gibbs/project/jetz/eec42/data/pe_palmyra_10percentbkgd/train/images/global_birds_palmyra_CooperStrawn_53m_tile_clip_projected_857_patch_0.0_0.0_640_640.jpg', '/gpfs/gibbs/project/jetz/eec42/data/pe_palmyra_10percentbkgd/train/images/global_birds_penguins_offshore_rocks_cape_wallace_survey_4_824_patch_20.0_20.0_480_480.jpg', '/gpfs/gibbs/project/jetz/eec42/data/pe_palmyra_10percentbkgd/train/images/global_birds_penguins_offshore_rocks_cape_wallace_survey_4_2412_patch_20.0_20.0_480_480.jpg', '/gpfs/gibbs/project/jetz/eec42/data/pe_palmyra_10percentbkgd/train/images/global_birds_palmyra_CooperStrawn_53m_tile_clip_projected_549_patch_380.0_760.0_640_640.jpg', '/gpfs/gibbs/project/jetz/eec42/data/pe_palmyra_10percentbkgd/train/images/global_birds_palmyra_CooperStrawn_53m_tile_clip_projected_975_patch_760.0_380.0_640_640.jpg', '/gpfs/gibbs/project/jetz/eec42/data/pe_palmyra_10percentbkgd/train/images/global_birds_palmyra_CooperStrawn_53m_tile_clip_projected_673_patch_0.0_380.0_640_640.jpg', '/gpfs/gibbs/project/jetz/eec42/data/pe_palmyra_10percentbkgd/train/images/global_birds_penguins_offshore_rocks_cape_wallace_survey_4_1104_patch_20.0_20.0_480_480.jpg', '/gpfs/gibbs/project/jetz/eec42/data/pe_palmyra_10percentbkgd/train/images/global_birds_palmyra_CooperStrawn_53m_tile_clip_projected_628_patch_380.0_0.0_640_640.jpg']\n",
      "selected_batch ['/gpfs/gibbs/project/jetz/eec42/data/pe_palmyra_10percentbkgd/train/images/global_birds_penguins_offshore_rocks_cape_wallace_survey_4_824_patch_20.0_20.0_480_480.jpg', '/gpfs/gibbs/project/jetz/eec42/data/pe_palmyra_10percentbkgd/train/images/global_birds_penguins_offshore_rocks_cape_wallace_survey_4_2412_patch_20.0_20.0_480_480.jpg', '/gpfs/gibbs/project/jetz/eec42/data/pe_palmyra_10percentbkgd/train/images/global_birds_penguins_offshore_rocks_cape_wallace_survey_4_1104_patch_20.0_20.0_480_480.jpg']\n",
      "selected_batch ['/gpfs/gibbs/project/jetz/eec42/data/pe_palmyra_10percentbkgd/train/images/global_birds_penguins_offshore_rocks_cape_wallace_survey_4_824_patch_20.0_20.0_480_480.jpg', '/gpfs/gibbs/project/jetz/eec42/data/pe_palmyra_10percentbkgd/train/images/global_birds_penguins_offshore_rocks_cape_wallace_survey_4_2412_patch_20.0_20.0_480_480.jpg', '/gpfs/gibbs/project/jetz/eec42/data/pe_palmyra_10percentbkgd/train/images/global_birds_penguins_offshore_rocks_cape_wallace_survey_4_1104_patch_20.0_20.0_480_480.jpg']\n",
      "selected_batch ['/gpfs/gibbs/project/jetz/eec42/data/pe_palmyra_10percentbkgd/train/images/global_birds_penguins_offshore_rocks_cape_wallace_survey_4_824_patch_20.0_20.0_480_480.jpg', '/gpfs/gibbs/project/jetz/eec42/data/pe_palmyra_10percentbkgd/train/images/global_birds_penguins_offshore_rocks_cape_wallace_survey_4_2412_patch_20.0_20.0_480_480.jpg', '/gpfs/gibbs/project/jetz/eec42/data/pe_palmyra_10percentbkgd/train/images/global_birds_penguins_offshore_rocks_cape_wallace_survey_4_1104_patch_20.0_20.0_480_480.jpg']\n",
      "key: batch_idx, tensor([0., 1., 2., 2., 2., 3., 4., 5., 5.])\n",
      "annotations_mask [False, True, True, True, True, False, False, False, False]\n"
     ]
    },
    {
     "name": "stderr",
     "output_type": "stream",
     "text": [
      "        1/2      3.66G       6.52      19.18      4.224     0.6723         11        640:  11%|█         | 26/238 [00:03<00:25,  8.47it/s]"
     ]
    },
    {
     "name": "stdout",
     "output_type": "stream",
     "text": [
      "batch ['/gpfs/gibbs/project/jetz/eec42/data/pe_palmyra_10percentbkgd/train/images/global_birds_palmyra_CooperStrawn_53m_tile_clip_projected_504_patch_760.0_380.0_640_640.jpg', '/gpfs/gibbs/project/jetz/eec42/data/pe_palmyra_10percentbkgd/train/images/global_birds_palmyra_CooperStrawn_53m_tile_clip_projected_831_patch_0.0_0.0_640_640.jpg', '/gpfs/gibbs/project/jetz/eec42/data/pe_palmyra_10percentbkgd/train/images/global_birds_palmyra_CooperStrawn_53m_tile_clip_projected_735_patch_380.0_0.0_640_640.jpg', '/gpfs/gibbs/project/jetz/eec42/data/pe_palmyra_10percentbkgd/train/images/global_birds_palmyra_CooperStrawn_53m_tile_clip_projected_668_patch_0.0_380.0_640_640.jpg', '/gpfs/gibbs/project/jetz/eec42/data/pe_palmyra_10percentbkgd/train/images/global_birds_penguins_offshore_rocks_cape_wallace_survey_4_2204_patch_0.0_0.0_480_480.jpg', '/gpfs/gibbs/project/jetz/eec42/data/pe_palmyra_10percentbkgd/train/images/global_birds_palmyra_CooperStrawn_53m_tile_clip_projected_864_patch_0.0_380.0_640_640.jpg', '/gpfs/gibbs/project/jetz/eec42/data/pe_palmyra_10percentbkgd/train/images/global_birds_palmyra_CooperStrawn_53m_tile_clip_projected_798_patch_0.0_760.0_640_640.jpg', '/gpfs/gibbs/project/jetz/eec42/data/pe_palmyra_10percentbkgd/train/images/global_birds_palmyra_CooperStrawn_53m_tile_clip_projected_944_patch_380.0_0.0_640_640.jpg']\n",
      "selected_batch ['/gpfs/gibbs/project/jetz/eec42/data/pe_palmyra_10percentbkgd/train/images/global_birds_penguins_offshore_rocks_cape_wallace_survey_4_2204_patch_0.0_0.0_480_480.jpg']\n",
      "selected_batch ['/gpfs/gibbs/project/jetz/eec42/data/pe_palmyra_10percentbkgd/train/images/global_birds_penguins_offshore_rocks_cape_wallace_survey_4_2204_patch_0.0_0.0_480_480.jpg']\n",
      "selected_batch ['/gpfs/gibbs/project/jetz/eec42/data/pe_palmyra_10percentbkgd/train/images/global_birds_penguins_offshore_rocks_cape_wallace_survey_4_2204_patch_0.0_0.0_480_480.jpg']\n",
      "key: batch_idx, tensor([1., 2., 3., 4., 4., 5., 5., 5., 5., 6., 7.])\n",
      "annotations_mask [False, False, False, True, True, False, False, False, False, False, False]\n",
      "batch ['/gpfs/gibbs/project/jetz/eec42/data/pe_palmyra_10percentbkgd/train/images/global_birds_palmyra_CooperStrawn_53m_tile_clip_projected_579_patch_760.0_380.0_640_640.jpg', '/gpfs/gibbs/project/jetz/eec42/data/pe_palmyra_10percentbkgd/train/images/global_birds_palmyra_CooperStrawn_53m_tile_clip_projected_700_patch_380.0_380.0_640_640.jpg', '/gpfs/gibbs/project/jetz/eec42/data/pe_palmyra_10percentbkgd/train/images/global_birds_palmyra_CooperStrawn_53m_tile_clip_projected_134_patch_380.0_760.0_640_640.jpg', '/gpfs/gibbs/project/jetz/eec42/data/pe_palmyra_10percentbkgd/train/images/global_birds_palmyra_CooperStrawn_53m_tile_clip_projected_538_patch_760.0_760.0_640_640.jpg', '/gpfs/gibbs/project/jetz/eec42/data/pe_palmyra_10percentbkgd/train/images/global_birds_palmyra_CooperStrawn_53m_tile_clip_projected_718_patch_760.0_380.0_640_640.jpg', '/gpfs/gibbs/project/jetz/eec42/data/pe_palmyra_10percentbkgd/train/images/global_birds_palmyra_CooperStrawn_53m_tile_clip_projected_476_patch_0.0_0.0_640_640.jpg', '/gpfs/gibbs/project/jetz/eec42/data/pe_palmyra_10percentbkgd/train/images/global_birds_penguins_offshore_rocks_cape_wallace_survey_4_2335_patch_20.0_20.0_480_480.jpg', '/gpfs/gibbs/project/jetz/eec42/data/pe_palmyra_10percentbkgd/train/images/global_birds_palmyra_CooperStrawn_53m_tile_clip_projected_101_patch_0.0_760.0_640_640.jpg']\n",
      "selected_batch ['/gpfs/gibbs/project/jetz/eec42/data/pe_palmyra_10percentbkgd/train/images/global_birds_penguins_offshore_rocks_cape_wallace_survey_4_2335_patch_20.0_20.0_480_480.jpg']\n",
      "selected_batch ['/gpfs/gibbs/project/jetz/eec42/data/pe_palmyra_10percentbkgd/train/images/global_birds_penguins_offshore_rocks_cape_wallace_survey_4_2335_patch_20.0_20.0_480_480.jpg']\n",
      "selected_batch ['/gpfs/gibbs/project/jetz/eec42/data/pe_palmyra_10percentbkgd/train/images/global_birds_penguins_offshore_rocks_cape_wallace_survey_4_2335_patch_20.0_20.0_480_480.jpg']\n",
      "key: batch_idx, tensor([0., 1., 5., 5., 5., 5., 5., 7.])\n",
      "annotations_mask [False, False, False, False, False, False, False, False]\n"
     ]
    },
    {
     "name": "stderr",
     "output_type": "stream",
     "text": [
      "        1/2      3.66G      6.519      18.82      4.206     0.6649         20        640:  12%|█▏        | 28/238 [00:03<00:24,  8.45it/s]"
     ]
    },
    {
     "name": "stdout",
     "output_type": "stream",
     "text": [
      "batch ['/gpfs/gibbs/project/jetz/eec42/data/pe_palmyra_10percentbkgd/train/images/global_birds_palmyra_CooperStrawn_53m_tile_clip_projected_829_patch_0.0_760.0_640_640.jpg', '/gpfs/gibbs/project/jetz/eec42/data/pe_palmyra_10percentbkgd/train/images/global_birds_palmyra_CooperStrawn_53m_tile_clip_projected_827_patch_380.0_0.0_640_640.jpg', '/gpfs/gibbs/project/jetz/eec42/data/pe_palmyra_10percentbkgd/train/images/global_birds_penguins_offshore_rocks_cape_wallace_survey_4_1815_patch_20.0_0.0_480_480.jpg', '/gpfs/gibbs/project/jetz/eec42/data/pe_palmyra_10percentbkgd/train/images/global_birds_palmyra_CooperStrawn_53m_tile_clip_projected_475_patch_380.0_760.0_640_640.jpg', '/gpfs/gibbs/project/jetz/eec42/data/pe_palmyra_10percentbkgd/train/images/global_birds_palmyra_CooperStrawn_53m_tile_clip_projected_825_patch_760.0_760.0_640_640.jpg', '/gpfs/gibbs/project/jetz/eec42/data/pe_palmyra_10percentbkgd/train/images/global_birds_penguins_offshore_rocks_cape_wallace_survey_4_1302_patch_0.0_20.0_480_480.jpg', '/gpfs/gibbs/project/jetz/eec42/data/pe_palmyra_10percentbkgd/train/images/global_birds_penguins_offshore_rocks_cape_wallace_survey_4_2614_patch_0.0_20.0_480_480.jpg', '/gpfs/gibbs/project/jetz/eec42/data/pe_palmyra_10percentbkgd/train/images/global_birds_palmyra_CooperStrawn_53m_tile_clip_projected_864_patch_380.0_760.0_640_640.jpg']\n",
      "selected_batch ['/gpfs/gibbs/project/jetz/eec42/data/pe_palmyra_10percentbkgd/train/images/global_birds_penguins_offshore_rocks_cape_wallace_survey_4_1815_patch_20.0_0.0_480_480.jpg', '/gpfs/gibbs/project/jetz/eec42/data/pe_palmyra_10percentbkgd/train/images/global_birds_penguins_offshore_rocks_cape_wallace_survey_4_1302_patch_0.0_20.0_480_480.jpg', '/gpfs/gibbs/project/jetz/eec42/data/pe_palmyra_10percentbkgd/train/images/global_birds_penguins_offshore_rocks_cape_wallace_survey_4_2614_patch_0.0_20.0_480_480.jpg']\n",
      "selected_batch ['/gpfs/gibbs/project/jetz/eec42/data/pe_palmyra_10percentbkgd/train/images/global_birds_penguins_offshore_rocks_cape_wallace_survey_4_1815_patch_20.0_0.0_480_480.jpg', '/gpfs/gibbs/project/jetz/eec42/data/pe_palmyra_10percentbkgd/train/images/global_birds_penguins_offshore_rocks_cape_wallace_survey_4_1302_patch_0.0_20.0_480_480.jpg', '/gpfs/gibbs/project/jetz/eec42/data/pe_palmyra_10percentbkgd/train/images/global_birds_penguins_offshore_rocks_cape_wallace_survey_4_2614_patch_0.0_20.0_480_480.jpg']\n",
      "selected_batch ['/gpfs/gibbs/project/jetz/eec42/data/pe_palmyra_10percentbkgd/train/images/global_birds_penguins_offshore_rocks_cape_wallace_survey_4_1815_patch_20.0_0.0_480_480.jpg', '/gpfs/gibbs/project/jetz/eec42/data/pe_palmyra_10percentbkgd/train/images/global_birds_penguins_offshore_rocks_cape_wallace_survey_4_1302_patch_0.0_20.0_480_480.jpg', '/gpfs/gibbs/project/jetz/eec42/data/pe_palmyra_10percentbkgd/train/images/global_birds_penguins_offshore_rocks_cape_wallace_survey_4_2614_patch_0.0_20.0_480_480.jpg']\n",
      "key: batch_idx, tensor([0., 0., 0., 2., 2., 2., 2., 2., 3., 3., 3., 3., 3., 4., 6., 6., 6., 7., 7., 7.])\n",
      "annotations_mask [False, False, False, True, True, True, True, True, False, False, False, False, False, False, True, True, True, False, False, False]\n",
      "batch ['/gpfs/gibbs/project/jetz/eec42/data/pe_palmyra_10percentbkgd/train/images/global_birds_palmyra_CooperStrawn_53m_tile_clip_projected_389_patch_0.0_760.0_640_640.jpg', '/gpfs/gibbs/project/jetz/eec42/data/pe_palmyra_10percentbkgd/train/images/global_birds_penguins_offshore_rocks_cape_wallace_survey_4_2021_patch_20.0_20.0_480_480.jpg', '/gpfs/gibbs/project/jetz/eec42/data/pe_palmyra_10percentbkgd/train/images/global_birds_penguins_offshore_rocks_cape_wallace_survey_4_2478_patch_20.0_20.0_480_480.jpg', '/gpfs/gibbs/project/jetz/eec42/data/pe_palmyra_10percentbkgd/train/images/global_birds_palmyra_CooperStrawn_53m_tile_clip_projected_608_patch_760.0_0.0_640_640.jpg', '/gpfs/gibbs/project/jetz/eec42/data/pe_palmyra_10percentbkgd/train/images/global_birds_penguins_offshore_rocks_cape_wallace_survey_4_2271_patch_20.0_0.0_480_480.jpg', '/gpfs/gibbs/project/jetz/eec42/data/pe_palmyra_10percentbkgd/train/images/global_birds_penguins_offshore_rocks_cape_wallace_survey_4_826_patch_20.0_0.0_480_480.jpg', '/gpfs/gibbs/project/jetz/eec42/data/pe_palmyra_10percentbkgd/train/images/global_birds_palmyra_CooperStrawn_53m_tile_clip_projected_583_patch_760.0_760.0_640_640.jpg', '/gpfs/gibbs/project/jetz/eec42/data/pe_palmyra_10percentbkgd/train/images/global_birds_palmyra_CooperStrawn_53m_tile_clip_projected_950_patch_0.0_0.0_640_640.jpg']\n",
      "selected_batch ['/gpfs/gibbs/project/jetz/eec42/data/pe_palmyra_10percentbkgd/train/images/global_birds_penguins_offshore_rocks_cape_wallace_survey_4_2021_patch_20.0_20.0_480_480.jpg', '/gpfs/gibbs/project/jetz/eec42/data/pe_palmyra_10percentbkgd/train/images/global_birds_penguins_offshore_rocks_cape_wallace_survey_4_2478_patch_20.0_20.0_480_480.jpg', '/gpfs/gibbs/project/jetz/eec42/data/pe_palmyra_10percentbkgd/train/images/global_birds_penguins_offshore_rocks_cape_wallace_survey_4_2271_patch_20.0_0.0_480_480.jpg', '/gpfs/gibbs/project/jetz/eec42/data/pe_palmyra_10percentbkgd/train/images/global_birds_penguins_offshore_rocks_cape_wallace_survey_4_826_patch_20.0_0.0_480_480.jpg']\n",
      "selected_batch ['/gpfs/gibbs/project/jetz/eec42/data/pe_palmyra_10percentbkgd/train/images/global_birds_penguins_offshore_rocks_cape_wallace_survey_4_2021_patch_20.0_20.0_480_480.jpg', '/gpfs/gibbs/project/jetz/eec42/data/pe_palmyra_10percentbkgd/train/images/global_birds_penguins_offshore_rocks_cape_wallace_survey_4_2478_patch_20.0_20.0_480_480.jpg', '/gpfs/gibbs/project/jetz/eec42/data/pe_palmyra_10percentbkgd/train/images/global_birds_penguins_offshore_rocks_cape_wallace_survey_4_2271_patch_20.0_0.0_480_480.jpg', '/gpfs/gibbs/project/jetz/eec42/data/pe_palmyra_10percentbkgd/train/images/global_birds_penguins_offshore_rocks_cape_wallace_survey_4_826_patch_20.0_0.0_480_480.jpg']\n",
      "selected_batch ['/gpfs/gibbs/project/jetz/eec42/data/pe_palmyra_10percentbkgd/train/images/global_birds_penguins_offshore_rocks_cape_wallace_survey_4_2021_patch_20.0_20.0_480_480.jpg', '/gpfs/gibbs/project/jetz/eec42/data/pe_palmyra_10percentbkgd/train/images/global_birds_penguins_offshore_rocks_cape_wallace_survey_4_2478_patch_20.0_20.0_480_480.jpg', '/gpfs/gibbs/project/jetz/eec42/data/pe_palmyra_10percentbkgd/train/images/global_birds_penguins_offshore_rocks_cape_wallace_survey_4_2271_patch_20.0_0.0_480_480.jpg', '/gpfs/gibbs/project/jetz/eec42/data/pe_palmyra_10percentbkgd/train/images/global_birds_penguins_offshore_rocks_cape_wallace_survey_4_826_patch_20.0_0.0_480_480.jpg']\n",
      "key: batch_idx, tensor([0., 1., 1., 1., 2., 3., 4., 4., 5., 5., 5., 5., 5., 5., 5., 5., 5., 5., 5., 5., 5., 5., 5., 5., 5., 5., 5., 5., 6., 7.])\n",
      "annotations_mask [False, True, True, True, True, False, True, True, True, True, True, True, True, True, True, True, True, True, True, True, True, True, True, True, True, True, True, True, False, False]\n"
     ]
    },
    {
     "name": "stderr",
     "output_type": "stream",
     "text": [
      "        1/2      3.66G      6.468      18.31      4.193     0.6627         11        640:  13%|█▎        | 30/238 [00:04<00:24,  8.47it/s]"
     ]
    },
    {
     "name": "stdout",
     "output_type": "stream",
     "text": [
      "batch ['/gpfs/gibbs/project/jetz/eec42/data/pe_palmyra_10percentbkgd/train/images/global_birds_palmyra_CooperStrawn_53m_tile_clip_projected_738_patch_0.0_380.0_640_640.jpg', '/gpfs/gibbs/project/jetz/eec42/data/pe_palmyra_10percentbkgd/train/images/global_birds_palmyra_CooperStrawn_53m_tile_clip_projected_958_patch_760.0_760.0_640_640.jpg', '/gpfs/gibbs/project/jetz/eec42/data/pe_palmyra_10percentbkgd/train/images/global_birds_palmyra_CooperStrawn_53m_tile_clip_projected_635_patch_760.0_0.0_640_640.jpg', '/gpfs/gibbs/project/jetz/eec42/data/pe_palmyra_10percentbkgd/train/images/global_birds_penguins_offshore_rocks_cape_wallace_survey_4_1359_patch_20.0_20.0_480_480.jpg', '/gpfs/gibbs/project/jetz/eec42/data/pe_palmyra_10percentbkgd/train/images/global_birds_palmyra_CooperStrawn_53m_tile_clip_projected_849_patch_760.0_380.0_640_640.jpg', '/gpfs/gibbs/project/jetz/eec42/data/pe_palmyra_10percentbkgd/train/images/global_birds_palmyra_CooperStrawn_53m_tile_clip_projected_751_patch_380.0_380.0_640_640.jpg', '/gpfs/gibbs/project/jetz/eec42/data/pe_palmyra_10percentbkgd/train/images/global_birds_palmyra_CooperStrawn_53m_tile_clip_projected_918_patch_380.0_760.0_640_640.jpg', '/gpfs/gibbs/project/jetz/eec42/data/pe_palmyra_10percentbkgd/train/images/global_birds_palmyra_CooperStrawn_53m_tile_clip_projected_980_patch_760.0_760.0_640_640.jpg']\n",
      "selected_batch ['/gpfs/gibbs/project/jetz/eec42/data/pe_palmyra_10percentbkgd/train/images/global_birds_penguins_offshore_rocks_cape_wallace_survey_4_1359_patch_20.0_20.0_480_480.jpg']\n",
      "selected_batch ['/gpfs/gibbs/project/jetz/eec42/data/pe_palmyra_10percentbkgd/train/images/global_birds_penguins_offshore_rocks_cape_wallace_survey_4_1359_patch_20.0_20.0_480_480.jpg']\n",
      "selected_batch ['/gpfs/gibbs/project/jetz/eec42/data/pe_palmyra_10percentbkgd/train/images/global_birds_penguins_offshore_rocks_cape_wallace_survey_4_1359_patch_20.0_20.0_480_480.jpg']\n",
      "key: batch_idx, tensor([0., 1., 1., 2., 3., 4., 5., 6., 7., 7., 7.])\n",
      "annotations_mask [False, False, False, False, True, False, False, False, False, False, False]\n",
      "batch ['/gpfs/gibbs/project/jetz/eec42/data/pe_palmyra_10percentbkgd/train/images/global_birds_palmyra_CooperStrawn_53m_tile_clip_projected_72_patch_0.0_380.0_640_640.jpg', '/gpfs/gibbs/project/jetz/eec42/data/pe_palmyra_10percentbkgd/train/images/global_birds_palmyra_CooperStrawn_53m_tile_clip_projected_409_patch_760.0_760.0_640_640.jpg', '/gpfs/gibbs/project/jetz/eec42/data/pe_palmyra_10percentbkgd/train/images/global_birds_palmyra_CooperStrawn_53m_tile_clip_projected_507_patch_760.0_380.0_640_640.jpg', '/gpfs/gibbs/project/jetz/eec42/data/pe_palmyra_10percentbkgd/train/images/global_birds_palmyra_CooperStrawn_53m_tile_clip_projected_509_patch_0.0_760.0_640_640.jpg', '/gpfs/gibbs/project/jetz/eec42/data/pe_palmyra_10percentbkgd/train/images/global_birds_palmyra_CooperStrawn_53m_tile_clip_projected_817_patch_380.0_380.0_640_640.jpg', '/gpfs/gibbs/project/jetz/eec42/data/pe_palmyra_10percentbkgd/train/images/global_birds_palmyra_CooperStrawn_53m_tile_clip_projected_896_patch_760.0_760.0_640_640.jpg', '/gpfs/gibbs/project/jetz/eec42/data/pe_palmyra_10percentbkgd/train/images/global_birds_palmyra_CooperStrawn_53m_tile_clip_projected_884_patch_0.0_760.0_640_640.jpg', '/gpfs/gibbs/project/jetz/eec42/data/pe_palmyra_10percentbkgd/train/images/global_birds_palmyra_CooperStrawn_53m_tile_clip_projected_579_patch_760.0_0.0_640_640.jpg']\n",
      "selected_batch []\n",
      "selected_batch []\n",
      "selected_batch []\n",
      "key: batch_idx, tensor([0., 0., 0., 0., 1., 2., 2., 2., 4., 5., 6., 7.])\n",
      "annotations_mask [False, False, False, False, False, False, False, False, False, False, False, False]\n"
     ]
    },
    {
     "name": "stderr",
     "output_type": "stream",
     "text": [
      "        1/2      3.66G      6.461      17.68      4.184     0.6622         36        640:  13%|█▎        | 32/238 [00:04<00:24,  8.46it/s]"
     ]
    },
    {
     "name": "stdout",
     "output_type": "stream",
     "text": [
      "batch ['/gpfs/gibbs/project/jetz/eec42/data/pe_palmyra_10percentbkgd/train/images/global_birds_penguins_offshore_rocks_cape_wallace_survey_4_2415_patch_0.0_0.0_480_480.jpg', '/gpfs/gibbs/project/jetz/eec42/data/pe_palmyra_10percentbkgd/train/images/global_birds_penguins_offshore_rocks_cape_wallace_survey_4_1562_patch_0.0_0.0_480_480.jpg', '/gpfs/gibbs/project/jetz/eec42/data/pe_palmyra_10percentbkgd/train/images/global_birds_palmyra_CooperStrawn_53m_tile_clip_projected_801_patch_0.0_0.0_640_640.jpg', '/gpfs/gibbs/project/jetz/eec42/data/pe_palmyra_10percentbkgd/train/images/global_birds_penguins_offshore_rocks_cape_wallace_survey_4_2269_patch_20.0_20.0_480_480.jpg', '/gpfs/gibbs/project/jetz/eec42/data/pe_palmyra_10percentbkgd/train/images/global_birds_penguins_offshore_rocks_cape_wallace_survey_4_1360_patch_20.0_20.0_480_480.jpg', '/gpfs/gibbs/project/jetz/eec42/data/pe_palmyra_10percentbkgd/train/images/global_birds_penguins_offshore_rocks_cape_wallace_survey_4_2007_patch_0.0_20.0_480_480.jpg', '/gpfs/gibbs/project/jetz/eec42/data/pe_palmyra_10percentbkgd/train/images/global_birds_palmyra_CooperStrawn_53m_tile_clip_projected_911_patch_760.0_760.0_640_640.jpg', '/gpfs/gibbs/project/jetz/eec42/data/pe_palmyra_10percentbkgd/train/images/global_birds_palmyra_CooperStrawn_53m_tile_clip_projected_614_patch_0.0_380.0_640_640.jpg']\n",
      "selected_batch ['/gpfs/gibbs/project/jetz/eec42/data/pe_palmyra_10percentbkgd/train/images/global_birds_penguins_offshore_rocks_cape_wallace_survey_4_2415_patch_0.0_0.0_480_480.jpg', '/gpfs/gibbs/project/jetz/eec42/data/pe_palmyra_10percentbkgd/train/images/global_birds_penguins_offshore_rocks_cape_wallace_survey_4_1562_patch_0.0_0.0_480_480.jpg', '/gpfs/gibbs/project/jetz/eec42/data/pe_palmyra_10percentbkgd/train/images/global_birds_penguins_offshore_rocks_cape_wallace_survey_4_2269_patch_20.0_20.0_480_480.jpg', '/gpfs/gibbs/project/jetz/eec42/data/pe_palmyra_10percentbkgd/train/images/global_birds_penguins_offshore_rocks_cape_wallace_survey_4_1360_patch_20.0_20.0_480_480.jpg', '/gpfs/gibbs/project/jetz/eec42/data/pe_palmyra_10percentbkgd/train/images/global_birds_penguins_offshore_rocks_cape_wallace_survey_4_2007_patch_0.0_20.0_480_480.jpg']\n",
      "selected_batch ['/gpfs/gibbs/project/jetz/eec42/data/pe_palmyra_10percentbkgd/train/images/global_birds_penguins_offshore_rocks_cape_wallace_survey_4_2415_patch_0.0_0.0_480_480.jpg', '/gpfs/gibbs/project/jetz/eec42/data/pe_palmyra_10percentbkgd/train/images/global_birds_penguins_offshore_rocks_cape_wallace_survey_4_1562_patch_0.0_0.0_480_480.jpg', '/gpfs/gibbs/project/jetz/eec42/data/pe_palmyra_10percentbkgd/train/images/global_birds_penguins_offshore_rocks_cape_wallace_survey_4_2269_patch_20.0_20.0_480_480.jpg', '/gpfs/gibbs/project/jetz/eec42/data/pe_palmyra_10percentbkgd/train/images/global_birds_penguins_offshore_rocks_cape_wallace_survey_4_1360_patch_20.0_20.0_480_480.jpg', '/gpfs/gibbs/project/jetz/eec42/data/pe_palmyra_10percentbkgd/train/images/global_birds_penguins_offshore_rocks_cape_wallace_survey_4_2007_patch_0.0_20.0_480_480.jpg']\n",
      "selected_batch ['/gpfs/gibbs/project/jetz/eec42/data/pe_palmyra_10percentbkgd/train/images/global_birds_penguins_offshore_rocks_cape_wallace_survey_4_2415_patch_0.0_0.0_480_480.jpg', '/gpfs/gibbs/project/jetz/eec42/data/pe_palmyra_10percentbkgd/train/images/global_birds_penguins_offshore_rocks_cape_wallace_survey_4_1562_patch_0.0_0.0_480_480.jpg', '/gpfs/gibbs/project/jetz/eec42/data/pe_palmyra_10percentbkgd/train/images/global_birds_penguins_offshore_rocks_cape_wallace_survey_4_2269_patch_20.0_20.0_480_480.jpg', '/gpfs/gibbs/project/jetz/eec42/data/pe_palmyra_10percentbkgd/train/images/global_birds_penguins_offshore_rocks_cape_wallace_survey_4_1360_patch_20.0_20.0_480_480.jpg', '/gpfs/gibbs/project/jetz/eec42/data/pe_palmyra_10percentbkgd/train/images/global_birds_penguins_offshore_rocks_cape_wallace_survey_4_2007_patch_0.0_20.0_480_480.jpg']\n",
      "key: batch_idx, tensor([0., 0., 0., 0., 1., 2., 3., 3., 3., 3., 3., 3., 3., 3., 3., 3., 3., 3., 3., 3., 3., 3., 3., 3., 3., 3., 4., 4., 4., 4., 5., 5., 5., 5., 5., 5.])\n",
      "annotations_mask [True, True, True, True, True, False, True, True, True, True, True, True, True, True, True, True, True, True, True, True, True, True, True, True, True, True, True, True, True, True, True, True, True, True, True, True]\n",
      "batch ['/gpfs/gibbs/project/jetz/eec42/data/pe_palmyra_10percentbkgd/train/images/global_birds_penguins_offshore_rocks_cape_wallace_survey_4_1761_patch_0.0_20.0_480_480.jpg', '/gpfs/gibbs/project/jetz/eec42/data/pe_palmyra_10percentbkgd/train/images/global_birds_penguins_offshore_rocks_cape_wallace_survey_4_2421_patch_0.0_20.0_480_480.jpg', '/gpfs/gibbs/project/jetz/eec42/data/pe_palmyra_10percentbkgd/train/images/global_birds_palmyra_CooperStrawn_53m_tile_clip_projected_1018_patch_380.0_0.0_640_640.jpg', '/gpfs/gibbs/project/jetz/eec42/data/pe_palmyra_10percentbkgd/train/images/global_birds_penguins_offshore_rocks_cape_wallace_survey_4_777_patch_0.0_20.0_480_480.jpg', '/gpfs/gibbs/project/jetz/eec42/data/pe_palmyra_10percentbkgd/train/images/global_birds_penguins_offshore_rocks_cape_wallace_survey_4_2487_patch_20.0_20.0_480_480.jpg', '/gpfs/gibbs/project/jetz/eec42/data/pe_palmyra_10percentbkgd/train/images/global_birds_palmyra_CooperStrawn_53m_tile_clip_projected_706_patch_760.0_760.0_640_640.jpg', '/gpfs/gibbs/project/jetz/eec42/data/pe_palmyra_10percentbkgd/train/images/global_birds_palmyra_CooperStrawn_53m_tile_clip_projected_991_patch_380.0_380.0_640_640.jpg', '/gpfs/gibbs/project/jetz/eec42/data/pe_palmyra_10percentbkgd/train/images/global_birds_penguins_offshore_rocks_cape_wallace_survey_4_1758_patch_20.0_20.0_480_480.jpg']\n",
      "selected_batch ['/gpfs/gibbs/project/jetz/eec42/data/pe_palmyra_10percentbkgd/train/images/global_birds_penguins_offshore_rocks_cape_wallace_survey_4_1761_patch_0.0_20.0_480_480.jpg', '/gpfs/gibbs/project/jetz/eec42/data/pe_palmyra_10percentbkgd/train/images/global_birds_penguins_offshore_rocks_cape_wallace_survey_4_2421_patch_0.0_20.0_480_480.jpg', '/gpfs/gibbs/project/jetz/eec42/data/pe_palmyra_10percentbkgd/train/images/global_birds_penguins_offshore_rocks_cape_wallace_survey_4_777_patch_0.0_20.0_480_480.jpg', '/gpfs/gibbs/project/jetz/eec42/data/pe_palmyra_10percentbkgd/train/images/global_birds_penguins_offshore_rocks_cape_wallace_survey_4_2487_patch_20.0_20.0_480_480.jpg', '/gpfs/gibbs/project/jetz/eec42/data/pe_palmyra_10percentbkgd/train/images/global_birds_penguins_offshore_rocks_cape_wallace_survey_4_1758_patch_20.0_20.0_480_480.jpg']\n",
      "selected_batch ['/gpfs/gibbs/project/jetz/eec42/data/pe_palmyra_10percentbkgd/train/images/global_birds_penguins_offshore_rocks_cape_wallace_survey_4_1761_patch_0.0_20.0_480_480.jpg', '/gpfs/gibbs/project/jetz/eec42/data/pe_palmyra_10percentbkgd/train/images/global_birds_penguins_offshore_rocks_cape_wallace_survey_4_2421_patch_0.0_20.0_480_480.jpg', '/gpfs/gibbs/project/jetz/eec42/data/pe_palmyra_10percentbkgd/train/images/global_birds_penguins_offshore_rocks_cape_wallace_survey_4_777_patch_0.0_20.0_480_480.jpg', '/gpfs/gibbs/project/jetz/eec42/data/pe_palmyra_10percentbkgd/train/images/global_birds_penguins_offshore_rocks_cape_wallace_survey_4_2487_patch_20.0_20.0_480_480.jpg', '/gpfs/gibbs/project/jetz/eec42/data/pe_palmyra_10percentbkgd/train/images/global_birds_penguins_offshore_rocks_cape_wallace_survey_4_1758_patch_20.0_20.0_480_480.jpg']\n",
      "selected_batch ['/gpfs/gibbs/project/jetz/eec42/data/pe_palmyra_10percentbkgd/train/images/global_birds_penguins_offshore_rocks_cape_wallace_survey_4_1761_patch_0.0_20.0_480_480.jpg', '/gpfs/gibbs/project/jetz/eec42/data/pe_palmyra_10percentbkgd/train/images/global_birds_penguins_offshore_rocks_cape_wallace_survey_4_2421_patch_0.0_20.0_480_480.jpg', '/gpfs/gibbs/project/jetz/eec42/data/pe_palmyra_10percentbkgd/train/images/global_birds_penguins_offshore_rocks_cape_wallace_survey_4_777_patch_0.0_20.0_480_480.jpg', '/gpfs/gibbs/project/jetz/eec42/data/pe_palmyra_10percentbkgd/train/images/global_birds_penguins_offshore_rocks_cape_wallace_survey_4_2487_patch_20.0_20.0_480_480.jpg', '/gpfs/gibbs/project/jetz/eec42/data/pe_palmyra_10percentbkgd/train/images/global_birds_penguins_offshore_rocks_cape_wallace_survey_4_1758_patch_20.0_20.0_480_480.jpg']\n",
      "key: batch_idx, tensor([0., 1., 1., 1., 1., 1., 1., 2., 3., 4., 6., 7.])\n",
      "annotations_mask [True, True, True, True, True, True, True, False, True, True, False, True]\n"
     ]
    },
    {
     "name": "stderr",
     "output_type": "stream",
     "text": [
      "        1/2      3.66G      6.438      17.39      4.177     0.6757         36        640:  14%|█▍        | 34/238 [00:04<00:24,  8.41it/s]"
     ]
    },
    {
     "name": "stdout",
     "output_type": "stream",
     "text": [
      "batch ['/gpfs/gibbs/project/jetz/eec42/data/pe_palmyra_10percentbkgd/train/images/global_birds_penguins_offshore_rocks_cape_wallace_survey_4_2005_patch_20.0_0.0_480_480.jpg', '/gpfs/gibbs/project/jetz/eec42/data/pe_palmyra_10percentbkgd/train/images/global_birds_palmyra_CooperStrawn_53m_tile_clip_projected_738_patch_380.0_0.0_640_640.jpg', '/gpfs/gibbs/project/jetz/eec42/data/pe_palmyra_10percentbkgd/train/images/global_birds_palmyra_CooperStrawn_53m_tile_clip_projected_483_patch_0.0_380.0_640_640.jpg', '/gpfs/gibbs/project/jetz/eec42/data/pe_palmyra_10percentbkgd/train/images/global_birds_palmyra_CooperStrawn_53m_tile_clip_projected_412_patch_760.0_0.0_640_640.jpg', '/gpfs/gibbs/project/jetz/eec42/data/pe_palmyra_10percentbkgd/train/images/global_birds_palmyra_CooperStrawn_53m_tile_clip_projected_474_patch_380.0_760.0_640_640.jpg', '/gpfs/gibbs/project/jetz/eec42/data/pe_palmyra_10percentbkgd/train/images/global_birds_penguins_offshore_rocks_cape_wallace_survey_4_768_patch_20.0_0.0_480_480.jpg', '/gpfs/gibbs/project/jetz/eec42/data/pe_palmyra_10percentbkgd/train/images/global_birds_penguins_offshore_rocks_cape_wallace_survey_4_824_patch_20.0_0.0_480_480.jpg', '/gpfs/gibbs/project/jetz/eec42/data/pe_palmyra_10percentbkgd/train/images/global_birds_palmyra_CooperStrawn_53m_tile_clip_projected_922_patch_380.0_380.0_640_640.jpg']\n",
      "selected_batch ['/gpfs/gibbs/project/jetz/eec42/data/pe_palmyra_10percentbkgd/train/images/global_birds_penguins_offshore_rocks_cape_wallace_survey_4_2005_patch_20.0_0.0_480_480.jpg', '/gpfs/gibbs/project/jetz/eec42/data/pe_palmyra_10percentbkgd/train/images/global_birds_penguins_offshore_rocks_cape_wallace_survey_4_768_patch_20.0_0.0_480_480.jpg', '/gpfs/gibbs/project/jetz/eec42/data/pe_palmyra_10percentbkgd/train/images/global_birds_penguins_offshore_rocks_cape_wallace_survey_4_824_patch_20.0_0.0_480_480.jpg']\n",
      "selected_batch ['/gpfs/gibbs/project/jetz/eec42/data/pe_palmyra_10percentbkgd/train/images/global_birds_penguins_offshore_rocks_cape_wallace_survey_4_2005_patch_20.0_0.0_480_480.jpg', '/gpfs/gibbs/project/jetz/eec42/data/pe_palmyra_10percentbkgd/train/images/global_birds_penguins_offshore_rocks_cape_wallace_survey_4_768_patch_20.0_0.0_480_480.jpg', '/gpfs/gibbs/project/jetz/eec42/data/pe_palmyra_10percentbkgd/train/images/global_birds_penguins_offshore_rocks_cape_wallace_survey_4_824_patch_20.0_0.0_480_480.jpg']\n",
      "selected_batch ['/gpfs/gibbs/project/jetz/eec42/data/pe_palmyra_10percentbkgd/train/images/global_birds_penguins_offshore_rocks_cape_wallace_survey_4_2005_patch_20.0_0.0_480_480.jpg', '/gpfs/gibbs/project/jetz/eec42/data/pe_palmyra_10percentbkgd/train/images/global_birds_penguins_offshore_rocks_cape_wallace_survey_4_768_patch_20.0_0.0_480_480.jpg', '/gpfs/gibbs/project/jetz/eec42/data/pe_palmyra_10percentbkgd/train/images/global_birds_penguins_offshore_rocks_cape_wallace_survey_4_824_patch_20.0_0.0_480_480.jpg']\n",
      "key: batch_idx, tensor([1., 2., 3., 5., 5., 5., 5., 5., 5., 5., 5., 5., 5., 5., 5., 5., 5., 5., 5., 5., 5., 5., 5., 5., 5., 5., 5., 5., 5., 5., 5., 5., 5., 5., 6., 7.])\n",
      "annotations_mask [False, False, False, True, True, True, True, True, True, True, True, True, True, True, True, True, True, True, True, True, True, True, True, True, True, True, True, True, True, True, True, True, True, True, True, False]\n",
      "batch ['/gpfs/gibbs/project/jetz/eec42/data/pe_palmyra_10percentbkgd/train/images/global_birds_palmyra_CooperStrawn_53m_tile_clip_projected_848_patch_760.0_760.0_640_640.jpg', '/gpfs/gibbs/project/jetz/eec42/data/pe_palmyra_10percentbkgd/train/images/global_birds_palmyra_CooperStrawn_53m_tile_clip_projected_856_patch_380.0_0.0_640_640.jpg', '/gpfs/gibbs/project/jetz/eec42/data/pe_palmyra_10percentbkgd/train/images/global_birds_palmyra_CooperStrawn_53m_tile_clip_projected_540_patch_380.0_0.0_640_640.jpg', '/gpfs/gibbs/project/jetz/eec42/data/pe_palmyra_10percentbkgd/train/images/global_birds_penguins_offshore_rocks_cape_wallace_survey_4_891_patch_0.0_0.0_480_480.jpg', '/gpfs/gibbs/project/jetz/eec42/data/pe_palmyra_10percentbkgd/train/images/global_birds_palmyra_CooperStrawn_53m_tile_clip_projected_475_patch_760.0_760.0_640_640.jpg', '/gpfs/gibbs/project/jetz/eec42/data/pe_palmyra_10percentbkgd/train/images/global_birds_palmyra_CooperStrawn_53m_tile_clip_projected_739_patch_0.0_380.0_640_640.jpg', '/gpfs/gibbs/project/jetz/eec42/data/pe_palmyra_10percentbkgd/train/images/global_birds_penguins_offshore_rocks_cape_wallace_survey_4_958_patch_0.0_0.0_480_480.jpg', '/gpfs/gibbs/project/jetz/eec42/data/pe_palmyra_10percentbkgd/train/images/global_birds_penguins_offshore_rocks_cape_wallace_survey_4_3251_patch_20.0_20.0_480_480.jpg']\n",
      "selected_batch ['/gpfs/gibbs/project/jetz/eec42/data/pe_palmyra_10percentbkgd/train/images/global_birds_penguins_offshore_rocks_cape_wallace_survey_4_891_patch_0.0_0.0_480_480.jpg', '/gpfs/gibbs/project/jetz/eec42/data/pe_palmyra_10percentbkgd/train/images/global_birds_penguins_offshore_rocks_cape_wallace_survey_4_958_patch_0.0_0.0_480_480.jpg', '/gpfs/gibbs/project/jetz/eec42/data/pe_palmyra_10percentbkgd/train/images/global_birds_penguins_offshore_rocks_cape_wallace_survey_4_3251_patch_20.0_20.0_480_480.jpg']\n",
      "selected_batch ['/gpfs/gibbs/project/jetz/eec42/data/pe_palmyra_10percentbkgd/train/images/global_birds_penguins_offshore_rocks_cape_wallace_survey_4_891_patch_0.0_0.0_480_480.jpg', '/gpfs/gibbs/project/jetz/eec42/data/pe_palmyra_10percentbkgd/train/images/global_birds_penguins_offshore_rocks_cape_wallace_survey_4_958_patch_0.0_0.0_480_480.jpg', '/gpfs/gibbs/project/jetz/eec42/data/pe_palmyra_10percentbkgd/train/images/global_birds_penguins_offshore_rocks_cape_wallace_survey_4_3251_patch_20.0_20.0_480_480.jpg']\n",
      "selected_batch ['/gpfs/gibbs/project/jetz/eec42/data/pe_palmyra_10percentbkgd/train/images/global_birds_penguins_offshore_rocks_cape_wallace_survey_4_891_patch_0.0_0.0_480_480.jpg', '/gpfs/gibbs/project/jetz/eec42/data/pe_palmyra_10percentbkgd/train/images/global_birds_penguins_offshore_rocks_cape_wallace_survey_4_958_patch_0.0_0.0_480_480.jpg', '/gpfs/gibbs/project/jetz/eec42/data/pe_palmyra_10percentbkgd/train/images/global_birds_penguins_offshore_rocks_cape_wallace_survey_4_3251_patch_20.0_20.0_480_480.jpg']\n",
      "key: batch_idx, tensor([0., 0., 0., 0., 0., 0., 0., 0., 0., 0., 0., 0., 0., 0., 0., 0., 0., 0., 0., 0., 0., 0., 0., 0., 0., 0., 0., 1., 3., 3., 3., 3., 3., 3., 3., 3., 3., 3., 3., 3., 3., 3., 3., 4., 5., 6., 6., 6., 6., 7.])\n",
      "annotations_mask [False, False, False, False, False, False, False, False, False, False, False, False, False, False, False, False, False, False, False, False, False, False, False, False, False, False, False, False, True, True, True, True, True, True, True, True, True, True, True, True, True, True, True, False, False, True, True, True, True, True]\n"
     ]
    },
    {
     "name": "stderr",
     "output_type": "stream",
     "text": [
      "        1/2      3.66G      6.388         17      4.165     0.6798         50        640:  15%|█▍        | 35/238 [00:04<00:24,  8.41it/s]"
     ]
    },
    {
     "name": "stdout",
     "output_type": "stream",
     "text": [
      "batch ['/gpfs/gibbs/project/jetz/eec42/data/pe_palmyra_10percentbkgd/train/images/global_birds_penguins_offshore_rocks_cape_wallace_survey_4_889_patch_20.0_20.0_480_480.jpg', '/gpfs/gibbs/project/jetz/eec42/data/pe_palmyra_10percentbkgd/train/images/global_birds_palmyra_CooperStrawn_53m_tile_clip_projected_1112_patch_380.0_380.0_640_640.jpg', '/gpfs/gibbs/project/jetz/eec42/data/pe_palmyra_10percentbkgd/train/images/global_birds_palmyra_CooperStrawn_53m_tile_clip_projected_73_patch_760.0_0.0_640_640.jpg', '/gpfs/gibbs/project/jetz/eec42/data/pe_palmyra_10percentbkgd/train/images/global_birds_penguins_offshore_rocks_cape_wallace_survey_4_1892_patch_0.0_0.0_480_480.jpg', '/gpfs/gibbs/project/jetz/eec42/data/pe_palmyra_10percentbkgd/train/images/global_birds_palmyra_CooperStrawn_53m_tile_clip_projected_982_patch_380.0_0.0_640_640.jpg', '/gpfs/gibbs/project/jetz/eec42/data/pe_palmyra_10percentbkgd/train/images/global_birds_palmyra_CooperStrawn_53m_tile_clip_projected_954_patch_0.0_0.0_640_640.jpg', '/gpfs/gibbs/project/jetz/eec42/data/pe_palmyra_10percentbkgd/train/images/global_birds_palmyra_CooperStrawn_53m_tile_clip_projected_798_patch_760.0_380.0_640_640.jpg', '/gpfs/gibbs/project/jetz/eec42/data/pe_palmyra_10percentbkgd/train/images/global_birds_palmyra_CooperStrawn_53m_tile_clip_projected_866_patch_760.0_0.0_640_640.jpg']\n",
      "selected_batch ['/gpfs/gibbs/project/jetz/eec42/data/pe_palmyra_10percentbkgd/train/images/global_birds_penguins_offshore_rocks_cape_wallace_survey_4_889_patch_20.0_20.0_480_480.jpg', '/gpfs/gibbs/project/jetz/eec42/data/pe_palmyra_10percentbkgd/train/images/global_birds_penguins_offshore_rocks_cape_wallace_survey_4_1892_patch_0.0_0.0_480_480.jpg']\n",
      "selected_batch ['/gpfs/gibbs/project/jetz/eec42/data/pe_palmyra_10percentbkgd/train/images/global_birds_penguins_offshore_rocks_cape_wallace_survey_4_889_patch_20.0_20.0_480_480.jpg', '/gpfs/gibbs/project/jetz/eec42/data/pe_palmyra_10percentbkgd/train/images/global_birds_penguins_offshore_rocks_cape_wallace_survey_4_1892_patch_0.0_0.0_480_480.jpg']\n",
      "selected_batch ['/gpfs/gibbs/project/jetz/eec42/data/pe_palmyra_10percentbkgd/train/images/global_birds_penguins_offshore_rocks_cape_wallace_survey_4_889_patch_20.0_20.0_480_480.jpg', '/gpfs/gibbs/project/jetz/eec42/data/pe_palmyra_10percentbkgd/train/images/global_birds_penguins_offshore_rocks_cape_wallace_survey_4_1892_patch_0.0_0.0_480_480.jpg']\n",
      "key: batch_idx, tensor([0., 0., 0., 0., 0., 0., 0., 0., 0., 0., 0., 0., 0., 0., 0., 0., 0., 0., 0., 0., 0., 0., 0., 0., 0., 0., 1., 3., 4., 5., 6., 7.])\n",
      "annotations_mask [True, True, True, True, True, True, True, True, True, True, True, True, True, True, True, True, True, True, True, True, True, True, True, True, True, True, False, True, False, False, False, False]\n"
     ]
    },
    {
     "name": "stderr",
     "output_type": "stream",
     "text": [
      "        1/2      3.66G      6.318      16.35      4.186      0.688         25        640:  16%|█▌        | 37/238 [00:05<00:30,  6.60it/s]"
     ]
    },
    {
     "name": "stdout",
     "output_type": "stream",
     "text": [
      "batch ['/gpfs/gibbs/project/jetz/eec42/data/pe_palmyra_10percentbkgd/train/images/global_birds_penguins_offshore_rocks_cape_wallace_survey_4_2488_patch_20.0_20.0_480_480.jpg', '/gpfs/gibbs/project/jetz/eec42/data/pe_palmyra_10percentbkgd/train/images/global_birds_penguins_offshore_rocks_cape_wallace_survey_4_2087_patch_20.0_0.0_480_480.jpg', '/gpfs/gibbs/project/jetz/eec42/data/pe_palmyra_10percentbkgd/train/images/global_birds_palmyra_CooperStrawn_53m_tile_clip_projected_845_patch_380.0_380.0_640_640.jpg', '/gpfs/gibbs/project/jetz/eec42/data/pe_palmyra_10percentbkgd/train/images/global_birds_palmyra_CooperStrawn_53m_tile_clip_projected_1006_patch_0.0_380.0_640_640.jpg', '/gpfs/gibbs/project/jetz/eec42/data/pe_palmyra_10percentbkgd/train/images/global_birds_penguins_offshore_rocks_cape_wallace_survey_4_891_patch_0.0_20.0_480_480.jpg', '/gpfs/gibbs/project/jetz/eec42/data/pe_palmyra_10percentbkgd/train/images/global_birds_penguins_offshore_rocks_cape_wallace_survey_4_1826_patch_0.0_0.0_480_480.jpg', '/gpfs/gibbs/project/jetz/eec42/data/pe_palmyra_10percentbkgd/train/images/global_birds_palmyra_CooperStrawn_53m_tile_clip_projected_706_patch_0.0_0.0_640_640.jpg', '/gpfs/gibbs/project/jetz/eec42/data/pe_palmyra_10percentbkgd/train/images/global_birds_palmyra_CooperStrawn_53m_tile_clip_projected_926_patch_760.0_0.0_640_640.jpg']\n",
      "selected_batch ['/gpfs/gibbs/project/jetz/eec42/data/pe_palmyra_10percentbkgd/train/images/global_birds_penguins_offshore_rocks_cape_wallace_survey_4_2488_patch_20.0_20.0_480_480.jpg', '/gpfs/gibbs/project/jetz/eec42/data/pe_palmyra_10percentbkgd/train/images/global_birds_penguins_offshore_rocks_cape_wallace_survey_4_2087_patch_20.0_0.0_480_480.jpg', '/gpfs/gibbs/project/jetz/eec42/data/pe_palmyra_10percentbkgd/train/images/global_birds_penguins_offshore_rocks_cape_wallace_survey_4_891_patch_0.0_20.0_480_480.jpg', '/gpfs/gibbs/project/jetz/eec42/data/pe_palmyra_10percentbkgd/train/images/global_birds_penguins_offshore_rocks_cape_wallace_survey_4_1826_patch_0.0_0.0_480_480.jpg']\n",
      "selected_batch ['/gpfs/gibbs/project/jetz/eec42/data/pe_palmyra_10percentbkgd/train/images/global_birds_penguins_offshore_rocks_cape_wallace_survey_4_2488_patch_20.0_20.0_480_480.jpg', '/gpfs/gibbs/project/jetz/eec42/data/pe_palmyra_10percentbkgd/train/images/global_birds_penguins_offshore_rocks_cape_wallace_survey_4_2087_patch_20.0_0.0_480_480.jpg', '/gpfs/gibbs/project/jetz/eec42/data/pe_palmyra_10percentbkgd/train/images/global_birds_penguins_offshore_rocks_cape_wallace_survey_4_891_patch_0.0_20.0_480_480.jpg', '/gpfs/gibbs/project/jetz/eec42/data/pe_palmyra_10percentbkgd/train/images/global_birds_penguins_offshore_rocks_cape_wallace_survey_4_1826_patch_0.0_0.0_480_480.jpg']\n",
      "selected_batch ['/gpfs/gibbs/project/jetz/eec42/data/pe_palmyra_10percentbkgd/train/images/global_birds_penguins_offshore_rocks_cape_wallace_survey_4_2488_patch_20.0_20.0_480_480.jpg', '/gpfs/gibbs/project/jetz/eec42/data/pe_palmyra_10percentbkgd/train/images/global_birds_penguins_offshore_rocks_cape_wallace_survey_4_2087_patch_20.0_0.0_480_480.jpg', '/gpfs/gibbs/project/jetz/eec42/data/pe_palmyra_10percentbkgd/train/images/global_birds_penguins_offshore_rocks_cape_wallace_survey_4_891_patch_0.0_20.0_480_480.jpg', '/gpfs/gibbs/project/jetz/eec42/data/pe_palmyra_10percentbkgd/train/images/global_birds_penguins_offshore_rocks_cape_wallace_survey_4_1826_patch_0.0_0.0_480_480.jpg']\n",
      "key: batch_idx, tensor([0., 2., 3., 3., 4., 4., 4., 4., 4., 4., 4., 4., 4., 4., 4., 4., 4., 5., 5., 5., 5., 5., 5., 6., 7.])\n",
      "annotations_mask [True, False, False, False, True, True, True, True, True, True, True, True, True, True, True, True, True, True, True, True, True, True, True, False, False]\n",
      "batch ['/gpfs/gibbs/project/jetz/eec42/data/pe_palmyra_10percentbkgd/train/images/global_birds_palmyra_CooperStrawn_53m_tile_clip_projected_880_patch_380.0_760.0_640_640.jpg', '/gpfs/gibbs/project/jetz/eec42/data/pe_palmyra_10percentbkgd/train/images/global_birds_palmyra_CooperStrawn_53m_tile_clip_projected_942_patch_380.0_760.0_640_640.jpg', '/gpfs/gibbs/project/jetz/eec42/data/pe_palmyra_10percentbkgd/train/images/global_birds_penguins_offshore_rocks_cape_wallace_survey_4_1892_patch_0.0_20.0_480_480.jpg', '/gpfs/gibbs/project/jetz/eec42/data/pe_palmyra_10percentbkgd/train/images/global_birds_palmyra_CooperStrawn_53m_tile_clip_projected_914_patch_0.0_760.0_640_640.jpg', '/gpfs/gibbs/project/jetz/eec42/data/pe_palmyra_10percentbkgd/train/images/global_birds_palmyra_CooperStrawn_53m_tile_clip_projected_946_patch_0.0_760.0_640_640.jpg', '/gpfs/gibbs/project/jetz/eec42/data/pe_palmyra_10percentbkgd/train/images/global_birds_penguins_offshore_rocks_cape_wallace_survey_4_1489_patch_0.0_20.0_480_480.jpg', '/gpfs/gibbs/project/jetz/eec42/data/pe_palmyra_10percentbkgd/train/images/global_birds_palmyra_CooperStrawn_53m_tile_clip_projected_856_patch_380.0_380.0_640_640.jpg', '/gpfs/gibbs/project/jetz/eec42/data/pe_palmyra_10percentbkgd/train/images/global_birds_palmyra_CooperStrawn_53m_tile_clip_projected_692_patch_0.0_380.0_640_640.jpg']\n",
      "selected_batch ['/gpfs/gibbs/project/jetz/eec42/data/pe_palmyra_10percentbkgd/train/images/global_birds_penguins_offshore_rocks_cape_wallace_survey_4_1892_patch_0.0_20.0_480_480.jpg', '/gpfs/gibbs/project/jetz/eec42/data/pe_palmyra_10percentbkgd/train/images/global_birds_penguins_offshore_rocks_cape_wallace_survey_4_1489_patch_0.0_20.0_480_480.jpg']\n",
      "selected_batch ['/gpfs/gibbs/project/jetz/eec42/data/pe_palmyra_10percentbkgd/train/images/global_birds_penguins_offshore_rocks_cape_wallace_survey_4_1892_patch_0.0_20.0_480_480.jpg', '/gpfs/gibbs/project/jetz/eec42/data/pe_palmyra_10percentbkgd/train/images/global_birds_penguins_offshore_rocks_cape_wallace_survey_4_1489_patch_0.0_20.0_480_480.jpg']\n",
      "selected_batch ['/gpfs/gibbs/project/jetz/eec42/data/pe_palmyra_10percentbkgd/train/images/global_birds_penguins_offshore_rocks_cape_wallace_survey_4_1892_patch_0.0_20.0_480_480.jpg', '/gpfs/gibbs/project/jetz/eec42/data/pe_palmyra_10percentbkgd/train/images/global_birds_penguins_offshore_rocks_cape_wallace_survey_4_1489_patch_0.0_20.0_480_480.jpg']\n",
      "key: batch_idx, tensor([0., 1., 2., 2., 2., 2., 2., 2., 2., 2., 3., 3., 4., 4., 4., 4., 4., 4., 4., 5., 5., 5., 5., 5., 5., 5., 5., 5., 5., 5., 5., 5., 5., 5., 5., 5., 5., 5., 5., 6., 7., 7.])\n",
      "annotations_mask [False, False, True, True, True, True, True, True, True, True, False, False, False, False, False, False, False, False, False, True, True, True, True, True, True, True, True, True, True, True, True, True, True, True, True, True, True, True, True, False, False, False]\n"
     ]
    },
    {
     "name": "stderr",
     "output_type": "stream",
     "text": [
      "        1/2      3.66G      6.236      15.74      4.186     0.6919         27        640:  16%|█▋        | 39/238 [00:05<00:26,  7.46it/s]"
     ]
    },
    {
     "name": "stdout",
     "output_type": "stream",
     "text": [
      "batch ['/gpfs/gibbs/project/jetz/eec42/data/pe_palmyra_10percentbkgd/train/images/global_birds_palmyra_CooperStrawn_53m_tile_clip_projected_1353_patch_0.0_760.0_640_640.jpg', '/gpfs/gibbs/project/jetz/eec42/data/pe_palmyra_10percentbkgd/train/images/global_birds_palmyra_CooperStrawn_53m_tile_clip_projected_754_patch_0.0_380.0_640_640.jpg', '/gpfs/gibbs/project/jetz/eec42/data/pe_palmyra_10percentbkgd/train/images/global_birds_penguins_offshore_rocks_cape_wallace_survey_4_2006_patch_0.0_20.0_480_480.jpg', '/gpfs/gibbs/project/jetz/eec42/data/pe_palmyra_10percentbkgd/train/images/global_birds_palmyra_CooperStrawn_53m_tile_clip_projected_951_patch_0.0_380.0_640_640.jpg', '/gpfs/gibbs/project/jetz/eec42/data/pe_palmyra_10percentbkgd/train/images/global_birds_palmyra_CooperStrawn_53m_tile_clip_projected_626_patch_760.0_380.0_640_640.jpg', '/gpfs/gibbs/project/jetz/eec42/data/pe_palmyra_10percentbkgd/train/images/global_birds_penguins_offshore_rocks_cape_wallace_survey_4_3189_patch_0.0_0.0_480_480.jpg', '/gpfs/gibbs/project/jetz/eec42/data/pe_palmyra_10percentbkgd/train/images/global_birds_palmyra_CooperStrawn_53m_tile_clip_projected_133_patch_380.0_380.0_640_640.jpg', '/gpfs/gibbs/project/jetz/eec42/data/pe_palmyra_10percentbkgd/train/images/global_birds_penguins_offshore_rocks_cape_wallace_survey_4_1947_patch_0.0_20.0_480_480.jpg']\n",
      "selected_batch ['/gpfs/gibbs/project/jetz/eec42/data/pe_palmyra_10percentbkgd/train/images/global_birds_penguins_offshore_rocks_cape_wallace_survey_4_2006_patch_0.0_20.0_480_480.jpg', '/gpfs/gibbs/project/jetz/eec42/data/pe_palmyra_10percentbkgd/train/images/global_birds_penguins_offshore_rocks_cape_wallace_survey_4_3189_patch_0.0_0.0_480_480.jpg', '/gpfs/gibbs/project/jetz/eec42/data/pe_palmyra_10percentbkgd/train/images/global_birds_penguins_offshore_rocks_cape_wallace_survey_4_1947_patch_0.0_20.0_480_480.jpg']\n",
      "selected_batch ['/gpfs/gibbs/project/jetz/eec42/data/pe_palmyra_10percentbkgd/train/images/global_birds_penguins_offshore_rocks_cape_wallace_survey_4_2006_patch_0.0_20.0_480_480.jpg', '/gpfs/gibbs/project/jetz/eec42/data/pe_palmyra_10percentbkgd/train/images/global_birds_penguins_offshore_rocks_cape_wallace_survey_4_3189_patch_0.0_0.0_480_480.jpg', '/gpfs/gibbs/project/jetz/eec42/data/pe_palmyra_10percentbkgd/train/images/global_birds_penguins_offshore_rocks_cape_wallace_survey_4_1947_patch_0.0_20.0_480_480.jpg']\n",
      "selected_batch ['/gpfs/gibbs/project/jetz/eec42/data/pe_palmyra_10percentbkgd/train/images/global_birds_penguins_offshore_rocks_cape_wallace_survey_4_2006_patch_0.0_20.0_480_480.jpg', '/gpfs/gibbs/project/jetz/eec42/data/pe_palmyra_10percentbkgd/train/images/global_birds_penguins_offshore_rocks_cape_wallace_survey_4_3189_patch_0.0_0.0_480_480.jpg', '/gpfs/gibbs/project/jetz/eec42/data/pe_palmyra_10percentbkgd/train/images/global_birds_penguins_offshore_rocks_cape_wallace_survey_4_1947_patch_0.0_20.0_480_480.jpg']\n",
      "key: batch_idx, tensor([2., 2., 2., 2., 2., 2., 3., 4., 4., 4., 4., 4., 4., 4., 4., 4., 4., 4., 4., 4., 5., 6., 7., 7., 7., 7., 7.])\n",
      "annotations_mask [True, True, True, True, True, True, False, False, False, False, False, False, False, False, False, False, False, False, False, False, True, False, True, True, True, True, True]\n",
      "batch ['/gpfs/gibbs/project/jetz/eec42/data/pe_palmyra_10percentbkgd/train/images/global_birds_palmyra_CooperStrawn_53m_tile_clip_projected_923_patch_0.0_0.0_640_640.jpg', '/gpfs/gibbs/project/jetz/eec42/data/pe_palmyra_10percentbkgd/train/images/global_birds_palmyra_CooperStrawn_53m_tile_clip_projected_446_patch_760.0_380.0_640_640.jpg', '/gpfs/gibbs/project/jetz/eec42/data/pe_palmyra_10percentbkgd/train/images/global_birds_penguins_offshore_rocks_cape_wallace_survey_4_1493_patch_20.0_0.0_480_480.jpg', '/gpfs/gibbs/project/jetz/eec42/data/pe_palmyra_10percentbkgd/train/images/global_birds_penguins_offshore_rocks_cape_wallace_survey_4_1170_patch_20.0_20.0_480_480.jpg', '/gpfs/gibbs/project/jetz/eec42/data/pe_palmyra_10percentbkgd/train/images/global_birds_palmyra_CooperStrawn_53m_tile_clip_projected_833_patch_0.0_380.0_640_640.jpg', '/gpfs/gibbs/project/jetz/eec42/data/pe_palmyra_10percentbkgd/train/images/global_birds_penguins_offshore_rocks_cape_wallace_survey_4_2418_patch_0.0_20.0_480_480.jpg', '/gpfs/gibbs/project/jetz/eec42/data/pe_palmyra_10percentbkgd/train/images/global_birds_palmyra_CooperStrawn_53m_tile_clip_projected_942_patch_760.0_760.0_640_640.jpg', '/gpfs/gibbs/project/jetz/eec42/data/pe_palmyra_10percentbkgd/train/images/global_birds_penguins_offshore_rocks_cape_wallace_survey_4_2279_patch_0.0_20.0_480_480.jpg']\n",
      "selected_batch ['/gpfs/gibbs/project/jetz/eec42/data/pe_palmyra_10percentbkgd/train/images/global_birds_penguins_offshore_rocks_cape_wallace_survey_4_1493_patch_20.0_0.0_480_480.jpg', '/gpfs/gibbs/project/jetz/eec42/data/pe_palmyra_10percentbkgd/train/images/global_birds_penguins_offshore_rocks_cape_wallace_survey_4_1170_patch_20.0_20.0_480_480.jpg', '/gpfs/gibbs/project/jetz/eec42/data/pe_palmyra_10percentbkgd/train/images/global_birds_penguins_offshore_rocks_cape_wallace_survey_4_2418_patch_0.0_20.0_480_480.jpg', '/gpfs/gibbs/project/jetz/eec42/data/pe_palmyra_10percentbkgd/train/images/global_birds_penguins_offshore_rocks_cape_wallace_survey_4_2279_patch_0.0_20.0_480_480.jpg']\n",
      "selected_batch ['/gpfs/gibbs/project/jetz/eec42/data/pe_palmyra_10percentbkgd/train/images/global_birds_penguins_offshore_rocks_cape_wallace_survey_4_1493_patch_20.0_0.0_480_480.jpg', '/gpfs/gibbs/project/jetz/eec42/data/pe_palmyra_10percentbkgd/train/images/global_birds_penguins_offshore_rocks_cape_wallace_survey_4_1170_patch_20.0_20.0_480_480.jpg', '/gpfs/gibbs/project/jetz/eec42/data/pe_palmyra_10percentbkgd/train/images/global_birds_penguins_offshore_rocks_cape_wallace_survey_4_2418_patch_0.0_20.0_480_480.jpg', '/gpfs/gibbs/project/jetz/eec42/data/pe_palmyra_10percentbkgd/train/images/global_birds_penguins_offshore_rocks_cape_wallace_survey_4_2279_patch_0.0_20.0_480_480.jpg']\n",
      "selected_batch ['/gpfs/gibbs/project/jetz/eec42/data/pe_palmyra_10percentbkgd/train/images/global_birds_penguins_offshore_rocks_cape_wallace_survey_4_1493_patch_20.0_0.0_480_480.jpg', '/gpfs/gibbs/project/jetz/eec42/data/pe_palmyra_10percentbkgd/train/images/global_birds_penguins_offshore_rocks_cape_wallace_survey_4_1170_patch_20.0_20.0_480_480.jpg', '/gpfs/gibbs/project/jetz/eec42/data/pe_palmyra_10percentbkgd/train/images/global_birds_penguins_offshore_rocks_cape_wallace_survey_4_2418_patch_0.0_20.0_480_480.jpg', '/gpfs/gibbs/project/jetz/eec42/data/pe_palmyra_10percentbkgd/train/images/global_birds_penguins_offshore_rocks_cape_wallace_survey_4_2279_patch_0.0_20.0_480_480.jpg']\n",
      "key: batch_idx, tensor([0., 1., 2., 2., 2., 2., 2., 2., 2., 2., 2., 2., 2., 2., 2., 2., 2., 2., 2., 2., 2., 2., 2., 2., 2., 2., 2., 2., 2., 2., 2., 2., 2., 2., 2., 2., 2., 2., 2., 2., 2., 3., 3., 3., 3., 3., 3., 3., 3., 3., 3., 3., 3., 3., 3., 3., 4., 4., 4., 5., 7.])\n",
      "annotations_mask [False, False, True, True, True, True, True, True, True, True, True, True, True, True, True, True, True, True, True, True, True, True, True, True, True, True, True, True, True, True, True, True, True, True, True, True, True, True, True, True, True, True, True, True, True, True, True, True, True, True, True, True, True, True, True, True, False, False, False, True, True]\n"
     ]
    },
    {
     "name": "stderr",
     "output_type": "stream",
     "text": [
      "        1/2      3.66G      6.198      15.17      4.184     0.6978         53        640:  17%|█▋        | 41/238 [00:05<00:24,  7.91it/s]"
     ]
    },
    {
     "name": "stdout",
     "output_type": "stream",
     "text": [
      "batch ['/gpfs/gibbs/project/jetz/eec42/data/pe_palmyra_10percentbkgd/train/images/global_birds_penguins_offshore_rocks_cape_wallace_survey_4_1425_patch_0.0_0.0_480_480.jpg', '/gpfs/gibbs/project/jetz/eec42/data/pe_palmyra_10percentbkgd/train/images/global_birds_palmyra_CooperStrawn_53m_tile_clip_projected_813_patch_0.0_760.0_640_640.jpg', '/gpfs/gibbs/project/jetz/eec42/data/pe_palmyra_10percentbkgd/train/images/global_birds_palmyra_CooperStrawn_53m_tile_clip_projected_831_patch_760.0_0.0_640_640.jpg', '/gpfs/gibbs/project/jetz/eec42/data/pe_palmyra_10percentbkgd/train/images/global_birds_palmyra_CooperStrawn_53m_tile_clip_projected_985_patch_0.0_760.0_640_640.jpg', '/gpfs/gibbs/project/jetz/eec42/data/pe_palmyra_10percentbkgd/train/images/global_birds_palmyra_CooperStrawn_53m_tile_clip_projected_725_patch_760.0_760.0_640_640.jpg', '/gpfs/gibbs/project/jetz/eec42/data/pe_palmyra_10percentbkgd/train/images/global_birds_penguins_offshore_rocks_cape_wallace_survey_4_2268_patch_0.0_0.0_480_480.jpg', '/gpfs/gibbs/project/jetz/eec42/data/pe_palmyra_10percentbkgd/train/images/global_birds_palmyra_CooperStrawn_53m_tile_clip_projected_740_patch_760.0_760.0_640_640.jpg', '/gpfs/gibbs/project/jetz/eec42/data/pe_palmyra_10percentbkgd/train/images/global_birds_palmyra_CooperStrawn_53m_tile_clip_projected_884_patch_760.0_760.0_640_640.jpg']\n",
      "selected_batch ['/gpfs/gibbs/project/jetz/eec42/data/pe_palmyra_10percentbkgd/train/images/global_birds_penguins_offshore_rocks_cape_wallace_survey_4_1425_patch_0.0_0.0_480_480.jpg', '/gpfs/gibbs/project/jetz/eec42/data/pe_palmyra_10percentbkgd/train/images/global_birds_penguins_offshore_rocks_cape_wallace_survey_4_2268_patch_0.0_0.0_480_480.jpg']\n",
      "selected_batch ['/gpfs/gibbs/project/jetz/eec42/data/pe_palmyra_10percentbkgd/train/images/global_birds_penguins_offshore_rocks_cape_wallace_survey_4_1425_patch_0.0_0.0_480_480.jpg', '/gpfs/gibbs/project/jetz/eec42/data/pe_palmyra_10percentbkgd/train/images/global_birds_penguins_offshore_rocks_cape_wallace_survey_4_2268_patch_0.0_0.0_480_480.jpg']\n",
      "selected_batch ['/gpfs/gibbs/project/jetz/eec42/data/pe_palmyra_10percentbkgd/train/images/global_birds_penguins_offshore_rocks_cape_wallace_survey_4_1425_patch_0.0_0.0_480_480.jpg', '/gpfs/gibbs/project/jetz/eec42/data/pe_palmyra_10percentbkgd/train/images/global_birds_penguins_offshore_rocks_cape_wallace_survey_4_2268_patch_0.0_0.0_480_480.jpg']\n",
      "key: batch_idx, tensor([0., 0., 0., 0., 0., 0., 0., 0., 0., 0., 0., 1., 2., 3., 4., 5., 5., 5., 5., 5., 5., 5., 5., 5., 5., 6., 7., 7., 7., 7., 7., 7., 7., 7., 7., 7., 7., 7., 7., 7., 7., 7., 7., 7., 7., 7., 7., 7., 7., 7., 7., 7., 7.])\n",
      "annotations_mask [True, True, True, True, True, True, True, True, True, True, True, False, False, False, False, True, True, True, True, True, True, True, True, True, True, False, False, False, False, False, False, False, False, False, False, False, False, False, False, False, False, False, False, False, False, False, False, False, False, False, False, False, False]\n",
      "batch ['/gpfs/gibbs/project/jetz/eec42/data/pe_palmyra_10percentbkgd/train/images/global_birds_palmyra_CooperStrawn_53m_tile_clip_projected_830_patch_0.0_0.0_640_640.jpg', '/gpfs/gibbs/project/jetz/eec42/data/pe_palmyra_10percentbkgd/train/images/global_birds_palmyra_CooperStrawn_53m_tile_clip_projected_740_patch_380.0_760.0_640_640.jpg', '/gpfs/gibbs/project/jetz/eec42/data/pe_palmyra_10percentbkgd/train/images/global_birds_palmyra_CooperStrawn_53m_tile_clip_projected_833_patch_0.0_0.0_640_640.jpg', '/gpfs/gibbs/project/jetz/eec42/data/pe_palmyra_10percentbkgd/train/images/global_birds_penguins_offshore_rocks_cape_wallace_survey_4_1491_patch_0.0_20.0_480_480.jpg', '/gpfs/gibbs/project/jetz/eec42/data/pe_palmyra_10percentbkgd/train/images/global_birds_palmyra_CooperStrawn_53m_tile_clip_projected_831_patch_760.0_760.0_640_640.jpg', '/gpfs/gibbs/project/jetz/eec42/data/pe_palmyra_10percentbkgd/train/images/global_birds_penguins_offshore_rocks_cape_wallace_survey_4_2421_patch_20.0_20.0_480_480.jpg', '/gpfs/gibbs/project/jetz/eec42/data/pe_palmyra_10percentbkgd/train/images/global_birds_penguins_offshore_rocks_cape_wallace_survey_4_3252_patch_20.0_0.0_480_480.jpg', '/gpfs/gibbs/project/jetz/eec42/data/pe_palmyra_10percentbkgd/train/images/global_birds_palmyra_CooperStrawn_53m_tile_clip_projected_132_patch_760.0_0.0_640_640.jpg']\n",
      "selected_batch ['/gpfs/gibbs/project/jetz/eec42/data/pe_palmyra_10percentbkgd/train/images/global_birds_penguins_offshore_rocks_cape_wallace_survey_4_1491_patch_0.0_20.0_480_480.jpg', '/gpfs/gibbs/project/jetz/eec42/data/pe_palmyra_10percentbkgd/train/images/global_birds_penguins_offshore_rocks_cape_wallace_survey_4_2421_patch_20.0_20.0_480_480.jpg', '/gpfs/gibbs/project/jetz/eec42/data/pe_palmyra_10percentbkgd/train/images/global_birds_penguins_offshore_rocks_cape_wallace_survey_4_3252_patch_20.0_0.0_480_480.jpg']\n",
      "selected_batch ['/gpfs/gibbs/project/jetz/eec42/data/pe_palmyra_10percentbkgd/train/images/global_birds_penguins_offshore_rocks_cape_wallace_survey_4_1491_patch_0.0_20.0_480_480.jpg', '/gpfs/gibbs/project/jetz/eec42/data/pe_palmyra_10percentbkgd/train/images/global_birds_penguins_offshore_rocks_cape_wallace_survey_4_2421_patch_20.0_20.0_480_480.jpg', '/gpfs/gibbs/project/jetz/eec42/data/pe_palmyra_10percentbkgd/train/images/global_birds_penguins_offshore_rocks_cape_wallace_survey_4_3252_patch_20.0_0.0_480_480.jpg']\n",
      "selected_batch ['/gpfs/gibbs/project/jetz/eec42/data/pe_palmyra_10percentbkgd/train/images/global_birds_penguins_offshore_rocks_cape_wallace_survey_4_1491_patch_0.0_20.0_480_480.jpg', '/gpfs/gibbs/project/jetz/eec42/data/pe_palmyra_10percentbkgd/train/images/global_birds_penguins_offshore_rocks_cape_wallace_survey_4_2421_patch_20.0_20.0_480_480.jpg', '/gpfs/gibbs/project/jetz/eec42/data/pe_palmyra_10percentbkgd/train/images/global_birds_penguins_offshore_rocks_cape_wallace_survey_4_3252_patch_20.0_0.0_480_480.jpg']\n",
      "key: batch_idx, tensor([0., 0., 1., 2., 2., 3., 4., 5., 5., 5., 5., 5., 5., 6., 6., 6., 6., 6., 6., 6., 6., 6., 6., 6., 6., 6., 7., 7.])\n",
      "annotations_mask [False, False, False, False, False, True, False, True, True, True, True, True, True, True, True, True, True, True, True, True, True, True, True, True, True, True, False, False]\n"
     ]
    },
    {
     "name": "stderr",
     "output_type": "stream",
     "text": [
      "        1/2      3.66G      6.085      14.62      4.162     0.7068         29        640:  18%|█▊        | 43/238 [00:05<00:23,  8.19it/s]"
     ]
    },
    {
     "name": "stdout",
     "output_type": "stream",
     "text": [
      "batch ['/gpfs/gibbs/project/jetz/eec42/data/pe_palmyra_10percentbkgd/train/images/global_birds_palmyra_CooperStrawn_53m_tile_clip_projected_831_patch_760.0_380.0_640_640.jpg', '/gpfs/gibbs/project/jetz/eec42/data/pe_palmyra_10percentbkgd/train/images/global_birds_palmyra_CooperStrawn_53m_tile_clip_projected_692_patch_380.0_0.0_640_640.jpg', '/gpfs/gibbs/project/jetz/eec42/data/pe_palmyra_10percentbkgd/train/images/global_birds_palmyra_CooperStrawn_53m_tile_clip_projected_737_patch_380.0_0.0_640_640.jpg', '/gpfs/gibbs/project/jetz/eec42/data/pe_palmyra_10percentbkgd/train/images/global_birds_penguins_offshore_rocks_cape_wallace_survey_4_1488_patch_20.0_0.0_480_480.jpg', '/gpfs/gibbs/project/jetz/eec42/data/pe_palmyra_10percentbkgd/train/images/global_birds_penguins_offshore_rocks_cape_wallace_survey_4_1758_patch_0.0_0.0_480_480.jpg', '/gpfs/gibbs/project/jetz/eec42/data/pe_palmyra_10percentbkgd/train/images/global_birds_palmyra_CooperStrawn_53m_tile_clip_projected_953_patch_380.0_380.0_640_640.jpg', '/gpfs/gibbs/project/jetz/eec42/data/pe_palmyra_10percentbkgd/train/images/global_birds_penguins_offshore_rocks_cape_wallace_survey_4_2875_patch_0.0_0.0_480_480.jpg', '/gpfs/gibbs/project/jetz/eec42/data/pe_palmyra_10percentbkgd/train/images/global_birds_penguins_offshore_rocks_cape_wallace_survey_4_1490_patch_0.0_0.0_480_480.jpg']\n",
      "selected_batch ['/gpfs/gibbs/project/jetz/eec42/data/pe_palmyra_10percentbkgd/train/images/global_birds_penguins_offshore_rocks_cape_wallace_survey_4_1488_patch_20.0_0.0_480_480.jpg', '/gpfs/gibbs/project/jetz/eec42/data/pe_palmyra_10percentbkgd/train/images/global_birds_penguins_offshore_rocks_cape_wallace_survey_4_1758_patch_0.0_0.0_480_480.jpg', '/gpfs/gibbs/project/jetz/eec42/data/pe_palmyra_10percentbkgd/train/images/global_birds_penguins_offshore_rocks_cape_wallace_survey_4_2875_patch_0.0_0.0_480_480.jpg', '/gpfs/gibbs/project/jetz/eec42/data/pe_palmyra_10percentbkgd/train/images/global_birds_penguins_offshore_rocks_cape_wallace_survey_4_1490_patch_0.0_0.0_480_480.jpg']\n",
      "selected_batch ['/gpfs/gibbs/project/jetz/eec42/data/pe_palmyra_10percentbkgd/train/images/global_birds_penguins_offshore_rocks_cape_wallace_survey_4_1488_patch_20.0_0.0_480_480.jpg', '/gpfs/gibbs/project/jetz/eec42/data/pe_palmyra_10percentbkgd/train/images/global_birds_penguins_offshore_rocks_cape_wallace_survey_4_1758_patch_0.0_0.0_480_480.jpg', '/gpfs/gibbs/project/jetz/eec42/data/pe_palmyra_10percentbkgd/train/images/global_birds_penguins_offshore_rocks_cape_wallace_survey_4_2875_patch_0.0_0.0_480_480.jpg', '/gpfs/gibbs/project/jetz/eec42/data/pe_palmyra_10percentbkgd/train/images/global_birds_penguins_offshore_rocks_cape_wallace_survey_4_1490_patch_0.0_0.0_480_480.jpg']\n",
      "selected_batch ['/gpfs/gibbs/project/jetz/eec42/data/pe_palmyra_10percentbkgd/train/images/global_birds_penguins_offshore_rocks_cape_wallace_survey_4_1488_patch_20.0_0.0_480_480.jpg', '/gpfs/gibbs/project/jetz/eec42/data/pe_palmyra_10percentbkgd/train/images/global_birds_penguins_offshore_rocks_cape_wallace_survey_4_1758_patch_0.0_0.0_480_480.jpg', '/gpfs/gibbs/project/jetz/eec42/data/pe_palmyra_10percentbkgd/train/images/global_birds_penguins_offshore_rocks_cape_wallace_survey_4_2875_patch_0.0_0.0_480_480.jpg', '/gpfs/gibbs/project/jetz/eec42/data/pe_palmyra_10percentbkgd/train/images/global_birds_penguins_offshore_rocks_cape_wallace_survey_4_1490_patch_0.0_0.0_480_480.jpg']\n",
      "key: batch_idx, tensor([0., 1., 1., 1., 2., 2., 2., 3., 3., 3., 3., 3., 3., 3., 3., 3., 3., 3., 3., 3., 3., 3., 3., 3., 3., 4., 5., 6., 6.])\n",
      "annotations_mask [False, False, False, False, False, False, False, True, True, True, True, True, True, True, True, True, True, True, True, True, True, True, True, True, True, True, False, True, True]\n",
      "batch ['/gpfs/gibbs/project/jetz/eec42/data/pe_palmyra_10percentbkgd/train/images/global_birds_palmyra_CooperStrawn_53m_tile_clip_projected_549_patch_0.0_760.0_640_640.jpg', '/gpfs/gibbs/project/jetz/eec42/data/pe_palmyra_10percentbkgd/train/images/global_birds_penguins_offshore_rocks_cape_wallace_survey_4_2137_patch_0.0_0.0_480_480.jpg', '/gpfs/gibbs/project/jetz/eec42/data/pe_palmyra_10percentbkgd/train/images/global_birds_palmyra_CooperStrawn_53m_tile_clip_projected_991_patch_760.0_0.0_640_640.jpg', '/gpfs/gibbs/project/jetz/eec42/data/pe_palmyra_10percentbkgd/train/images/global_birds_palmyra_CooperStrawn_53m_tile_clip_projected_447_patch_380.0_380.0_640_640.jpg', '/gpfs/gibbs/project/jetz/eec42/data/pe_palmyra_10percentbkgd/train/images/global_birds_palmyra_CooperStrawn_53m_tile_clip_projected_826_patch_760.0_0.0_640_640.jpg', '/gpfs/gibbs/project/jetz/eec42/data/pe_palmyra_10percentbkgd/train/images/global_birds_palmyra_CooperStrawn_53m_tile_clip_projected_738_patch_380.0_760.0_640_640.jpg', '/gpfs/gibbs/project/jetz/eec42/data/pe_palmyra_10percentbkgd/train/images/global_birds_penguins_offshore_rocks_cape_wallace_survey_4_1488_patch_20.0_20.0_480_480.jpg', '/gpfs/gibbs/project/jetz/eec42/data/pe_palmyra_10percentbkgd/train/images/global_birds_palmyra_CooperStrawn_53m_tile_clip_projected_921_patch_760.0_760.0_640_640.jpg']\n",
      "selected_batch ['/gpfs/gibbs/project/jetz/eec42/data/pe_palmyra_10percentbkgd/train/images/global_birds_penguins_offshore_rocks_cape_wallace_survey_4_2137_patch_0.0_0.0_480_480.jpg', '/gpfs/gibbs/project/jetz/eec42/data/pe_palmyra_10percentbkgd/train/images/global_birds_penguins_offshore_rocks_cape_wallace_survey_4_1488_patch_20.0_20.0_480_480.jpg']\n",
      "selected_batch ['/gpfs/gibbs/project/jetz/eec42/data/pe_palmyra_10percentbkgd/train/images/global_birds_penguins_offshore_rocks_cape_wallace_survey_4_2137_patch_0.0_0.0_480_480.jpg', '/gpfs/gibbs/project/jetz/eec42/data/pe_palmyra_10percentbkgd/train/images/global_birds_penguins_offshore_rocks_cape_wallace_survey_4_1488_patch_20.0_20.0_480_480.jpg']\n",
      "selected_batch ['/gpfs/gibbs/project/jetz/eec42/data/pe_palmyra_10percentbkgd/train/images/global_birds_penguins_offshore_rocks_cape_wallace_survey_4_2137_patch_0.0_0.0_480_480.jpg', '/gpfs/gibbs/project/jetz/eec42/data/pe_palmyra_10percentbkgd/train/images/global_birds_penguins_offshore_rocks_cape_wallace_survey_4_1488_patch_20.0_20.0_480_480.jpg']\n",
      "key: batch_idx, tensor([0., 1., 1., 2., 3., 3., 3., 4., 5., 5., 6., 6., 6., 6., 6., 6., 6., 6., 6., 6., 6., 6., 6., 6., 6., 7.])\n",
      "annotations_mask [False, True, True, False, False, False, False, False, False, False, True, True, True, True, True, True, True, True, True, True, True, True, True, True, True, False]\n"
     ]
    },
    {
     "name": "stderr",
     "output_type": "stream",
     "text": [
      "        1/2      3.66G      5.929       14.1      4.125     0.7057         25        640:  19%|█▉        | 45/238 [00:06<00:23,  8.32it/s]"
     ]
    },
    {
     "name": "stdout",
     "output_type": "stream",
     "text": [
      "batch ['/gpfs/gibbs/project/jetz/eec42/data/pe_palmyra_10percentbkgd/train/images/global_birds_palmyra_CooperStrawn_53m_tile_clip_projected_1041_patch_0.0_380.0_640_640.jpg', '/gpfs/gibbs/project/jetz/eec42/data/pe_palmyra_10percentbkgd/train/images/global_birds_palmyra_CooperStrawn_53m_tile_clip_projected_707_patch_380.0_760.0_640_640.jpg', '/gpfs/gibbs/project/jetz/eec42/data/pe_palmyra_10percentbkgd/train/images/global_birds_palmyra_CooperStrawn_53m_tile_clip_projected_1079_patch_380.0_760.0_640_640.jpg', '/gpfs/gibbs/project/jetz/eec42/data/pe_palmyra_10percentbkgd/train/images/global_birds_palmyra_CooperStrawn_53m_tile_clip_projected_1323_patch_0.0_760.0_640_640.jpg', '/gpfs/gibbs/project/jetz/eec42/data/pe_palmyra_10percentbkgd/train/images/global_birds_palmyra_CooperStrawn_53m_tile_clip_projected_952_patch_0.0_760.0_640_640.jpg', '/gpfs/gibbs/project/jetz/eec42/data/pe_palmyra_10percentbkgd/train/images/global_birds_penguins_offshore_rocks_cape_wallace_survey_4_956_patch_20.0_20.0_480_480.jpg', '/gpfs/gibbs/project/jetz/eec42/data/pe_palmyra_10percentbkgd/train/images/global_birds_palmyra_CooperStrawn_53m_tile_clip_projected_771_patch_380.0_380.0_640_640.jpg', '/gpfs/gibbs/project/jetz/eec42/data/pe_palmyra_10percentbkgd/train/images/global_birds_penguins_offshore_rocks_cape_wallace_survey_4_2417_patch_0.0_0.0_480_480.jpg']\n",
      "selected_batch ['/gpfs/gibbs/project/jetz/eec42/data/pe_palmyra_10percentbkgd/train/images/global_birds_penguins_offshore_rocks_cape_wallace_survey_4_956_patch_20.0_20.0_480_480.jpg', '/gpfs/gibbs/project/jetz/eec42/data/pe_palmyra_10percentbkgd/train/images/global_birds_penguins_offshore_rocks_cape_wallace_survey_4_2417_patch_0.0_0.0_480_480.jpg']\n",
      "selected_batch ['/gpfs/gibbs/project/jetz/eec42/data/pe_palmyra_10percentbkgd/train/images/global_birds_penguins_offshore_rocks_cape_wallace_survey_4_956_patch_20.0_20.0_480_480.jpg', '/gpfs/gibbs/project/jetz/eec42/data/pe_palmyra_10percentbkgd/train/images/global_birds_penguins_offshore_rocks_cape_wallace_survey_4_2417_patch_0.0_0.0_480_480.jpg']\n",
      "selected_batch ['/gpfs/gibbs/project/jetz/eec42/data/pe_palmyra_10percentbkgd/train/images/global_birds_penguins_offshore_rocks_cape_wallace_survey_4_956_patch_20.0_20.0_480_480.jpg', '/gpfs/gibbs/project/jetz/eec42/data/pe_palmyra_10percentbkgd/train/images/global_birds_penguins_offshore_rocks_cape_wallace_survey_4_2417_patch_0.0_0.0_480_480.jpg']\n",
      "key: batch_idx, tensor([0., 0., 1., 4., 5., 5., 5., 5., 5., 5., 5., 5., 5., 5., 5., 5., 5., 5., 5., 5., 5., 5., 5., 6., 7.])\n",
      "annotations_mask [False, False, False, False, True, True, True, True, True, True, True, True, True, True, True, True, True, True, True, True, True, True, True, False, True]\n",
      "batch ['/gpfs/gibbs/project/jetz/eec42/data/pe_palmyra_10percentbkgd/train/images/global_birds_palmyra_CooperStrawn_53m_tile_clip_projected_865_patch_760.0_380.0_640_640.jpg', '/gpfs/gibbs/project/jetz/eec42/data/pe_palmyra_10percentbkgd/train/images/global_birds_penguins_offshore_rocks_cape_wallace_survey_4_2349_patch_20.0_20.0_480_480.jpg', '/gpfs/gibbs/project/jetz/eec42/data/pe_palmyra_10percentbkgd/train/images/global_birds_penguins_offshore_rocks_cape_wallace_survey_4_833_patch_20.0_20.0_480_480.jpg', '/gpfs/gibbs/project/jetz/eec42/data/pe_palmyra_10percentbkgd/train/images/global_birds_palmyra_CooperStrawn_53m_tile_clip_projected_951_patch_760.0_760.0_640_640.jpg', '/gpfs/gibbs/project/jetz/eec42/data/pe_palmyra_10percentbkgd/train/images/global_birds_palmyra_CooperStrawn_53m_tile_clip_projected_893_patch_0.0_760.0_640_640.jpg', '/gpfs/gibbs/project/jetz/eec42/data/pe_palmyra_10percentbkgd/train/images/global_birds_palmyra_CooperStrawn_53m_tile_clip_projected_802_patch_760.0_760.0_640_640.jpg', '/gpfs/gibbs/project/jetz/eec42/data/pe_palmyra_10percentbkgd/train/images/global_birds_palmyra_CooperStrawn_53m_tile_clip_projected_668_patch_760.0_380.0_640_640.jpg', '/gpfs/gibbs/project/jetz/eec42/data/pe_palmyra_10percentbkgd/train/images/global_birds_palmyra_CooperStrawn_53m_tile_clip_projected_959_patch_760.0_380.0_640_640.jpg']\n",
      "selected_batch ['/gpfs/gibbs/project/jetz/eec42/data/pe_palmyra_10percentbkgd/train/images/global_birds_penguins_offshore_rocks_cape_wallace_survey_4_2349_patch_20.0_20.0_480_480.jpg', '/gpfs/gibbs/project/jetz/eec42/data/pe_palmyra_10percentbkgd/train/images/global_birds_penguins_offshore_rocks_cape_wallace_survey_4_833_patch_20.0_20.0_480_480.jpg']\n",
      "selected_batch ['/gpfs/gibbs/project/jetz/eec42/data/pe_palmyra_10percentbkgd/train/images/global_birds_penguins_offshore_rocks_cape_wallace_survey_4_2349_patch_20.0_20.0_480_480.jpg', '/gpfs/gibbs/project/jetz/eec42/data/pe_palmyra_10percentbkgd/train/images/global_birds_penguins_offshore_rocks_cape_wallace_survey_4_833_patch_20.0_20.0_480_480.jpg']\n",
      "selected_batch ['/gpfs/gibbs/project/jetz/eec42/data/pe_palmyra_10percentbkgd/train/images/global_birds_penguins_offshore_rocks_cape_wallace_survey_4_2349_patch_20.0_20.0_480_480.jpg', '/gpfs/gibbs/project/jetz/eec42/data/pe_palmyra_10percentbkgd/train/images/global_birds_penguins_offshore_rocks_cape_wallace_survey_4_833_patch_20.0_20.0_480_480.jpg']\n",
      "key: batch_idx, tensor([0., 1., 1., 1., 1., 1., 1., 1., 1., 2., 2., 2., 2., 2., 2., 2., 2., 2., 2., 2., 3., 3., 3., 4., 5., 5., 7.])\n",
      "annotations_mask [False, True, True, True, True, True, True, True, True, True, True, True, True, True, True, True, True, True, True, True, False, False, False, False, False, False, False]\n"
     ]
    },
    {
     "name": "stderr",
     "output_type": "stream",
     "text": [
      "        1/2      3.66G      5.845      13.73      4.119     0.7029         11        640:  20%|█▉        | 47/238 [00:06<00:23,  8.26it/s]"
     ]
    },
    {
     "name": "stdout",
     "output_type": "stream",
     "text": [
      "batch ['/gpfs/gibbs/project/jetz/eec42/data/pe_palmyra_10percentbkgd/train/images/global_birds_palmyra_CooperStrawn_53m_tile_clip_projected_613_patch_760.0_760.0_640_640.jpg', '/gpfs/gibbs/project/jetz/eec42/data/pe_palmyra_10percentbkgd/train/images/global_birds_palmyra_CooperStrawn_53m_tile_clip_projected_1112_patch_760.0_760.0_640_640.jpg', '/gpfs/gibbs/project/jetz/eec42/data/pe_palmyra_10percentbkgd/train/images/global_birds_palmyra_CooperStrawn_53m_tile_clip_projected_508_patch_760.0_760.0_640_640.jpg', '/gpfs/gibbs/project/jetz/eec42/data/pe_palmyra_10percentbkgd/train/images/global_birds_palmyra_CooperStrawn_53m_tile_clip_projected_483_patch_380.0_380.0_640_640.jpg', '/gpfs/gibbs/project/jetz/eec42/data/pe_palmyra_10percentbkgd/train/images/global_birds_penguins_offshore_rocks_cape_wallace_survey_4_2347_patch_20.0_0.0_480_480.jpg', '/gpfs/gibbs/project/jetz/eec42/data/pe_palmyra_10percentbkgd/train/images/global_birds_palmyra_CooperStrawn_53m_tile_clip_projected_567_patch_760.0_0.0_640_640.jpg', '/gpfs/gibbs/project/jetz/eec42/data/pe_palmyra_10percentbkgd/train/images/global_birds_penguins_offshore_rocks_cape_wallace_survey_4_2411_patch_20.0_20.0_480_480.jpg', '/gpfs/gibbs/project/jetz/eec42/data/pe_palmyra_10percentbkgd/train/images/global_birds_palmyra_CooperStrawn_53m_tile_clip_projected_982_patch_0.0_0.0_640_640.jpg']\n",
      "selected_batch ['/gpfs/gibbs/project/jetz/eec42/data/pe_palmyra_10percentbkgd/train/images/global_birds_penguins_offshore_rocks_cape_wallace_survey_4_2347_patch_20.0_0.0_480_480.jpg', '/gpfs/gibbs/project/jetz/eec42/data/pe_palmyra_10percentbkgd/train/images/global_birds_penguins_offshore_rocks_cape_wallace_survey_4_2411_patch_20.0_20.0_480_480.jpg']\n",
      "selected_batch ['/gpfs/gibbs/project/jetz/eec42/data/pe_palmyra_10percentbkgd/train/images/global_birds_penguins_offshore_rocks_cape_wallace_survey_4_2347_patch_20.0_0.0_480_480.jpg', '/gpfs/gibbs/project/jetz/eec42/data/pe_palmyra_10percentbkgd/train/images/global_birds_penguins_offshore_rocks_cape_wallace_survey_4_2411_patch_20.0_20.0_480_480.jpg']\n",
      "selected_batch ['/gpfs/gibbs/project/jetz/eec42/data/pe_palmyra_10percentbkgd/train/images/global_birds_penguins_offshore_rocks_cape_wallace_survey_4_2347_patch_20.0_0.0_480_480.jpg', '/gpfs/gibbs/project/jetz/eec42/data/pe_palmyra_10percentbkgd/train/images/global_birds_penguins_offshore_rocks_cape_wallace_survey_4_2411_patch_20.0_20.0_480_480.jpg']\n",
      "key: batch_idx, tensor([0., 2., 3., 4., 4., 4., 4., 5., 6., 6., 7.])\n",
      "annotations_mask [False, False, False, True, True, True, True, False, True, True, False]\n",
      "batch ['/gpfs/gibbs/project/jetz/eec42/data/pe_palmyra_10percentbkgd/train/images/global_birds_penguins_offshore_rocks_cape_wallace_survey_4_2413_patch_20.0_20.0_480_480.jpg', '/gpfs/gibbs/project/jetz/eec42/data/pe_palmyra_10percentbkgd/train/images/global_birds_palmyra_CooperStrawn_53m_tile_clip_projected_686_patch_380.0_380.0_640_640.jpg', '/gpfs/gibbs/project/jetz/eec42/data/pe_palmyra_10percentbkgd/train/images/global_birds_palmyra_CooperStrawn_53m_tile_clip_projected_846_patch_380.0_0.0_640_640.jpg', '/gpfs/gibbs/project/jetz/eec42/data/pe_palmyra_10percentbkgd/train/images/global_birds_palmyra_CooperStrawn_53m_tile_clip_projected_851_patch_760.0_380.0_640_640.jpg', '/gpfs/gibbs/project/jetz/eec42/data/pe_palmyra_10percentbkgd/train/images/global_birds_palmyra_CooperStrawn_53m_tile_clip_projected_827_patch_380.0_760.0_640_640.jpg', '/gpfs/gibbs/project/jetz/eec42/data/pe_palmyra_10percentbkgd/train/images/global_birds_penguins_offshore_rocks_cape_wallace_survey_4_1236_patch_20.0_20.0_480_480.jpg', '/gpfs/gibbs/project/jetz/eec42/data/pe_palmyra_10percentbkgd/train/images/global_birds_palmyra_CooperStrawn_53m_tile_clip_projected_940_patch_380.0_0.0_640_640.jpg', '/gpfs/gibbs/project/jetz/eec42/data/pe_palmyra_10percentbkgd/train/images/global_birds_palmyra_CooperStrawn_53m_tile_clip_projected_783_patch_0.0_760.0_640_640.jpg']\n",
      "selected_batch ['/gpfs/gibbs/project/jetz/eec42/data/pe_palmyra_10percentbkgd/train/images/global_birds_penguins_offshore_rocks_cape_wallace_survey_4_2413_patch_20.0_20.0_480_480.jpg', '/gpfs/gibbs/project/jetz/eec42/data/pe_palmyra_10percentbkgd/train/images/global_birds_penguins_offshore_rocks_cape_wallace_survey_4_1236_patch_20.0_20.0_480_480.jpg']\n",
      "selected_batch ['/gpfs/gibbs/project/jetz/eec42/data/pe_palmyra_10percentbkgd/train/images/global_birds_penguins_offshore_rocks_cape_wallace_survey_4_2413_patch_20.0_20.0_480_480.jpg', '/gpfs/gibbs/project/jetz/eec42/data/pe_palmyra_10percentbkgd/train/images/global_birds_penguins_offshore_rocks_cape_wallace_survey_4_1236_patch_20.0_20.0_480_480.jpg']\n",
      "selected_batch ['/gpfs/gibbs/project/jetz/eec42/data/pe_palmyra_10percentbkgd/train/images/global_birds_penguins_offshore_rocks_cape_wallace_survey_4_2413_patch_20.0_20.0_480_480.jpg', '/gpfs/gibbs/project/jetz/eec42/data/pe_palmyra_10percentbkgd/train/images/global_birds_penguins_offshore_rocks_cape_wallace_survey_4_1236_patch_20.0_20.0_480_480.jpg']\n",
      "key: batch_idx, tensor([0., 0., 0., 0., 0., 0., 0., 0., 0., 0., 0., 0., 0., 0., 0., 0., 0., 2., 3., 4., 5., 5., 5., 5., 5., 5., 5., 5., 5., 5., 5., 5., 5., 5., 5., 5., 5., 5., 5., 5., 5., 5., 5., 5., 5., 6., 7., 7.])\n",
      "annotations_mask [True, True, True, True, True, True, True, True, True, True, True, True, True, True, True, True, True, False, False, False, True, True, True, True, True, True, True, True, True, True, True, True, True, True, True, True, True, True, True, True, True, True, True, True, True, False, False, False]\n"
     ]
    },
    {
     "name": "stderr",
     "output_type": "stream",
     "text": [
      "        1/2      3.66G      5.816      13.35      4.131     0.7052         36        640:  21%|██        | 49/238 [00:06<00:22,  8.31it/s]"
     ]
    },
    {
     "name": "stdout",
     "output_type": "stream",
     "text": [
      "batch ['/gpfs/gibbs/project/jetz/eec42/data/pe_palmyra_10percentbkgd/train/images/global_birds_palmyra_CooperStrawn_53m_tile_clip_projected_609_patch_760.0_0.0_640_640.jpg', '/gpfs/gibbs/project/jetz/eec42/data/pe_palmyra_10percentbkgd/train/images/global_birds_penguins_offshore_rocks_cape_wallace_survey_4_1236_patch_0.0_20.0_480_480.jpg', '/gpfs/gibbs/project/jetz/eec42/data/pe_palmyra_10percentbkgd/train/images/global_birds_palmyra_CooperStrawn_53m_tile_clip_projected_670_patch_760.0_0.0_640_640.jpg', '/gpfs/gibbs/project/jetz/eec42/data/pe_palmyra_10percentbkgd/train/images/global_birds_palmyra_CooperStrawn_53m_tile_clip_projected_750_patch_0.0_0.0_640_640.jpg', '/gpfs/gibbs/project/jetz/eec42/data/pe_palmyra_10percentbkgd/train/images/global_birds_penguins_offshore_rocks_cape_wallace_survey_4_1495_patch_20.0_20.0_480_480.jpg', '/gpfs/gibbs/project/jetz/eec42/data/pe_palmyra_10percentbkgd/train/images/global_birds_palmyra_CooperStrawn_53m_tile_clip_projected_813_patch_0.0_380.0_640_640.jpg', '/gpfs/gibbs/project/jetz/eec42/data/pe_palmyra_10percentbkgd/train/images/global_birds_penguins_offshore_rocks_cape_wallace_survey_4_777_patch_20.0_20.0_480_480.jpg', '/gpfs/gibbs/project/jetz/eec42/data/pe_palmyra_10percentbkgd/train/images/global_birds_penguins_offshore_rocks_cape_wallace_survey_4_1363_patch_20.0_0.0_480_480.jpg']\n",
      "selected_batch ['/gpfs/gibbs/project/jetz/eec42/data/pe_palmyra_10percentbkgd/train/images/global_birds_penguins_offshore_rocks_cape_wallace_survey_4_1236_patch_0.0_20.0_480_480.jpg', '/gpfs/gibbs/project/jetz/eec42/data/pe_palmyra_10percentbkgd/train/images/global_birds_penguins_offshore_rocks_cape_wallace_survey_4_1495_patch_20.0_20.0_480_480.jpg', '/gpfs/gibbs/project/jetz/eec42/data/pe_palmyra_10percentbkgd/train/images/global_birds_penguins_offshore_rocks_cape_wallace_survey_4_777_patch_20.0_20.0_480_480.jpg', '/gpfs/gibbs/project/jetz/eec42/data/pe_palmyra_10percentbkgd/train/images/global_birds_penguins_offshore_rocks_cape_wallace_survey_4_1363_patch_20.0_0.0_480_480.jpg']\n",
      "selected_batch ['/gpfs/gibbs/project/jetz/eec42/data/pe_palmyra_10percentbkgd/train/images/global_birds_penguins_offshore_rocks_cape_wallace_survey_4_1236_patch_0.0_20.0_480_480.jpg', '/gpfs/gibbs/project/jetz/eec42/data/pe_palmyra_10percentbkgd/train/images/global_birds_penguins_offshore_rocks_cape_wallace_survey_4_1495_patch_20.0_20.0_480_480.jpg', '/gpfs/gibbs/project/jetz/eec42/data/pe_palmyra_10percentbkgd/train/images/global_birds_penguins_offshore_rocks_cape_wallace_survey_4_777_patch_20.0_20.0_480_480.jpg', '/gpfs/gibbs/project/jetz/eec42/data/pe_palmyra_10percentbkgd/train/images/global_birds_penguins_offshore_rocks_cape_wallace_survey_4_1363_patch_20.0_0.0_480_480.jpg']\n",
      "selected_batch ['/gpfs/gibbs/project/jetz/eec42/data/pe_palmyra_10percentbkgd/train/images/global_birds_penguins_offshore_rocks_cape_wallace_survey_4_1236_patch_0.0_20.0_480_480.jpg', '/gpfs/gibbs/project/jetz/eec42/data/pe_palmyra_10percentbkgd/train/images/global_birds_penguins_offshore_rocks_cape_wallace_survey_4_1495_patch_20.0_20.0_480_480.jpg', '/gpfs/gibbs/project/jetz/eec42/data/pe_palmyra_10percentbkgd/train/images/global_birds_penguins_offshore_rocks_cape_wallace_survey_4_777_patch_20.0_20.0_480_480.jpg', '/gpfs/gibbs/project/jetz/eec42/data/pe_palmyra_10percentbkgd/train/images/global_birds_penguins_offshore_rocks_cape_wallace_survey_4_1363_patch_20.0_0.0_480_480.jpg']\n",
      "key: batch_idx, tensor([0., 1., 1., 1., 1., 1., 1., 1., 1., 1., 1., 1., 1., 1., 1., 1., 1., 1., 1., 1., 1., 1., 1., 1., 1., 1., 2., 3., 4., 4., 4., 4., 4., 4., 5., 6.])\n",
      "annotations_mask [False, True, True, True, True, True, True, True, True, True, True, True, True, True, True, True, True, True, True, True, True, True, True, True, True, True, False, False, True, True, True, True, True, True, False, True]\n",
      "batch ['/gpfs/gibbs/project/jetz/eec42/data/pe_palmyra_10percentbkgd/train/images/global_birds_palmyra_CooperStrawn_53m_tile_clip_projected_862_patch_0.0_0.0_640_640.jpg', '/gpfs/gibbs/project/jetz/eec42/data/pe_palmyra_10percentbkgd/train/images/global_birds_palmyra_CooperStrawn_53m_tile_clip_projected_1033_patch_0.0_0.0_640_640.jpg', '/gpfs/gibbs/project/jetz/eec42/data/pe_palmyra_10percentbkgd/train/images/global_birds_palmyra_CooperStrawn_53m_tile_clip_projected_812_patch_380.0_760.0_640_640.jpg', '/gpfs/gibbs/project/jetz/eec42/data/pe_palmyra_10percentbkgd/train/images/global_birds_penguins_offshore_rocks_cape_wallace_survey_4_1300_patch_0.0_20.0_480_480.jpg', '/gpfs/gibbs/project/jetz/eec42/data/pe_palmyra_10percentbkgd/train/images/global_birds_palmyra_CooperStrawn_53m_tile_clip_projected_660_patch_0.0_0.0_640_640.jpg', '/gpfs/gibbs/project/jetz/eec42/data/pe_palmyra_10percentbkgd/train/images/global_birds_palmyra_CooperStrawn_53m_tile_clip_projected_668_patch_380.0_0.0_640_640.jpg', '/gpfs/gibbs/project/jetz/eec42/data/pe_palmyra_10percentbkgd/train/images/global_birds_palmyra_CooperStrawn_53m_tile_clip_projected_921_patch_0.0_0.0_640_640.jpg', '/gpfs/gibbs/project/jetz/eec42/data/pe_palmyra_10percentbkgd/train/images/global_birds_penguins_offshore_rocks_cape_wallace_survey_4_3254_patch_20.0_0.0_480_480.jpg']\n",
      "selected_batch ['/gpfs/gibbs/project/jetz/eec42/data/pe_palmyra_10percentbkgd/train/images/global_birds_penguins_offshore_rocks_cape_wallace_survey_4_1300_patch_0.0_20.0_480_480.jpg', '/gpfs/gibbs/project/jetz/eec42/data/pe_palmyra_10percentbkgd/train/images/global_birds_penguins_offshore_rocks_cape_wallace_survey_4_3254_patch_20.0_0.0_480_480.jpg']\n",
      "selected_batch ['/gpfs/gibbs/project/jetz/eec42/data/pe_palmyra_10percentbkgd/train/images/global_birds_penguins_offshore_rocks_cape_wallace_survey_4_1300_patch_0.0_20.0_480_480.jpg', '/gpfs/gibbs/project/jetz/eec42/data/pe_palmyra_10percentbkgd/train/images/global_birds_penguins_offshore_rocks_cape_wallace_survey_4_3254_patch_20.0_0.0_480_480.jpg']\n",
      "selected_batch ['/gpfs/gibbs/project/jetz/eec42/data/pe_palmyra_10percentbkgd/train/images/global_birds_penguins_offshore_rocks_cape_wallace_survey_4_1300_patch_0.0_20.0_480_480.jpg', '/gpfs/gibbs/project/jetz/eec42/data/pe_palmyra_10percentbkgd/train/images/global_birds_penguins_offshore_rocks_cape_wallace_survey_4_3254_patch_20.0_0.0_480_480.jpg']\n",
      "key: batch_idx, tensor([0., 0., 1., 2., 3., 3., 3., 3., 3., 3., 3., 3., 3., 3., 3., 3., 3., 3., 3., 3., 3., 3., 3., 3., 3., 3., 3., 3., 3., 3., 3., 3., 3., 3., 3., 4., 5., 6., 6., 7.])\n",
      "annotations_mask [False, False, False, False, True, True, True, True, True, True, True, True, True, True, True, True, True, True, True, True, True, True, True, True, True, True, True, True, True, True, True, True, True, True, True, False, False, False, False, True]\n"
     ]
    },
    {
     "name": "stderr",
     "output_type": "stream",
     "text": [
      "        1/2      3.66G      5.736      12.91      4.089     0.7038         13        640:  21%|██▏       | 51/238 [00:06<00:22,  8.34it/s]"
     ]
    },
    {
     "name": "stdout",
     "output_type": "stream",
     "text": [
      "batch ['/gpfs/gibbs/project/jetz/eec42/data/pe_palmyra_10percentbkgd/train/images/global_birds_penguins_offshore_rocks_cape_wallace_survey_4_2022_patch_0.0_20.0_480_480.jpg', '/gpfs/gibbs/project/jetz/eec42/data/pe_palmyra_10percentbkgd/train/images/global_birds_penguins_offshore_rocks_cape_wallace_survey_4_1554_patch_0.0_20.0_480_480.jpg', '/gpfs/gibbs/project/jetz/eec42/data/pe_palmyra_10percentbkgd/train/images/global_birds_palmyra_CooperStrawn_53m_tile_clip_projected_567_patch_380.0_380.0_640_640.jpg', '/gpfs/gibbs/project/jetz/eec42/data/pe_palmyra_10percentbkgd/train/images/global_birds_palmyra_CooperStrawn_53m_tile_clip_projected_476_patch_760.0_0.0_640_640.jpg', '/gpfs/gibbs/project/jetz/eec42/data/pe_palmyra_10percentbkgd/train/images/global_birds_palmyra_CooperStrawn_53m_tile_clip_projected_831_patch_0.0_760.0_640_640.jpg', '/gpfs/gibbs/project/jetz/eec42/data/pe_palmyra_10percentbkgd/train/images/global_birds_penguins_offshore_rocks_cape_wallace_survey_4_1495_patch_20.0_0.0_480_480.jpg', '/gpfs/gibbs/project/jetz/eec42/data/pe_palmyra_10percentbkgd/train/images/global_birds_palmyra_CooperStrawn_53m_tile_clip_projected_845_patch_0.0_0.0_640_640.jpg', '/gpfs/gibbs/project/jetz/eec42/data/pe_palmyra_10percentbkgd/train/images/global_birds_penguins_offshore_rocks_cape_wallace_survey_4_3186_patch_0.0_20.0_480_480.jpg']\n",
      "selected_batch ['/gpfs/gibbs/project/jetz/eec42/data/pe_palmyra_10percentbkgd/train/images/global_birds_penguins_offshore_rocks_cape_wallace_survey_4_2022_patch_0.0_20.0_480_480.jpg', '/gpfs/gibbs/project/jetz/eec42/data/pe_palmyra_10percentbkgd/train/images/global_birds_penguins_offshore_rocks_cape_wallace_survey_4_1554_patch_0.0_20.0_480_480.jpg', '/gpfs/gibbs/project/jetz/eec42/data/pe_palmyra_10percentbkgd/train/images/global_birds_penguins_offshore_rocks_cape_wallace_survey_4_1495_patch_20.0_0.0_480_480.jpg', '/gpfs/gibbs/project/jetz/eec42/data/pe_palmyra_10percentbkgd/train/images/global_birds_penguins_offshore_rocks_cape_wallace_survey_4_3186_patch_0.0_20.0_480_480.jpg']\n",
      "selected_batch ['/gpfs/gibbs/project/jetz/eec42/data/pe_palmyra_10percentbkgd/train/images/global_birds_penguins_offshore_rocks_cape_wallace_survey_4_2022_patch_0.0_20.0_480_480.jpg', '/gpfs/gibbs/project/jetz/eec42/data/pe_palmyra_10percentbkgd/train/images/global_birds_penguins_offshore_rocks_cape_wallace_survey_4_1554_patch_0.0_20.0_480_480.jpg', '/gpfs/gibbs/project/jetz/eec42/data/pe_palmyra_10percentbkgd/train/images/global_birds_penguins_offshore_rocks_cape_wallace_survey_4_1495_patch_20.0_0.0_480_480.jpg', '/gpfs/gibbs/project/jetz/eec42/data/pe_palmyra_10percentbkgd/train/images/global_birds_penguins_offshore_rocks_cape_wallace_survey_4_3186_patch_0.0_20.0_480_480.jpg']\n",
      "selected_batch ['/gpfs/gibbs/project/jetz/eec42/data/pe_palmyra_10percentbkgd/train/images/global_birds_penguins_offshore_rocks_cape_wallace_survey_4_2022_patch_0.0_20.0_480_480.jpg', '/gpfs/gibbs/project/jetz/eec42/data/pe_palmyra_10percentbkgd/train/images/global_birds_penguins_offshore_rocks_cape_wallace_survey_4_1554_patch_0.0_20.0_480_480.jpg', '/gpfs/gibbs/project/jetz/eec42/data/pe_palmyra_10percentbkgd/train/images/global_birds_penguins_offshore_rocks_cape_wallace_survey_4_1495_patch_20.0_0.0_480_480.jpg', '/gpfs/gibbs/project/jetz/eec42/data/pe_palmyra_10percentbkgd/train/images/global_birds_penguins_offshore_rocks_cape_wallace_survey_4_3186_patch_0.0_20.0_480_480.jpg']\n",
      "key: batch_idx, tensor([0., 0., 0., 0., 0., 0., 0., 0., 0., 0., 0., 0., 0., 0., 0., 0., 0., 0., 0., 0., 0., 1., 1., 1., 1., 1., 1., 1., 2., 2., 2., 2., 2., 2., 3., 3., 3., 3., 3., 4., 5., 5., 5., 5., 5., 5., 5., 6.])\n",
      "annotations_mask [True, True, True, True, True, True, True, True, True, True, True, True, True, True, True, True, True, True, True, True, True, True, True, True, True, True, True, True, False, False, False, False, False, False, False, False, False, False, False, False, True, True, True, True, True, True, True, False]\n",
      "batch ['/gpfs/gibbs/project/jetz/eec42/data/pe_palmyra_10percentbkgd/train/images/global_birds_palmyra_CooperStrawn_53m_tile_clip_projected_660_patch_760.0_380.0_640_640.jpg', '/gpfs/gibbs/project/jetz/eec42/data/pe_palmyra_10percentbkgd/train/images/global_birds_palmyra_CooperStrawn_53m_tile_clip_projected_1107_patch_760.0_760.0_640_640.jpg', '/gpfs/gibbs/project/jetz/eec42/data/pe_palmyra_10percentbkgd/train/images/global_birds_penguins_offshore_rocks_cape_wallace_survey_4_1947_patch_0.0_0.0_480_480.jpg', '/gpfs/gibbs/project/jetz/eec42/data/pe_palmyra_10percentbkgd/train/images/global_birds_palmyra_CooperStrawn_53m_tile_clip_projected_1006_patch_0.0_760.0_640_640.jpg', '/gpfs/gibbs/project/jetz/eec42/data/pe_palmyra_10percentbkgd/train/images/global_birds_palmyra_CooperStrawn_53m_tile_clip_projected_1324_patch_380.0_0.0_640_640.jpg', '/gpfs/gibbs/project/jetz/eec42/data/pe_palmyra_10percentbkgd/train/images/global_birds_penguins_offshore_rocks_cape_wallace_survey_4_2283_patch_20.0_0.0_480_480.jpg', '/gpfs/gibbs/project/jetz/eec42/data/pe_palmyra_10percentbkgd/train/images/global_birds_palmyra_CooperStrawn_53m_tile_clip_projected_893_patch_0.0_0.0_640_640.jpg', '/gpfs/gibbs/project/jetz/eec42/data/pe_palmyra_10percentbkgd/train/images/global_birds_palmyra_CooperStrawn_53m_tile_clip_projected_831_patch_380.0_380.0_640_640.jpg']\n",
      "selected_batch ['/gpfs/gibbs/project/jetz/eec42/data/pe_palmyra_10percentbkgd/train/images/global_birds_penguins_offshore_rocks_cape_wallace_survey_4_1947_patch_0.0_0.0_480_480.jpg', '/gpfs/gibbs/project/jetz/eec42/data/pe_palmyra_10percentbkgd/train/images/global_birds_penguins_offshore_rocks_cape_wallace_survey_4_2283_patch_20.0_0.0_480_480.jpg']\n",
      "selected_batch ['/gpfs/gibbs/project/jetz/eec42/data/pe_palmyra_10percentbkgd/train/images/global_birds_penguins_offshore_rocks_cape_wallace_survey_4_1947_patch_0.0_0.0_480_480.jpg', '/gpfs/gibbs/project/jetz/eec42/data/pe_palmyra_10percentbkgd/train/images/global_birds_penguins_offshore_rocks_cape_wallace_survey_4_2283_patch_20.0_0.0_480_480.jpg']\n",
      "selected_batch ['/gpfs/gibbs/project/jetz/eec42/data/pe_palmyra_10percentbkgd/train/images/global_birds_penguins_offshore_rocks_cape_wallace_survey_4_1947_patch_0.0_0.0_480_480.jpg', '/gpfs/gibbs/project/jetz/eec42/data/pe_palmyra_10percentbkgd/train/images/global_birds_penguins_offshore_rocks_cape_wallace_survey_4_2283_patch_20.0_0.0_480_480.jpg']\n",
      "key: batch_idx, tensor([0., 0., 2., 2., 2., 2., 2., 3., 4., 5., 6., 7., 7.])\n",
      "annotations_mask [False, False, True, True, True, True, True, False, False, True, False, False, False]\n"
     ]
    },
    {
     "name": "stderr",
     "output_type": "stream",
     "text": [
      "        1/2      3.67G      5.652      12.54      4.057     0.7012         67        640:  22%|██▏       | 53/238 [00:07<00:21,  8.72it/s]"
     ]
    },
    {
     "name": "stdout",
     "output_type": "stream",
     "text": [
      "batch ['/gpfs/gibbs/project/jetz/eec42/data/pe_palmyra_10percentbkgd/train/images/global_birds_palmyra_CooperStrawn_53m_tile_clip_projected_814_patch_380.0_0.0_640_640.jpg', '/gpfs/gibbs/project/jetz/eec42/data/pe_palmyra_10percentbkgd/train/images/global_birds_palmyra_CooperStrawn_53m_tile_clip_projected_861_patch_380.0_380.0_640_640.jpg', '/gpfs/gibbs/project/jetz/eec42/data/pe_palmyra_10percentbkgd/train/images/global_birds_penguins_offshore_rocks_cape_wallace_survey_4_2413_patch_0.0_0.0_480_480.jpg', '/gpfs/gibbs/project/jetz/eec42/data/pe_palmyra_10percentbkgd/train/images/global_birds_palmyra_CooperStrawn_53m_tile_clip_projected_752_patch_0.0_0.0_640_640.jpg', '/gpfs/gibbs/project/jetz/eec42/data/pe_palmyra_10percentbkgd/train/images/global_birds_palmyra_CooperStrawn_53m_tile_clip_projected_627_patch_0.0_0.0_640_640.jpg', '/gpfs/gibbs/project/jetz/eec42/data/pe_palmyra_10percentbkgd/train/images/global_birds_palmyra_CooperStrawn_53m_tile_clip_projected_614_patch_380.0_0.0_640_640.jpg', '/gpfs/gibbs/project/jetz/eec42/data/pe_palmyra_10percentbkgd/train/images/global_birds_palmyra_CooperStrawn_53m_tile_clip_projected_758_patch_760.0_0.0_640_640.jpg', '/gpfs/gibbs/project/jetz/eec42/data/pe_palmyra_10percentbkgd/train/images/global_birds_palmyra_CooperStrawn_53m_tile_clip_projected_640_patch_0.0_380.0_640_640.jpg']\n",
      "selected_batch ['/gpfs/gibbs/project/jetz/eec42/data/pe_palmyra_10percentbkgd/train/images/global_birds_penguins_offshore_rocks_cape_wallace_survey_4_2413_patch_0.0_0.0_480_480.jpg']\n",
      "selected_batch ['/gpfs/gibbs/project/jetz/eec42/data/pe_palmyra_10percentbkgd/train/images/global_birds_penguins_offshore_rocks_cape_wallace_survey_4_2413_patch_0.0_0.0_480_480.jpg']\n",
      "selected_batch ['/gpfs/gibbs/project/jetz/eec42/data/pe_palmyra_10percentbkgd/train/images/global_birds_penguins_offshore_rocks_cape_wallace_survey_4_2413_patch_0.0_0.0_480_480.jpg']\n",
      "key: batch_idx, tensor([0., 1., 1., 1., 2., 2., 2., 2., 2., 2., 2., 2., 2., 2., 2., 3., 4., 5., 7.])\n",
      "annotations_mask [False, False, False, False, True, True, True, True, True, True, True, True, True, True, True, False, False, False, False]\n",
      "batch ['/gpfs/gibbs/project/jetz/eec42/data/pe_palmyra_10percentbkgd/train/images/global_birds_palmyra_CooperStrawn_53m_tile_clip_projected_505_patch_760.0_380.0_640_640.jpg', '/gpfs/gibbs/project/jetz/eec42/data/pe_palmyra_10percentbkgd/train/images/global_birds_penguins_offshore_rocks_cape_wallace_survey_4_956_patch_20.0_0.0_480_480.jpg', '/gpfs/gibbs/project/jetz/eec42/data/pe_palmyra_10percentbkgd/train/images/global_birds_palmyra_CooperStrawn_53m_tile_clip_projected_1081_patch_380.0_380.0_640_640.jpg', '/gpfs/gibbs/project/jetz/eec42/data/pe_palmyra_10percentbkgd/train/images/global_birds_penguins_offshore_rocks_cape_wallace_survey_4_1301_patch_0.0_20.0_480_480.jpg', '/gpfs/gibbs/project/jetz/eec42/data/pe_palmyra_10percentbkgd/train/images/global_birds_palmyra_CooperStrawn_53m_tile_clip_projected_895_patch_380.0_760.0_640_640.jpg', '/gpfs/gibbs/project/jetz/eec42/data/pe_palmyra_10percentbkgd/train/images/global_birds_penguins_offshore_rocks_cape_wallace_survey_4_3189_patch_0.0_20.0_480_480.jpg', '/gpfs/gibbs/project/jetz/eec42/data/pe_palmyra_10percentbkgd/train/images/global_birds_palmyra_CooperStrawn_53m_tile_clip_projected_865_patch_760.0_760.0_640_640.jpg', '/gpfs/gibbs/project/jetz/eec42/data/pe_palmyra_10percentbkgd/train/images/global_birds_penguins_offshore_rocks_cape_wallace_survey_4_1299_patch_20.0_20.0_480_480.jpg']\n",
      "selected_batch ['/gpfs/gibbs/project/jetz/eec42/data/pe_palmyra_10percentbkgd/train/images/global_birds_penguins_offshore_rocks_cape_wallace_survey_4_956_patch_20.0_0.0_480_480.jpg', '/gpfs/gibbs/project/jetz/eec42/data/pe_palmyra_10percentbkgd/train/images/global_birds_penguins_offshore_rocks_cape_wallace_survey_4_1301_patch_0.0_20.0_480_480.jpg', '/gpfs/gibbs/project/jetz/eec42/data/pe_palmyra_10percentbkgd/train/images/global_birds_penguins_offshore_rocks_cape_wallace_survey_4_3189_patch_0.0_20.0_480_480.jpg', '/gpfs/gibbs/project/jetz/eec42/data/pe_palmyra_10percentbkgd/train/images/global_birds_penguins_offshore_rocks_cape_wallace_survey_4_1299_patch_20.0_20.0_480_480.jpg']\n",
      "selected_batch ['/gpfs/gibbs/project/jetz/eec42/data/pe_palmyra_10percentbkgd/train/images/global_birds_penguins_offshore_rocks_cape_wallace_survey_4_956_patch_20.0_0.0_480_480.jpg', '/gpfs/gibbs/project/jetz/eec42/data/pe_palmyra_10percentbkgd/train/images/global_birds_penguins_offshore_rocks_cape_wallace_survey_4_1301_patch_0.0_20.0_480_480.jpg', '/gpfs/gibbs/project/jetz/eec42/data/pe_palmyra_10percentbkgd/train/images/global_birds_penguins_offshore_rocks_cape_wallace_survey_4_3189_patch_0.0_20.0_480_480.jpg', '/gpfs/gibbs/project/jetz/eec42/data/pe_palmyra_10percentbkgd/train/images/global_birds_penguins_offshore_rocks_cape_wallace_survey_4_1299_patch_20.0_20.0_480_480.jpg']\n",
      "selected_batch ['/gpfs/gibbs/project/jetz/eec42/data/pe_palmyra_10percentbkgd/train/images/global_birds_penguins_offshore_rocks_cape_wallace_survey_4_956_patch_20.0_0.0_480_480.jpg', '/gpfs/gibbs/project/jetz/eec42/data/pe_palmyra_10percentbkgd/train/images/global_birds_penguins_offshore_rocks_cape_wallace_survey_4_1301_patch_0.0_20.0_480_480.jpg', '/gpfs/gibbs/project/jetz/eec42/data/pe_palmyra_10percentbkgd/train/images/global_birds_penguins_offshore_rocks_cape_wallace_survey_4_3189_patch_0.0_20.0_480_480.jpg', '/gpfs/gibbs/project/jetz/eec42/data/pe_palmyra_10percentbkgd/train/images/global_birds_penguins_offshore_rocks_cape_wallace_survey_4_1299_patch_20.0_20.0_480_480.jpg']\n",
      "key: batch_idx, tensor([0., 1., 1., 1., 1., 1., 1., 1., 1., 1., 1., 1., 1., 1., 1., 1., 1., 2., 3., 3., 3., 3., 3., 3., 3., 3., 3., 3., 3., 3., 3., 3., 3., 4., 4., 6., 7., 7., 7., 7., 7., 7., 7., 7., 7., 7., 7., 7., 7., 7., 7., 7., 7., 7., 7., 7., 7., 7., 7., 7., 7., 7., 7., 7., 7., 7., 7.])\n",
      "annotations_mask [False, True, True, True, True, True, True, True, True, True, True, True, True, True, True, True, True, False, True, True, True, True, True, True, True, True, True, True, True, True, True, True, True, False, False, False, True, True, True, True, True, True, True, True, True, True, True, True, True, True, True, True, True, True, True, True, True, True, True, True, True, True, True, True, True, True, True]\n"
     ]
    },
    {
     "name": "stderr",
     "output_type": "stream",
     "text": [
      "        1/2      3.67G      5.604      12.23      4.047     0.7033         73        640:  23%|██▎       | 55/238 [00:07<00:20,  8.90it/s]"
     ]
    },
    {
     "name": "stdout",
     "output_type": "stream",
     "text": [
      "batch ['/gpfs/gibbs/project/jetz/eec42/data/pe_palmyra_10percentbkgd/train/images/global_birds_palmyra_CooperStrawn_53m_tile_clip_projected_660_patch_380.0_380.0_640_640.jpg', '/gpfs/gibbs/project/jetz/eec42/data/pe_palmyra_10percentbkgd/train/images/global_birds_palmyra_CooperStrawn_53m_tile_clip_projected_1108_patch_760.0_760.0_640_640.jpg', '/gpfs/gibbs/project/jetz/eec42/data/pe_palmyra_10percentbkgd/train/images/global_birds_palmyra_CooperStrawn_53m_tile_clip_projected_833_patch_0.0_760.0_640_640.jpg', '/gpfs/gibbs/project/jetz/eec42/data/pe_palmyra_10percentbkgd/train/images/global_birds_palmyra_CooperStrawn_53m_tile_clip_projected_768_patch_0.0_0.0_640_640.jpg', '/gpfs/gibbs/project/jetz/eec42/data/pe_palmyra_10percentbkgd/train/images/global_birds_palmyra_CooperStrawn_53m_tile_clip_projected_761_patch_0.0_0.0_640_640.jpg', '/gpfs/gibbs/project/jetz/eec42/data/pe_palmyra_10percentbkgd/train/images/global_birds_palmyra_CooperStrawn_53m_tile_clip_projected_911_patch_760.0_0.0_640_640.jpg', '/gpfs/gibbs/project/jetz/eec42/data/pe_palmyra_10percentbkgd/train/images/global_birds_penguins_offshore_rocks_cape_wallace_survey_4_1366_patch_20.0_0.0_480_480.jpg', '/gpfs/gibbs/project/jetz/eec42/data/pe_palmyra_10percentbkgd/train/images/global_birds_penguins_offshore_rocks_cape_wallace_survey_4_1364_patch_0.0_0.0_480_480.jpg']\n",
      "selected_batch ['/gpfs/gibbs/project/jetz/eec42/data/pe_palmyra_10percentbkgd/train/images/global_birds_penguins_offshore_rocks_cape_wallace_survey_4_1366_patch_20.0_0.0_480_480.jpg', '/gpfs/gibbs/project/jetz/eec42/data/pe_palmyra_10percentbkgd/train/images/global_birds_penguins_offshore_rocks_cape_wallace_survey_4_1364_patch_0.0_0.0_480_480.jpg']\n",
      "selected_batch ['/gpfs/gibbs/project/jetz/eec42/data/pe_palmyra_10percentbkgd/train/images/global_birds_penguins_offshore_rocks_cape_wallace_survey_4_1366_patch_20.0_0.0_480_480.jpg', '/gpfs/gibbs/project/jetz/eec42/data/pe_palmyra_10percentbkgd/train/images/global_birds_penguins_offshore_rocks_cape_wallace_survey_4_1364_patch_0.0_0.0_480_480.jpg']\n",
      "selected_batch ['/gpfs/gibbs/project/jetz/eec42/data/pe_palmyra_10percentbkgd/train/images/global_birds_penguins_offshore_rocks_cape_wallace_survey_4_1366_patch_20.0_0.0_480_480.jpg', '/gpfs/gibbs/project/jetz/eec42/data/pe_palmyra_10percentbkgd/train/images/global_birds_penguins_offshore_rocks_cape_wallace_survey_4_1364_patch_0.0_0.0_480_480.jpg']\n",
      "key: batch_idx, tensor([2., 2., 3., 3., 4., 5., 6., 6., 6., 6., 6., 7., 7., 7., 7., 7., 7., 7., 7., 7., 7., 7., 7., 7., 7.])\n",
      "annotations_mask [False, False, False, False, False, False, True, True, True, True, True, True, True, True, True, True, True, True, True, True, True, True, True, True, True]\n",
      "batch ['/gpfs/gibbs/project/jetz/eec42/data/pe_palmyra_10percentbkgd/train/images/global_birds_palmyra_CooperStrawn_53m_tile_clip_projected_892_patch_760.0_380.0_640_640.jpg', '/gpfs/gibbs/project/jetz/eec42/data/pe_palmyra_10percentbkgd/train/images/global_birds_palmyra_CooperStrawn_53m_tile_clip_projected_954_patch_0.0_760.0_640_640.jpg', '/gpfs/gibbs/project/jetz/eec42/data/pe_palmyra_10percentbkgd/train/images/global_birds_palmyra_CooperStrawn_53m_tile_clip_projected_444_patch_760.0_760.0_640_640.jpg', '/gpfs/gibbs/project/jetz/eec42/data/pe_palmyra_10percentbkgd/train/images/global_birds_palmyra_CooperStrawn_53m_tile_clip_projected_971_patch_760.0_0.0_640_640.jpg', '/gpfs/gibbs/project/jetz/eec42/data/pe_palmyra_10percentbkgd/train/images/global_birds_penguins_offshore_rocks_cape_wallace_survey_4_702_patch_0.0_0.0_480_480.jpg', '/gpfs/gibbs/project/jetz/eec42/data/pe_palmyra_10percentbkgd/train/images/global_birds_penguins_offshore_rocks_cape_wallace_survey_4_2348_patch_20.0_20.0_480_480.jpg', '/gpfs/gibbs/project/jetz/eec42/data/pe_palmyra_10percentbkgd/train/images/global_birds_penguins_offshore_rocks_cape_wallace_survey_4_1430_patch_20.0_0.0_480_480.jpg', '/gpfs/gibbs/project/jetz/eec42/data/pe_palmyra_10percentbkgd/train/images/global_birds_penguins_offshore_rocks_cape_wallace_survey_4_1948_patch_0.0_0.0_480_480.jpg']\n",
      "selected_batch ['/gpfs/gibbs/project/jetz/eec42/data/pe_palmyra_10percentbkgd/train/images/global_birds_penguins_offshore_rocks_cape_wallace_survey_4_702_patch_0.0_0.0_480_480.jpg', '/gpfs/gibbs/project/jetz/eec42/data/pe_palmyra_10percentbkgd/train/images/global_birds_penguins_offshore_rocks_cape_wallace_survey_4_2348_patch_20.0_20.0_480_480.jpg', '/gpfs/gibbs/project/jetz/eec42/data/pe_palmyra_10percentbkgd/train/images/global_birds_penguins_offshore_rocks_cape_wallace_survey_4_1430_patch_20.0_0.0_480_480.jpg', '/gpfs/gibbs/project/jetz/eec42/data/pe_palmyra_10percentbkgd/train/images/global_birds_penguins_offshore_rocks_cape_wallace_survey_4_1948_patch_0.0_0.0_480_480.jpg']\n",
      "selected_batch ['/gpfs/gibbs/project/jetz/eec42/data/pe_palmyra_10percentbkgd/train/images/global_birds_penguins_offshore_rocks_cape_wallace_survey_4_702_patch_0.0_0.0_480_480.jpg', '/gpfs/gibbs/project/jetz/eec42/data/pe_palmyra_10percentbkgd/train/images/global_birds_penguins_offshore_rocks_cape_wallace_survey_4_2348_patch_20.0_20.0_480_480.jpg', '/gpfs/gibbs/project/jetz/eec42/data/pe_palmyra_10percentbkgd/train/images/global_birds_penguins_offshore_rocks_cape_wallace_survey_4_1430_patch_20.0_0.0_480_480.jpg', '/gpfs/gibbs/project/jetz/eec42/data/pe_palmyra_10percentbkgd/train/images/global_birds_penguins_offshore_rocks_cape_wallace_survey_4_1948_patch_0.0_0.0_480_480.jpg']\n",
      "selected_batch ['/gpfs/gibbs/project/jetz/eec42/data/pe_palmyra_10percentbkgd/train/images/global_birds_penguins_offshore_rocks_cape_wallace_survey_4_702_patch_0.0_0.0_480_480.jpg', '/gpfs/gibbs/project/jetz/eec42/data/pe_palmyra_10percentbkgd/train/images/global_birds_penguins_offshore_rocks_cape_wallace_survey_4_2348_patch_20.0_20.0_480_480.jpg', '/gpfs/gibbs/project/jetz/eec42/data/pe_palmyra_10percentbkgd/train/images/global_birds_penguins_offshore_rocks_cape_wallace_survey_4_1430_patch_20.0_0.0_480_480.jpg', '/gpfs/gibbs/project/jetz/eec42/data/pe_palmyra_10percentbkgd/train/images/global_birds_penguins_offshore_rocks_cape_wallace_survey_4_1948_patch_0.0_0.0_480_480.jpg']\n",
      "key: batch_idx, tensor([0., 1., 2., 2., 2., 3., 4., 5., 5., 5., 5., 5., 5., 5., 5., 5., 5., 5., 5., 5., 5., 5., 5., 5., 5., 5., 5., 5., 5., 5., 5., 5., 5., 5., 5., 5., 5., 5., 5., 5., 5., 5., 5., 5., 5., 5., 5., 5., 5., 5., 5., 5., 5., 5., 5., 6., 6., 6., 6., 6., 6., 6., 6., 6., 6., 6., 6., 6., 6., 6., 6., 6., 7.])\n",
      "annotations_mask [False, False, False, False, False, False, True, True, True, True, True, True, True, True, True, True, True, True, True, True, True, True, True, True, True, True, True, True, True, True, True, True, True, True, True, True, True, True, True, True, True, True, True, True, True, True, True, True, True, True, True, True, True, True, True, True, True, True, True, True, True, True, True, True, True, True, True, True, True, True, True, True, True]\n"
     ]
    },
    {
     "name": "stderr",
     "output_type": "stream",
     "text": [
      "        1/2      3.67G      5.544      11.96      4.043     0.7058         31        640:  24%|██▍       | 57/238 [00:07<00:20,  8.97it/s]"
     ]
    },
    {
     "name": "stdout",
     "output_type": "stream",
     "text": [
      "batch ['/gpfs/gibbs/project/jetz/eec42/data/pe_palmyra_10percentbkgd/train/images/global_birds_palmyra_CooperStrawn_53m_tile_clip_projected_990_patch_380.0_0.0_640_640.jpg', '/gpfs/gibbs/project/jetz/eec42/data/pe_palmyra_10percentbkgd/train/images/global_birds_penguins_offshore_rocks_cape_wallace_survey_4_1298_patch_0.0_20.0_480_480.jpg', '/gpfs/gibbs/project/jetz/eec42/data/pe_palmyra_10percentbkgd/train/images/global_birds_penguins_offshore_rocks_cape_wallace_survey_4_1493_patch_20.0_20.0_480_480.jpg', '/gpfs/gibbs/project/jetz/eec42/data/pe_palmyra_10percentbkgd/train/images/global_birds_palmyra_CooperStrawn_53m_tile_clip_projected_754_patch_0.0_0.0_640_640.jpg', '/gpfs/gibbs/project/jetz/eec42/data/pe_palmyra_10percentbkgd/train/images/global_birds_penguins_offshore_rocks_cape_wallace_survey_4_3122_patch_0.0_20.0_480_480.jpg', '/gpfs/gibbs/project/jetz/eec42/data/pe_palmyra_10percentbkgd/train/images/global_birds_palmyra_CooperStrawn_53m_tile_clip_projected_750_patch_0.0_380.0_640_640.jpg', '/gpfs/gibbs/project/jetz/eec42/data/pe_palmyra_10percentbkgd/train/images/global_birds_palmyra_CooperStrawn_53m_tile_clip_projected_850_patch_760.0_0.0_640_640.jpg', '/gpfs/gibbs/project/jetz/eec42/data/pe_palmyra_10percentbkgd/train/images/global_birds_penguins_offshore_rocks_cape_wallace_survey_4_765_patch_20.0_20.0_480_480.jpg']\n",
      "selected_batch ['/gpfs/gibbs/project/jetz/eec42/data/pe_palmyra_10percentbkgd/train/images/global_birds_penguins_offshore_rocks_cape_wallace_survey_4_1298_patch_0.0_20.0_480_480.jpg', '/gpfs/gibbs/project/jetz/eec42/data/pe_palmyra_10percentbkgd/train/images/global_birds_penguins_offshore_rocks_cape_wallace_survey_4_1493_patch_20.0_20.0_480_480.jpg', '/gpfs/gibbs/project/jetz/eec42/data/pe_palmyra_10percentbkgd/train/images/global_birds_penguins_offshore_rocks_cape_wallace_survey_4_3122_patch_0.0_20.0_480_480.jpg', '/gpfs/gibbs/project/jetz/eec42/data/pe_palmyra_10percentbkgd/train/images/global_birds_penguins_offshore_rocks_cape_wallace_survey_4_765_patch_20.0_20.0_480_480.jpg']\n",
      "selected_batch ['/gpfs/gibbs/project/jetz/eec42/data/pe_palmyra_10percentbkgd/train/images/global_birds_penguins_offshore_rocks_cape_wallace_survey_4_1298_patch_0.0_20.0_480_480.jpg', '/gpfs/gibbs/project/jetz/eec42/data/pe_palmyra_10percentbkgd/train/images/global_birds_penguins_offshore_rocks_cape_wallace_survey_4_1493_patch_20.0_20.0_480_480.jpg', '/gpfs/gibbs/project/jetz/eec42/data/pe_palmyra_10percentbkgd/train/images/global_birds_penguins_offshore_rocks_cape_wallace_survey_4_3122_patch_0.0_20.0_480_480.jpg', '/gpfs/gibbs/project/jetz/eec42/data/pe_palmyra_10percentbkgd/train/images/global_birds_penguins_offshore_rocks_cape_wallace_survey_4_765_patch_20.0_20.0_480_480.jpg']\n",
      "selected_batch ['/gpfs/gibbs/project/jetz/eec42/data/pe_palmyra_10percentbkgd/train/images/global_birds_penguins_offshore_rocks_cape_wallace_survey_4_1298_patch_0.0_20.0_480_480.jpg', '/gpfs/gibbs/project/jetz/eec42/data/pe_palmyra_10percentbkgd/train/images/global_birds_penguins_offshore_rocks_cape_wallace_survey_4_1493_patch_20.0_20.0_480_480.jpg', '/gpfs/gibbs/project/jetz/eec42/data/pe_palmyra_10percentbkgd/train/images/global_birds_penguins_offshore_rocks_cape_wallace_survey_4_3122_patch_0.0_20.0_480_480.jpg', '/gpfs/gibbs/project/jetz/eec42/data/pe_palmyra_10percentbkgd/train/images/global_birds_penguins_offshore_rocks_cape_wallace_survey_4_765_patch_20.0_20.0_480_480.jpg']\n",
      "key: batch_idx, tensor([0., 2., 2., 2., 2., 2., 2., 2., 2., 2., 2., 2., 2., 2., 2., 2., 2., 2., 2., 2., 2., 2., 2., 2., 2., 2., 2., 2., 2., 2., 2., 2., 2., 2., 2., 2., 2., 2., 3., 4., 4., 4., 6.])\n",
      "annotations_mask [False, True, True, True, True, True, True, True, True, True, True, True, True, True, True, True, True, True, True, True, True, True, True, True, True, True, True, True, True, True, True, True, True, True, True, True, True, True, False, True, True, True, False]\n",
      "batch ['/gpfs/gibbs/project/jetz/eec42/data/pe_palmyra_10percentbkgd/train/images/global_birds_palmyra_CooperStrawn_53m_tile_clip_projected_959_patch_760.0_0.0_640_640.jpg', '/gpfs/gibbs/project/jetz/eec42/data/pe_palmyra_10percentbkgd/train/images/global_birds_penguins_offshore_rocks_cape_wallace_survey_4_2282_patch_20.0_20.0_480_480.jpg', '/gpfs/gibbs/project/jetz/eec42/data/pe_palmyra_10percentbkgd/train/images/global_birds_penguins_offshore_rocks_cape_wallace_survey_4_759_patch_0.0_20.0_480_480.jpg', '/gpfs/gibbs/project/jetz/eec42/data/pe_palmyra_10percentbkgd/train/images/global_birds_palmyra_CooperStrawn_53m_tile_clip_projected_957_patch_380.0_380.0_640_640.jpg', '/gpfs/gibbs/project/jetz/eec42/data/pe_palmyra_10percentbkgd/train/images/global_birds_palmyra_CooperStrawn_53m_tile_clip_projected_669_patch_760.0_380.0_640_640.jpg', '/gpfs/gibbs/project/jetz/eec42/data/pe_palmyra_10percentbkgd/train/images/global_birds_palmyra_CooperStrawn_53m_tile_clip_projected_1108_patch_760.0_380.0_640_640.jpg', '/gpfs/gibbs/project/jetz/eec42/data/pe_palmyra_10percentbkgd/train/images/global_birds_penguins_offshore_rocks_cape_wallace_survey_4_892_patch_20.0_20.0_480_480.jpg', '/gpfs/gibbs/project/jetz/eec42/data/pe_palmyra_10percentbkgd/train/images/global_birds_palmyra_CooperStrawn_53m_tile_clip_projected_813_patch_380.0_760.0_640_640.jpg']\n",
      "selected_batch ['/gpfs/gibbs/project/jetz/eec42/data/pe_palmyra_10percentbkgd/train/images/global_birds_penguins_offshore_rocks_cape_wallace_survey_4_2282_patch_20.0_20.0_480_480.jpg', '/gpfs/gibbs/project/jetz/eec42/data/pe_palmyra_10percentbkgd/train/images/global_birds_penguins_offshore_rocks_cape_wallace_survey_4_759_patch_0.0_20.0_480_480.jpg', '/gpfs/gibbs/project/jetz/eec42/data/pe_palmyra_10percentbkgd/train/images/global_birds_penguins_offshore_rocks_cape_wallace_survey_4_892_patch_20.0_20.0_480_480.jpg']\n",
      "selected_batch ['/gpfs/gibbs/project/jetz/eec42/data/pe_palmyra_10percentbkgd/train/images/global_birds_penguins_offshore_rocks_cape_wallace_survey_4_2282_patch_20.0_20.0_480_480.jpg', '/gpfs/gibbs/project/jetz/eec42/data/pe_palmyra_10percentbkgd/train/images/global_birds_penguins_offshore_rocks_cape_wallace_survey_4_759_patch_0.0_20.0_480_480.jpg', '/gpfs/gibbs/project/jetz/eec42/data/pe_palmyra_10percentbkgd/train/images/global_birds_penguins_offshore_rocks_cape_wallace_survey_4_892_patch_20.0_20.0_480_480.jpg']\n",
      "selected_batch ['/gpfs/gibbs/project/jetz/eec42/data/pe_palmyra_10percentbkgd/train/images/global_birds_penguins_offshore_rocks_cape_wallace_survey_4_2282_patch_20.0_20.0_480_480.jpg', '/gpfs/gibbs/project/jetz/eec42/data/pe_palmyra_10percentbkgd/train/images/global_birds_penguins_offshore_rocks_cape_wallace_survey_4_759_patch_0.0_20.0_480_480.jpg', '/gpfs/gibbs/project/jetz/eec42/data/pe_palmyra_10percentbkgd/train/images/global_birds_penguins_offshore_rocks_cape_wallace_survey_4_892_patch_20.0_20.0_480_480.jpg']\n",
      "key: batch_idx, tensor([0., 1., 1., 3., 4., 4., 4., 5., 6., 6., 6., 6., 6., 6., 6., 6., 6., 6., 6., 6., 6., 6., 6., 6., 6., 6., 6., 6., 6., 6., 7.])\n",
      "annotations_mask [False, True, True, False, False, False, False, False, True, True, True, True, True, True, True, True, True, True, True, True, True, True, True, True, True, True, True, True, True, True, False]\n"
     ]
    },
    {
     "name": "stderr",
     "output_type": "stream",
     "text": [
      "        1/2      3.67G      5.482      11.73      4.064     0.7007         50        640:  25%|██▍       | 59/238 [00:07<00:19,  9.05it/s]"
     ]
    },
    {
     "name": "stdout",
     "output_type": "stream",
     "text": [
      "batch ['/gpfs/gibbs/project/jetz/eec42/data/pe_palmyra_10percentbkgd/train/images/global_birds_palmyra_CooperStrawn_53m_tile_clip_projected_735_patch_760.0_0.0_640_640.jpg', '/gpfs/gibbs/project/jetz/eec42/data/pe_palmyra_10percentbkgd/train/images/global_birds_palmyra_CooperStrawn_53m_tile_clip_projected_922_patch_760.0_760.0_640_640.jpg', '/gpfs/gibbs/project/jetz/eec42/data/pe_palmyra_10percentbkgd/train/images/global_birds_palmyra_CooperStrawn_53m_tile_clip_projected_539_patch_0.0_380.0_640_640.jpg', '/gpfs/gibbs/project/jetz/eec42/data/pe_palmyra_10percentbkgd/train/images/global_birds_penguins_offshore_rocks_cape_wallace_survey_4_1020_patch_0.0_0.0_480_480.jpg', '/gpfs/gibbs/project/jetz/eec42/data/pe_palmyra_10percentbkgd/train/images/global_birds_palmyra_CooperStrawn_53m_tile_clip_projected_895_patch_380.0_380.0_640_640.jpg', '/gpfs/gibbs/project/jetz/eec42/data/pe_palmyra_10percentbkgd/train/images/global_birds_palmyra_CooperStrawn_53m_tile_clip_projected_890_patch_760.0_760.0_640_640.jpg', '/gpfs/gibbs/project/jetz/eec42/data/pe_palmyra_10percentbkgd/train/images/global_birds_palmyra_CooperStrawn_53m_tile_clip_projected_613_patch_0.0_0.0_640_640.jpg', '/gpfs/gibbs/project/jetz/eec42/data/pe_palmyra_10percentbkgd/train/images/global_birds_palmyra_CooperStrawn_53m_tile_clip_projected_947_patch_0.0_0.0_640_640.jpg']\n",
      "selected_batch ['/gpfs/gibbs/project/jetz/eec42/data/pe_palmyra_10percentbkgd/train/images/global_birds_penguins_offshore_rocks_cape_wallace_survey_4_1020_patch_0.0_0.0_480_480.jpg']\n",
      "selected_batch ['/gpfs/gibbs/project/jetz/eec42/data/pe_palmyra_10percentbkgd/train/images/global_birds_penguins_offshore_rocks_cape_wallace_survey_4_1020_patch_0.0_0.0_480_480.jpg']\n",
      "selected_batch ['/gpfs/gibbs/project/jetz/eec42/data/pe_palmyra_10percentbkgd/train/images/global_birds_penguins_offshore_rocks_cape_wallace_survey_4_1020_patch_0.0_0.0_480_480.jpg']\n",
      "key: batch_idx, tensor([0., 1., 2., 2., 3., 4., 5., 5., 7., 7., 7., 7., 7., 7., 7., 7., 7., 7., 7., 7.])\n",
      "annotations_mask [False, False, False, False, True, False, False, False, False, False, False, False, False, False, False, False, False, False, False, False]\n",
      "batch ['/gpfs/gibbs/project/jetz/eec42/data/pe_palmyra_10percentbkgd/train/images/global_birds_palmyra_CooperStrawn_53m_tile_clip_projected_225_patch_0.0_380.0_640_640.jpg', '/gpfs/gibbs/project/jetz/eec42/data/pe_palmyra_10percentbkgd/train/images/global_birds_penguins_offshore_rocks_cape_wallace_survey_4_1427_patch_0.0_0.0_480_480.jpg', '/gpfs/gibbs/project/jetz/eec42/data/pe_palmyra_10percentbkgd/train/images/global_birds_palmyra_CooperStrawn_53m_tile_clip_projected_959_patch_0.0_380.0_640_640.jpg', '/gpfs/gibbs/project/jetz/eec42/data/pe_palmyra_10percentbkgd/train/images/global_birds_penguins_offshore_rocks_cape_wallace_survey_4_2415_patch_20.0_0.0_480_480.jpg', '/gpfs/gibbs/project/jetz/eec42/data/pe_palmyra_10percentbkgd/train/images/global_birds_penguins_offshore_rocks_cape_wallace_survey_4_1891_patch_20.0_0.0_480_480.jpg', '/gpfs/gibbs/project/jetz/eec42/data/pe_palmyra_10percentbkgd/train/images/global_birds_palmyra_CooperStrawn_53m_tile_clip_projected_796_patch_380.0_380.0_640_640.jpg', '/gpfs/gibbs/project/jetz/eec42/data/pe_palmyra_10percentbkgd/train/images/global_birds_palmyra_CooperStrawn_53m_tile_clip_projected_801_patch_380.0_760.0_640_640.jpg', '/gpfs/gibbs/project/jetz/eec42/data/pe_palmyra_10percentbkgd/train/images/global_birds_palmyra_CooperStrawn_53m_tile_clip_projected_736_patch_0.0_380.0_640_640.jpg']\n",
      "selected_batch ['/gpfs/gibbs/project/jetz/eec42/data/pe_palmyra_10percentbkgd/train/images/global_birds_penguins_offshore_rocks_cape_wallace_survey_4_1427_patch_0.0_0.0_480_480.jpg', '/gpfs/gibbs/project/jetz/eec42/data/pe_palmyra_10percentbkgd/train/images/global_birds_penguins_offshore_rocks_cape_wallace_survey_4_2415_patch_20.0_0.0_480_480.jpg', '/gpfs/gibbs/project/jetz/eec42/data/pe_palmyra_10percentbkgd/train/images/global_birds_penguins_offshore_rocks_cape_wallace_survey_4_1891_patch_20.0_0.0_480_480.jpg']\n",
      "selected_batch ['/gpfs/gibbs/project/jetz/eec42/data/pe_palmyra_10percentbkgd/train/images/global_birds_penguins_offshore_rocks_cape_wallace_survey_4_1427_patch_0.0_0.0_480_480.jpg', '/gpfs/gibbs/project/jetz/eec42/data/pe_palmyra_10percentbkgd/train/images/global_birds_penguins_offshore_rocks_cape_wallace_survey_4_2415_patch_20.0_0.0_480_480.jpg', '/gpfs/gibbs/project/jetz/eec42/data/pe_palmyra_10percentbkgd/train/images/global_birds_penguins_offshore_rocks_cape_wallace_survey_4_1891_patch_20.0_0.0_480_480.jpg']\n",
      "selected_batch ['/gpfs/gibbs/project/jetz/eec42/data/pe_palmyra_10percentbkgd/train/images/global_birds_penguins_offshore_rocks_cape_wallace_survey_4_1427_patch_0.0_0.0_480_480.jpg', '/gpfs/gibbs/project/jetz/eec42/data/pe_palmyra_10percentbkgd/train/images/global_birds_penguins_offshore_rocks_cape_wallace_survey_4_2415_patch_20.0_0.0_480_480.jpg', '/gpfs/gibbs/project/jetz/eec42/data/pe_palmyra_10percentbkgd/train/images/global_birds_penguins_offshore_rocks_cape_wallace_survey_4_1891_patch_20.0_0.0_480_480.jpg']\n",
      "key: batch_idx, tensor([0., 0., 0., 0., 0., 0., 1., 1., 1., 1., 1., 1., 1., 1., 1., 1., 1., 1., 1., 1., 1., 1., 1., 1., 1., 1., 1., 1., 1., 1., 1., 1., 1., 1., 1., 1., 1., 1., 1., 1., 1., 2., 3., 3., 3., 3., 4., 5., 6., 7.])\n",
      "annotations_mask [False, False, False, False, False, False, True, True, True, True, True, True, True, True, True, True, True, True, True, True, True, True, True, True, True, True, True, True, True, True, True, True, True, True, True, True, True, True, True, True, True, False, True, True, True, True, True, False, False, False]\n"
     ]
    },
    {
     "name": "stderr",
     "output_type": "stream",
     "text": [
      "        1/2      3.67G      5.444      11.45      4.035     0.7002         50        640:  26%|██▌       | 61/238 [00:08<00:19,  9.17it/s]"
     ]
    },
    {
     "name": "stdout",
     "output_type": "stream",
     "text": [
      "batch ['/gpfs/gibbs/project/jetz/eec42/data/pe_palmyra_10percentbkgd/train/images/global_birds_palmyra_CooperStrawn_53m_tile_clip_projected_756_patch_0.0_380.0_640_640.jpg', '/gpfs/gibbs/project/jetz/eec42/data/pe_palmyra_10percentbkgd/train/images/global_birds_penguins_offshore_rocks_cape_wallace_survey_4_957_patch_0.0_0.0_480_480.jpg', '/gpfs/gibbs/project/jetz/eec42/data/pe_palmyra_10percentbkgd/train/images/global_birds_palmyra_CooperStrawn_53m_tile_clip_projected_799_patch_760.0_760.0_640_640.jpg', '/gpfs/gibbs/project/jetz/eec42/data/pe_palmyra_10percentbkgd/train/images/global_birds_penguins_offshore_rocks_cape_wallace_survey_4_1494_patch_20.0_0.0_480_480.jpg', '/gpfs/gibbs/project/jetz/eec42/data/pe_palmyra_10percentbkgd/train/images/global_birds_palmyra_CooperStrawn_53m_tile_clip_projected_975_patch_760.0_0.0_640_640.jpg', '/gpfs/gibbs/project/jetz/eec42/data/pe_palmyra_10percentbkgd/train/images/global_birds_palmyra_CooperStrawn_53m_tile_clip_projected_950_patch_760.0_760.0_640_640.jpg', '/gpfs/gibbs/project/jetz/eec42/data/pe_palmyra_10percentbkgd/train/images/global_birds_palmyra_CooperStrawn_53m_tile_clip_projected_536_patch_380.0_380.0_640_640.jpg', '/gpfs/gibbs/project/jetz/eec42/data/pe_palmyra_10percentbkgd/train/images/global_birds_penguins_offshore_rocks_cape_wallace_survey_4_1299_patch_20.0_0.0_480_480.jpg']\n",
      "selected_batch ['/gpfs/gibbs/project/jetz/eec42/data/pe_palmyra_10percentbkgd/train/images/global_birds_penguins_offshore_rocks_cape_wallace_survey_4_957_patch_0.0_0.0_480_480.jpg', '/gpfs/gibbs/project/jetz/eec42/data/pe_palmyra_10percentbkgd/train/images/global_birds_penguins_offshore_rocks_cape_wallace_survey_4_1494_patch_20.0_0.0_480_480.jpg', '/gpfs/gibbs/project/jetz/eec42/data/pe_palmyra_10percentbkgd/train/images/global_birds_penguins_offshore_rocks_cape_wallace_survey_4_1299_patch_20.0_0.0_480_480.jpg']\n",
      "selected_batch ['/gpfs/gibbs/project/jetz/eec42/data/pe_palmyra_10percentbkgd/train/images/global_birds_penguins_offshore_rocks_cape_wallace_survey_4_957_patch_0.0_0.0_480_480.jpg', '/gpfs/gibbs/project/jetz/eec42/data/pe_palmyra_10percentbkgd/train/images/global_birds_penguins_offshore_rocks_cape_wallace_survey_4_1494_patch_20.0_0.0_480_480.jpg', '/gpfs/gibbs/project/jetz/eec42/data/pe_palmyra_10percentbkgd/train/images/global_birds_penguins_offshore_rocks_cape_wallace_survey_4_1299_patch_20.0_0.0_480_480.jpg']\n",
      "selected_batch ['/gpfs/gibbs/project/jetz/eec42/data/pe_palmyra_10percentbkgd/train/images/global_birds_penguins_offshore_rocks_cape_wallace_survey_4_957_patch_0.0_0.0_480_480.jpg', '/gpfs/gibbs/project/jetz/eec42/data/pe_palmyra_10percentbkgd/train/images/global_birds_penguins_offshore_rocks_cape_wallace_survey_4_1494_patch_20.0_0.0_480_480.jpg', '/gpfs/gibbs/project/jetz/eec42/data/pe_palmyra_10percentbkgd/train/images/global_birds_penguins_offshore_rocks_cape_wallace_survey_4_1299_patch_20.0_0.0_480_480.jpg']\n",
      "key: batch_idx, tensor([1., 1., 1., 1., 1., 1., 1., 1., 1., 1., 1., 1., 1., 1., 1., 1., 1., 1., 1., 1., 1., 2., 3., 3., 3., 3., 3., 3., 3., 3., 3., 3., 3., 3., 3., 3., 3., 3., 3., 3., 3., 3., 3., 3., 3., 3., 3., 3., 3., 3., 3., 3., 3., 4., 5., 7., 7., 7., 7., 7., 7., 7., 7., 7., 7., 7., 7., 7., 7., 7., 7., 7., 7., 7.])\n",
      "annotations_mask [True, True, True, True, True, True, True, True, True, True, True, True, True, True, True, True, True, True, True, True, True, False, True, True, True, True, True, True, True, True, True, True, True, True, True, True, True, True, True, True, True, True, True, True, True, True, True, True, True, True, True, True, True, False, False, True, True, True, True, True, True, True, True, True, True, True, True, True, True, True, True, True, True, True]\n",
      "batch ['/gpfs/gibbs/project/jetz/eec42/data/pe_palmyra_10percentbkgd/train/images/global_birds_palmyra_CooperStrawn_53m_tile_clip_projected_134_patch_0.0_380.0_640_640.jpg', '/gpfs/gibbs/project/jetz/eec42/data/pe_palmyra_10percentbkgd/train/images/global_birds_penguins_offshore_rocks_cape_wallace_survey_4_2006_patch_20.0_20.0_480_480.jpg', '/gpfs/gibbs/project/jetz/eec42/data/pe_palmyra_10percentbkgd/train/images/global_birds_palmyra_CooperStrawn_53m_tile_clip_projected_767_patch_0.0_0.0_640_640.jpg', '/gpfs/gibbs/project/jetz/eec42/data/pe_palmyra_10percentbkgd/train/images/global_birds_palmyra_CooperStrawn_53m_tile_clip_projected_1016_patch_760.0_0.0_640_640.jpg', '/gpfs/gibbs/project/jetz/eec42/data/pe_palmyra_10percentbkgd/train/images/global_birds_palmyra_CooperStrawn_53m_tile_clip_projected_727_patch_760.0_0.0_640_640.jpg', '/gpfs/gibbs/project/jetz/eec42/data/pe_palmyra_10percentbkgd/train/images/global_birds_palmyra_CooperStrawn_53m_tile_clip_projected_447_patch_760.0_760.0_640_640.jpg', '/gpfs/gibbs/project/jetz/eec42/data/pe_palmyra_10percentbkgd/train/images/global_birds_penguins_offshore_rocks_cape_wallace_survey_4_3318_patch_0.0_0.0_480_480.jpg', '/gpfs/gibbs/project/jetz/eec42/data/pe_palmyra_10percentbkgd/train/images/global_birds_penguins_offshore_rocks_cape_wallace_survey_4_1169_patch_20.0_0.0_480_480.jpg']\n",
      "selected_batch ['/gpfs/gibbs/project/jetz/eec42/data/pe_palmyra_10percentbkgd/train/images/global_birds_penguins_offshore_rocks_cape_wallace_survey_4_2006_patch_20.0_20.0_480_480.jpg', '/gpfs/gibbs/project/jetz/eec42/data/pe_palmyra_10percentbkgd/train/images/global_birds_penguins_offshore_rocks_cape_wallace_survey_4_3318_patch_0.0_0.0_480_480.jpg', '/gpfs/gibbs/project/jetz/eec42/data/pe_palmyra_10percentbkgd/train/images/global_birds_penguins_offshore_rocks_cape_wallace_survey_4_1169_patch_20.0_0.0_480_480.jpg']\n",
      "selected_batch ['/gpfs/gibbs/project/jetz/eec42/data/pe_palmyra_10percentbkgd/train/images/global_birds_penguins_offshore_rocks_cape_wallace_survey_4_2006_patch_20.0_20.0_480_480.jpg', '/gpfs/gibbs/project/jetz/eec42/data/pe_palmyra_10percentbkgd/train/images/global_birds_penguins_offshore_rocks_cape_wallace_survey_4_3318_patch_0.0_0.0_480_480.jpg', '/gpfs/gibbs/project/jetz/eec42/data/pe_palmyra_10percentbkgd/train/images/global_birds_penguins_offshore_rocks_cape_wallace_survey_4_1169_patch_20.0_0.0_480_480.jpg']\n",
      "selected_batch ['/gpfs/gibbs/project/jetz/eec42/data/pe_palmyra_10percentbkgd/train/images/global_birds_penguins_offshore_rocks_cape_wallace_survey_4_2006_patch_20.0_20.0_480_480.jpg', '/gpfs/gibbs/project/jetz/eec42/data/pe_palmyra_10percentbkgd/train/images/global_birds_penguins_offshore_rocks_cape_wallace_survey_4_3318_patch_0.0_0.0_480_480.jpg', '/gpfs/gibbs/project/jetz/eec42/data/pe_palmyra_10percentbkgd/train/images/global_birds_penguins_offshore_rocks_cape_wallace_survey_4_1169_patch_20.0_0.0_480_480.jpg']\n",
      "key: batch_idx, tensor([0., 1., 1., 1., 1., 1., 1., 1., 1., 1., 1., 1., 1., 2., 5., 5., 6., 6., 6., 6., 6., 7., 7., 7., 7., 7., 7., 7., 7., 7., 7., 7., 7., 7., 7., 7., 7., 7., 7., 7., 7., 7., 7., 7., 7., 7., 7., 7., 7., 7.])\n",
      "annotations_mask [False, True, True, True, True, True, True, True, True, True, True, True, True, False, False, False, True, True, True, True, True, True, True, True, True, True, True, True, True, True, True, True, True, True, True, True, True, True, True, True, True, True, True, True, True, True, True, True, True, True]\n"
     ]
    },
    {
     "name": "stderr",
     "output_type": "stream",
     "text": [
      "        1/2      3.67G      5.401       11.3      4.015     0.7006         52        640:  26%|██▋       | 63/238 [00:08<00:19,  9.17it/s]"
     ]
    },
    {
     "name": "stdout",
     "output_type": "stream",
     "text": [
      "batch ['/gpfs/gibbs/project/jetz/eec42/data/pe_palmyra_10percentbkgd/train/images/global_birds_penguins_offshore_rocks_cape_wallace_survey_4_2070_patch_20.0_0.0_480_480.jpg', '/gpfs/gibbs/project/jetz/eec42/data/pe_palmyra_10percentbkgd/train/images/global_birds_palmyra_CooperStrawn_53m_tile_clip_projected_910_patch_0.0_380.0_640_640.jpg', '/gpfs/gibbs/project/jetz/eec42/data/pe_palmyra_10percentbkgd/train/images/global_birds_palmyra_CooperStrawn_53m_tile_clip_projected_1112_patch_0.0_380.0_640_640.jpg', '/gpfs/gibbs/project/jetz/eec42/data/pe_palmyra_10percentbkgd/train/images/global_birds_palmyra_CooperStrawn_53m_tile_clip_projected_893_patch_760.0_380.0_640_640.jpg', '/gpfs/gibbs/project/jetz/eec42/data/pe_palmyra_10percentbkgd/train/images/global_birds_palmyra_CooperStrawn_53m_tile_clip_projected_103_patch_380.0_760.0_640_640.jpg', '/gpfs/gibbs/project/jetz/eec42/data/pe_palmyra_10percentbkgd/train/images/global_birds_palmyra_CooperStrawn_53m_tile_clip_projected_448_patch_380.0_760.0_640_640.jpg', '/gpfs/gibbs/project/jetz/eec42/data/pe_palmyra_10percentbkgd/train/images/global_birds_palmyra_CooperStrawn_53m_tile_clip_projected_951_patch_760.0_380.0_640_640.jpg', '/gpfs/gibbs/project/jetz/eec42/data/pe_palmyra_10percentbkgd/train/images/global_birds_palmyra_CooperStrawn_53m_tile_clip_projected_980_patch_760.0_0.0_640_640.jpg']\n",
      "selected_batch ['/gpfs/gibbs/project/jetz/eec42/data/pe_palmyra_10percentbkgd/train/images/global_birds_penguins_offshore_rocks_cape_wallace_survey_4_2070_patch_20.0_0.0_480_480.jpg']\n",
      "selected_batch ['/gpfs/gibbs/project/jetz/eec42/data/pe_palmyra_10percentbkgd/train/images/global_birds_penguins_offshore_rocks_cape_wallace_survey_4_2070_patch_20.0_0.0_480_480.jpg']\n",
      "selected_batch ['/gpfs/gibbs/project/jetz/eec42/data/pe_palmyra_10percentbkgd/train/images/global_birds_penguins_offshore_rocks_cape_wallace_survey_4_2070_patch_20.0_0.0_480_480.jpg']\n",
      "key: batch_idx, tensor([0., 0., 3., 3., 4., 4., 5., 6., 6., 7., 7., 7.])\n",
      "annotations_mask [True, True, False, False, False, False, False, False, False, False, False, False]\n",
      "batch ['/gpfs/gibbs/project/jetz/eec42/data/pe_palmyra_10percentbkgd/train/images/global_birds_penguins_offshore_rocks_cape_wallace_survey_4_1757_patch_0.0_0.0_480_480.jpg', '/gpfs/gibbs/project/jetz/eec42/data/pe_palmyra_10percentbkgd/train/images/global_birds_penguins_offshore_rocks_cape_wallace_survey_4_832_patch_0.0_0.0_480_480.jpg', '/gpfs/gibbs/project/jetz/eec42/data/pe_palmyra_10percentbkgd/train/images/global_birds_penguins_offshore_rocks_cape_wallace_survey_4_2212_patch_20.0_0.0_480_480.jpg', '/gpfs/gibbs/project/jetz/eec42/data/pe_palmyra_10percentbkgd/train/images/global_birds_penguins_offshore_rocks_cape_wallace_survey_4_2007_patch_0.0_0.0_480_480.jpg', '/gpfs/gibbs/project/jetz/eec42/data/pe_palmyra_10percentbkgd/train/images/global_birds_palmyra_CooperStrawn_53m_tile_clip_projected_705_patch_0.0_760.0_640_640.jpg', '/gpfs/gibbs/project/jetz/eec42/data/pe_palmyra_10percentbkgd/train/images/global_birds_palmyra_CooperStrawn_53m_tile_clip_projected_707_patch_380.0_0.0_640_640.jpg', '/gpfs/gibbs/project/jetz/eec42/data/pe_palmyra_10percentbkgd/train/images/global_birds_palmyra_CooperStrawn_53m_tile_clip_projected_845_patch_0.0_380.0_640_640.jpg', '/gpfs/gibbs/project/jetz/eec42/data/pe_palmyra_10percentbkgd/train/images/global_birds_penguins_offshore_rocks_cape_wallace_survey_4_1888_patch_20.0_0.0_480_480.jpg']\n",
      "selected_batch ['/gpfs/gibbs/project/jetz/eec42/data/pe_palmyra_10percentbkgd/train/images/global_birds_penguins_offshore_rocks_cape_wallace_survey_4_1757_patch_0.0_0.0_480_480.jpg', '/gpfs/gibbs/project/jetz/eec42/data/pe_palmyra_10percentbkgd/train/images/global_birds_penguins_offshore_rocks_cape_wallace_survey_4_832_patch_0.0_0.0_480_480.jpg', '/gpfs/gibbs/project/jetz/eec42/data/pe_palmyra_10percentbkgd/train/images/global_birds_penguins_offshore_rocks_cape_wallace_survey_4_2212_patch_20.0_0.0_480_480.jpg', '/gpfs/gibbs/project/jetz/eec42/data/pe_palmyra_10percentbkgd/train/images/global_birds_penguins_offshore_rocks_cape_wallace_survey_4_2007_patch_0.0_0.0_480_480.jpg', '/gpfs/gibbs/project/jetz/eec42/data/pe_palmyra_10percentbkgd/train/images/global_birds_penguins_offshore_rocks_cape_wallace_survey_4_1888_patch_20.0_0.0_480_480.jpg']\n",
      "selected_batch ['/gpfs/gibbs/project/jetz/eec42/data/pe_palmyra_10percentbkgd/train/images/global_birds_penguins_offshore_rocks_cape_wallace_survey_4_1757_patch_0.0_0.0_480_480.jpg', '/gpfs/gibbs/project/jetz/eec42/data/pe_palmyra_10percentbkgd/train/images/global_birds_penguins_offshore_rocks_cape_wallace_survey_4_832_patch_0.0_0.0_480_480.jpg', '/gpfs/gibbs/project/jetz/eec42/data/pe_palmyra_10percentbkgd/train/images/global_birds_penguins_offshore_rocks_cape_wallace_survey_4_2212_patch_20.0_0.0_480_480.jpg', '/gpfs/gibbs/project/jetz/eec42/data/pe_palmyra_10percentbkgd/train/images/global_birds_penguins_offshore_rocks_cape_wallace_survey_4_2007_patch_0.0_0.0_480_480.jpg', '/gpfs/gibbs/project/jetz/eec42/data/pe_palmyra_10percentbkgd/train/images/global_birds_penguins_offshore_rocks_cape_wallace_survey_4_1888_patch_20.0_0.0_480_480.jpg']\n",
      "selected_batch ['/gpfs/gibbs/project/jetz/eec42/data/pe_palmyra_10percentbkgd/train/images/global_birds_penguins_offshore_rocks_cape_wallace_survey_4_1757_patch_0.0_0.0_480_480.jpg', '/gpfs/gibbs/project/jetz/eec42/data/pe_palmyra_10percentbkgd/train/images/global_birds_penguins_offshore_rocks_cape_wallace_survey_4_832_patch_0.0_0.0_480_480.jpg', '/gpfs/gibbs/project/jetz/eec42/data/pe_palmyra_10percentbkgd/train/images/global_birds_penguins_offshore_rocks_cape_wallace_survey_4_2212_patch_20.0_0.0_480_480.jpg', '/gpfs/gibbs/project/jetz/eec42/data/pe_palmyra_10percentbkgd/train/images/global_birds_penguins_offshore_rocks_cape_wallace_survey_4_2007_patch_0.0_0.0_480_480.jpg', '/gpfs/gibbs/project/jetz/eec42/data/pe_palmyra_10percentbkgd/train/images/global_birds_penguins_offshore_rocks_cape_wallace_survey_4_1888_patch_20.0_0.0_480_480.jpg']\n",
      "key: batch_idx, tensor([0., 0., 1., 1., 1., 1., 1., 1., 1., 1., 1., 1., 1., 1., 1., 1., 1., 1., 1., 1., 1., 1., 1., 1., 1., 1., 1., 1., 1., 1., 1., 2., 2., 3., 3., 3., 3., 3., 3., 3., 3., 4., 5., 6., 7., 7., 7., 7., 7., 7., 7., 7.])\n",
      "annotations_mask [True, True, True, True, True, True, True, True, True, True, True, True, True, True, True, True, True, True, True, True, True, True, True, True, True, True, True, True, True, True, True, True, True, True, True, True, True, True, True, True, True, False, False, False, True, True, True, True, True, True, True, True]\n"
     ]
    },
    {
     "name": "stderr",
     "output_type": "stream",
     "text": [
      "        1/2      3.67G      5.361      11.07      3.986     0.6992         13        640:  27%|██▋       | 65/238 [00:08<00:18,  9.17it/s]"
     ]
    },
    {
     "name": "stdout",
     "output_type": "stream",
     "text": [
      "batch ['/gpfs/gibbs/project/jetz/eec42/data/pe_palmyra_10percentbkgd/train/images/global_birds_penguins_offshore_rocks_cape_wallace_survey_4_1494_patch_0.0_20.0_480_480.jpg', '/gpfs/gibbs/project/jetz/eec42/data/pe_palmyra_10percentbkgd/train/images/global_birds_palmyra_CooperStrawn_53m_tile_clip_projected_674_patch_0.0_380.0_640_640.jpg', '/gpfs/gibbs/project/jetz/eec42/data/pe_palmyra_10percentbkgd/train/images/global_birds_palmyra_CooperStrawn_53m_tile_clip_projected_895_patch_760.0_760.0_640_640.jpg', '/gpfs/gibbs/project/jetz/eec42/data/pe_palmyra_10percentbkgd/train/images/global_birds_palmyra_CooperStrawn_53m_tile_clip_projected_857_patch_0.0_380.0_640_640.jpg', '/gpfs/gibbs/project/jetz/eec42/data/pe_palmyra_10percentbkgd/train/images/global_birds_penguins_offshore_rocks_cape_wallace_survey_4_2073_patch_20.0_20.0_480_480.jpg', '/gpfs/gibbs/project/jetz/eec42/data/pe_palmyra_10percentbkgd/train/images/global_birds_penguins_offshore_rocks_cape_wallace_survey_4_1889_patch_20.0_20.0_480_480.jpg', '/gpfs/gibbs/project/jetz/eec42/data/pe_palmyra_10percentbkgd/train/images/global_birds_palmyra_CooperStrawn_53m_tile_clip_projected_101_patch_0.0_380.0_640_640.jpg', '/gpfs/gibbs/project/jetz/eec42/data/pe_palmyra_10percentbkgd/train/images/global_birds_palmyra_CooperStrawn_53m_tile_clip_projected_613_patch_380.0_0.0_640_640.jpg']\n",
      "selected_batch ['/gpfs/gibbs/project/jetz/eec42/data/pe_palmyra_10percentbkgd/train/images/global_birds_penguins_offshore_rocks_cape_wallace_survey_4_1494_patch_0.0_20.0_480_480.jpg', '/gpfs/gibbs/project/jetz/eec42/data/pe_palmyra_10percentbkgd/train/images/global_birds_penguins_offshore_rocks_cape_wallace_survey_4_2073_patch_20.0_20.0_480_480.jpg', '/gpfs/gibbs/project/jetz/eec42/data/pe_palmyra_10percentbkgd/train/images/global_birds_penguins_offshore_rocks_cape_wallace_survey_4_1889_patch_20.0_20.0_480_480.jpg']\n",
      "selected_batch ['/gpfs/gibbs/project/jetz/eec42/data/pe_palmyra_10percentbkgd/train/images/global_birds_penguins_offshore_rocks_cape_wallace_survey_4_1494_patch_0.0_20.0_480_480.jpg', '/gpfs/gibbs/project/jetz/eec42/data/pe_palmyra_10percentbkgd/train/images/global_birds_penguins_offshore_rocks_cape_wallace_survey_4_2073_patch_20.0_20.0_480_480.jpg', '/gpfs/gibbs/project/jetz/eec42/data/pe_palmyra_10percentbkgd/train/images/global_birds_penguins_offshore_rocks_cape_wallace_survey_4_1889_patch_20.0_20.0_480_480.jpg']\n",
      "selected_batch ['/gpfs/gibbs/project/jetz/eec42/data/pe_palmyra_10percentbkgd/train/images/global_birds_penguins_offshore_rocks_cape_wallace_survey_4_1494_patch_0.0_20.0_480_480.jpg', '/gpfs/gibbs/project/jetz/eec42/data/pe_palmyra_10percentbkgd/train/images/global_birds_penguins_offshore_rocks_cape_wallace_survey_4_2073_patch_20.0_20.0_480_480.jpg', '/gpfs/gibbs/project/jetz/eec42/data/pe_palmyra_10percentbkgd/train/images/global_birds_penguins_offshore_rocks_cape_wallace_survey_4_1889_patch_20.0_20.0_480_480.jpg']\n",
      "key: batch_idx, tensor([0., 0., 0., 0., 0., 0., 0., 0., 0., 0., 0., 0., 0., 0., 0., 0., 0., 0., 0., 0., 0., 0., 0., 0., 0., 0., 0., 0., 0., 0., 0., 0., 0., 1., 2., 2., 4., 5., 6., 7., 7.])\n",
      "annotations_mask [True, True, True, True, True, True, True, True, True, True, True, True, True, True, True, True, True, True, True, True, True, True, True, True, True, True, True, True, True, True, True, True, True, False, False, False, True, True, False, False, False]\n",
      "batch ['/gpfs/gibbs/project/jetz/eec42/data/pe_palmyra_10percentbkgd/train/images/global_birds_palmyra_CooperStrawn_53m_tile_clip_projected_581_patch_760.0_760.0_640_640.jpg', '/gpfs/gibbs/project/jetz/eec42/data/pe_palmyra_10percentbkgd/train/images/global_birds_penguins_offshore_rocks_cape_wallace_survey_4_1891_patch_20.0_20.0_480_480.jpg', '/gpfs/gibbs/project/jetz/eec42/data/pe_palmyra_10percentbkgd/train/images/global_birds_palmyra_CooperStrawn_53m_tile_clip_projected_702_patch_760.0_380.0_640_640.jpg', '/gpfs/gibbs/project/jetz/eec42/data/pe_palmyra_10percentbkgd/train/images/global_birds_palmyra_CooperStrawn_53m_tile_clip_projected_691_patch_0.0_380.0_640_640.jpg', '/gpfs/gibbs/project/jetz/eec42/data/pe_palmyra_10percentbkgd/train/images/global_birds_palmyra_CooperStrawn_53m_tile_clip_projected_882_patch_380.0_380.0_640_640.jpg', '/gpfs/gibbs/project/jetz/eec42/data/pe_palmyra_10percentbkgd/train/images/global_birds_palmyra_CooperStrawn_53m_tile_clip_projected_863_patch_760.0_380.0_640_640.jpg', '/gpfs/gibbs/project/jetz/eec42/data/pe_palmyra_10percentbkgd/train/images/global_birds_penguins_offshore_rocks_cape_wallace_survey_4_1886_patch_20.0_0.0_480_480.jpg', '/gpfs/gibbs/project/jetz/eec42/data/pe_palmyra_10percentbkgd/train/images/global_birds_palmyra_CooperStrawn_53m_tile_clip_projected_103_patch_760.0_760.0_640_640.jpg']\n",
      "selected_batch ['/gpfs/gibbs/project/jetz/eec42/data/pe_palmyra_10percentbkgd/train/images/global_birds_penguins_offshore_rocks_cape_wallace_survey_4_1891_patch_20.0_20.0_480_480.jpg', '/gpfs/gibbs/project/jetz/eec42/data/pe_palmyra_10percentbkgd/train/images/global_birds_penguins_offshore_rocks_cape_wallace_survey_4_1886_patch_20.0_0.0_480_480.jpg']\n",
      "selected_batch ['/gpfs/gibbs/project/jetz/eec42/data/pe_palmyra_10percentbkgd/train/images/global_birds_penguins_offshore_rocks_cape_wallace_survey_4_1891_patch_20.0_20.0_480_480.jpg', '/gpfs/gibbs/project/jetz/eec42/data/pe_palmyra_10percentbkgd/train/images/global_birds_penguins_offshore_rocks_cape_wallace_survey_4_1886_patch_20.0_0.0_480_480.jpg']\n",
      "selected_batch ['/gpfs/gibbs/project/jetz/eec42/data/pe_palmyra_10percentbkgd/train/images/global_birds_penguins_offshore_rocks_cape_wallace_survey_4_1891_patch_20.0_20.0_480_480.jpg', '/gpfs/gibbs/project/jetz/eec42/data/pe_palmyra_10percentbkgd/train/images/global_birds_penguins_offshore_rocks_cape_wallace_survey_4_1886_patch_20.0_0.0_480_480.jpg']\n",
      "key: batch_idx, tensor([0., 0., 3., 4., 4., 4., 5., 5., 5., 5., 5., 5., 7.])\n",
      "annotations_mask [False, False, False, False, False, False, False, False, False, False, False, False, False]\n"
     ]
    },
    {
     "name": "stderr",
     "output_type": "stream",
     "text": [
      "        1/2      3.67G      5.348      11.01      3.954     0.6994         13        640:  28%|██▊       | 67/238 [00:08<00:18,  9.18it/s]"
     ]
    },
    {
     "name": "stdout",
     "output_type": "stream",
     "text": [
      "batch ['/gpfs/gibbs/project/jetz/eec42/data/pe_palmyra_10percentbkgd/train/images/global_birds_palmyra_CooperStrawn_53m_tile_clip_projected_705_patch_760.0_0.0_640_640.jpg', '/gpfs/gibbs/project/jetz/eec42/data/pe_palmyra_10percentbkgd/train/images/global_birds_palmyra_CooperStrawn_53m_tile_clip_projected_825_patch_0.0_760.0_640_640.jpg', '/gpfs/gibbs/project/jetz/eec42/data/pe_palmyra_10percentbkgd/train/images/global_birds_penguins_offshore_rocks_cape_wallace_survey_4_1300_patch_20.0_20.0_480_480.jpg', '/gpfs/gibbs/project/jetz/eec42/data/pe_palmyra_10percentbkgd/train/images/global_birds_penguins_offshore_rocks_cape_wallace_survey_4_2349_patch_20.0_0.0_480_480.jpg', '/gpfs/gibbs/project/jetz/eec42/data/pe_palmyra_10percentbkgd/train/images/global_birds_palmyra_CooperStrawn_53m_tile_clip_projected_479_patch_380.0_0.0_640_640.jpg', '/gpfs/gibbs/project/jetz/eec42/data/pe_palmyra_10percentbkgd/train/images/global_birds_palmyra_CooperStrawn_53m_tile_clip_projected_1744_patch_0.0_380.0_640_640.jpg', '/gpfs/gibbs/project/jetz/eec42/data/pe_palmyra_10percentbkgd/train/images/global_birds_penguins_offshore_rocks_cape_wallace_survey_4_1888_patch_20.0_20.0_480_480.jpg', '/gpfs/gibbs/project/jetz/eec42/data/pe_palmyra_10percentbkgd/train/images/global_birds_palmyra_CooperStrawn_53m_tile_clip_projected_474_patch_760.0_380.0_640_640.jpg']\n",
      "selected_batch ['/gpfs/gibbs/project/jetz/eec42/data/pe_palmyra_10percentbkgd/train/images/global_birds_penguins_offshore_rocks_cape_wallace_survey_4_1300_patch_20.0_20.0_480_480.jpg', '/gpfs/gibbs/project/jetz/eec42/data/pe_palmyra_10percentbkgd/train/images/global_birds_penguins_offshore_rocks_cape_wallace_survey_4_2349_patch_20.0_0.0_480_480.jpg', '/gpfs/gibbs/project/jetz/eec42/data/pe_palmyra_10percentbkgd/train/images/global_birds_penguins_offshore_rocks_cape_wallace_survey_4_1888_patch_20.0_20.0_480_480.jpg']\n",
      "selected_batch ['/gpfs/gibbs/project/jetz/eec42/data/pe_palmyra_10percentbkgd/train/images/global_birds_penguins_offshore_rocks_cape_wallace_survey_4_1300_patch_20.0_20.0_480_480.jpg', '/gpfs/gibbs/project/jetz/eec42/data/pe_palmyra_10percentbkgd/train/images/global_birds_penguins_offshore_rocks_cape_wallace_survey_4_2349_patch_20.0_0.0_480_480.jpg', '/gpfs/gibbs/project/jetz/eec42/data/pe_palmyra_10percentbkgd/train/images/global_birds_penguins_offshore_rocks_cape_wallace_survey_4_1888_patch_20.0_20.0_480_480.jpg']\n",
      "selected_batch ['/gpfs/gibbs/project/jetz/eec42/data/pe_palmyra_10percentbkgd/train/images/global_birds_penguins_offshore_rocks_cape_wallace_survey_4_1300_patch_20.0_20.0_480_480.jpg', '/gpfs/gibbs/project/jetz/eec42/data/pe_palmyra_10percentbkgd/train/images/global_birds_penguins_offshore_rocks_cape_wallace_survey_4_2349_patch_20.0_0.0_480_480.jpg', '/gpfs/gibbs/project/jetz/eec42/data/pe_palmyra_10percentbkgd/train/images/global_birds_penguins_offshore_rocks_cape_wallace_survey_4_1888_patch_20.0_20.0_480_480.jpg']\n",
      "key: batch_idx, tensor([1., 2., 2., 2., 2., 2., 2., 2., 2., 2., 2., 2., 2., 2., 2., 2., 2., 2., 2., 2., 2., 2., 2., 2., 2., 2., 2., 2., 2., 2., 2., 2., 2., 2., 2., 2., 3., 3., 3., 3., 3., 3., 3., 3., 3., 3., 3., 3., 3., 3., 4., 4., 5., 5., 6., 6., 6., 6., 6.])\n",
      "annotations_mask [False, True, True, True, True, True, True, True, True, True, True, True, True, True, True, True, True, True, True, True, True, True, True, True, True, True, True, True, True, True, True, True, True, True, True, True, True, True, True, True, True, True, True, True, True, True, True, True, True, True, False, False, False, False, True, True, True, True, True]\n",
      "batch ['/gpfs/gibbs/project/jetz/eec42/data/pe_palmyra_10percentbkgd/train/images/global_birds_palmyra_CooperStrawn_53m_tile_clip_projected_700_patch_760.0_760.0_640_640.jpg', '/gpfs/gibbs/project/jetz/eec42/data/pe_palmyra_10percentbkgd/train/images/global_birds_palmyra_CooperStrawn_53m_tile_clip_projected_707_patch_0.0_0.0_640_640.jpg', '/gpfs/gibbs/project/jetz/eec42/data/pe_palmyra_10percentbkgd/train/images/global_birds_penguins_offshore_rocks_cape_wallace_survey_4_1491_patch_0.0_0.0_480_480.jpg', '/gpfs/gibbs/project/jetz/eec42/data/pe_palmyra_10percentbkgd/train/images/global_birds_penguins_offshore_rocks_cape_wallace_survey_4_3121_patch_20.0_0.0_480_480.jpg', '/gpfs/gibbs/project/jetz/eec42/data/pe_palmyra_10percentbkgd/train/images/global_birds_palmyra_CooperStrawn_53m_tile_clip_projected_849_patch_380.0_0.0_640_640.jpg', '/gpfs/gibbs/project/jetz/eec42/data/pe_palmyra_10percentbkgd/train/images/global_birds_penguins_offshore_rocks_cape_wallace_survey_4_1491_patch_20.0_0.0_480_480.jpg', '/gpfs/gibbs/project/jetz/eec42/data/pe_palmyra_10percentbkgd/train/images/global_birds_palmyra_CooperStrawn_53m_tile_clip_projected_473_patch_380.0_760.0_640_640.jpg', '/gpfs/gibbs/project/jetz/eec42/data/pe_palmyra_10percentbkgd/train/images/global_birds_palmyra_CooperStrawn_53m_tile_clip_projected_801_patch_380.0_380.0_640_640.jpg']\n",
      "selected_batch ['/gpfs/gibbs/project/jetz/eec42/data/pe_palmyra_10percentbkgd/train/images/global_birds_penguins_offshore_rocks_cape_wallace_survey_4_1491_patch_0.0_0.0_480_480.jpg', '/gpfs/gibbs/project/jetz/eec42/data/pe_palmyra_10percentbkgd/train/images/global_birds_penguins_offshore_rocks_cape_wallace_survey_4_3121_patch_20.0_0.0_480_480.jpg', '/gpfs/gibbs/project/jetz/eec42/data/pe_palmyra_10percentbkgd/train/images/global_birds_penguins_offshore_rocks_cape_wallace_survey_4_1491_patch_20.0_0.0_480_480.jpg']\n",
      "selected_batch ['/gpfs/gibbs/project/jetz/eec42/data/pe_palmyra_10percentbkgd/train/images/global_birds_penguins_offshore_rocks_cape_wallace_survey_4_1491_patch_0.0_0.0_480_480.jpg', '/gpfs/gibbs/project/jetz/eec42/data/pe_palmyra_10percentbkgd/train/images/global_birds_penguins_offshore_rocks_cape_wallace_survey_4_3121_patch_20.0_0.0_480_480.jpg', '/gpfs/gibbs/project/jetz/eec42/data/pe_palmyra_10percentbkgd/train/images/global_birds_penguins_offshore_rocks_cape_wallace_survey_4_1491_patch_20.0_0.0_480_480.jpg']\n",
      "selected_batch ['/gpfs/gibbs/project/jetz/eec42/data/pe_palmyra_10percentbkgd/train/images/global_birds_penguins_offshore_rocks_cape_wallace_survey_4_1491_patch_0.0_0.0_480_480.jpg', '/gpfs/gibbs/project/jetz/eec42/data/pe_palmyra_10percentbkgd/train/images/global_birds_penguins_offshore_rocks_cape_wallace_survey_4_3121_patch_20.0_0.0_480_480.jpg', '/gpfs/gibbs/project/jetz/eec42/data/pe_palmyra_10percentbkgd/train/images/global_birds_penguins_offshore_rocks_cape_wallace_survey_4_1491_patch_20.0_0.0_480_480.jpg']\n",
      "key: batch_idx, tensor([0., 1., 2., 3., 3., 3., 3., 3., 3., 4., 5., 6., 7.])\n",
      "annotations_mask [False, False, True, True, True, True, True, True, True, False, True, False, False]\n"
     ]
    },
    {
     "name": "stderr",
     "output_type": "stream",
     "text": [
      "        1/2      3.67G      5.311      10.78      3.942     0.7049         86        640:  29%|██▉       | 69/238 [00:08<00:18,  9.19it/s]"
     ]
    },
    {
     "name": "stdout",
     "output_type": "stream",
     "text": [
      "batch ['/gpfs/gibbs/project/jetz/eec42/data/pe_palmyra_10percentbkgd/train/images/global_birds_penguins_offshore_rocks_cape_wallace_survey_4_2135_patch_20.0_20.0_480_480.jpg', '/gpfs/gibbs/project/jetz/eec42/data/pe_palmyra_10percentbkgd/train/images/global_birds_penguins_offshore_rocks_cape_wallace_survey_4_1757_patch_20.0_20.0_480_480.jpg', '/gpfs/gibbs/project/jetz/eec42/data/pe_palmyra_10percentbkgd/train/images/global_birds_palmyra_CooperStrawn_53m_tile_clip_projected_832_patch_0.0_760.0_640_640.jpg', '/gpfs/gibbs/project/jetz/eec42/data/pe_palmyra_10percentbkgd/train/images/global_birds_penguins_offshore_rocks_cape_wallace_survey_4_3255_patch_20.0_0.0_480_480.jpg', '/gpfs/gibbs/project/jetz/eec42/data/pe_palmyra_10percentbkgd/train/images/global_birds_palmyra_CooperStrawn_53m_tile_clip_projected_923_patch_380.0_380.0_640_640.jpg', '/gpfs/gibbs/project/jetz/eec42/data/pe_palmyra_10percentbkgd/train/images/global_birds_palmyra_CooperStrawn_53m_tile_clip_projected_848_patch_380.0_380.0_640_640.jpg', '/gpfs/gibbs/project/jetz/eec42/data/pe_palmyra_10percentbkgd/train/images/global_birds_penguins_offshore_rocks_cape_wallace_survey_4_1236_patch_0.0_0.0_480_480.jpg', '/gpfs/gibbs/project/jetz/eec42/data/pe_palmyra_10percentbkgd/train/images/global_birds_palmyra_CooperStrawn_53m_tile_clip_projected_1107_patch_380.0_380.0_640_640.jpg']\n",
      "selected_batch ['/gpfs/gibbs/project/jetz/eec42/data/pe_palmyra_10percentbkgd/train/images/global_birds_penguins_offshore_rocks_cape_wallace_survey_4_2135_patch_20.0_20.0_480_480.jpg', '/gpfs/gibbs/project/jetz/eec42/data/pe_palmyra_10percentbkgd/train/images/global_birds_penguins_offshore_rocks_cape_wallace_survey_4_1757_patch_20.0_20.0_480_480.jpg', '/gpfs/gibbs/project/jetz/eec42/data/pe_palmyra_10percentbkgd/train/images/global_birds_penguins_offshore_rocks_cape_wallace_survey_4_3255_patch_20.0_0.0_480_480.jpg', '/gpfs/gibbs/project/jetz/eec42/data/pe_palmyra_10percentbkgd/train/images/global_birds_penguins_offshore_rocks_cape_wallace_survey_4_1236_patch_0.0_0.0_480_480.jpg']\n",
      "selected_batch ['/gpfs/gibbs/project/jetz/eec42/data/pe_palmyra_10percentbkgd/train/images/global_birds_penguins_offshore_rocks_cape_wallace_survey_4_2135_patch_20.0_20.0_480_480.jpg', '/gpfs/gibbs/project/jetz/eec42/data/pe_palmyra_10percentbkgd/train/images/global_birds_penguins_offshore_rocks_cape_wallace_survey_4_1757_patch_20.0_20.0_480_480.jpg', '/gpfs/gibbs/project/jetz/eec42/data/pe_palmyra_10percentbkgd/train/images/global_birds_penguins_offshore_rocks_cape_wallace_survey_4_3255_patch_20.0_0.0_480_480.jpg', '/gpfs/gibbs/project/jetz/eec42/data/pe_palmyra_10percentbkgd/train/images/global_birds_penguins_offshore_rocks_cape_wallace_survey_4_1236_patch_0.0_0.0_480_480.jpg']\n",
      "selected_batch ['/gpfs/gibbs/project/jetz/eec42/data/pe_palmyra_10percentbkgd/train/images/global_birds_penguins_offshore_rocks_cape_wallace_survey_4_2135_patch_20.0_20.0_480_480.jpg', '/gpfs/gibbs/project/jetz/eec42/data/pe_palmyra_10percentbkgd/train/images/global_birds_penguins_offshore_rocks_cape_wallace_survey_4_1757_patch_20.0_20.0_480_480.jpg', '/gpfs/gibbs/project/jetz/eec42/data/pe_palmyra_10percentbkgd/train/images/global_birds_penguins_offshore_rocks_cape_wallace_survey_4_3255_patch_20.0_0.0_480_480.jpg', '/gpfs/gibbs/project/jetz/eec42/data/pe_palmyra_10percentbkgd/train/images/global_birds_penguins_offshore_rocks_cape_wallace_survey_4_1236_patch_0.0_0.0_480_480.jpg']\n",
      "key: batch_idx, tensor([0., 0., 0., 0., 1., 1., 1., 2., 2., 4., 5., 5., 5., 5., 5., 5., 5., 6., 6., 6., 6., 6., 6., 6., 6., 6., 6., 6., 6., 6., 6., 6., 6., 6., 6., 6., 6., 6., 6., 6., 6., 6., 6., 6., 6., 7.])\n",
      "annotations_mask [True, True, True, True, True, True, True, False, False, False, False, False, False, False, False, False, False, True, True, True, True, True, True, True, True, True, True, True, True, True, True, True, True, True, True, True, True, True, True, True, True, True, True, True, True, False]\n",
      "batch ['/gpfs/gibbs/project/jetz/eec42/data/pe_palmyra_10percentbkgd/train/images/global_birds_palmyra_CooperStrawn_53m_tile_clip_projected_737_patch_0.0_0.0_640_640.jpg', '/gpfs/gibbs/project/jetz/eec42/data/pe_palmyra_10percentbkgd/train/images/global_birds_penguins_offshore_rocks_cape_wallace_survey_4_1562_patch_20.0_0.0_480_480.jpg', '/gpfs/gibbs/project/jetz/eec42/data/pe_palmyra_10percentbkgd/train/images/global_birds_palmyra_CooperStrawn_53m_tile_clip_projected_915_patch_760.0_760.0_640_640.jpg', '/gpfs/gibbs/project/jetz/eec42/data/pe_palmyra_10percentbkgd/train/images/global_birds_palmyra_CooperStrawn_53m_tile_clip_projected_847_patch_0.0_0.0_640_640.jpg', '/gpfs/gibbs/project/jetz/eec42/data/pe_palmyra_10percentbkgd/train/images/global_birds_penguins_offshore_rocks_cape_wallace_survey_4_1235_patch_0.0_20.0_480_480.jpg', '/gpfs/gibbs/project/jetz/eec42/data/pe_palmyra_10percentbkgd/train/images/global_birds_palmyra_CooperStrawn_53m_tile_clip_projected_505_patch_380.0_760.0_640_640.jpg', '/gpfs/gibbs/project/jetz/eec42/data/pe_palmyra_10percentbkgd/train/images/global_birds_penguins_offshore_rocks_cape_wallace_survey_4_958_patch_0.0_20.0_480_480.jpg', '/gpfs/gibbs/project/jetz/eec42/data/pe_palmyra_10percentbkgd/train/images/global_birds_penguins_offshore_rocks_cape_wallace_survey_4_3187_patch_0.0_0.0_480_480.jpg']\n",
      "selected_batch ['/gpfs/gibbs/project/jetz/eec42/data/pe_palmyra_10percentbkgd/train/images/global_birds_penguins_offshore_rocks_cape_wallace_survey_4_1562_patch_20.0_0.0_480_480.jpg', '/gpfs/gibbs/project/jetz/eec42/data/pe_palmyra_10percentbkgd/train/images/global_birds_penguins_offshore_rocks_cape_wallace_survey_4_1235_patch_0.0_20.0_480_480.jpg', '/gpfs/gibbs/project/jetz/eec42/data/pe_palmyra_10percentbkgd/train/images/global_birds_penguins_offshore_rocks_cape_wallace_survey_4_958_patch_0.0_20.0_480_480.jpg', '/gpfs/gibbs/project/jetz/eec42/data/pe_palmyra_10percentbkgd/train/images/global_birds_penguins_offshore_rocks_cape_wallace_survey_4_3187_patch_0.0_0.0_480_480.jpg']\n",
      "selected_batch ['/gpfs/gibbs/project/jetz/eec42/data/pe_palmyra_10percentbkgd/train/images/global_birds_penguins_offshore_rocks_cape_wallace_survey_4_1562_patch_20.0_0.0_480_480.jpg', '/gpfs/gibbs/project/jetz/eec42/data/pe_palmyra_10percentbkgd/train/images/global_birds_penguins_offshore_rocks_cape_wallace_survey_4_1235_patch_0.0_20.0_480_480.jpg', '/gpfs/gibbs/project/jetz/eec42/data/pe_palmyra_10percentbkgd/train/images/global_birds_penguins_offshore_rocks_cape_wallace_survey_4_958_patch_0.0_20.0_480_480.jpg', '/gpfs/gibbs/project/jetz/eec42/data/pe_palmyra_10percentbkgd/train/images/global_birds_penguins_offshore_rocks_cape_wallace_survey_4_3187_patch_0.0_0.0_480_480.jpg']\n",
      "selected_batch ['/gpfs/gibbs/project/jetz/eec42/data/pe_palmyra_10percentbkgd/train/images/global_birds_penguins_offshore_rocks_cape_wallace_survey_4_1562_patch_20.0_0.0_480_480.jpg', '/gpfs/gibbs/project/jetz/eec42/data/pe_palmyra_10percentbkgd/train/images/global_birds_penguins_offshore_rocks_cape_wallace_survey_4_1235_patch_0.0_20.0_480_480.jpg', '/gpfs/gibbs/project/jetz/eec42/data/pe_palmyra_10percentbkgd/train/images/global_birds_penguins_offshore_rocks_cape_wallace_survey_4_958_patch_0.0_20.0_480_480.jpg', '/gpfs/gibbs/project/jetz/eec42/data/pe_palmyra_10percentbkgd/train/images/global_birds_penguins_offshore_rocks_cape_wallace_survey_4_3187_patch_0.0_0.0_480_480.jpg']\n",
      "key: batch_idx, tensor([1., 2., 2., 2., 2., 2., 2., 2., 2., 2., 2., 2., 2., 2., 2., 2., 2., 2., 2., 2., 2., 2., 2., 2., 2., 2., 2., 2., 2., 2., 3., 3., 3., 3., 4., 4., 4., 4., 4., 4., 4., 4., 4., 4., 4., 4., 4., 4., 4., 4., 4., 4., 4., 4., 4., 4., 4., 4., 4., 4., 4., 4., 4., 4., 4., 4., 4., 5., 6., 6., 6., 6., 6., 6., 6., 6., 7., 7.,\n",
      "        7., 7., 7., 7., 7., 7., 7., 7.])\n",
      "annotations_mask [True, False, False, False, False, False, False, False, False, False, False, False, False, False, False, False, False, False, False, False, False, False, False, False, False, False, False, False, False, False, False, False, False, False, True, True, True, True, True, True, True, True, True, True, True, True, True, True, True, True, True, True, True, True, True, True, True, True, True, True, True, True, True, True, True, True, True, False, True, True, True, True, True, True, True, True, True, True, True, True, True, True, True, True, True, True]\n"
     ]
    },
    {
     "name": "stderr",
     "output_type": "stream",
     "text": [
      "        1/2      3.67G      5.267      10.59      3.915     0.7009         45        640:  30%|██▉       | 71/238 [00:09<00:18,  9.18it/s]"
     ]
    },
    {
     "name": "stdout",
     "output_type": "stream",
     "text": [
      "batch ['/gpfs/gibbs/project/jetz/eec42/data/pe_palmyra_10percentbkgd/train/images/global_birds_palmyra_CooperStrawn_53m_tile_clip_projected_896_patch_380.0_380.0_640_640.jpg', '/gpfs/gibbs/project/jetz/eec42/data/pe_palmyra_10percentbkgd/train/images/global_birds_palmyra_CooperStrawn_53m_tile_clip_projected_569_patch_0.0_0.0_640_640.jpg', '/gpfs/gibbs/project/jetz/eec42/data/pe_palmyra_10percentbkgd/train/images/global_birds_palmyra_CooperStrawn_53m_tile_clip_projected_751_patch_0.0_760.0_640_640.jpg', '/gpfs/gibbs/project/jetz/eec42/data/pe_palmyra_10percentbkgd/train/images/global_birds_penguins_offshore_rocks_cape_wallace_survey_4_1561_patch_0.0_0.0_480_480.jpg', '/gpfs/gibbs/project/jetz/eec42/data/pe_palmyra_10percentbkgd/train/images/global_birds_palmyra_CooperStrawn_53m_tile_clip_projected_72_patch_380.0_760.0_640_640.jpg', '/gpfs/gibbs/project/jetz/eec42/data/pe_palmyra_10percentbkgd/train/images/global_birds_penguins_offshore_rocks_cape_wallace_survey_4_1365_patch_0.0_20.0_480_480.jpg', '/gpfs/gibbs/project/jetz/eec42/data/pe_palmyra_10percentbkgd/train/images/global_birds_palmyra_CooperStrawn_53m_tile_clip_projected_802_patch_380.0_380.0_640_640.jpg', '/gpfs/gibbs/project/jetz/eec42/data/pe_palmyra_10percentbkgd/train/images/global_birds_palmyra_CooperStrawn_53m_tile_clip_projected_923_patch_760.0_380.0_640_640.jpg']\n",
      "selected_batch ['/gpfs/gibbs/project/jetz/eec42/data/pe_palmyra_10percentbkgd/train/images/global_birds_penguins_offshore_rocks_cape_wallace_survey_4_1561_patch_0.0_0.0_480_480.jpg', '/gpfs/gibbs/project/jetz/eec42/data/pe_palmyra_10percentbkgd/train/images/global_birds_penguins_offshore_rocks_cape_wallace_survey_4_1365_patch_0.0_20.0_480_480.jpg']\n",
      "selected_batch ['/gpfs/gibbs/project/jetz/eec42/data/pe_palmyra_10percentbkgd/train/images/global_birds_penguins_offshore_rocks_cape_wallace_survey_4_1561_patch_0.0_0.0_480_480.jpg', '/gpfs/gibbs/project/jetz/eec42/data/pe_palmyra_10percentbkgd/train/images/global_birds_penguins_offshore_rocks_cape_wallace_survey_4_1365_patch_0.0_20.0_480_480.jpg']\n",
      "selected_batch ['/gpfs/gibbs/project/jetz/eec42/data/pe_palmyra_10percentbkgd/train/images/global_birds_penguins_offshore_rocks_cape_wallace_survey_4_1561_patch_0.0_0.0_480_480.jpg', '/gpfs/gibbs/project/jetz/eec42/data/pe_palmyra_10percentbkgd/train/images/global_birds_penguins_offshore_rocks_cape_wallace_survey_4_1365_patch_0.0_20.0_480_480.jpg']\n",
      "key: batch_idx, tensor([1., 2., 3., 3., 3., 4., 4., 4., 5., 5., 5., 5., 5., 5., 6., 6., 7.])\n",
      "annotations_mask [False, False, True, True, True, False, False, False, True, True, True, True, True, True, False, False, False]\n",
      "batch ['/gpfs/gibbs/project/jetz/eec42/data/pe_palmyra_10percentbkgd/train/images/global_birds_palmyra_CooperStrawn_53m_tile_clip_projected_104_patch_0.0_760.0_640_640.jpg', '/gpfs/gibbs/project/jetz/eec42/data/pe_palmyra_10percentbkgd/train/images/global_birds_palmyra_CooperStrawn_53m_tile_clip_projected_960_patch_380.0_0.0_640_640.jpg', '/gpfs/gibbs/project/jetz/eec42/data/pe_palmyra_10percentbkgd/train/images/global_birds_palmyra_CooperStrawn_53m_tile_clip_projected_817_patch_760.0_760.0_640_640.jpg', '/gpfs/gibbs/project/jetz/eec42/data/pe_palmyra_10percentbkgd/train/images/global_birds_palmyra_CooperStrawn_53m_tile_clip_projected_666_patch_0.0_760.0_640_640.jpg', '/gpfs/gibbs/project/jetz/eec42/data/pe_palmyra_10percentbkgd/train/images/global_birds_penguins_offshore_rocks_cape_wallace_survey_4_955_patch_0.0_20.0_480_480.jpg', '/gpfs/gibbs/project/jetz/eec42/data/pe_palmyra_10percentbkgd/train/images/global_birds_palmyra_CooperStrawn_53m_tile_clip_projected_991_patch_380.0_0.0_640_640.jpg', '/gpfs/gibbs/project/jetz/eec42/data/pe_palmyra_10percentbkgd/train/images/global_birds_penguins_offshore_rocks_cape_wallace_survey_4_1021_patch_0.0_0.0_480_480.jpg', '/gpfs/gibbs/project/jetz/eec42/data/pe_palmyra_10percentbkgd/train/images/global_birds_palmyra_CooperStrawn_53m_tile_clip_projected_926_patch_760.0_380.0_640_640.jpg']\n",
      "selected_batch ['/gpfs/gibbs/project/jetz/eec42/data/pe_palmyra_10percentbkgd/train/images/global_birds_penguins_offshore_rocks_cape_wallace_survey_4_955_patch_0.0_20.0_480_480.jpg', '/gpfs/gibbs/project/jetz/eec42/data/pe_palmyra_10percentbkgd/train/images/global_birds_penguins_offshore_rocks_cape_wallace_survey_4_1021_patch_0.0_0.0_480_480.jpg']\n",
      "selected_batch ['/gpfs/gibbs/project/jetz/eec42/data/pe_palmyra_10percentbkgd/train/images/global_birds_penguins_offshore_rocks_cape_wallace_survey_4_955_patch_0.0_20.0_480_480.jpg', '/gpfs/gibbs/project/jetz/eec42/data/pe_palmyra_10percentbkgd/train/images/global_birds_penguins_offshore_rocks_cape_wallace_survey_4_1021_patch_0.0_0.0_480_480.jpg']\n",
      "selected_batch ['/gpfs/gibbs/project/jetz/eec42/data/pe_palmyra_10percentbkgd/train/images/global_birds_penguins_offshore_rocks_cape_wallace_survey_4_955_patch_0.0_20.0_480_480.jpg', '/gpfs/gibbs/project/jetz/eec42/data/pe_palmyra_10percentbkgd/train/images/global_birds_penguins_offshore_rocks_cape_wallace_survey_4_1021_patch_0.0_0.0_480_480.jpg']\n",
      "key: batch_idx, tensor([0., 1., 2., 3., 3., 4., 4., 4., 4., 4., 4., 4., 4., 4., 4., 4., 4., 4., 4., 4., 4., 4., 4., 4., 4., 4., 4., 4., 4., 4., 4., 4., 4., 4., 4., 4., 4., 4., 4., 4., 6., 6., 6., 6., 7.])\n",
      "annotations_mask [False, False, False, False, False, True, True, True, True, True, True, True, True, True, True, True, True, True, True, True, True, True, True, True, True, True, True, True, True, True, True, True, True, True, True, True, True, True, True, True, True, True, True, True, False]\n"
     ]
    },
    {
     "name": "stderr",
     "output_type": "stream",
     "text": [
      "        1/2      3.67G      5.239      10.52      3.914     0.6953          9        640:  31%|███       | 73/238 [00:09<00:21,  7.83it/s]\n"
     ]
    },
    {
     "name": "stdout",
     "output_type": "stream",
     "text": [
      "batch ['/gpfs/gibbs/project/jetz/eec42/data/pe_palmyra_10percentbkgd/train/images/global_birds_palmyra_CooperStrawn_53m_tile_clip_projected_927_patch_760.0_0.0_640_640.jpg', '/gpfs/gibbs/project/jetz/eec42/data/pe_palmyra_10percentbkgd/train/images/global_birds_palmyra_CooperStrawn_53m_tile_clip_projected_515_patch_0.0_0.0_640_640.jpg', '/gpfs/gibbs/project/jetz/eec42/data/pe_palmyra_10percentbkgd/train/images/global_birds_palmyra_CooperStrawn_53m_tile_clip_projected_985_patch_0.0_380.0_640_640.jpg', '/gpfs/gibbs/project/jetz/eec42/data/pe_palmyra_10percentbkgd/train/images/global_birds_palmyra_CooperStrawn_53m_tile_clip_projected_861_patch_760.0_380.0_640_640.jpg', '/gpfs/gibbs/project/jetz/eec42/data/pe_palmyra_10percentbkgd/train/images/global_birds_palmyra_CooperStrawn_53m_tile_clip_projected_1072_patch_760.0_380.0_640_640.jpg', '/gpfs/gibbs/project/jetz/eec42/data/pe_palmyra_10percentbkgd/train/images/global_birds_palmyra_CooperStrawn_53m_tile_clip_projected_739_patch_760.0_380.0_640_640.jpg', '/gpfs/gibbs/project/jetz/eec42/data/pe_palmyra_10percentbkgd/train/images/global_birds_palmyra_CooperStrawn_53m_tile_clip_projected_70_patch_380.0_380.0_640_640.jpg', '/gpfs/gibbs/project/jetz/eec42/data/pe_palmyra_10percentbkgd/train/images/global_birds_palmyra_CooperStrawn_53m_tile_clip_projected_927_patch_0.0_760.0_640_640.jpg']\n",
      "selected_batch []\n",
      "selected_batch []\n",
      "selected_batch []\n",
      "key: batch_idx, tensor([0., 1., 3., 3., 5., 6., 6., 6., 7.])\n",
      "annotations_mask [False, False, False, False, False, False, False, False, False]\n",
      "batch ['/gpfs/gibbs/project/jetz/eec42/data/pe_palmyra_10percentbkgd/train/images/global_birds_penguins_offshore_rocks_cape_wallace_survey_4_2347_patch_20.0_20.0_480_480.jpg', '/gpfs/gibbs/project/jetz/eec42/data/pe_palmyra_10percentbkgd/train/images/global_birds_penguins_offshore_rocks_cape_wallace_survey_4_1889_patch_0.0_20.0_480_480.jpg', '/gpfs/gibbs/project/jetz/eec42/data/pe_palmyra_10percentbkgd/train/images/global_birds_palmyra_CooperStrawn_53m_tile_clip_projected_767_patch_760.0_760.0_640_640.jpg', '/gpfs/gibbs/project/jetz/eec42/data/pe_palmyra_10percentbkgd/train/images/global_birds_palmyra_CooperStrawn_53m_tile_clip_projected_737_patch_760.0_760.0_640_640.jpg', '/gpfs/gibbs/project/jetz/eec42/data/pe_palmyra_10percentbkgd/train/images/global_birds_penguins_offshore_rocks_cape_wallace_survey_4_2349_patch_0.0_0.0_480_480.jpg', '/gpfs/gibbs/project/jetz/eec42/data/pe_palmyra_10percentbkgd/train/images/global_birds_palmyra_CooperStrawn_53m_tile_clip_projected_657_patch_760.0_0.0_640_640.jpg', '/gpfs/gibbs/project/jetz/eec42/data/pe_palmyra_10percentbkgd/train/images/global_birds_palmyra_CooperStrawn_53m_tile_clip_projected_883_patch_0.0_760.0_640_640.jpg', '/gpfs/gibbs/project/jetz/eec42/data/pe_palmyra_10percentbkgd/train/images/global_birds_palmyra_CooperStrawn_53m_tile_clip_projected_659_patch_760.0_380.0_640_640.jpg']\n",
      "selected_batch ['/gpfs/gibbs/project/jetz/eec42/data/pe_palmyra_10percentbkgd/train/images/global_birds_penguins_offshore_rocks_cape_wallace_survey_4_2347_patch_20.0_20.0_480_480.jpg', '/gpfs/gibbs/project/jetz/eec42/data/pe_palmyra_10percentbkgd/train/images/global_birds_penguins_offshore_rocks_cape_wallace_survey_4_1889_patch_0.0_20.0_480_480.jpg', '/gpfs/gibbs/project/jetz/eec42/data/pe_palmyra_10percentbkgd/train/images/global_birds_penguins_offshore_rocks_cape_wallace_survey_4_2349_patch_0.0_0.0_480_480.jpg']\n",
      "selected_batch ['/gpfs/gibbs/project/jetz/eec42/data/pe_palmyra_10percentbkgd/train/images/global_birds_penguins_offshore_rocks_cape_wallace_survey_4_2347_patch_20.0_20.0_480_480.jpg', '/gpfs/gibbs/project/jetz/eec42/data/pe_palmyra_10percentbkgd/train/images/global_birds_penguins_offshore_rocks_cape_wallace_survey_4_1889_patch_0.0_20.0_480_480.jpg', '/gpfs/gibbs/project/jetz/eec42/data/pe_palmyra_10percentbkgd/train/images/global_birds_penguins_offshore_rocks_cape_wallace_survey_4_2349_patch_0.0_0.0_480_480.jpg']\n",
      "selected_batch ['/gpfs/gibbs/project/jetz/eec42/data/pe_palmyra_10percentbkgd/train/images/global_birds_penguins_offshore_rocks_cape_wallace_survey_4_2347_patch_20.0_20.0_480_480.jpg', '/gpfs/gibbs/project/jetz/eec42/data/pe_palmyra_10percentbkgd/train/images/global_birds_penguins_offshore_rocks_cape_wallace_survey_4_1889_patch_0.0_20.0_480_480.jpg', '/gpfs/gibbs/project/jetz/eec42/data/pe_palmyra_10percentbkgd/train/images/global_birds_penguins_offshore_rocks_cape_wallace_survey_4_2349_patch_0.0_0.0_480_480.jpg']\n",
      "key: batch_idx, tensor([0., 0., 0., 0., 0., 0., 0., 0., 0., 0., 0., 0., 0., 0., 0., 0., 2., 2., 2., 2., 3., 4., 4., 4., 4., 4., 4., 4., 4., 4., 4., 4., 4., 4., 4., 4., 4., 4., 4., 5., 6., 7., 7.])\n",
      "annotations_mask [True, True, True, True, True, True, True, True, True, True, True, True, True, True, True, True, False, False, False, False, False, True, True, True, True, True, True, True, True, True, True, True, True, True, True, True, True, True, True, False, False, False, False]\n"
     ]
    },
    {
     "ename": "KeyboardInterrupt",
     "evalue": "",
     "output_type": "error",
     "traceback": [
      "\u001b[0;31m---------------------------------------------------------------------------\u001b[0m",
      "\u001b[0;31mKeyboardInterrupt\u001b[0m                         Traceback (most recent call last)",
      "Cell \u001b[0;32mIn[6], line 5\u001b[0m\n\u001b[1;32m      1\u001b[0m \u001b[38;5;66;03m# TRAIN the model on our dataset (data.yml config file) \u001b[39;00m\n\u001b[1;32m      3\u001b[0m model_name \u001b[38;5;241m=\u001b[39m \u001b[38;5;124m'\u001b[39m\u001b[38;5;124mTEST_features_loss\u001b[39m\u001b[38;5;124m'\u001b[39m\n\u001b[0;32m----> 5\u001b[0m results \u001b[38;5;241m=\u001b[39m \u001b[43mmodel\u001b[49m\u001b[38;5;241;43m.\u001b[39;49m\u001b[43mtrain\u001b[49m\u001b[43m(\u001b[49m\n\u001b[1;32m      6\u001b[0m \u001b[43m   \u001b[49m\u001b[43mdata\u001b[49m\u001b[38;5;241;43m=\u001b[39;49m\u001b[38;5;124;43m'\u001b[39;49m\u001b[38;5;124;43mdata.yaml\u001b[39;49m\u001b[38;5;124;43m'\u001b[39;49m\u001b[43m,\u001b[49m\n\u001b[1;32m      7\u001b[0m \u001b[43m   \u001b[49m\u001b[38;5;66;43;03m#imgsz=480,  # we are trying with several img size so we do not precise the size -> will automatically resize all images to 640x640\u001b[39;49;00m\n\u001b[1;32m      8\u001b[0m \u001b[43m   \u001b[49m\u001b[43mepochs\u001b[49m\u001b[38;5;241;43m=\u001b[39;49m\u001b[38;5;241;43m2\u001b[39;49m\u001b[43m,\u001b[49m\n\u001b[1;32m      9\u001b[0m \u001b[43m   \u001b[49m\u001b[43mbatch\u001b[49m\u001b[38;5;241;43m=\u001b[39;49m\u001b[38;5;241;43m8\u001b[39;49m\u001b[43m,\u001b[49m\u001b[43m \u001b[49m\u001b[38;5;66;43;03m#32,\u001b[39;49;00m\n\u001b[1;32m     10\u001b[0m \u001b[43m   \u001b[49m\u001b[38;5;66;43;03m#cos_lr=True,\u001b[39;49;00m\n\u001b[1;32m     11\u001b[0m \u001b[43m   \u001b[49m\u001b[38;5;66;43;03m#dropout=0.3,\u001b[39;49;00m\n\u001b[1;32m     12\u001b[0m \u001b[43m   \u001b[49m\u001b[38;5;66;43;03m#optimizer='Adam',\u001b[39;49;00m\n\u001b[1;32m     13\u001b[0m \u001b[43m   \u001b[49m\u001b[43mpatience\u001b[49m\u001b[38;5;241;43m=\u001b[39;49m\u001b[38;5;241;43m10\u001b[39;49m\u001b[43m,\u001b[49m\n\u001b[1;32m     14\u001b[0m \u001b[43m   \u001b[49m\u001b[43mdevice\u001b[49m\u001b[38;5;241;43m=\u001b[39;49m\u001b[38;5;241;43m0\u001b[39;49m\u001b[43m,\u001b[49m\n\u001b[1;32m     15\u001b[0m \u001b[43m   \u001b[49m\u001b[43mverbose\u001b[49m\u001b[38;5;241;43m=\u001b[39;49m\u001b[38;5;28;43;01mTrue\u001b[39;49;00m\u001b[43m,\u001b[49m\n\u001b[1;32m     16\u001b[0m \u001b[43m   \u001b[49m\u001b[43mval\u001b[49m\u001b[43m \u001b[49m\u001b[38;5;241;43m=\u001b[39;49m\u001b[43m \u001b[49m\u001b[38;5;28;43;01mTrue\u001b[39;49;00m\u001b[43m,\u001b[49m\n\u001b[1;32m     17\u001b[0m \u001b[43m   \u001b[49m\u001b[38;5;66;43;03m#lr0=0.001,\u001b[39;49;00m\n\u001b[1;32m     18\u001b[0m \u001b[43m   \u001b[49m\u001b[38;5;66;43;03m#lrf=0.0001,\u001b[39;49;00m\n\u001b[1;32m     19\u001b[0m \u001b[43m   \u001b[49m\u001b[43mdegrees\u001b[49m\u001b[38;5;241;43m=\u001b[39;49m\u001b[38;5;241;43m90\u001b[39;49m\u001b[43m,\u001b[49m\u001b[43m \u001b[49m\u001b[43mfliplr\u001b[49m\u001b[38;5;241;43m=\u001b[39;49m\u001b[38;5;241;43m0.5\u001b[39;49m\u001b[43m,\u001b[49m\u001b[43m \u001b[49m\u001b[43mflipud\u001b[49m\u001b[38;5;241;43m=\u001b[39;49m\u001b[38;5;241;43m0.5\u001b[39;49m\u001b[43m,\u001b[49m\u001b[43m \u001b[49m\u001b[43mscale\u001b[49m\u001b[38;5;241;43m=\u001b[39;49m\u001b[38;5;241;43m0.5\u001b[39;49m\u001b[43m,\u001b[49m\u001b[43m \u001b[49m\u001b[38;5;66;43;03m# augmentation parameters\u001b[39;49;00m\n\u001b[1;32m     20\u001b[0m \u001b[43m   \u001b[49m\u001b[43mname\u001b[49m\u001b[38;5;241;43m=\u001b[39;49m\u001b[43mmodel_name\u001b[49m\u001b[43m)\u001b[49m\n",
      "File \u001b[0;32m/vast/palmer/home.grace/eec42/BirdDetector/yolo/yolo/engine/model.py:340\u001b[0m, in \u001b[0;36mModel.train\u001b[0;34m(self, trainer, **kwargs)\u001b[0m\n\u001b[1;32m    338\u001b[0m     \u001b[38;5;28mself\u001b[39m\u001b[38;5;241m.\u001b[39mmodel \u001b[38;5;241m=\u001b[39m \u001b[38;5;28mself\u001b[39m\u001b[38;5;241m.\u001b[39mtrainer\u001b[38;5;241m.\u001b[39mmodel\n\u001b[1;32m    339\u001b[0m \u001b[38;5;28mself\u001b[39m\u001b[38;5;241m.\u001b[39mtrainer\u001b[38;5;241m.\u001b[39mhub_session \u001b[38;5;241m=\u001b[39m \u001b[38;5;28mself\u001b[39m\u001b[38;5;241m.\u001b[39msession  \u001b[38;5;66;03m# attach optional HUB session\u001b[39;00m\n\u001b[0;32m--> 340\u001b[0m \u001b[38;5;28;43mself\u001b[39;49m\u001b[38;5;241;43m.\u001b[39;49m\u001b[43mtrainer\u001b[49m\u001b[38;5;241;43m.\u001b[39;49m\u001b[43mtrain\u001b[49m\u001b[43m(\u001b[49m\u001b[43m)\u001b[49m\n\u001b[1;32m    341\u001b[0m \u001b[38;5;66;03m# Update model and cfg after training\u001b[39;00m\n\u001b[1;32m    342\u001b[0m \u001b[38;5;28;01mif\u001b[39;00m RANK \u001b[38;5;129;01min\u001b[39;00m (\u001b[38;5;241m-\u001b[39m\u001b[38;5;241m1\u001b[39m, \u001b[38;5;241m0\u001b[39m):\n",
      "File \u001b[0;32m/vast/palmer/home.grace/eec42/BirdDetector/yolo/yolo/engine/trainer.py:190\u001b[0m, in \u001b[0;36mBaseTrainer.train\u001b[0;34m(self)\u001b[0m\n\u001b[1;32m    187\u001b[0m         ddp_cleanup(\u001b[38;5;28mself\u001b[39m, \u001b[38;5;28mstr\u001b[39m(file))\n\u001b[1;32m    189\u001b[0m \u001b[38;5;28;01melse\u001b[39;00m:\n\u001b[0;32m--> 190\u001b[0m     \u001b[38;5;28;43mself\u001b[39;49m\u001b[38;5;241;43m.\u001b[39;49m\u001b[43m_do_train\u001b[49m\u001b[43m(\u001b[49m\u001b[43mworld_size\u001b[49m\u001b[43m)\u001b[49m\n",
      "File \u001b[0;32m/vast/palmer/home.grace/eec42/BirdDetector/yolo/yolo/engine/trainer.py:350\u001b[0m, in \u001b[0;36mBaseTrainer._do_train\u001b[0;34m(self, world_size)\u001b[0m\n\u001b[1;32m    345\u001b[0m     \u001b[38;5;28mself\u001b[39m\u001b[38;5;241m.\u001b[39mtloss \u001b[38;5;241m=\u001b[39m (\u001b[38;5;28mself\u001b[39m\u001b[38;5;241m.\u001b[39mtloss \u001b[38;5;241m*\u001b[39m i \u001b[38;5;241m+\u001b[39m \u001b[38;5;28mself\u001b[39m\u001b[38;5;241m.\u001b[39mloss_items) \u001b[38;5;241m/\u001b[39m (i \u001b[38;5;241m+\u001b[39m \u001b[38;5;241m1\u001b[39m) \u001b[38;5;28;01mif\u001b[39;00m \u001b[38;5;28mself\u001b[39m\u001b[38;5;241m.\u001b[39mtloss \u001b[38;5;129;01mis\u001b[39;00m \u001b[38;5;129;01mnot\u001b[39;00m \u001b[38;5;28;01mNone\u001b[39;00m \\\n\u001b[1;32m    346\u001b[0m         \u001b[38;5;28;01melse\u001b[39;00m \u001b[38;5;28mself\u001b[39m\u001b[38;5;241m.\u001b[39mloss_items\n\u001b[1;32m    348\u001b[0m \u001b[38;5;66;03m# Backward\u001b[39;00m\n\u001b[1;32m    349\u001b[0m \u001b[38;5;66;03m#print(\"losses\", self.loss)\u001b[39;00m\n\u001b[0;32m--> 350\u001b[0m \u001b[38;5;28;43mself\u001b[39;49m\u001b[38;5;241;43m.\u001b[39;49m\u001b[43mscaler\u001b[49m\u001b[38;5;241;43m.\u001b[39;49m\u001b[43mscale\u001b[49m\u001b[43m(\u001b[49m\u001b[38;5;28;43mself\u001b[39;49m\u001b[38;5;241;43m.\u001b[39;49m\u001b[43mloss\u001b[49m\u001b[43m)\u001b[49m\u001b[38;5;241;43m.\u001b[39;49m\u001b[43mbackward\u001b[49m\u001b[43m(\u001b[49m\u001b[43m)\u001b[49m\n\u001b[1;32m    351\u001b[0m \u001b[38;5;66;03m#print(self.scaler.scale(self.loss).backward())\u001b[39;00m\n\u001b[1;32m    352\u001b[0m \n\u001b[1;32m    353\u001b[0m \u001b[38;5;66;03m# Optimize - https://pytorch.org/docs/master/notes/amp_examples.html\u001b[39;00m\n\u001b[1;32m    354\u001b[0m \u001b[38;5;28;01mif\u001b[39;00m ni \u001b[38;5;241m-\u001b[39m last_opt_step \u001b[38;5;241m>\u001b[39m\u001b[38;5;241m=\u001b[39m \u001b[38;5;28mself\u001b[39m\u001b[38;5;241m.\u001b[39maccumulate:\n",
      "File \u001b[0;32m~/.conda/envs/pdm/lib/python3.11/site-packages/torch/_tensor.py:492\u001b[0m, in \u001b[0;36mTensor.backward\u001b[0;34m(self, gradient, retain_graph, create_graph, inputs)\u001b[0m\n\u001b[1;32m    482\u001b[0m \u001b[38;5;28;01mif\u001b[39;00m has_torch_function_unary(\u001b[38;5;28mself\u001b[39m):\n\u001b[1;32m    483\u001b[0m     \u001b[38;5;28;01mreturn\u001b[39;00m handle_torch_function(\n\u001b[1;32m    484\u001b[0m         Tensor\u001b[38;5;241m.\u001b[39mbackward,\n\u001b[1;32m    485\u001b[0m         (\u001b[38;5;28mself\u001b[39m,),\n\u001b[0;32m   (...)\u001b[0m\n\u001b[1;32m    490\u001b[0m         inputs\u001b[38;5;241m=\u001b[39minputs,\n\u001b[1;32m    491\u001b[0m     )\n\u001b[0;32m--> 492\u001b[0m \u001b[43mtorch\u001b[49m\u001b[38;5;241;43m.\u001b[39;49m\u001b[43mautograd\u001b[49m\u001b[38;5;241;43m.\u001b[39;49m\u001b[43mbackward\u001b[49m\u001b[43m(\u001b[49m\n\u001b[1;32m    493\u001b[0m \u001b[43m    \u001b[49m\u001b[38;5;28;43mself\u001b[39;49m\u001b[43m,\u001b[49m\u001b[43m \u001b[49m\u001b[43mgradient\u001b[49m\u001b[43m,\u001b[49m\u001b[43m \u001b[49m\u001b[43mretain_graph\u001b[49m\u001b[43m,\u001b[49m\u001b[43m \u001b[49m\u001b[43mcreate_graph\u001b[49m\u001b[43m,\u001b[49m\u001b[43m \u001b[49m\u001b[43minputs\u001b[49m\u001b[38;5;241;43m=\u001b[39;49m\u001b[43minputs\u001b[49m\n\u001b[1;32m    494\u001b[0m \u001b[43m\u001b[49m\u001b[43m)\u001b[49m\n",
      "File \u001b[0;32m~/.conda/envs/pdm/lib/python3.11/site-packages/torch/autograd/__init__.py:251\u001b[0m, in \u001b[0;36mbackward\u001b[0;34m(tensors, grad_tensors, retain_graph, create_graph, grad_variables, inputs)\u001b[0m\n\u001b[1;32m    246\u001b[0m     retain_graph \u001b[38;5;241m=\u001b[39m create_graph\n\u001b[1;32m    248\u001b[0m \u001b[38;5;66;03m# The reason we repeat the same comment below is that\u001b[39;00m\n\u001b[1;32m    249\u001b[0m \u001b[38;5;66;03m# some Python versions print out the first line of a multi-line function\u001b[39;00m\n\u001b[1;32m    250\u001b[0m \u001b[38;5;66;03m# calls in the traceback and some print out the last line\u001b[39;00m\n\u001b[0;32m--> 251\u001b[0m \u001b[43mVariable\u001b[49m\u001b[38;5;241;43m.\u001b[39;49m\u001b[43m_execution_engine\u001b[49m\u001b[38;5;241;43m.\u001b[39;49m\u001b[43mrun_backward\u001b[49m\u001b[43m(\u001b[49m\u001b[43m  \u001b[49m\u001b[38;5;66;43;03m# Calls into the C++ engine to run the backward pass\u001b[39;49;00m\n\u001b[1;32m    252\u001b[0m \u001b[43m    \u001b[49m\u001b[43mtensors\u001b[49m\u001b[43m,\u001b[49m\n\u001b[1;32m    253\u001b[0m \u001b[43m    \u001b[49m\u001b[43mgrad_tensors_\u001b[49m\u001b[43m,\u001b[49m\n\u001b[1;32m    254\u001b[0m \u001b[43m    \u001b[49m\u001b[43mretain_graph\u001b[49m\u001b[43m,\u001b[49m\n\u001b[1;32m    255\u001b[0m \u001b[43m    \u001b[49m\u001b[43mcreate_graph\u001b[49m\u001b[43m,\u001b[49m\n\u001b[1;32m    256\u001b[0m \u001b[43m    \u001b[49m\u001b[43minputs\u001b[49m\u001b[43m,\u001b[49m\n\u001b[1;32m    257\u001b[0m \u001b[43m    \u001b[49m\u001b[43mallow_unreachable\u001b[49m\u001b[38;5;241;43m=\u001b[39;49m\u001b[38;5;28;43;01mTrue\u001b[39;49;00m\u001b[43m,\u001b[49m\n\u001b[1;32m    258\u001b[0m \u001b[43m    \u001b[49m\u001b[43maccumulate_grad\u001b[49m\u001b[38;5;241;43m=\u001b[39;49m\u001b[38;5;28;43;01mTrue\u001b[39;49;00m\u001b[43m,\u001b[49m\n\u001b[1;32m    259\u001b[0m \u001b[43m\u001b[49m\u001b[43m)\u001b[49m\n",
      "\u001b[0;31mKeyboardInterrupt\u001b[0m: "
     ]
    }
   ],
   "source": [
    "# TRAIN the model on our dataset (data.yml config file) \n",
    "\n",
    "model_name = 'TEST_features_loss'\n",
    "\n",
    "results = model.train(\n",
    "   data='data.yaml',\n",
    "   #imgsz=480,  # we are trying with several img size so we do not precise the size -> will automatically resize all images to 640x640\n",
    "   epochs=2,\n",
    "   batch=8, #32,\n",
    "   #cos_lr=True,\n",
    "   #dropout=0.3,\n",
    "   #optimizer='Adam',\n",
    "   patience=10,\n",
    "   device=0,\n",
    "   verbose=True,\n",
    "   val = True,\n",
    "   #lr0=0.001,\n",
    "   #lrf=0.0001,\n",
    "   degrees=90, fliplr=0.5, flipud=0.5, scale=0.5, # augmentation parameters\n",
    "   name=model_name)"
   ]
  },
  {
   "cell_type": "code",
   "execution_count": 8,
   "metadata": {},
   "outputs": [
    {
     "data": {
      "text/plain": [
       "tensor([1., 1., 1., 1., 1., 1., 1., 1., 1., 1., 1., 1., 1., 1., 1., 1., 1., 1., 1., 2.])"
      ]
     },
     "execution_count": 8,
     "metadata": {},
     "output_type": "execute_result"
    }
   ],
   "source": [
    "batch_idx = torch.Tensor([0., 1., 1., 1., 1., 1., 1., 1., 1., 1., 1., 1., 1., 1., 1., 1., 1., 1., 1., 1., 2., 3., 3., 4., 5., 6., 7.])\n",
    "annotations_mask = [False, True, True, True, True, True, True, True, True, True, True, True, True, True, True, True, True, True, True, True, True, False, False, False, False, False, False]\n",
    "\n",
    "new_batch_idx = batch_idx[annotations_mask]\n",
    "new_batch_idx\n"
   ]
  },
  {
   "cell_type": "code",
   "execution_count": 15,
   "metadata": {},
   "outputs": [
    {
     "data": {
      "text/plain": [
       "tensor([0, 0, 0, 0, 0, 0, 0, 0, 0, 0, 0, 0, 0, 0, 0, 0, 0, 0, 0, 1])"
      ]
     },
     "execution_count": 15,
     "metadata": {},
     "output_type": "execute_result"
    }
   ],
   "source": [
    "b = new_batch_idx.unique(return_inverse=True)\n",
    "b[1]\n"
   ]
  },
  {
   "cell_type": "code",
   "execution_count": null,
   "metadata": {},
   "outputs": [
    {
     "name": "stdout",
     "output_type": "stream",
     "text": [
      "\n",
      "\n",
      "0: 640x640 2 birds, 1: 640x640 99 birds, 2: 640x640 6 birds, 3: 640x640 (no detections), 4: 640x640 1 bird, 121.8ms\n",
      "0: 640x640 2 birds, 1: 640x640 99 birds, 2: 640x640 6 birds, 3: 640x640 (no detections), 4: 640x640 1 bird, 121.8ms\n",
      "Speed: 1.3ms preprocess, 24.4ms inference, 1.1ms postprocess per image at shape (1, 3, 640, 640)\n",
      "Speed: 1.3ms preprocess, 24.4ms inference, 1.1ms postprocess per image at shape (1, 3, 640, 640)\n"
     ]
    }
   ],
   "source": [
    "\n",
    "selected_img = []\n",
    "img_path = '/gpfs/gibbs/project/jetz/eec42/data/pe_palmyra_10percentbkgd/test/'\n",
    "selected_img.extend(random.choices(os.listdir(img_path + '/images/'), k=5))\n",
    "\n",
    "# Predict results for randomly selected images\n",
    "results = model.predict(\n",
    "        #model = 'runs/detect/pfeifer_yolov8n_70epoch_default_batch32_dropout0.3',\n",
    "        source = [os.path.join(img_path + 'images/', img) for img in selected_img],\n",
    "        conf = 0.1, \n",
    "        iou = 0.1,\n",
    "        show = False,\n",
    "        save = False\n",
    "    )"
   ]
  },
  {
   "cell_type": "code",
   "execution_count": null,
   "metadata": {},
   "outputs": [
    {
     "name": "stdout",
     "output_type": "stream",
     "text": [
      "block 23\n",
      "Conv_(\n",
      "  (conv1): Conv2d(576, 256, kernel_size=(3, 3), stride=(1, 1), padding=(1, 1))\n",
      "  (bn1): BatchNorm2d(256, eps=0.001, momentum=0.03, affine=True, track_running_stats=True)\n",
      "  (relu): ReLU(inplace=True)\n",
      "  (pool): MaxPool2d(kernel_size=2, stride=2, padding=0, dilation=1, ceil_mode=False)\n",
      "  (conv2): Conv2d(256, 128, kernel_size=(3, 3), stride=(1, 1), padding=(1, 1))\n",
      "  (bn2): BatchNorm2d(128, eps=0.001, momentum=0.03, affine=True, track_running_stats=True)\n",
      "  (conv3): Conv2d(128, 1, kernel_size=(3, 3), stride=(1, 1), padding=(1, 1))\n",
      "  (bn3): BatchNorm2d(1, eps=0.001, momentum=0.03, affine=True, track_running_stats=True)\n",
      ")\n"
     ]
    }
   ],
   "source": [
    "model.model.model\n",
    "for i, a in enumerate(model.model.model):\n",
    "    if i == 23:\n",
    "        print(\"block\", i)\n",
    "        print(a)"
   ]
  },
  {
   "cell_type": "code",
   "execution_count": null,
   "metadata": {},
   "outputs": [
    {
     "data": {
      "text/plain": [
       "'domainclassifier'"
      ]
     },
     "execution_count": 9,
     "metadata": {},
     "output_type": "execute_result"
    }
   ],
   "source": [
    "model.subtask"
   ]
  },
  {
   "cell_type": "code",
   "execution_count": null,
   "metadata": {},
   "outputs": [
    {
     "ename": "NameError",
     "evalue": "name 'B' is not defined",
     "output_type": "error",
     "traceback": [
      "\u001b[0;31m---------------------------------------------------------------------------\u001b[0m",
      "\u001b[0;31mNameError\u001b[0m                                 Traceback (most recent call last)",
      "Cell \u001b[0;32mIn[10], line 1\u001b[0m\n\u001b[0;32m----> 1\u001b[0m \u001b[38;5;28mprint\u001b[39m(\u001b[43mB\u001b[49m)\n",
      "\u001b[0;31mNameError\u001b[0m: name 'B' is not defined"
     ]
    }
   ],
   "source": [
    "print(B)"
   ]
  },
  {
   "cell_type": "code",
   "execution_count": null,
   "metadata": {},
   "outputs": [
    {
     "name": "stdout",
     "output_type": "stream",
     "text": [
      "/vast/palmer/home.grace/eec42/BirdDetector\n",
      "/vast/palmer/home.grace/eec42/BirdDetector/runs\n"
     ]
    }
   ],
   "source": [
    "\n",
    "module_path = os.path.abspath(os.path.join('..', '..'))\n",
    "print(module_path)\n",
    "module_path = module_path+'/runs'\n",
    "print(module_path)\n",
    "\n",
    "if module_path not in sys.path:\n",
    "    sys.path.append(module_path)"
   ]
  },
  {
   "cell_type": "code",
   "execution_count": null,
   "metadata": {},
   "outputs": [
    {
     "name": "stdout",
     "output_type": "stream",
     "text": [
      "\n",
      "                   from  n    params  module                                       arguments                     \n",
      "  0                  -1  1      1392  ultralytics.nn.modules.conv.Conv             [3, 48, 3, 2]                 \n",
      "  1                  -1  1     41664  ultralytics.nn.modules.conv.Conv             [48, 96, 3, 2]                \n",
      "  2                  -1  2    111360  ultralytics.nn.modules.block.C2f             [96, 96, 2, True]             \n",
      "  3                  -1  1    166272  ultralytics.nn.modules.conv.Conv             [96, 192, 3, 2]               \n",
      "  4                  -1  4    813312  ultralytics.nn.modules.block.C2f             [192, 192, 4, True]           \n",
      "  5                  -1  1    664320  ultralytics.nn.modules.conv.Conv             [192, 384, 3, 2]              \n",
      "  6                  -1  4   3248640  ultralytics.nn.modules.block.C2f             [384, 384, 4, True]           \n",
      "  7                  -1  1   1991808  ultralytics.nn.modules.conv.Conv             [384, 576, 3, 2]              \n",
      "  8                  -1  2   3985920  ultralytics.nn.modules.block.C2f             [576, 576, 2, True]           \n",
      "  9                  -1  1    831168  ultralytics.nn.modules.block.SPPF            [576, 576, 5]                 \n",
      " 10                  -1  1         0  torch.nn.modules.upsampling.Upsample         [None, 2, 'nearest']          \n",
      " 11             [-1, 6]  1         0  ultralytics.nn.modules.conv.Concat           [1]                           \n",
      " 12                  -1  2   1993728  ultralytics.nn.modules.block.C2f             [960, 384, 2]                 \n",
      " 13                  -1  1         0  torch.nn.modules.upsampling.Upsample         [None, 2, 'nearest']          \n",
      " 14             [-1, 4]  1         0  ultralytics.nn.modules.conv.Concat           [1]                           \n",
      " 15                  -1  2    517632  ultralytics.nn.modules.block.C2f             [576, 192, 2]                 \n",
      " 16                  -1  1    332160  ultralytics.nn.modules.conv.Conv             [192, 192, 3, 2]              \n",
      " 17            [-1, 12]  1         0  ultralytics.nn.modules.conv.Concat           [1]                           \n",
      " 18                  -1  2   1846272  ultralytics.nn.modules.block.C2f             [576, 384, 2]                 \n",
      " 19                  -1  1   1327872  ultralytics.nn.modules.conv.Conv             [384, 384, 3, 2]              \n",
      " 20             [-1, 9]  1         0  ultralytics.nn.modules.conv.Concat           [1]                           \n",
      " 21                  -1  2   4207104  ultralytics.nn.modules.block.C2f             [960, 576, 2]                 \n",
      " 22        [15, 18, 21]  1   3822016  ultralytics.nn.modules.head.Detect           [80, [192, 384, 576]]         \n",
      "YOLOv8m summary: 295 layers, 25902640 parameters, 25902624 gradients, 79.3 GFLOPs\n",
      "\n",
      "Transferred 469/475 items from pretrained weights\n"
     ]
    }
   ],
   "source": [
    "PRETRAINED_MODEL_PATH = module_path + '/detect/YOLO_pe_palmyra_10percentbkgd_test2/weights/best.pt'\n",
    "model = YOLO('yolov8m.yaml', task='detect').load(PRETRAINED_MODEL_PATH)"
   ]
  },
  {
   "cell_type": "code",
   "execution_count": null,
   "metadata": {},
   "outputs": [
    {
     "name": "stdout",
     "output_type": "stream",
     "text": [
      "\n",
      "0: 640x640 (no detections), 1: 640x640 (no detections), 2: 640x640 (no detections), 3: 640x640 (no detections), 4: 640x640 (no detections), 5: 640x640 (no detections), 6: 640x640 (no detections), 7: 640x640 (no detections), 8: 640x640 (no detections), 9: 640x640 (no detections), 10: 640x640 (no detections), 11: 640x640 (no detections), 12: 640x640 (no detections), 13: 640x640 (no detections), 14: 640x640 (no detections), 15: 640x640 (no detections), 16: 640x640 (no detections), 17: 640x640 (no detections), 18: 640x640 (no detections), 19: 640x640 (no detections), 196.3ms\n",
      "Speed: 1.5ms preprocess, 9.8ms inference, 0.8ms postprocess per image at shape (1, 3, 640, 640)\n"
     ]
    }
   ],
   "source": [
    "selected_img = []\n",
    "img_path = '/gpfs/gibbs/project/jetz/eec42/data/pe_palmyra_10percentbkgd/test/'\n",
    "for subdataset in ['global_birds_penguins', 'global_birds_palmyra']:\n",
    "    selected_img.extend(random.choices(os.listdir(img_path + subdataset + '/images/'), k=10))\n",
    "\n",
    "results = model.predict(\n",
    "        #model = 'runs/detect/pfeifer_yolov8n_70epoch_default_batch32_dropout0.3',\n",
    "        source = [os.path.join(img_path + 'images/', img) for img in selected_img],\n",
    "        conf = 0.1, \n",
    "        iou = 0.1,\n",
    "        show = False,\n",
    "        save = False\n",
    "    )"
   ]
  },
  {
   "cell_type": "code",
   "execution_count": null,
   "metadata": {},
   "outputs": [
    {
     "data": {
      "text/plain": [
       "ultralytics.engine.results.Boxes object with attributes:\n",
       "\n",
       "cls: tensor([], device='cuda:0')\n",
       "conf: tensor([], device='cuda:0')\n",
       "data: tensor([], device='cuda:0', size=(0, 6))\n",
       "id: None\n",
       "is_track: False\n",
       "orig_shape: (480, 480)\n",
       "shape: torch.Size([0, 6])\n",
       "xywh: tensor([], device='cuda:0', size=(0, 4))\n",
       "xywhn: tensor([], device='cuda:0', size=(0, 4))\n",
       "xyxy: tensor([], device='cuda:0', size=(0, 4))\n",
       "xyxyn: tensor([], device='cuda:0', size=(0, 4))"
      ]
     },
     "execution_count": 15,
     "metadata": {},
     "output_type": "execute_result"
    }
   ],
   "source": [
    "results[5].boxes"
   ]
  },
  {
   "cell_type": "markdown",
   "metadata": {},
   "source": [
    "## Visualization"
   ]
  },
  {
   "cell_type": "code",
   "execution_count": null,
   "metadata": {},
   "outputs": [],
   "source": [
    "TASK = 'deepcoral_detect' #detect\n",
    "#model_name = 'deepcoral_test4'\n",
    "#model_path = 'runs/' + TASK + '/' + model_name + '/weights/best.pt'\n",
    "#model = YOLO(model_path, TASK)\n",
    "model_name = 'deepcoral_background_lscale16_epochs20_coralgain10'\n",
    "PRETRAINED_MODEL_PATH = 'runs/' + TASK + '/' + model_name + '/weights/best.pt'\n",
    "\n",
    "model = YOLO(PRETRAINED_MODEL_PATH, TASK)"
   ]
  },
  {
   "cell_type": "code",
   "execution_count": null,
   "metadata": {},
   "outputs": [],
   "source": [
    "datasets = ['source', 'target'] #['global_birds_poland', 'global_birds_palmyra', 'global_birds_penguins', 'global_birds_pfeifer']\n",
    "fname = \"data.yaml\"\n",
    "stream = open(fname, 'r')\n",
    "data = yaml.safe_load(stream)\n",
    "img_path = data['path'] + '/test/'"
   ]
  },
  {
   "cell_type": "code",
   "execution_count": null,
   "metadata": {},
   "outputs": [],
   "source": [
    "# FOR NORMAL MODEL\n",
    "# Select randomly 10 images from the test dataset\n",
    "\n",
    "if TASK == 'detect':\n",
    "    selected_img = []\n",
    "    for subdataset in datasets:\n",
    "        selected_img.extend(random.choices(os.listdir(img_path + subdataset + '/images/'), k=6))\n",
    "\n",
    "    results = model.predict(\n",
    "            #model = 'runs/detect/pfeifer_yolov8n_70epoch_default_batch32_dropout0.3',\n",
    "            source = [os.path.join(img_path + 'images/', img) for img in selected_img],\n",
    "            conf = 0.2, \n",
    "            iou = 0.1,\n",
    "            show=False,\n",
    "            save=False\n",
    "        )"
   ]
  },
  {
   "cell_type": "code",
   "execution_count": null,
   "metadata": {},
   "outputs": [],
   "source": [
    "if TASK == 'detect':\n",
    "    for img, result in zip(selected_img, results):\n",
    "\n",
    "        detection_boxes = []\n",
    "        save_path = '/vast/palmer/home.grace/eec42/BirdDetector/src/model/runs/detect/' + model_name + '/prediction_' + os.path.basename(result.path).split('.jpg')[0] + '.jpg'\n",
    "        for detect in range(len(result.boxes.cls)):\n",
    "            det = {}\n",
    "            det['conf'] = result.boxes.conf[detect].cpu()\n",
    "            det['category'] = result.boxes.cls[detect].cpu()\n",
    "            coords = result.boxes.xywhn[detect].cpu()\n",
    "            det['bbox'] = [coords[0]-coords[2]/2, coords[1]-coords[3]/2, coords[2], coords[3]]\n",
    "            detection_boxes.append(det)\n",
    "            \n",
    "        im_path = os.path.join(img_path + 'images/', img)\n",
    "        visutils.draw_bounding_boxes_on_file(im_path, save_path, detection_boxes,\n",
    "                                        confidence_threshold=0.0, detector_label_map=None,\n",
    "                                        thickness=1,expansion=0, colormap=['Red'])\n",
    "\n",
    "        selected_label = img_path + 'labels/' + os.path.basename(result.path).split('.jpg')[0] + '.txt'\n",
    "        if os.path.exists(selected_label):\n",
    "            detection_boxes = []\n",
    "            df = pd.read_csv(selected_label, sep='\\t', header=None, index_col=False)\n",
    "            for irow, row in df.iterrows():  \n",
    "                det = {}\n",
    "                det['conf'] = None\n",
    "                det['category'] = row[0]\n",
    "                det['bbox'] = [row[1]-row[3]/2, row[2]-row[4]/2, row[3], row[4]]\n",
    "                detection_boxes.append(det)\n",
    "        \n",
    "            # Draw annotations\n",
    "            save_path2 = '/vast/palmer/home.grace/eec42/BirdDetector/src/model/runs/detect/' + model_name + '/prediction_label_' + os.path.basename(result.path).split('.hpg')[0] + '.jpg'\n",
    "            visutils.draw_bounding_boxes_on_file(save_path, save_path2, detection_boxes,\n",
    "                                            confidence_threshold=0.0, detector_label_map=None,\n",
    "                                            thickness=1,expansion=0, colormap=['SpringGreen'])\n",
    "                                            \n",
    "            # Remove predictions-only images\n",
    "            os.remove(save_path)\n"
   ]
  },
  {
   "cell_type": "code",
   "execution_count": null,
   "metadata": {},
   "outputs": [],
   "source": [
    "# FOR DEEP CORAL MODEL\n",
    "# Select randomly 10 images from the test dataset\n",
    "\n",
    "if TASK == 'deepcoral_detect':\n",
    "\n",
    "    for subdataset in datasets:\n",
    "        selected_img = random.choices(os.listdir(img_path + subdataset + '/images/'), k=12)\n",
    "\n",
    "        results = model.predict(\n",
    "                #model = 'runs/detect/pfeifer_yolov8n_70epoch_default_batch32_dropout0.3',\n",
    "                source = [os.path.join(img_path, subdataset + '/images/', img) for img in selected_img],\n",
    "                conf = 0.2, \n",
    "                iou = 0.1,\n",
    "                show=False,\n",
    "                save=False\n",
    "            )\n",
    "        \n",
    "        for img, result in zip(selected_img, results):\n",
    "\n",
    "            detection_boxes = []\n",
    "            save_path = '/vast/palmer/home.grace/eec42/BirdDetector/src/model/runs/' + TASK + '/' + model_name + '/prediction_' + os.path.basename(result.path).split('.jpg')[0] + '.jpg'\n",
    "            for detect in range(len(result.boxes.cls)):\n",
    "                det = {}\n",
    "                det['conf'] = result.boxes.conf[detect].cpu()\n",
    "                det['category'] = result.boxes.cls[detect].cpu()\n",
    "                coords = result.boxes.xywhn[detect].cpu()\n",
    "                det['bbox'] = [coords[0]-coords[2]/2, coords[1]-coords[3]/2, coords[2], coords[3]]\n",
    "                detection_boxes.append(det)\n",
    "                \n",
    "            im_path = os.path.join(img_path + subdataset + '/images/', img)\n",
    "            visutils.draw_bounding_boxes_on_file(im_path, save_path, detection_boxes,\n",
    "                                            confidence_threshold=0.0, detector_label_map=None,\n",
    "                                            thickness=1,expansion=0, colormap=['Red'])\n",
    "\n",
    "            selected_label = img_path  + subdataset + '/labels/' + os.path.basename(result.path).split('.jpg')[0] + '.txt'\n",
    "            if os.path.exists(selected_label):\n",
    "                detection_boxes = []\n",
    "                df = pd.read_csv(selected_label, sep='\\t', header=None, index_col=False)\n",
    "                for irow, row in df.iterrows():  \n",
    "                    det = {}\n",
    "                    det['conf'] = None\n",
    "                    det['category'] = row[0]\n",
    "                    det['bbox'] = [row[1]-row[3]/2, row[2]-row[4]/2, row[3], row[4]]\n",
    "                    detection_boxes.append(det)\n",
    "        \n",
    "                # Draw annotations\n",
    "                save_path2 = '/vast/palmer/home.grace/eec42/BirdDetector/src/model/runs/' + TASK + '/' + model_name + '/prediction_label_' + os.path.basename(result.path).split('.hpg')[0] + '.jpg'\n",
    "                visutils.draw_bounding_boxes_on_file(save_path, save_path2, detection_boxes,\n",
    "                                                confidence_threshold=0.0, detector_label_map=None,\n",
    "                                                thickness=1,expansion=0, colormap=['SpringGreen'])\n",
    "                \n",
    "                # Remove predictions-only images\n",
    "                os.remove(save_path)\n"
   ]
  },
  {
   "cell_type": "code",
   "execution_count": null,
   "metadata": {},
   "outputs": [],
   "source": [
    "b"
   ]
  },
  {
   "cell_type": "markdown",
   "metadata": {},
   "source": [
    "## YOLO Evaluation"
   ]
  },
  {
   "cell_type": "code",
   "execution_count": null,
   "metadata": {},
   "outputs": [],
   "source": [
    "# EVALUATE the model's performance on the test set\n",
    "metrics = model.val(split='test', save_json=True, iou=0.1, conf=0.2, max_det=600)\n",
    "\n",
    "# Export the model to ONNX format\n",
    "#success = model.export(format='onnx')"
   ]
  },
  {
   "cell_type": "code",
   "execution_count": null,
   "metadata": {},
   "outputs": [],
   "source": [
    "print(metrics.box.map)\n",
    "print(metrics.box.map50)    # map50-95"
   ]
  },
  {
   "cell_type": "markdown",
   "metadata": {},
   "source": [
    "## YOLO Evaluation per dataset"
   ]
  },
  {
   "cell_type": "code",
   "execution_count": null,
   "metadata": {},
   "outputs": [],
   "source": [
    "datasets =  ['global_birds_poland', 'global_birds_palmyra', 'global_birds_penguins',\n",
    "                    'global_birds_mckellar', 'global_birds_newmexico', \n",
    "                    'global_birds_pfeifer', 'uav_thermal_waterfowl']"
   ]
  },
  {
   "cell_type": "code",
   "execution_count": null,
   "metadata": {},
   "outputs": [],
   "source": [
    "model_name = 'pfeifer_penguins_poland_palmyra_mckellar_yolov8m_120epoch'\n",
    "model = YOLO('runs/detect/' + model_name + '/weights/best.pt')"
   ]
  },
  {
   "cell_type": "code",
   "execution_count": null,
   "metadata": {},
   "outputs": [],
   "source": [
    "for dataset in datasets:\n",
    "\n",
    "    # Change test folder\n",
    "    fname = \"data.yaml\"\n",
    "    stream = open(fname, 'r')\n",
    "    data = yaml.safe_load(stream)\n",
    "    data['test'] = 'test/' + dataset + '/images/'\n",
    "    with open(fname, 'w') as yaml_file:\n",
    "        yaml_file.write( yaml.dump(data, default_flow_style=False))\n",
    "    \n",
    "    metrics = model.val(split='test', save_json=True, iou=0.1, max_det=600)\n",
    "    print(metrics.box.map50)\n",
    "\n",
    "# Change test folder to original name\n",
    "fname = \"data.yaml\"\n",
    "stream = open(fname, 'r')\n",
    "data = yaml.safe_load(stream)\n",
    "data['test'] = 'test/images/'"
   ]
  },
  {
   "cell_type": "markdown",
   "metadata": {},
   "source": [
    "## **TEST**"
   ]
  },
  {
   "cell_type": "code",
   "execution_count": null,
   "metadata": {},
   "outputs": [],
   "source": [
    "model_name = 'pfeifer_yolov8m_120epoch_default_batch32_aug90deg0.5flips_patience50_lr00.001_lrf0.0001'\n",
    "model = YOLO('runs/detect/' + model_name + '/weights/best.pt')"
   ]
  },
  {
   "cell_type": "code",
   "execution_count": null,
   "metadata": {},
   "outputs": [],
   "source": [
    "fname = \"data.yaml\"\n",
    "stream = open(fname, 'r')\n",
    "data = yaml.safe_load(stream)\n",
    "img_path = data['path'] + '/test/'\n",
    "\n",
    "selected_img = (random.choices(os.listdir(img_path + '/images/'), k=1))\n",
    "selected_img = [os.path.join(img_path + '/images/', x) for x in selected_img]\n",
    "selected_img"
   ]
  },
  {
   "cell_type": "code",
   "execution_count": null,
   "metadata": {},
   "outputs": [],
   "source": [
    "output = model(selected_img)"
   ]
  },
  {
   "cell_type": "code",
   "execution_count": null,
   "metadata": {},
   "outputs": [],
   "source": [
    "output"
   ]
  }
 ],
 "metadata": {
  "kernelspec": {
   "display_name": "pdm",
   "language": "python",
   "name": "python3"
  },
  "language_info": {
   "codemirror_mode": {
    "name": "ipython",
    "version": 3
   },
   "file_extension": ".py",
   "mimetype": "text/x-python",
   "name": "python",
   "nbconvert_exporter": "python",
   "pygments_lexer": "ipython3",
   "version": "3.11.6"
  }
 },
 "nbformat": 4,
 "nbformat_minor": 2
}
