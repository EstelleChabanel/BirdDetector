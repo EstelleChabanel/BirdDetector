{
 "cells": [
  {
   "cell_type": "code",
   "execution_count": 1,
   "metadata": {},
   "outputs": [
    {
     "name": "stdout",
     "output_type": "stream",
     "text": [
      "Ultralytics YOLOv8.1.0 🚀 Python-3.11.6 torch-2.1.0+cu121 CUDA:0 (Tesla V100-SXM2-32GB, 32501MiB)\n",
      "Setup complete ✅ (36 CPUs, 376.6 GB RAM, 0.2/188.3 GB disk)\n",
      "/vast/palmer/home.grace/eec42/BirdDetector/src\n"
     ]
    }
   ],
   "source": [
    "#import yolo\n",
    "#from yolo import YOLO\n",
    "\n",
    "import ultralytics\n",
    "ultralytics.checks()\n",
    "from ultralytics import YOLO\n",
    "\n",
    "import torch\n",
    "import os\n",
    "import sys\n",
    "import numpy as np\n",
    "import pandas as pd\n",
    "import matplotlib.pyplot as plt\n",
    "import matplotlib as mpl\n",
    "import json\n",
    "from sklearn import metrics\n",
    "import random\n",
    "\n",
    "import sklearn.decomposition\n",
    "import sklearn.manifold\n",
    "\n",
    "# Use GPU if available\n",
    "device = \"0\" if torch.cuda.is_available() else \"cpu\"\n",
    "if device == \"0\":\n",
    "    torch.cuda.set_device(0) # Set to your desired GPU number\n",
    "\n",
    "from plotting_utils import plot_grid_search_losses, plot_map_hist, plot_map_hist_s, plot_multiplearch_losses\n",
    "\n",
    "module_path = os.path.abspath(os.path.join('..'))\n",
    "print(module_path)\n",
    "\n",
    "if module_path not in sys.path:\n",
    "    sys.path.append(module_path)\n",
    "\n",
    "#import data_preprocessing.visualization_utils as visutils\n",
    "from model.constants import DATA_PATH, DATASETS_MAPPING, MODELS_PATH, NB_EPOCHS, BATCH_SIZE, PATIENCE, OPTIMIZER, TRAINING_IOU_THRESHOLD, CONF_THRESHOLD, NB_CONF_THRESHOLDS, NMS_IOU_THRESHOLD\n"
   ]
  },
  {
   "cell_type": "code",
   "execution_count": 2,
   "metadata": {},
   "outputs": [
    {
     "name": "stdout",
     "output_type": "stream",
     "text": [
      "0\n"
     ]
    }
   ],
   "source": [
    "device = \"0\" if torch.cuda.is_available() else \"cpu\"\n",
    "if device == \"0\":\n",
    "    torch.cuda.set_device(0) # Set to your desired GPU number\n",
    "\n",
    "print(device)"
   ]
  },
  {
   "cell_type": "code",
   "execution_count": 3,
   "metadata": {},
   "outputs": [],
   "source": [
    "pretrained_model_name = 'YOLO_pe_10percent_background' #'YOLO_pe_10percent_background' #'DAN_pe_palmyra_10percentbkgd_dcgain1.5'\n",
    "model_path = '/home/eec42/BirdDetector/runs/detect_supervised_gainsearch/' + pretrained_model_name + '/weights/last.pt'\n",
    "model = YOLO(model_path, task='detect')"
   ]
  },
  {
   "cell_type": "code",
   "execution_count": 4,
   "metadata": {},
   "outputs": [
    {
     "name": "stdout",
     "output_type": "stream",
     "text": [
      "\n",
      "Saving runs/detect/predict/global_birds_palmyra_Dudley_projected_593_patch_760.0_760.0_640_640/stage0_Conv_features.png... (32/48)\n",
      "Saving runs/detect/predict/global_birds_palmyra_Dudley_projected_593_patch_760.0_760.0_640_640/stage1_Conv_features.png... (32/96)\n",
      "Saving runs/detect/predict/global_birds_palmyra_Dudley_projected_593_patch_760.0_760.0_640_640/stage2_C2f_features.png... (32/96)\n",
      "Saving runs/detect/predict/global_birds_palmyra_Dudley_projected_593_patch_760.0_760.0_640_640/stage3_Conv_features.png... (32/192)\n",
      "Saving runs/detect/predict/global_birds_palmyra_Dudley_projected_593_patch_760.0_760.0_640_640/stage4_C2f_features.png... (32/192)\n",
      "Saving runs/detect/predict/global_birds_palmyra_Dudley_projected_593_patch_760.0_760.0_640_640/stage5_Conv_features.png... (32/384)\n",
      "Saving runs/detect/predict/global_birds_palmyra_Dudley_projected_593_patch_760.0_760.0_640_640/stage6_C2f_features.png... (32/384)\n",
      "Saving runs/detect/predict/global_birds_palmyra_Dudley_projected_593_patch_760.0_760.0_640_640/stage7_Conv_features.png... (32/576)\n",
      "Saving runs/detect/predict/global_birds_palmyra_Dudley_projected_593_patch_760.0_760.0_640_640/stage8_C2f_features.png... (32/576)\n",
      "Saving runs/detect/predict/global_birds_palmyra_Dudley_projected_593_patch_760.0_760.0_640_640/stage9_SPPF_features.png... (32/576)\n",
      "Saving runs/detect/predict/global_birds_palmyra_Dudley_projected_593_patch_760.0_760.0_640_640/stage10_Upsample_features.png... (32/576)\n",
      "Saving runs/detect/predict/global_birds_palmyra_Dudley_projected_593_patch_760.0_760.0_640_640/stage11_Concat_features.png... (32/960)\n",
      "Saving runs/detect/predict/global_birds_palmyra_Dudley_projected_593_patch_760.0_760.0_640_640/stage12_C2f_features.png... (32/384)\n",
      "Saving runs/detect/predict/global_birds_palmyra_Dudley_projected_593_patch_760.0_760.0_640_640/stage13_Upsample_features.png... (32/384)\n",
      "Saving runs/detect/predict/global_birds_palmyra_Dudley_projected_593_patch_760.0_760.0_640_640/stage14_Concat_features.png... (32/576)\n",
      "Saving runs/detect/predict/global_birds_palmyra_Dudley_projected_593_patch_760.0_760.0_640_640/stage15_C2f_features.png... (32/192)\n",
      "Saving runs/detect/predict/global_birds_palmyra_Dudley_projected_593_patch_760.0_760.0_640_640/stage16_Conv_features.png... (32/192)\n",
      "Saving runs/detect/predict/global_birds_palmyra_Dudley_projected_593_patch_760.0_760.0_640_640/stage17_Concat_features.png... (32/576)\n",
      "Saving runs/detect/predict/global_birds_palmyra_Dudley_projected_593_patch_760.0_760.0_640_640/stage18_C2f_features.png... (32/384)\n",
      "Saving runs/detect/predict/global_birds_palmyra_Dudley_projected_593_patch_760.0_760.0_640_640/stage19_Conv_features.png... (32/384)\n",
      "Saving runs/detect/predict/global_birds_palmyra_Dudley_projected_593_patch_760.0_760.0_640_640/stage20_Concat_features.png... (32/960)\n",
      "Saving runs/detect/predict/global_birds_palmyra_Dudley_projected_593_patch_760.0_760.0_640_640/stage21_C2f_features.png... (32/576)\n",
      "0: 640x640 8 birds, 1: 640x640 2 birds, 2: 640x640 2 birds, 3: 640x640 1 bird, 4: 640x640 56 birds, 5: 640x640 1 bird, 6: 640x640 2 birds, 7: 640x640 5 birds, 8: 640x640 1 bird, 9: 640x640 1 bird, 25730.3ms\n",
      "Speed: 3.9ms preprocess, 2573.0ms inference, 71.1ms postprocess per image at shape (1, 3, 640, 640)\n"
     ]
    }
   ],
   "source": [
    "\n",
    "selected_img = []\n",
    "img_path = '/gpfs/gibbs/project/jetz/eec42/data/pe_palmyra_10percentbkgd/test/'\n",
    "selected_img.extend(random.choices(os.listdir(img_path + '/images/'), k=10))\n",
    "#selected_img = os.listdir(img_path + '/images/')\n",
    "\n",
    "# Predict results for randomly selected images\n",
    "results = model.predict(\n",
    "        #model = 'runs/detect/pfeifer_yolov8n_70epoch_default_batch32_dropout0.3',\n",
    "        source = [os.path.join(img_path + 'images/', img) for img in selected_img],\n",
    "        conf = 0.1, \n",
    "        iou = 0.1,\n",
    "        show = False,\n",
    "        save = False,\n",
    "        visualize=True\n",
    "    )"
   ]
  },
  {
   "cell_type": "code",
   "execution_count": null,
   "metadata": {},
   "outputs": [],
   "source": [
    "\n",
    "\n",
    "features_path = '/home/eec42/BirdDetector/runs/detect_supervised_gainsearch/YOLO_pe_10percent_background/features.pt'\n",
    "features = torch.load(features_path)\n",
    "\n",
    "print(len(features), features[0].size())\n",
    "C = features[0].size()[0]\n",
    "feats = []\n",
    "\n",
    "for i in range(len(features)):\n",
    "    reshaped_tensor = features[0].reshape(C, -1)\n",
    "    concatenated_tensor = torch.cat([reshaped_tensor[i] for i in range(C)], dim=0).cpu()\n",
    "    feats.append(concatenated_tensor)\n",
    "\n",
    "feats_target = torch.stack(feats)"
   ]
  },
  {
   "cell_type": "code",
   "execution_count": 17,
   "metadata": {},
   "outputs": [
    {
     "data": {
      "text/plain": [
       "array([[ 0.00019393, -7.4851e-13],\n",
       "       [ 0.00019393,  8.8978e-13],\n",
       "       [ 0.00019393, -2.2893e-13],\n",
       "       [ 0.00019393,  -4.901e-13],\n",
       "       [ 0.00019393,  6.5785e-13],\n",
       "       [ 0.00019393, -3.9992e-13],\n",
       "       [ 0.00019393, -6.6091e-13],\n",
       "       [ 0.00019393, -9.8176e-13],\n",
       "       [ 0.00019393, -3.2738e-13],\n",
       "       [ 0.00019393,  4.2314e-14],\n",
       "       [ 0.00019393, -1.2702e-12],\n",
       "       [ 0.00019393,   1.309e-12],\n",
       "       [ 0.00019393,  9.4958e-13],\n",
       "       [ 0.00019393, -7.5532e-13],\n",
       "       [ 0.00019393, -8.8929e-13],\n",
       "       [ 0.00019393,  1.8528e-12],\n",
       "       [ 0.00019393,  2.2486e-12],\n",
       "       [ 0.00019393,  -1.319e-12],\n",
       "       [ 0.00019393,  3.8675e-13],\n",
       "       [ 0.00019393, -2.6781e-12],\n",
       "       [ 0.00019393,  8.4223e-13],\n",
       "       [ 0.00019393, -9.1563e-13],\n",
       "       [ 0.00019393,  2.9929e-12],\n",
       "       [ 0.00019393,  1.7029e-12],\n",
       "       [ 0.00019393,  -1.079e-12],\n",
       "       [ 0.00019393, -3.3104e-13],\n",
       "       [ 0.00019393,   -2.82e-14],\n",
       "       [ 0.00019393,  6.1535e-13],\n",
       "       [ 0.00019393, -1.4598e-12],\n",
       "       [ 0.00019393, -1.0626e-12],\n",
       "       [ 0.00019393,  9.7967e-13],\n",
       "       [ 0.00019393,  9.2762e-13],\n",
       "       [ 0.00019393, -1.3037e-12],\n",
       "       [ 0.00019393,  2.6262e-13],\n",
       "       [ 0.00019393,  1.5396e-12],\n",
       "       [ 0.00019393, -5.4336e-13],\n",
       "       [ 0.00019393,  7.2531e-14],\n",
       "       [ 0.00019393, -1.3109e-12],\n",
       "       [ 0.00019393,   8.945e-14],\n",
       "       [ 0.00019393,  6.0138e-13],\n",
       "       [ 0.00019393,  1.4112e-12],\n",
       "       [ 0.00019393, -7.4474e-13],\n",
       "       [ 0.00019393, -1.3394e-12],\n",
       "       [ 0.00019393, -1.2759e-12],\n",
       "       [ 0.00019393, -6.1903e-13],\n",
       "       [ 0.00019393,  2.6003e-13],\n",
       "       [ 0.00019393, -1.0371e-12],\n",
       "       [ 0.00019393, -8.3871e-13],\n",
       "       [ 0.00019393, -1.1596e-12],\n",
       "       [ 0.00019393, -6.2046e-13],\n",
       "       [ 0.00019393,  6.5041e-13],\n",
       "       [ 0.00019393, -5.1773e-13],\n",
       "       [ 0.00019393, -2.6733e-12],\n",
       "       [ 0.00019393,  3.0422e-13],\n",
       "       [ 0.00019393,  3.0057e-12],\n",
       "       [ 0.00019393,  6.6686e-13],\n",
       "       [ 0.00019393,  1.2581e-12],\n",
       "       [ 0.00019393,  1.4824e-13],\n",
       "       [ 0.00019393, -6.5911e-13],\n",
       "       [ 0.00019393, -1.4411e-12],\n",
       "       [ 0.00019393,  1.5321e-13],\n",
       "       [ 0.00019393, -2.1189e-13],\n",
       "       [ 0.00019393, -8.0464e-13],\n",
       "       [ 0.00019393,  1.8508e-13],\n",
       "       [ 0.00019393,   3.361e-12],\n",
       "       [ 0.00019393,  1.0627e-12],\n",
       "       [ 0.00019393,  6.6083e-13],\n",
       "       [ 0.00019393, -6.8831e-13],\n",
       "       [ 0.00019393,  2.3114e-13],\n",
       "       [ 0.00019393,   1.047e-12],\n",
       "       [ 0.00019393, -3.7718e-13],\n",
       "       [ 0.00019393, -3.1343e-12],\n",
       "       [ 0.00019393,  9.7659e-13],\n",
       "       [ 0.00019393, -5.8371e-13],\n",
       "       [ 0.00019393, -1.4451e-12],\n",
       "       [ 0.00019393, -1.3452e-12],\n",
       "       [ 0.00019393, -1.4406e-12],\n",
       "       [ 0.00019393, -3.6972e-13],\n",
       "       [ 0.00019393,  2.2426e-12],\n",
       "       [ 0.00019393, -1.1578e-12],\n",
       "       [ 0.00019393,  9.9306e-13],\n",
       "       [ 0.00019393,  1.0955e-12],\n",
       "       [ 0.00019393, -2.8194e-13],\n",
       "       [ 0.00019393, -1.1525e-12],\n",
       "       [ 0.00019393,  2.3604e-13],\n",
       "       [ 0.00019393,  3.3244e-12],\n",
       "       [ 0.00019393, -8.2535e-13],\n",
       "       [ 0.00019393, -1.1023e-13],\n",
       "       [ 0.00019393, -6.8161e-13],\n",
       "       [ 0.00019393, -5.1893e-14],\n",
       "       [ 0.00019393,  2.8432e-13],\n",
       "       [ 0.00019393, -1.1955e-12],\n",
       "       [ 0.00019393, -1.4261e-12],\n",
       "       [ 0.00019393,  -5.896e-13],\n",
       "       [ 0.00019393,  1.0415e-13],\n",
       "       [ 0.00019393,  2.7752e-13],\n",
       "       [ 0.00019393,  2.5652e-13],\n",
       "       [ 0.00019393,  4.2761e-14],\n",
       "       [ 0.00019393,  9.6623e-13],\n",
       "       [ 0.00019393, -2.3177e-12],\n",
       "       [ 0.00019393, -2.7821e-12],\n",
       "       [ 0.00019393, -2.2778e-13],\n",
       "       [ 0.00019393, -1.3251e-12],\n",
       "       [ 0.00019393, -6.8953e-13],\n",
       "       [ 0.00019393,  -9.756e-13],\n",
       "       [ 0.00019393, -1.3465e-12],\n",
       "       [ 0.00019393, -7.2646e-13],\n",
       "       [ 0.00019393,  1.2384e-12],\n",
       "       [ 0.00019393,  3.3313e-12],\n",
       "       [ 0.00019393,  -7.659e-13],\n",
       "       [ 0.00019393,  -8.617e-13],\n",
       "       [ 0.00019393,  3.0179e-12],\n",
       "       [ 0.00019393,  1.2035e-12],\n",
       "       [ 0.00019393,  2.8132e-12],\n",
       "       [ 0.00019393, -1.4114e-12],\n",
       "       [ 0.00019393, -9.1439e-13],\n",
       "       [ 0.00019393,  1.1966e-13],\n",
       "       [ 0.00019393, -8.9419e-13],\n",
       "       [ 0.00019393,  1.1466e-12],\n",
       "       [ 0.00019393,  4.1716e-14],\n",
       "       [ 0.00019393, -1.3349e-12],\n",
       "       [ 0.00019393, -1.2936e-12],\n",
       "       [ 0.00019393,  1.1302e-12],\n",
       "       [ 0.00019393,  1.5975e-12],\n",
       "       [ 0.00019393, -1.5185e-13],\n",
       "       [ 0.00019393, -4.8341e-13],\n",
       "       [ 0.00019393,  6.4801e-13],\n",
       "       [ 0.00019393,  1.0175e-12],\n",
       "       [ 0.00019393,  -9.781e-13],\n",
       "       [ 0.00019393,  2.6185e-12],\n",
       "       [ 0.00019393,  8.8283e-14],\n",
       "       [ 0.00019393, -7.8154e-13],\n",
       "       [ 0.00019393, -9.5388e-13],\n",
       "       [ 0.00019393,  -3.635e-13],\n",
       "       [ 0.00019393,  6.6249e-13],\n",
       "       [ 0.00019393,  5.6429e-13],\n",
       "       [ 0.00019393,  -8.954e-13],\n",
       "       [ 0.00019393,   2.469e-12],\n",
       "       [ 0.00019393,  1.9363e-12],\n",
       "       [ 0.00019393,  4.3153e-13],\n",
       "       [ 0.00019393, -2.2831e-13],\n",
       "       [ 0.00019393,  3.1296e-14],\n",
       "       [ 0.00019393, -1.1617e-12],\n",
       "       [ 0.00019393,   -1.81e-13],\n",
       "       [ 0.00019393,  -1.304e-12],\n",
       "       [ 0.00019393, -7.3674e-13],\n",
       "       [ 0.00019393, -8.1369e-13],\n",
       "       [ 0.00019393,  3.3842e-12],\n",
       "       [ 0.00019393, -7.3972e-13],\n",
       "       [ 0.00019393,  1.0706e-12],\n",
       "       [ 0.00019393, -1.0664e-12],\n",
       "       [ 0.00019393,  3.0142e-12],\n",
       "       [ 0.00019393,  6.0932e-13],\n",
       "       [ 0.00019393, -8.5241e-13],\n",
       "       [ 0.00019393,  2.1332e-12],\n",
       "       [ 0.00019393,   2.893e-12],\n",
       "       [ 0.00019393, -1.4494e-12],\n",
       "       [ 0.00019393, -1.2678e-12],\n",
       "       [ 0.00019393,  1.2217e-12],\n",
       "       [ 0.00019393, -1.2915e-12],\n",
       "       [ 0.00019393,   9.992e-14],\n",
       "       [ 0.00019393,  3.6031e-13],\n",
       "       [ 0.00019393,  8.8233e-13],\n",
       "       [ 0.00019393, -3.1819e-13],\n",
       "       [ 0.00019393,   7.747e-13],\n",
       "       [ 0.00019393, -7.5817e-13],\n",
       "       [ 0.00019393, -3.1234e-13],\n",
       "       [ 0.00019393, -7.5457e-13],\n",
       "       [ 0.00019393,  -2.548e-13],\n",
       "       [ 0.00019393,  5.7374e-13],\n",
       "       [ 0.00019393, -5.6426e-13],\n",
       "       [ 0.00019393, -1.1077e-12],\n",
       "       [ 0.00019393, -1.6244e-12],\n",
       "       [ 0.00019393, -1.1063e-12],\n",
       "       [ 0.00019393, -9.5019e-14],\n",
       "       [ 0.00019393,  5.8259e-13],\n",
       "       [ 0.00019393,  1.6587e-12],\n",
       "       [ 0.00019393, -3.9443e-13],\n",
       "       [ 0.00019393, -2.1968e-12],\n",
       "       [ 0.00019393,  1.4085e-12],\n",
       "       [ 0.00019393,  -4.527e-14],\n",
       "       [ 0.00019393,  1.3042e-12],\n",
       "       [ 0.00019393,  3.5625e-12],\n",
       "       [ 0.00019393, -1.2892e-12],\n",
       "       [ 0.00019393,  1.1015e-12],\n",
       "       [ 0.00019393, -1.2797e-12],\n",
       "       [ 0.00019393,  1.7401e-13],\n",
       "       [ 0.00019393,  7.7074e-14],\n",
       "       [ 0.00019393, -7.0692e-13],\n",
       "       [ 0.00019393,  2.4828e-12],\n",
       "       [ 0.00019393, -1.2234e-12],\n",
       "       [ 0.00019393, -4.3305e-13],\n",
       "       [ 0.00019393, -2.2484e-13],\n",
       "       [ 0.00019393, -4.9824e-13],\n",
       "       [ 0.00019393, -1.1227e-12],\n",
       "       [ 0.00019393, -4.6311e-13],\n",
       "       [ 0.00019393,  1.1739e-12],\n",
       "       [ 0.00019393,  5.2155e-13],\n",
       "       [ 0.00019393, -1.2537e-12],\n",
       "       [ 0.00019393,   -1.63e-13]], dtype=float32)"
      ]
     },
     "execution_count": 17,
     "metadata": {},
     "output_type": "execute_result"
    }
   ],
   "source": [
    "reduced_features = sklearn.decomposition.PCA(n_components=2, svd_solver='arpack').fit_transform(feats_target.cpu().numpy())\n",
    "#reduced_features = sklearn.manifold.TSNE(n_components=2).fit_transform(feats_target.cpu().numpy())\n",
    "reduced_features"
   ]
  },
  {
   "cell_type": "code",
   "execution_count": 18,
   "metadata": {},
   "outputs": [
    {
     "data": {
      "text/plain": [
       "200"
      ]
     },
     "execution_count": 18,
     "metadata": {},
     "output_type": "execute_result"
    }
   ],
   "source": [
    "len(reduced_features)"
   ]
  },
  {
   "cell_type": "code",
   "execution_count": 19,
   "metadata": {},
   "outputs": [],
   "source": [
    "domain_indice = []\n",
    "for img_i, img in enumerate(selected_img):\n",
    "    domain_indice.append(1 if img.startswith('global_birds_palmyra') else 0)"
   ]
  },
  {
   "cell_type": "code",
   "execution_count": 20,
   "metadata": {},
   "outputs": [],
   "source": [
    "source_sample = []\n",
    "target_sample = []\n",
    "for sample_i in range(len(reduced_features)):\n",
    "    if domain_indice[sample_i] == 1:\n",
    "        target_sample.append(reduced_features[sample_i])\n",
    "    else:\n",
    "        source_sample.append(reduced_features[sample_i])\n",
    "\n",
    "source_sample = np.array(source_sample)\n",
    "target_sample = np.array(target_sample)"
   ]
  },
  {
   "cell_type": "code",
   "execution_count": 21,
   "metadata": {},
   "outputs": [
    {
     "data": {
      "text/plain": [
       "[<matplotlib.lines.Line2D at 0x148dc1cd1350>]"
      ]
     },
     "execution_count": 21,
     "metadata": {},
     "output_type": "execute_result"
    },
    {
     "data": {
      "image/png": "[encoded data removed]",
      "text/plain": [
       "<Figure size 640x480 with 1 Axes>"
      ]
     },
     "metadata": {},
     "output_type": "display_data"
    }
   ],
   "source": [
    "plt.plot(source_sample[:, 0], source_sample[:, 1], '.r')\n",
    "plt.plot(target_sample[:, 0], target_sample[:, 1], '.b')"
   ]
  },
  {
   "cell_type": "code",
   "execution_count": 22,
   "metadata": {},
   "outputs": [
    {
     "ename": "NameError",
     "evalue": "name 'tx' is not defined",
     "output_type": "error",
     "traceback": [
      "\u001b[0;31m---------------------------------------------------------------------------\u001b[0m",
      "\u001b[0;31mNameError\u001b[0m                                 Traceback (most recent call last)",
      "Cell \u001b[0;32mIn[22], line 18\u001b[0m\n\u001b[1;32m     15\u001b[0m indices \u001b[38;5;241m=\u001b[39m [i \u001b[38;5;28;01mfor\u001b[39;00m i, l \u001b[38;5;129;01min\u001b[39;00m \u001b[38;5;28menumerate\u001b[39m(labels) \u001b[38;5;28;01mif\u001b[39;00m l \u001b[38;5;241m==\u001b[39m label]\n\u001b[1;32m     17\u001b[0m \u001b[38;5;66;03m# extract the coordinates of the points of this class only\u001b[39;00m\n\u001b[0;32m---> 18\u001b[0m current_tx \u001b[38;5;241m=\u001b[39m np\u001b[38;5;241m.\u001b[39mtake(\u001b[43mtx\u001b[49m, indices)\n\u001b[1;32m     19\u001b[0m current_ty \u001b[38;5;241m=\u001b[39m np\u001b[38;5;241m.\u001b[39mtake(ty, indices)\n\u001b[1;32m     21\u001b[0m \u001b[38;5;66;03m# convert the class color to matplotlib format\u001b[39;00m\n",
      "\u001b[0;31mNameError\u001b[0m: name 'tx' is not defined"
     ]
    },
    {
     "data": {
      "image/png": "[encoded data removed]",
      "text/plain": [
       "<Figure size 640x480 with 1 Axes>"
      ]
     },
     "metadata": {},
     "output_type": "display_data"
    }
   ],
   "source": [
    "import matplotlib.pyplot as plt\n",
    "\n",
    "fig = plt.figure()\n",
    "ax = fig.add_subplot(111)\n",
    " \n",
    "colors_per_class = {0:'blue', 1:'red'}\n",
    "\n",
    "labels = []\n",
    "for img in selected_img:\n",
    "    labels.append(1 if os.path.basename(img).startswith('global_birds_palmyra') else 0)\n",
    "\n",
    "# for every class, we'll add a scatter plot separately\n",
    "for label in colors_per_class:\n",
    "    # find the samples of the current class in the data\n",
    "    indices = [i for i, l in enumerate(labels) if l == label]\n",
    " \n",
    "    # extract the coordinates of the points of this class only\n",
    "    current_tx = np.take(tx, indices)\n",
    "    current_ty = np.take(ty, indices)\n",
    " \n",
    "    # convert the class color to matplotlib format\n",
    "    color = colors_per_class[label] #np.array(colors_per_class[label], dtype=np.float) / 255\n",
    " \n",
    "    # add a scatter plot with the corresponding color and label\n",
    "    ax.scatter(current_tx, current_ty, c=color, label=label)\n",
    " \n",
    "# build a legend using the labels we set previously\n",
    "ax.legend(loc='best')\n",
    " \n",
    "# finally, show the plot\n",
    "plt.show()"
   ]
  }
 ],
 "metadata": {
  "kernelspec": {
   "display_name": "pdm",
   "language": "python",
   "name": "python3"
  },
  "language_info": {
   "codemirror_mode": {
    "name": "ipython",
    "version": 3
   },
   "file_extension": ".py",
   "mimetype": "text/x-python",
   "name": "python",
   "nbconvert_exporter": "python",
   "pygments_lexer": "ipython3",
   "version": "3.11.6"
  }
 },
 "nbformat": 4,
 "nbformat_minor": 2
}
